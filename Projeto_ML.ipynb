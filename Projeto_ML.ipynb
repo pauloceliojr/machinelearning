{
 "cells": [
  {
   "cell_type": "markdown",
   "source": [
    "# 1 - Classificação: o que é e como funciona?"
   ],
   "metadata": {
    "collapsed": false,
    "pycharm": {
     "name": "#%% md\n"
    }
   }
  },
  {
   "cell_type": "markdown",
   "source": [
    "## Importando os dados"
   ],
   "metadata": {
    "collapsed": false,
    "pycharm": {
     "name": "#%% md\n"
    }
   }
  },
  {
   "cell_type": "code",
   "execution_count": 1,
   "metadata": {
    "collapsed": true,
    "pycharm": {
     "name": "#%%\n"
    }
   },
   "outputs": [],
   "source": [
    "import pandas as pd"
   ]
  },
  {
   "cell_type": "code",
   "execution_count": 2,
   "outputs": [
    {
     "data": {
      "text/plain": "   Maior65Anos Conjuge Dependentes  MesesDeContrato TelefoneFixo  \\\n0            0     Sim         Nao                1          Nao   \n1            0     Nao         Nao               34          Sim   \n2            0     Nao         Nao                2          Sim   \n3            0     Nao         Nao               45          Nao   \n4            0     Nao         Nao                2          Sim   \n\n  VariasLinhasTelefonicas ServicoDeInternet SegurancaOnline BackupOnline  \\\n0    SemServicoTelefonico               DSL             Nao          Sim   \n1                     Nao               DSL             Sim          Nao   \n2                     Nao               DSL             Sim          Sim   \n3    SemServicoTelefonico               DSL             Sim          Nao   \n4                     Nao       FibraOptica             Nao          Nao   \n\n  SeguroNoDispositivo SuporteTecnico TVaCabo StreamingDeFilmes TipoDeContrato  \\\n0                 Nao            Nao     Nao               Nao    Mensalmente   \n1                 Sim            Nao     Nao               Nao          UmAno   \n2                 Nao            Nao     Nao               Nao    Mensalmente   \n3                 Sim            Sim     Nao               Nao          UmAno   \n4                 Nao            Nao     Nao               Nao    Mensalmente   \n\n  PagamentoOnline FormaDePagamento  ContaMensal Churn  \n0             Sim    ChequeDigital        29.85   Nao  \n1             Nao      ChequePapel        56.95   Nao  \n2             Sim      ChequePapel        53.85   Sim  \n3             Nao    DebitoEmConta        42.30   Nao  \n4             Sim    ChequeDigital        70.70   Sim  ",
      "text/html": "<div>\n<style scoped>\n    .dataframe tbody tr th:only-of-type {\n        vertical-align: middle;\n    }\n\n    .dataframe tbody tr th {\n        vertical-align: top;\n    }\n\n    .dataframe thead th {\n        text-align: right;\n    }\n</style>\n<table border=\"1\" class=\"dataframe\">\n  <thead>\n    <tr style=\"text-align: right;\">\n      <th></th>\n      <th>Maior65Anos</th>\n      <th>Conjuge</th>\n      <th>Dependentes</th>\n      <th>MesesDeContrato</th>\n      <th>TelefoneFixo</th>\n      <th>VariasLinhasTelefonicas</th>\n      <th>ServicoDeInternet</th>\n      <th>SegurancaOnline</th>\n      <th>BackupOnline</th>\n      <th>SeguroNoDispositivo</th>\n      <th>SuporteTecnico</th>\n      <th>TVaCabo</th>\n      <th>StreamingDeFilmes</th>\n      <th>TipoDeContrato</th>\n      <th>PagamentoOnline</th>\n      <th>FormaDePagamento</th>\n      <th>ContaMensal</th>\n      <th>Churn</th>\n    </tr>\n  </thead>\n  <tbody>\n    <tr>\n      <th>0</th>\n      <td>0</td>\n      <td>Sim</td>\n      <td>Nao</td>\n      <td>1</td>\n      <td>Nao</td>\n      <td>SemServicoTelefonico</td>\n      <td>DSL</td>\n      <td>Nao</td>\n      <td>Sim</td>\n      <td>Nao</td>\n      <td>Nao</td>\n      <td>Nao</td>\n      <td>Nao</td>\n      <td>Mensalmente</td>\n      <td>Sim</td>\n      <td>ChequeDigital</td>\n      <td>29.85</td>\n      <td>Nao</td>\n    </tr>\n    <tr>\n      <th>1</th>\n      <td>0</td>\n      <td>Nao</td>\n      <td>Nao</td>\n      <td>34</td>\n      <td>Sim</td>\n      <td>Nao</td>\n      <td>DSL</td>\n      <td>Sim</td>\n      <td>Nao</td>\n      <td>Sim</td>\n      <td>Nao</td>\n      <td>Nao</td>\n      <td>Nao</td>\n      <td>UmAno</td>\n      <td>Nao</td>\n      <td>ChequePapel</td>\n      <td>56.95</td>\n      <td>Nao</td>\n    </tr>\n    <tr>\n      <th>2</th>\n      <td>0</td>\n      <td>Nao</td>\n      <td>Nao</td>\n      <td>2</td>\n      <td>Sim</td>\n      <td>Nao</td>\n      <td>DSL</td>\n      <td>Sim</td>\n      <td>Sim</td>\n      <td>Nao</td>\n      <td>Nao</td>\n      <td>Nao</td>\n      <td>Nao</td>\n      <td>Mensalmente</td>\n      <td>Sim</td>\n      <td>ChequePapel</td>\n      <td>53.85</td>\n      <td>Sim</td>\n    </tr>\n    <tr>\n      <th>3</th>\n      <td>0</td>\n      <td>Nao</td>\n      <td>Nao</td>\n      <td>45</td>\n      <td>Nao</td>\n      <td>SemServicoTelefonico</td>\n      <td>DSL</td>\n      <td>Sim</td>\n      <td>Nao</td>\n      <td>Sim</td>\n      <td>Sim</td>\n      <td>Nao</td>\n      <td>Nao</td>\n      <td>UmAno</td>\n      <td>Nao</td>\n      <td>DebitoEmConta</td>\n      <td>42.30</td>\n      <td>Nao</td>\n    </tr>\n    <tr>\n      <th>4</th>\n      <td>0</td>\n      <td>Nao</td>\n      <td>Nao</td>\n      <td>2</td>\n      <td>Sim</td>\n      <td>Nao</td>\n      <td>FibraOptica</td>\n      <td>Nao</td>\n      <td>Nao</td>\n      <td>Nao</td>\n      <td>Nao</td>\n      <td>Nao</td>\n      <td>Nao</td>\n      <td>Mensalmente</td>\n      <td>Sim</td>\n      <td>ChequeDigital</td>\n      <td>70.70</td>\n      <td>Sim</td>\n    </tr>\n  </tbody>\n</table>\n</div>"
     },
     "execution_count": 2,
     "metadata": {},
     "output_type": "execute_result"
    }
   ],
   "source": [
    "dados = pd.read_csv(\"Customer-Churn.csv\")\n",
    "dados.head()"
   ],
   "metadata": {
    "collapsed": false,
    "pycharm": {
     "name": "#%%\n"
    }
   }
  },
  {
   "cell_type": "code",
   "execution_count": 3,
   "outputs": [
    {
     "data": {
      "text/plain": "(7043, 18)"
     },
     "execution_count": 3,
     "metadata": {},
     "output_type": "execute_result"
    }
   ],
   "source": [
    "dados.shape"
   ],
   "metadata": {
    "collapsed": false,
    "pycharm": {
     "name": "#%%\n"
    }
   }
  },
  {
   "cell_type": "markdown",
   "source": [
    "## Diferentes Variáveis"
   ],
   "metadata": {
    "collapsed": false,
    "pycharm": {
     "name": "#%% md\n"
    }
   }
  },
  {
   "cell_type": "code",
   "execution_count": 4,
   "outputs": [
    {
     "data": {
      "text/plain": "   Conjuge  Dependentes  TelefoneFixo  PagamentoOnline  Churn\n0        1            0             0                1      0\n1        0            0             1                0      0\n2        0            0             1                1      1\n3        0            0             0                0      0\n4        0            0             1                1      1",
      "text/html": "<div>\n<style scoped>\n    .dataframe tbody tr th:only-of-type {\n        vertical-align: middle;\n    }\n\n    .dataframe tbody tr th {\n        vertical-align: top;\n    }\n\n    .dataframe thead th {\n        text-align: right;\n    }\n</style>\n<table border=\"1\" class=\"dataframe\">\n  <thead>\n    <tr style=\"text-align: right;\">\n      <th></th>\n      <th>Conjuge</th>\n      <th>Dependentes</th>\n      <th>TelefoneFixo</th>\n      <th>PagamentoOnline</th>\n      <th>Churn</th>\n    </tr>\n  </thead>\n  <tbody>\n    <tr>\n      <th>0</th>\n      <td>1</td>\n      <td>0</td>\n      <td>0</td>\n      <td>1</td>\n      <td>0</td>\n    </tr>\n    <tr>\n      <th>1</th>\n      <td>0</td>\n      <td>0</td>\n      <td>1</td>\n      <td>0</td>\n      <td>0</td>\n    </tr>\n    <tr>\n      <th>2</th>\n      <td>0</td>\n      <td>0</td>\n      <td>1</td>\n      <td>1</td>\n      <td>1</td>\n    </tr>\n    <tr>\n      <th>3</th>\n      <td>0</td>\n      <td>0</td>\n      <td>0</td>\n      <td>0</td>\n      <td>0</td>\n    </tr>\n    <tr>\n      <th>4</th>\n      <td>0</td>\n      <td>0</td>\n      <td>1</td>\n      <td>1</td>\n      <td>1</td>\n    </tr>\n  </tbody>\n</table>\n</div>"
     },
     "execution_count": 4,
     "metadata": {},
     "output_type": "execute_result"
    }
   ],
   "source": [
    "traducao_dic = {\"Sim\": 1, \"Nao\": 0}\n",
    "\n",
    "dados_modificados = dados[[\"Conjuge\",\"Dependentes\",\"TelefoneFixo\",\"PagamentoOnline\",\"Churn\"]].replace(traducao_dic)\n",
    "dados_modificados.head()"
   ],
   "metadata": {
    "collapsed": false,
    "pycharm": {
     "name": "#%%\n"
    }
   }
  },
  {
   "cell_type": "code",
   "execution_count": 5,
   "outputs": [
    {
     "data": {
      "text/plain": "   Conjuge  Dependentes  TelefoneFixo  PagamentoOnline  Churn  Maior65Anos  \\\n0        1            0             0                1      0            0   \n1        0            0             1                0      0            0   \n2        0            0             1                1      1            0   \n3        0            0             0                0      0            0   \n4        0            0             1                1      1            0   \n\n   MesesDeContrato  ContaMensal  VariasLinhasTelefonicas_Nao  \\\n0                1        29.85                            0   \n1               34        56.95                            1   \n2                2        53.85                            1   \n3               45        42.30                            0   \n4                2        70.70                            1   \n\n   VariasLinhasTelefonicas_SemServicoTelefonico  ...  StreamingDeFilmes_Nao  \\\n0                                             1  ...                      1   \n1                                             0  ...                      1   \n2                                             0  ...                      1   \n3                                             1  ...                      1   \n4                                             0  ...                      1   \n\n   StreamingDeFilmes_SemServicoDeInternet  StreamingDeFilmes_Sim  \\\n0                                       0                      0   \n1                                       0                      0   \n2                                       0                      0   \n3                                       0                      0   \n4                                       0                      0   \n\n   TipoDeContrato_DoisAnos  TipoDeContrato_Mensalmente  TipoDeContrato_UmAno  \\\n0                        0                           1                     0   \n1                        0                           0                     1   \n2                        0                           1                     0   \n3                        0                           0                     1   \n4                        0                           1                     0   \n\n   FormaDePagamento_CartaoDeCredito  FormaDePagamento_ChequeDigital  \\\n0                                 0                               1   \n1                                 0                               0   \n2                                 0                               0   \n3                                 0                               0   \n4                                 0                               1   \n\n   FormaDePagamento_ChequePapel  FormaDePagamento_DebitoEmConta  \n0                             0                               0  \n1                             1                               0  \n2                             1                               0  \n3                             0                               1  \n4                             0                               0  \n\n[5 rows x 39 columns]",
      "text/html": "<div>\n<style scoped>\n    .dataframe tbody tr th:only-of-type {\n        vertical-align: middle;\n    }\n\n    .dataframe tbody tr th {\n        vertical-align: top;\n    }\n\n    .dataframe thead th {\n        text-align: right;\n    }\n</style>\n<table border=\"1\" class=\"dataframe\">\n  <thead>\n    <tr style=\"text-align: right;\">\n      <th></th>\n      <th>Conjuge</th>\n      <th>Dependentes</th>\n      <th>TelefoneFixo</th>\n      <th>PagamentoOnline</th>\n      <th>Churn</th>\n      <th>Maior65Anos</th>\n      <th>MesesDeContrato</th>\n      <th>ContaMensal</th>\n      <th>VariasLinhasTelefonicas_Nao</th>\n      <th>VariasLinhasTelefonicas_SemServicoTelefonico</th>\n      <th>...</th>\n      <th>StreamingDeFilmes_Nao</th>\n      <th>StreamingDeFilmes_SemServicoDeInternet</th>\n      <th>StreamingDeFilmes_Sim</th>\n      <th>TipoDeContrato_DoisAnos</th>\n      <th>TipoDeContrato_Mensalmente</th>\n      <th>TipoDeContrato_UmAno</th>\n      <th>FormaDePagamento_CartaoDeCredito</th>\n      <th>FormaDePagamento_ChequeDigital</th>\n      <th>FormaDePagamento_ChequePapel</th>\n      <th>FormaDePagamento_DebitoEmConta</th>\n    </tr>\n  </thead>\n  <tbody>\n    <tr>\n      <th>0</th>\n      <td>1</td>\n      <td>0</td>\n      <td>0</td>\n      <td>1</td>\n      <td>0</td>\n      <td>0</td>\n      <td>1</td>\n      <td>29.85</td>\n      <td>0</td>\n      <td>1</td>\n      <td>...</td>\n      <td>1</td>\n      <td>0</td>\n      <td>0</td>\n      <td>0</td>\n      <td>1</td>\n      <td>0</td>\n      <td>0</td>\n      <td>1</td>\n      <td>0</td>\n      <td>0</td>\n    </tr>\n    <tr>\n      <th>1</th>\n      <td>0</td>\n      <td>0</td>\n      <td>1</td>\n      <td>0</td>\n      <td>0</td>\n      <td>0</td>\n      <td>34</td>\n      <td>56.95</td>\n      <td>1</td>\n      <td>0</td>\n      <td>...</td>\n      <td>1</td>\n      <td>0</td>\n      <td>0</td>\n      <td>0</td>\n      <td>0</td>\n      <td>1</td>\n      <td>0</td>\n      <td>0</td>\n      <td>1</td>\n      <td>0</td>\n    </tr>\n    <tr>\n      <th>2</th>\n      <td>0</td>\n      <td>0</td>\n      <td>1</td>\n      <td>1</td>\n      <td>1</td>\n      <td>0</td>\n      <td>2</td>\n      <td>53.85</td>\n      <td>1</td>\n      <td>0</td>\n      <td>...</td>\n      <td>1</td>\n      <td>0</td>\n      <td>0</td>\n      <td>0</td>\n      <td>1</td>\n      <td>0</td>\n      <td>0</td>\n      <td>0</td>\n      <td>1</td>\n      <td>0</td>\n    </tr>\n    <tr>\n      <th>3</th>\n      <td>0</td>\n      <td>0</td>\n      <td>0</td>\n      <td>0</td>\n      <td>0</td>\n      <td>0</td>\n      <td>45</td>\n      <td>42.30</td>\n      <td>0</td>\n      <td>1</td>\n      <td>...</td>\n      <td>1</td>\n      <td>0</td>\n      <td>0</td>\n      <td>0</td>\n      <td>0</td>\n      <td>1</td>\n      <td>0</td>\n      <td>0</td>\n      <td>0</td>\n      <td>1</td>\n    </tr>\n    <tr>\n      <th>4</th>\n      <td>0</td>\n      <td>0</td>\n      <td>1</td>\n      <td>1</td>\n      <td>1</td>\n      <td>0</td>\n      <td>2</td>\n      <td>70.70</td>\n      <td>1</td>\n      <td>0</td>\n      <td>...</td>\n      <td>1</td>\n      <td>0</td>\n      <td>0</td>\n      <td>0</td>\n      <td>1</td>\n      <td>0</td>\n      <td>0</td>\n      <td>1</td>\n      <td>0</td>\n      <td>0</td>\n    </tr>\n  </tbody>\n</table>\n<p>5 rows × 39 columns</p>\n</div>"
     },
     "execution_count": 5,
     "metadata": {},
     "output_type": "execute_result"
    }
   ],
   "source": [
    "# Transformação para 0 ou 1 pelo get_dummies\n",
    "dummy_dados = pd.get_dummies(dados.drop([\"Conjuge\",\"Dependentes\",\"TelefoneFixo\",\"PagamentoOnline\",\"Churn\"], axis=1))\n",
    "\n",
    "# Junção dos dados transformados com os que já tínhamos\n",
    "dados_final = pd.concat([dados_modificados, dummy_dados], axis=1)\n",
    "dados_final.head()"
   ],
   "metadata": {
    "collapsed": false,
    "pycharm": {
     "name": "#%%\n"
    }
   }
  },
  {
   "cell_type": "markdown",
   "source": [
    "## Definição Formal"
   ],
   "metadata": {
    "collapsed": false,
    "pycharm": {
     "name": "#%% md\n"
    }
   }
  },
  {
   "cell_type": "markdown",
   "source": [
    "Informações para classificação:\n",
    "\n",
    "$X$ = inputs (dados de entrada)\n",
    "\n",
    "$y$ = outputs (dados de saída)"
   ],
   "metadata": {
    "collapsed": false,
    "pycharm": {
     "name": "#%% md\n"
    }
   }
  },
  {
   "cell_type": "code",
   "execution_count": 6,
   "outputs": [],
   "source": [
    "# DICA para exibir todas as colunas do DataFrame\n",
    "# pd.set_option('display.max_columns', 39)"
   ],
   "metadata": {
    "collapsed": false,
    "pycharm": {
     "name": "#%%\n"
    }
   }
  },
  {
   "cell_type": "code",
   "execution_count": 7,
   "outputs": [
    {
     "data": {
      "text/plain": "   Conjuge  Dependentes  TelefoneFixo  PagamentoOnline  Churn  Maior65Anos  \\\n0        1            0             0                1      0            0   \n1        0            0             1                0      0            0   \n2        0            0             1                1      1            0   \n3        0            0             0                0      0            0   \n4        0            0             1                1      1            0   \n\n   MesesDeContrato  ContaMensal  VariasLinhasTelefonicas_Nao  \\\n0                1        29.85                            0   \n1               34        56.95                            1   \n2                2        53.85                            1   \n3               45        42.30                            0   \n4                2        70.70                            1   \n\n   VariasLinhasTelefonicas_SemServicoTelefonico  ...  StreamingDeFilmes_Nao  \\\n0                                             1  ...                      1   \n1                                             0  ...                      1   \n2                                             0  ...                      1   \n3                                             1  ...                      1   \n4                                             0  ...                      1   \n\n   StreamingDeFilmes_SemServicoDeInternet  StreamingDeFilmes_Sim  \\\n0                                       0                      0   \n1                                       0                      0   \n2                                       0                      0   \n3                                       0                      0   \n4                                       0                      0   \n\n   TipoDeContrato_DoisAnos  TipoDeContrato_Mensalmente  TipoDeContrato_UmAno  \\\n0                        0                           1                     0   \n1                        0                           0                     1   \n2                        0                           1                     0   \n3                        0                           0                     1   \n4                        0                           1                     0   \n\n   FormaDePagamento_CartaoDeCredito  FormaDePagamento_ChequeDigital  \\\n0                                 0                               1   \n1                                 0                               0   \n2                                 0                               0   \n3                                 0                               0   \n4                                 0                               1   \n\n   FormaDePagamento_ChequePapel  FormaDePagamento_DebitoEmConta  \n0                             0                               0  \n1                             1                               0  \n2                             1                               0  \n3                             0                               1  \n4                             0                               0  \n\n[5 rows x 39 columns]",
      "text/html": "<div>\n<style scoped>\n    .dataframe tbody tr th:only-of-type {\n        vertical-align: middle;\n    }\n\n    .dataframe tbody tr th {\n        vertical-align: top;\n    }\n\n    .dataframe thead th {\n        text-align: right;\n    }\n</style>\n<table border=\"1\" class=\"dataframe\">\n  <thead>\n    <tr style=\"text-align: right;\">\n      <th></th>\n      <th>Conjuge</th>\n      <th>Dependentes</th>\n      <th>TelefoneFixo</th>\n      <th>PagamentoOnline</th>\n      <th>Churn</th>\n      <th>Maior65Anos</th>\n      <th>MesesDeContrato</th>\n      <th>ContaMensal</th>\n      <th>VariasLinhasTelefonicas_Nao</th>\n      <th>VariasLinhasTelefonicas_SemServicoTelefonico</th>\n      <th>...</th>\n      <th>StreamingDeFilmes_Nao</th>\n      <th>StreamingDeFilmes_SemServicoDeInternet</th>\n      <th>StreamingDeFilmes_Sim</th>\n      <th>TipoDeContrato_DoisAnos</th>\n      <th>TipoDeContrato_Mensalmente</th>\n      <th>TipoDeContrato_UmAno</th>\n      <th>FormaDePagamento_CartaoDeCredito</th>\n      <th>FormaDePagamento_ChequeDigital</th>\n      <th>FormaDePagamento_ChequePapel</th>\n      <th>FormaDePagamento_DebitoEmConta</th>\n    </tr>\n  </thead>\n  <tbody>\n    <tr>\n      <th>0</th>\n      <td>1</td>\n      <td>0</td>\n      <td>0</td>\n      <td>1</td>\n      <td>0</td>\n      <td>0</td>\n      <td>1</td>\n      <td>29.85</td>\n      <td>0</td>\n      <td>1</td>\n      <td>...</td>\n      <td>1</td>\n      <td>0</td>\n      <td>0</td>\n      <td>0</td>\n      <td>1</td>\n      <td>0</td>\n      <td>0</td>\n      <td>1</td>\n      <td>0</td>\n      <td>0</td>\n    </tr>\n    <tr>\n      <th>1</th>\n      <td>0</td>\n      <td>0</td>\n      <td>1</td>\n      <td>0</td>\n      <td>0</td>\n      <td>0</td>\n      <td>34</td>\n      <td>56.95</td>\n      <td>1</td>\n      <td>0</td>\n      <td>...</td>\n      <td>1</td>\n      <td>0</td>\n      <td>0</td>\n      <td>0</td>\n      <td>0</td>\n      <td>1</td>\n      <td>0</td>\n      <td>0</td>\n      <td>1</td>\n      <td>0</td>\n    </tr>\n    <tr>\n      <th>2</th>\n      <td>0</td>\n      <td>0</td>\n      <td>1</td>\n      <td>1</td>\n      <td>1</td>\n      <td>0</td>\n      <td>2</td>\n      <td>53.85</td>\n      <td>1</td>\n      <td>0</td>\n      <td>...</td>\n      <td>1</td>\n      <td>0</td>\n      <td>0</td>\n      <td>0</td>\n      <td>1</td>\n      <td>0</td>\n      <td>0</td>\n      <td>0</td>\n      <td>1</td>\n      <td>0</td>\n    </tr>\n    <tr>\n      <th>3</th>\n      <td>0</td>\n      <td>0</td>\n      <td>0</td>\n      <td>0</td>\n      <td>0</td>\n      <td>0</td>\n      <td>45</td>\n      <td>42.30</td>\n      <td>0</td>\n      <td>1</td>\n      <td>...</td>\n      <td>1</td>\n      <td>0</td>\n      <td>0</td>\n      <td>0</td>\n      <td>0</td>\n      <td>1</td>\n      <td>0</td>\n      <td>0</td>\n      <td>0</td>\n      <td>1</td>\n    </tr>\n    <tr>\n      <th>4</th>\n      <td>0</td>\n      <td>0</td>\n      <td>1</td>\n      <td>1</td>\n      <td>1</td>\n      <td>0</td>\n      <td>2</td>\n      <td>70.70</td>\n      <td>1</td>\n      <td>0</td>\n      <td>...</td>\n      <td>1</td>\n      <td>0</td>\n      <td>0</td>\n      <td>0</td>\n      <td>1</td>\n      <td>0</td>\n      <td>0</td>\n      <td>1</td>\n      <td>0</td>\n      <td>0</td>\n    </tr>\n  </tbody>\n</table>\n<p>5 rows × 39 columns</p>\n</div>"
     },
     "execution_count": 7,
     "metadata": {},
     "output_type": "execute_result"
    }
   ],
   "source": [
    "dados_final.head()"
   ],
   "metadata": {
    "collapsed": false,
    "pycharm": {
     "name": "#%%\n"
    }
   }
  },
  {
   "cell_type": "markdown",
   "source": [
    "$y_i$ = $f(x_i)$"
   ],
   "metadata": {
    "collapsed": false,
    "pycharm": {
     "name": "#%% md\n"
    }
   }
  },
  {
   "cell_type": "code",
   "execution_count": 8,
   "outputs": [],
   "source": [
    "# Características de Maria\n",
    "X_maria = [[0, 0, 1, 1, 0, 0, 39.90, 1, 0, 0, 0, 1, 0, 1, 0, 0, 0, 0, 1, 1, 1, 0, 0, 1, 0, 1, 0, 0, 0 ,0 , 1, 0, 0, 1, 0, 0 , 0 ,1]]"
   ],
   "metadata": {
    "collapsed": false,
    "pycharm": {
     "name": "#%%\n"
    }
   }
  },
  {
   "cell_type": "code",
   "execution_count": 9,
   "outputs": [],
   "source": [
    "#y_maria"
   ],
   "metadata": {
    "collapsed": false,
    "pycharm": {
     "name": "#%%\n"
    }
   }
  },
  {
   "cell_type": "markdown",
   "source": [
    "Novos pares de informações = ($X_{maria}$, $y_{maria}$)"
   ],
   "metadata": {
    "collapsed": false,
    "pycharm": {
     "name": "#%% md\n"
    }
   }
  },
  {
   "cell_type": "markdown",
   "source": [
    "## Balanceamento dos Dados"
   ],
   "metadata": {
    "collapsed": false,
    "pycharm": {
     "name": "#%% md\n"
    }
   }
  },
  {
   "cell_type": "code",
   "execution_count": 10,
   "outputs": [],
   "source": [
    "import seaborn as sns"
   ],
   "metadata": {
    "collapsed": false,
    "pycharm": {
     "name": "#%%\n"
    }
   }
  },
  {
   "cell_type": "code",
   "execution_count": 11,
   "outputs": [
    {
     "data": {
      "text/plain": "<Figure size 432x288 with 1 Axes>",
      "image/png": "[encoded data removed]"
     },
     "metadata": {},
     "output_type": "display_data"
    }
   ],
   "source": [
    "ax = sns.countplot(x='Churn', data=dados_final)"
   ],
   "metadata": {
    "collapsed": false,
    "pycharm": {
     "name": "#%%\n"
    }
   }
  },
  {
   "cell_type": "code",
   "execution_count": 12,
   "outputs": [
    {
     "data": {
      "text/plain": "0    5174\n1    1869\nName: Churn, dtype: int64"
     },
     "execution_count": 12,
     "metadata": {},
     "output_type": "execute_result"
    }
   ],
   "source": [
    "dados_final.Churn.value_counts()"
   ],
   "metadata": {
    "collapsed": false,
    "pycharm": {
     "name": "#%%\n"
    }
   }
  },
  {
   "cell_type": "code",
   "execution_count": 13,
   "outputs": [],
   "source": [
    "X = dados_final.drop(\"Churn\", axis = 1)\n",
    "y = dados_final[\"Churn\"]"
   ],
   "metadata": {
    "collapsed": false,
    "pycharm": {
     "name": "#%%\n"
    }
   }
  },
  {
   "cell_type": "code",
   "execution_count": 14,
   "outputs": [],
   "source": [
    "#biblioteca para balancear os dados utilizando over_sampling\n",
    "from imblearn.over_sampling import SMOTE"
   ],
   "metadata": {
    "collapsed": false,
    "pycharm": {
     "name": "#%%\n"
    }
   }
  },
  {
   "cell_type": "code",
   "execution_count": 15,
   "outputs": [],
   "source": [
    "smt = SMOTE(random_state=123)  # Instancia um objeto da classe SMOTE\n",
    "X, y = smt.fit_resample(X, y)  # Realiza a reamostragem do conjunto de dados"
   ],
   "metadata": {
    "collapsed": false,
    "pycharm": {
     "name": "#%%\n"
    }
   }
  },
  {
   "cell_type": "code",
   "execution_count": 16,
   "outputs": [
    {
     "data": {
      "text/plain": "   Conjuge  Dependentes  TelefoneFixo  PagamentoOnline  Maior65Anos  \\\n0        1            0             0                1            0   \n1        0            0             1                0            0   \n2        0            0             1                1            0   \n3        0            0             0                0            0   \n4        0            0             1                1            0   \n\n   MesesDeContrato  ContaMensal  VariasLinhasTelefonicas_Nao  \\\n0                1        29.85                            0   \n1               34        56.95                            1   \n2                2        53.85                            1   \n3               45        42.30                            0   \n4                2        70.70                            1   \n\n   VariasLinhasTelefonicas_SemServicoTelefonico  VariasLinhasTelefonicas_Sim  \\\n0                                             1                            0   \n1                                             0                            0   \n2                                             0                            0   \n3                                             1                            0   \n4                                             0                            0   \n\n   ...  StreamingDeFilmes_SemServicoDeInternet  StreamingDeFilmes_Sim  \\\n0  ...                                       0                      0   \n1  ...                                       0                      0   \n2  ...                                       0                      0   \n3  ...                                       0                      0   \n4  ...                                       0                      0   \n\n   TipoDeContrato_DoisAnos  TipoDeContrato_Mensalmente  TipoDeContrato_UmAno  \\\n0                        0                           1                     0   \n1                        0                           0                     1   \n2                        0                           1                     0   \n3                        0                           0                     1   \n4                        0                           1                     0   \n\n   FormaDePagamento_CartaoDeCredito  FormaDePagamento_ChequeDigital  \\\n0                                 0                               1   \n1                                 0                               0   \n2                                 0                               0   \n3                                 0                               0   \n4                                 0                               1   \n\n   FormaDePagamento_ChequePapel  FormaDePagamento_DebitoEmConta  Churn  \n0                             0                               0      0  \n1                             1                               0      0  \n2                             1                               0      1  \n3                             0                               1      0  \n4                             0                               0      1  \n\n[5 rows x 39 columns]",
      "text/html": "<div>\n<style scoped>\n    .dataframe tbody tr th:only-of-type {\n        vertical-align: middle;\n    }\n\n    .dataframe tbody tr th {\n        vertical-align: top;\n    }\n\n    .dataframe thead th {\n        text-align: right;\n    }\n</style>\n<table border=\"1\" class=\"dataframe\">\n  <thead>\n    <tr style=\"text-align: right;\">\n      <th></th>\n      <th>Conjuge</th>\n      <th>Dependentes</th>\n      <th>TelefoneFixo</th>\n      <th>PagamentoOnline</th>\n      <th>Maior65Anos</th>\n      <th>MesesDeContrato</th>\n      <th>ContaMensal</th>\n      <th>VariasLinhasTelefonicas_Nao</th>\n      <th>VariasLinhasTelefonicas_SemServicoTelefonico</th>\n      <th>VariasLinhasTelefonicas_Sim</th>\n      <th>...</th>\n      <th>StreamingDeFilmes_SemServicoDeInternet</th>\n      <th>StreamingDeFilmes_Sim</th>\n      <th>TipoDeContrato_DoisAnos</th>\n      <th>TipoDeContrato_Mensalmente</th>\n      <th>TipoDeContrato_UmAno</th>\n      <th>FormaDePagamento_CartaoDeCredito</th>\n      <th>FormaDePagamento_ChequeDigital</th>\n      <th>FormaDePagamento_ChequePapel</th>\n      <th>FormaDePagamento_DebitoEmConta</th>\n      <th>Churn</th>\n    </tr>\n  </thead>\n  <tbody>\n    <tr>\n      <th>0</th>\n      <td>1</td>\n      <td>0</td>\n      <td>0</td>\n      <td>1</td>\n      <td>0</td>\n      <td>1</td>\n      <td>29.85</td>\n      <td>0</td>\n      <td>1</td>\n      <td>0</td>\n      <td>...</td>\n      <td>0</td>\n      <td>0</td>\n      <td>0</td>\n      <td>1</td>\n      <td>0</td>\n      <td>0</td>\n      <td>1</td>\n      <td>0</td>\n      <td>0</td>\n      <td>0</td>\n    </tr>\n    <tr>\n      <th>1</th>\n      <td>0</td>\n      <td>0</td>\n      <td>1</td>\n      <td>0</td>\n      <td>0</td>\n      <td>34</td>\n      <td>56.95</td>\n      <td>1</td>\n      <td>0</td>\n      <td>0</td>\n      <td>...</td>\n      <td>0</td>\n      <td>0</td>\n      <td>0</td>\n      <td>0</td>\n      <td>1</td>\n      <td>0</td>\n      <td>0</td>\n      <td>1</td>\n      <td>0</td>\n      <td>0</td>\n    </tr>\n    <tr>\n      <th>2</th>\n      <td>0</td>\n      <td>0</td>\n      <td>1</td>\n      <td>1</td>\n      <td>0</td>\n      <td>2</td>\n      <td>53.85</td>\n      <td>1</td>\n      <td>0</td>\n      <td>0</td>\n      <td>...</td>\n      <td>0</td>\n      <td>0</td>\n      <td>0</td>\n      <td>1</td>\n      <td>0</td>\n      <td>0</td>\n      <td>0</td>\n      <td>1</td>\n      <td>0</td>\n      <td>1</td>\n    </tr>\n    <tr>\n      <th>3</th>\n      <td>0</td>\n      <td>0</td>\n      <td>0</td>\n      <td>0</td>\n      <td>0</td>\n      <td>45</td>\n      <td>42.30</td>\n      <td>0</td>\n      <td>1</td>\n      <td>0</td>\n      <td>...</td>\n      <td>0</td>\n      <td>0</td>\n      <td>0</td>\n      <td>0</td>\n      <td>1</td>\n      <td>0</td>\n      <td>0</td>\n      <td>0</td>\n      <td>1</td>\n      <td>0</td>\n    </tr>\n    <tr>\n      <th>4</th>\n      <td>0</td>\n      <td>0</td>\n      <td>1</td>\n      <td>1</td>\n      <td>0</td>\n      <td>2</td>\n      <td>70.70</td>\n      <td>1</td>\n      <td>0</td>\n      <td>0</td>\n      <td>...</td>\n      <td>0</td>\n      <td>0</td>\n      <td>0</td>\n      <td>1</td>\n      <td>0</td>\n      <td>0</td>\n      <td>1</td>\n      <td>0</td>\n      <td>0</td>\n      <td>1</td>\n    </tr>\n  </tbody>\n</table>\n<p>5 rows × 39 columns</p>\n</div>"
     },
     "execution_count": 16,
     "metadata": {},
     "output_type": "execute_result"
    }
   ],
   "source": [
    "dados_final = pd.concat([X, y], axis=1)  # Concatena a variável target (y) com as features (X)\n",
    "\n",
    "# Verifica se o balanceamento e a concatenação estão corretos.\n",
    "dados_final.head()"
   ],
   "metadata": {
    "collapsed": false,
    "pycharm": {
     "name": "#%%\n"
    }
   }
  },
  {
   "cell_type": "code",
   "execution_count": 17,
   "outputs": [
    {
     "data": {
      "text/plain": "<Figure size 432x288 with 1 Axes>",
      "image/png": "[encoded data removed]"
     },
     "metadata": {},
     "output_type": "display_data"
    }
   ],
   "source": [
    "ax = sns.countplot(x='Churn', data=dados_final)  # plotando a variável target balanceada."
   ],
   "metadata": {
    "collapsed": false,
    "pycharm": {
     "name": "#%%\n"
    }
   }
  },
  {
   "cell_type": "code",
   "execution_count": 18,
   "outputs": [
    {
     "data": {
      "text/plain": "0    5174\n1    5174\nName: Churn, dtype: int64"
     },
     "execution_count": 18,
     "metadata": {},
     "output_type": "execute_result"
    }
   ],
   "source": [
    "dados_final.Churn.value_counts()"
   ],
   "metadata": {
    "collapsed": false,
    "pycharm": {
     "name": "#%%\n"
    }
   }
  },
  {
   "cell_type": "markdown",
   "source": [
    "# 2 - Modelo K-Nearest Neighbors (KNN)"
   ],
   "metadata": {
    "collapsed": false,
    "pycharm": {
     "name": "#%% md\n"
    }
   }
  },
  {
   "cell_type": "code",
   "execution_count": 19,
   "outputs": [
    {
     "data": {
      "text/plain": "[[0,\n  0,\n  1,\n  1,\n  0,\n  0,\n  39.9,\n  1,\n  0,\n  0,\n  0,\n  1,\n  0,\n  1,\n  0,\n  0,\n  0,\n  0,\n  1,\n  1,\n  1,\n  0,\n  0,\n  1,\n  0,\n  1,\n  0,\n  0,\n  0,\n  0,\n  1,\n  0,\n  0,\n  1,\n  0,\n  0,\n  0,\n  1]]"
     },
     "execution_count": 19,
     "metadata": {},
     "output_type": "execute_result"
    }
   ],
   "source": [
    "X_maria"
   ],
   "metadata": {
    "collapsed": false,
    "pycharm": {
     "name": "#%%\n"
    }
   }
  },
  {
   "cell_type": "code",
   "execution_count": 20,
   "outputs": [],
   "source": [
    "# Divisão em inputs e outputs\n",
    "X = dados_final.drop(\"Churn\", axis=1)\n",
    "y = dados_final.Churn"
   ],
   "metadata": {
    "collapsed": false,
    "pycharm": {
     "name": "#%%\n"
    }
   }
  },
  {
   "cell_type": "code",
   "execution_count": 21,
   "outputs": [],
   "source": [
    "# Biblioteca para normalizar os dados (x - média do conjunto / desvio padrão)\n",
    "from sklearn.preprocessing import StandardScaler"
   ],
   "metadata": {
    "collapsed": false,
    "pycharm": {
     "name": "#%%\n"
    }
   }
  },
  {
   "cell_type": "code",
   "execution_count": 22,
   "outputs": [
    {
     "data": {
      "text/plain": "array([[ 1.26542767, -0.52756038, -3.06083934, ...,  1.30373042,\n        -0.47943196, -0.4360152 ],\n       [-0.79024667, -0.52756038,  0.32670777, ..., -0.76702973,\n         2.08580171, -0.4360152 ],\n       [-0.79024667, -0.52756038,  0.32670777, ..., -0.76702973,\n         2.08580171, -0.4360152 ],\n       ...,\n       [-0.79024667, -0.52756038,  0.32670777, ...,  1.30373042,\n        -0.47943196, -0.4360152 ],\n       [-0.79024667, -0.52756038,  0.32670777, ..., -0.76702973,\n        -0.47943196, -0.4360152 ],\n       [-0.79024667, -0.52756038,  0.32670777, ..., -0.76702973,\n        -0.47943196, -0.4360152 ]])"
     },
     "execution_count": 22,
     "metadata": {},
     "output_type": "execute_result"
    }
   ],
   "source": [
    "norm = StandardScaler()\n",
    "\n",
    "X_normalizado = norm.fit_transform(X)\n",
    "X_normalizado"
   ],
   "metadata": {
    "collapsed": false,
    "pycharm": {
     "name": "#%%\n"
    }
   }
  },
  {
   "cell_type": "code",
   "execution_count": 23,
   "outputs": [
    {
     "data": {
      "text/plain": "array([[ 1.26542767, -0.52756038, -3.06083934,  0.81514931, -0.41254225,\n        -1.10768665, -1.32177005, -0.88499468,  3.18604176, -0.83366906,\n         1.51268338, -1.04386816, -0.44617598,  0.868102  , -0.44617598,\n        -0.51751958, -0.95853201, -0.44617598,  1.57389661,  1.04306   ,\n        -0.44617598, -0.6419641 ,  0.87997069, -0.44617598, -0.52426638,\n         1.18690873, -0.44617598, -0.77707385,  1.20287745, -0.44617598,\n        -0.79008532, -0.44648735,  0.73773107, -0.41989297, -0.42576817,\n         1.30373042, -0.47943196, -0.4360152 ]])"
     },
     "execution_count": 23,
     "metadata": {},
     "output_type": "execute_result"
    }
   ],
   "source": [
    "X_normalizado[[0],]"
   ],
   "metadata": {
    "collapsed": false,
    "pycharm": {
     "name": "#%%\n"
    }
   }
  },
  {
   "cell_type": "code",
   "execution_count": 24,
   "outputs": [
    {
     "data": {
      "text/plain": "array([[-0.79024667, -0.52756038,  0.32670777,  0.81514931, -0.41254225,\n        -1.14935017, -0.9723572 ,  1.1299503 , -0.31386908, -0.83366906,\n        -0.66107688,  0.95797538, -0.44617598,  0.868102  , -0.44617598,\n        -0.51751958, -0.95853201, -0.44617598,  1.57389661,  1.04306   ,\n         2.24126814, -0.6419641 , -1.13640148,  2.24126814, -0.52426638,\n         1.18690873, -0.44617598, -0.77707385, -0.83133988, -0.44617598,\n         1.26568609, -0.44648735, -1.35550751,  2.38155929, -0.42576817,\n        -0.76702973, -0.47943196,  2.293498  ]])"
     },
     "execution_count": 24,
     "metadata": {},
     "output_type": "execute_result"
    }
   ],
   "source": [
    "# É necessário transformar os dados de Maria (tipo lista) para um DataFrame bidimensional do Pandas\n",
    "# X_maria_normalizado = norm.transform(pd.DataFrame(X_maria, columns=X.columns))\n",
    "maria_df = pd.DataFrame(X_maria, columns=X.columns)\n",
    "X_maria_normalizado = norm.transform(maria_df)\n",
    "X_maria_normalizado"
   ],
   "metadata": {
    "collapsed": false,
    "pycharm": {
     "name": "#%%\n"
    }
   }
  },
  {
   "cell_type": "markdown",
   "source": [
    "Distância Euclidiana:\n",
    "\n",
    "$\\sqrt{\\sum^k_{i=1}(a_{i} - b_{i})^2}$"
   ],
   "metadata": {
    "collapsed": false,
    "pycharm": {
     "name": "#%% md\n"
    }
   }
  },
  {
   "cell_type": "code",
   "execution_count": 25,
   "outputs": [],
   "source": [
    "import numpy as np"
   ],
   "metadata": {
    "collapsed": false,
    "pycharm": {
     "name": "#%%\n"
    }
   }
  },
  {
   "cell_type": "code",
   "execution_count": 26,
   "outputs": [],
   "source": [
    "a = X_maria_normalizado\n",
    "b = X_normalizado[[0],:]"
   ],
   "metadata": {
    "collapsed": false,
    "pycharm": {
     "name": "#%%\n"
    }
   }
  },
  {
   "cell_type": "code",
   "execution_count": 27,
   "outputs": [
    {
     "data": {
      "text/plain": "array([[-2.05567434,  0.        ,  3.38754711,  0.        ,  0.        ,\n        -0.04166352,  0.34941285,  2.01494498, -3.49991084,  0.        ,\n        -2.17376025,  2.00184354,  0.        ,  0.        ,  0.        ,\n         0.        ,  0.        ,  0.        ,  0.        ,  0.        ,\n         2.68744412,  0.        , -2.01637218,  2.68744412,  0.        ,\n         0.        ,  0.        ,  0.        , -2.03421733,  0.        ,\n         2.05577141,  0.        , -2.09323857,  2.80145225,  0.        ,\n        -2.07076016,  0.        ,  2.72951321]])"
     },
     "execution_count": 27,
     "metadata": {},
     "output_type": "execute_result"
    }
   ],
   "source": [
    "# 1 - primeiro a subtração\n",
    "a - b"
   ],
   "metadata": {
    "collapsed": false,
    "pycharm": {
     "name": "#%%\n"
    }
   }
  },
  {
   "cell_type": "code",
   "execution_count": 28,
   "outputs": [
    {
     "data": {
      "text/plain": "array([[4.22579699e+00, 0.00000000e+00, 1.14754754e+01, 0.00000000e+00,\n        0.00000000e+00, 1.73584854e-03, 1.22089340e-01, 4.06000326e+00,\n        1.22493759e+01, 0.00000000e+00, 4.72523363e+00, 4.00737757e+00,\n        0.00000000e+00, 0.00000000e+00, 0.00000000e+00, 0.00000000e+00,\n        0.00000000e+00, 0.00000000e+00, 0.00000000e+00, 0.00000000e+00,\n        7.22235589e+00, 0.00000000e+00, 4.06575675e+00, 7.22235589e+00,\n        0.00000000e+00, 0.00000000e+00, 0.00000000e+00, 0.00000000e+00,\n        4.13804017e+00, 0.00000000e+00, 4.22619609e+00, 0.00000000e+00,\n        4.38164773e+00, 7.84813473e+00, 0.00000000e+00, 4.28804763e+00,\n        0.00000000e+00, 7.45024235e+00]])"
     },
     "execution_count": 28,
     "metadata": {},
     "output_type": "execute_result"
    }
   ],
   "source": [
    "# 2 - depois a exponenciação\n",
    "np.square(a - b)"
   ],
   "metadata": {
    "collapsed": false,
    "pycharm": {
     "name": "#%%\n"
    }
   }
  },
  {
   "cell_type": "code",
   "execution_count": 29,
   "outputs": [
    {
     "data": {
      "text/plain": "91.70986517145157"
     },
     "execution_count": 29,
     "metadata": {},
     "output_type": "execute_result"
    }
   ],
   "source": [
    "# 3 - terceiro a soma\n",
    "np.sum(np.square(a - b))"
   ],
   "metadata": {
    "collapsed": false,
    "pycharm": {
     "name": "#%%\n"
    }
   }
  },
  {
   "cell_type": "code",
   "execution_count": 30,
   "outputs": [
    {
     "data": {
      "text/plain": "9.576526780177225"
     },
     "execution_count": 30,
     "metadata": {},
     "output_type": "execute_result"
    }
   ],
   "source": [
    "# 4 - então tiramos a raiz e temos nossa distância\n",
    "np.sqrt(np.sum(np.square(a - b)))"
   ],
   "metadata": {
    "collapsed": false,
    "pycharm": {
     "name": "#%%\n"
    }
   }
  },
  {
   "cell_type": "markdown",
   "source": [
    "## Implementando o modelo"
   ],
   "metadata": {
    "collapsed": false,
    "pycharm": {
     "name": "#%% md\n"
    }
   }
  },
  {
   "cell_type": "code",
   "execution_count": 31,
   "outputs": [],
   "source": [
    "# biblioteca para divisão dos dados\n",
    "from sklearn.model_selection import train_test_split"
   ],
   "metadata": {
    "collapsed": false,
    "pycharm": {
     "name": "#%%\n"
    }
   }
  },
  {
   "cell_type": "code",
   "execution_count": 32,
   "outputs": [],
   "source": [
    "X_treino, X_teste, y_treino, y_teste = train_test_split(X_normalizado, y, test_size=0.3, random_state=123)"
   ],
   "metadata": {
    "collapsed": false,
    "pycharm": {
     "name": "#%%\n"
    }
   }
  },
  {
   "cell_type": "markdown",
   "source": [
    "Treino e teste"
   ],
   "metadata": {
    "collapsed": false,
    "pycharm": {
     "name": "#%% md\n"
    }
   }
  },
  {
   "cell_type": "code",
   "execution_count": 34,
   "outputs": [],
   "source": [
    "# biblioteca para criarmos o modelo de machine learning\n",
    "from sklearn.neighbors import KNeighborsClassifier"
   ],
   "metadata": {
    "collapsed": false,
    "pycharm": {
     "name": "#%%\n"
    }
   }
  },
  {
   "cell_type": "code",
   "execution_count": 36,
   "outputs": [],
   "source": [
    "# instanciar o modelo (criamos o modelo) - por padrão são 5 vizinhos\n",
    "knn = KNeighborsClassifier(metric=\"euclidean\")"
   ],
   "metadata": {
    "collapsed": false,
    "pycharm": {
     "name": "#%%\n"
    }
   }
  },
  {
   "cell_type": "code",
   "execution_count": 37,
   "outputs": [
    {
     "data": {
      "text/plain": "KNeighborsClassifier(metric='euclidean')",
      "text/html": "<style>#sk-container-id-1 {color: black;background-color: white;}#sk-container-id-1 pre{padding: 0;}#sk-container-id-1 div.sk-toggleable {background-color: white;}#sk-container-id-1 label.sk-toggleable__label {cursor: pointer;display: block;width: 100%;margin-bottom: 0;padding: 0.3em;box-sizing: border-box;text-align: center;}#sk-container-id-1 label.sk-toggleable__label-arrow:before {content: \"▸\";float: left;margin-right: 0.25em;color: #696969;}#sk-container-id-1 label.sk-toggleable__label-arrow:hover:before {color: black;}#sk-container-id-1 div.sk-estimator:hover label.sk-toggleable__label-arrow:before {color: black;}#sk-container-id-1 div.sk-toggleable__content {max-height: 0;max-width: 0;overflow: hidden;text-align: left;background-color: #f0f8ff;}#sk-container-id-1 div.sk-toggleable__content pre {margin: 0.2em;color: black;border-radius: 0.25em;background-color: #f0f8ff;}#sk-container-id-1 input.sk-toggleable__control:checked~div.sk-toggleable__content {max-height: 200px;max-width: 100%;overflow: auto;}#sk-container-id-1 input.sk-toggleable__control:checked~label.sk-toggleable__label-arrow:before {content: \"▾\";}#sk-container-id-1 div.sk-estimator input.sk-toggleable__control:checked~label.sk-toggleable__label {background-color: #d4ebff;}#sk-container-id-1 div.sk-label input.sk-toggleable__control:checked~label.sk-toggleable__label {background-color: #d4ebff;}#sk-container-id-1 input.sk-hidden--visually {border: 0;clip: rect(1px 1px 1px 1px);clip: rect(1px, 1px, 1px, 1px);height: 1px;margin: -1px;overflow: hidden;padding: 0;position: absolute;width: 1px;}#sk-container-id-1 div.sk-estimator {font-family: monospace;background-color: #f0f8ff;border: 1px dotted black;border-radius: 0.25em;box-sizing: border-box;margin-bottom: 0.5em;}#sk-container-id-1 div.sk-estimator:hover {background-color: #d4ebff;}#sk-container-id-1 div.sk-parallel-item::after {content: \"\";width: 100%;border-bottom: 1px solid gray;flex-grow: 1;}#sk-container-id-1 div.sk-label:hover label.sk-toggleable__label {background-color: #d4ebff;}#sk-container-id-1 div.sk-serial::before {content: \"\";position: absolute;border-left: 1px solid gray;box-sizing: border-box;top: 0;bottom: 0;left: 50%;z-index: 0;}#sk-container-id-1 div.sk-serial {display: flex;flex-direction: column;align-items: center;background-color: white;padding-right: 0.2em;padding-left: 0.2em;position: relative;}#sk-container-id-1 div.sk-item {position: relative;z-index: 1;}#sk-container-id-1 div.sk-parallel {display: flex;align-items: stretch;justify-content: center;background-color: white;position: relative;}#sk-container-id-1 div.sk-item::before, #sk-container-id-1 div.sk-parallel-item::before {content: \"\";position: absolute;border-left: 1px solid gray;box-sizing: border-box;top: 0;bottom: 0;left: 50%;z-index: -1;}#sk-container-id-1 div.sk-parallel-item {display: flex;flex-direction: column;z-index: 1;position: relative;background-color: white;}#sk-container-id-1 div.sk-parallel-item:first-child::after {align-self: flex-end;width: 50%;}#sk-container-id-1 div.sk-parallel-item:last-child::after {align-self: flex-start;width: 50%;}#sk-container-id-1 div.sk-parallel-item:only-child::after {width: 0;}#sk-container-id-1 div.sk-dashed-wrapped {border: 1px dashed gray;margin: 0 0.4em 0.5em 0.4em;box-sizing: border-box;padding-bottom: 0.4em;background-color: white;}#sk-container-id-1 div.sk-label label {font-family: monospace;font-weight: bold;display: inline-block;line-height: 1.2em;}#sk-container-id-1 div.sk-label-container {text-align: center;}#sk-container-id-1 div.sk-container {/* jupyter's `normalize.less` sets `[hidden] { display: none; }` but bootstrap.min.css set `[hidden] { display: none !important; }` so we also need the `!important` here to be able to override the default hidden behavior on the sphinx rendered scikit-learn.org. See: https://github.com/scikit-learn/scikit-learn/issues/21755 */display: inline-block !important;position: relative;}#sk-container-id-1 div.sk-text-repr-fallback {display: none;}</style><div id=\"sk-container-id-1\" class=\"sk-top-container\"><div class=\"sk-text-repr-fallback\"><pre>KNeighborsClassifier(metric=&#x27;euclidean&#x27;)</pre><b>In a Jupyter environment, please rerun this cell to show the HTML representation or trust the notebook. <br />On GitHub, the HTML representation is unable to render, please try loading this page with nbviewer.org.</b></div><div class=\"sk-container\" hidden><div class=\"sk-item\"><div class=\"sk-estimator sk-toggleable\"><input class=\"sk-toggleable__control sk-hidden--visually\" id=\"sk-estimator-id-1\" type=\"checkbox\" checked><label for=\"sk-estimator-id-1\" class=\"sk-toggleable__label sk-toggleable__label-arrow\">KNeighborsClassifier</label><div class=\"sk-toggleable__content\"><pre>KNeighborsClassifier(metric=&#x27;euclidean&#x27;)</pre></div></div></div></div></div>"
     },
     "execution_count": 37,
     "metadata": {},
     "output_type": "execute_result"
    }
   ],
   "source": [
    "# treinando o modelo com os dados de treino\n",
    "knn.fit(X_treino, y_treino)"
   ],
   "metadata": {
    "collapsed": false,
    "pycharm": {
     "name": "#%%\n"
    }
   }
  },
  {
   "cell_type": "code",
   "execution_count": 38,
   "outputs": [],
   "source": [
    "# testando o modelo com os dados de teste\n",
    "predito_knn = knn.predict(X_teste)"
   ],
   "metadata": {
    "collapsed": false,
    "pycharm": {
     "name": "#%%\n"
    }
   }
  },
  {
   "cell_type": "code",
   "execution_count": 39,
   "outputs": [
    {
     "data": {
      "text/plain": "array([1, 0, 0, ..., 0, 1, 1], dtype=int64)"
     },
     "execution_count": 39,
     "metadata": {},
     "output_type": "execute_result"
    }
   ],
   "source": [
    "predito_knn"
   ],
   "metadata": {
    "collapsed": false,
    "pycharm": {
     "name": "#%%\n"
    }
   }
  },
  {
   "cell_type": "markdown",
   "source": [
    "Exercício - Calcule a distância euclidiana de Maria com os 10 primeiros clientes da nossa base de dados normalizada utilizando a métrica euclidiana."
   ],
   "metadata": {
    "collapsed": false,
    "pycharm": {
     "name": "#%% md\n"
    }
   }
  },
  {
   "cell_type": "code",
   "execution_count": 41,
   "outputs": [
    {
     "name": "stdout",
     "output_type": "stream",
     "text": [
      "Distância para o elemento 0: 9.576526780177225\n",
      "Distância para o elemento 1: 9.164133279757106\n",
      "Distância para o elemento 2: 8.49659276250102\n",
      "Distância para o elemento 3: 10.037276792007964\n",
      "Distância para o elemento 4: 7.802847729252477\n",
      "Distância para o elemento 5: 9.011721779206102\n",
      "Distância para o elemento 6: 8.970072364668107\n",
      "Distância para o elemento 7: 10.634393972475307\n",
      "Distância para o elemento 8: 9.4504013151968\n",
      "Distância para o elemento 9: 7.919722083466357\n"
     ]
    }
   ],
   "source": [
    "soma = 0\n",
    "for i in range(10):\n",
    "    a = X_maria_normalizado\n",
    "    b = X_normalizado[[i],:]\n",
    "\n",
    "    diferenca = a - b\n",
    "    quadrado_diferenca = np.square(diferenca)\n",
    "    soma = np.sum(quadrado_diferenca)\n",
    "    distancia = np.sqrt(soma)\n",
    "    print(f\"Distância para o elemento {i}: {distancia}\")"
   ],
   "metadata": {
    "collapsed": false,
    "pycharm": {
     "name": "#%%\n"
    }
   }
  },
  {
   "cell_type": "markdown",
   "source": [
    "# 3 - Naïve Bayes"
   ],
   "metadata": {
    "collapsed": false,
    "pycharm": {
     "name": "#%% md\n"
    }
   }
  },
  {
   "cell_type": "markdown",
   "source": [
    "## Treino e teste"
   ],
   "metadata": {
    "collapsed": false,
    "pycharm": {
     "name": "#%% md\n"
    }
   }
  },
  {
   "cell_type": "code",
   "execution_count": 42,
   "outputs": [
    {
     "data": {
      "text/plain": "array([[-0.79024667, -0.52756038, -3.06083934, ..., -0.76702973,\n         2.08580171, -0.4360152 ],\n       [ 1.26542767,  1.89551764,  0.32670777, ..., -0.76702973,\n         2.08580171, -0.4360152 ],\n       [-0.79024667, -0.52756038,  0.32670777, ...,  1.30373042,\n        -0.47943196, -0.4360152 ],\n       ...,\n       [ 1.26542767,  1.89551764,  0.32670777, ..., -0.76702973,\n         2.08580171, -0.4360152 ],\n       [ 1.26542767,  1.89551764,  0.32670777, ...,  1.30373042,\n        -0.47943196, -0.4360152 ],\n       [-0.79024667, -0.52756038,  0.32670777, ...,  1.30373042,\n        -0.47943196, -0.4360152 ]])"
     },
     "execution_count": 42,
     "metadata": {},
     "output_type": "execute_result"
    }
   ],
   "source": [
    "X_treino"
   ],
   "metadata": {
    "collapsed": false,
    "pycharm": {
     "name": "#%%\n"
    }
   }
  },
  {
   "cell_type": "code",
   "execution_count": 43,
   "outputs": [
    {
     "data": {
      "text/plain": "4831    0\n5077    0\n9023    1\n4424    1\n5236    0\n       ..\n9785    1\n7763    1\n5218    0\n1346    1\n3582    0\nName: Churn, Length: 7243, dtype: int64"
     },
     "execution_count": 43,
     "metadata": {},
     "output_type": "execute_result"
    }
   ],
   "source": [
    "y_treino"
   ],
   "metadata": {
    "collapsed": false,
    "pycharm": {
     "name": "#%%\n"
    }
   }
  },
  {
   "cell_type": "markdown",
   "source": [
    "## Implementando o modelo"
   ],
   "metadata": {
    "collapsed": false,
    "pycharm": {
     "name": "#%% md\n"
    }
   }
  },
  {
   "cell_type": "code",
   "execution_count": 44,
   "outputs": [
    {
     "data": {
      "text/plain": "-0.4461759755508453"
     },
     "execution_count": 44,
     "metadata": {},
     "output_type": "execute_result"
    }
   ],
   "source": [
    "# escolho utilizar a mediana (no binarize do BernoulliNB), porque é o valor central dos nossos dados ordenados\n",
    "np.median(X_treino)"
   ],
   "metadata": {
    "collapsed": false,
    "pycharm": {
     "name": "#%%\n"
    }
   }
  },
  {
   "cell_type": "code",
   "execution_count": 45,
   "outputs": [],
   "source": [
    "# biblioteca para criarmos o modelo de machine learning\n",
    "from sklearn.naive_bayes import BernoulliNB"
   ],
   "metadata": {
    "collapsed": false,
    "pycharm": {
     "name": "#%%\n"
    }
   }
  },
  {
   "cell_type": "code",
   "execution_count": 47,
   "outputs": [],
   "source": [
    "# criamos o modelo\n",
    "bnb = BernoulliNB(binarize=-0.44) # acima de -0.44 transforma em 1 e abaixo em zero"
   ],
   "metadata": {
    "collapsed": false,
    "pycharm": {
     "name": "#%%\n"
    }
   }
  },
  {
   "cell_type": "code",
   "execution_count": 48,
   "outputs": [
    {
     "data": {
      "text/plain": "BernoulliNB(binarize=-0.44)",
      "text/html": "<style>#sk-container-id-2 {color: black;background-color: white;}#sk-container-id-2 pre{padding: 0;}#sk-container-id-2 div.sk-toggleable {background-color: white;}#sk-container-id-2 label.sk-toggleable__label {cursor: pointer;display: block;width: 100%;margin-bottom: 0;padding: 0.3em;box-sizing: border-box;text-align: center;}#sk-container-id-2 label.sk-toggleable__label-arrow:before {content: \"▸\";float: left;margin-right: 0.25em;color: #696969;}#sk-container-id-2 label.sk-toggleable__label-arrow:hover:before {color: black;}#sk-container-id-2 div.sk-estimator:hover label.sk-toggleable__label-arrow:before {color: black;}#sk-container-id-2 div.sk-toggleable__content {max-height: 0;max-width: 0;overflow: hidden;text-align: left;background-color: #f0f8ff;}#sk-container-id-2 div.sk-toggleable__content pre {margin: 0.2em;color: black;border-radius: 0.25em;background-color: #f0f8ff;}#sk-container-id-2 input.sk-toggleable__control:checked~div.sk-toggleable__content {max-height: 200px;max-width: 100%;overflow: auto;}#sk-container-id-2 input.sk-toggleable__control:checked~label.sk-toggleable__label-arrow:before {content: \"▾\";}#sk-container-id-2 div.sk-estimator input.sk-toggleable__control:checked~label.sk-toggleable__label {background-color: #d4ebff;}#sk-container-id-2 div.sk-label input.sk-toggleable__control:checked~label.sk-toggleable__label {background-color: #d4ebff;}#sk-container-id-2 input.sk-hidden--visually {border: 0;clip: rect(1px 1px 1px 1px);clip: rect(1px, 1px, 1px, 1px);height: 1px;margin: -1px;overflow: hidden;padding: 0;position: absolute;width: 1px;}#sk-container-id-2 div.sk-estimator {font-family: monospace;background-color: #f0f8ff;border: 1px dotted black;border-radius: 0.25em;box-sizing: border-box;margin-bottom: 0.5em;}#sk-container-id-2 div.sk-estimator:hover {background-color: #d4ebff;}#sk-container-id-2 div.sk-parallel-item::after {content: \"\";width: 100%;border-bottom: 1px solid gray;flex-grow: 1;}#sk-container-id-2 div.sk-label:hover label.sk-toggleable__label {background-color: #d4ebff;}#sk-container-id-2 div.sk-serial::before {content: \"\";position: absolute;border-left: 1px solid gray;box-sizing: border-box;top: 0;bottom: 0;left: 50%;z-index: 0;}#sk-container-id-2 div.sk-serial {display: flex;flex-direction: column;align-items: center;background-color: white;padding-right: 0.2em;padding-left: 0.2em;position: relative;}#sk-container-id-2 div.sk-item {position: relative;z-index: 1;}#sk-container-id-2 div.sk-parallel {display: flex;align-items: stretch;justify-content: center;background-color: white;position: relative;}#sk-container-id-2 div.sk-item::before, #sk-container-id-2 div.sk-parallel-item::before {content: \"\";position: absolute;border-left: 1px solid gray;box-sizing: border-box;top: 0;bottom: 0;left: 50%;z-index: -1;}#sk-container-id-2 div.sk-parallel-item {display: flex;flex-direction: column;z-index: 1;position: relative;background-color: white;}#sk-container-id-2 div.sk-parallel-item:first-child::after {align-self: flex-end;width: 50%;}#sk-container-id-2 div.sk-parallel-item:last-child::after {align-self: flex-start;width: 50%;}#sk-container-id-2 div.sk-parallel-item:only-child::after {width: 0;}#sk-container-id-2 div.sk-dashed-wrapped {border: 1px dashed gray;margin: 0 0.4em 0.5em 0.4em;box-sizing: border-box;padding-bottom: 0.4em;background-color: white;}#sk-container-id-2 div.sk-label label {font-family: monospace;font-weight: bold;display: inline-block;line-height: 1.2em;}#sk-container-id-2 div.sk-label-container {text-align: center;}#sk-container-id-2 div.sk-container {/* jupyter's `normalize.less` sets `[hidden] { display: none; }` but bootstrap.min.css set `[hidden] { display: none !important; }` so we also need the `!important` here to be able to override the default hidden behavior on the sphinx rendered scikit-learn.org. See: https://github.com/scikit-learn/scikit-learn/issues/21755 */display: inline-block !important;position: relative;}#sk-container-id-2 div.sk-text-repr-fallback {display: none;}</style><div id=\"sk-container-id-2\" class=\"sk-top-container\"><div class=\"sk-text-repr-fallback\"><pre>BernoulliNB(binarize=-0.44)</pre><b>In a Jupyter environment, please rerun this cell to show the HTML representation or trust the notebook. <br />On GitHub, the HTML representation is unable to render, please try loading this page with nbviewer.org.</b></div><div class=\"sk-container\" hidden><div class=\"sk-item\"><div class=\"sk-estimator sk-toggleable\"><input class=\"sk-toggleable__control sk-hidden--visually\" id=\"sk-estimator-id-2\" type=\"checkbox\" checked><label for=\"sk-estimator-id-2\" class=\"sk-toggleable__label sk-toggleable__label-arrow\">BernoulliNB</label><div class=\"sk-toggleable__content\"><pre>BernoulliNB(binarize=-0.44)</pre></div></div></div></div></div>"
     },
     "execution_count": 48,
     "metadata": {},
     "output_type": "execute_result"
    }
   ],
   "source": [
    "bnb.fit(X_treino, y_treino)"
   ],
   "metadata": {
    "collapsed": false,
    "pycharm": {
     "name": "#%%\n"
    }
   }
  },
  {
   "cell_type": "code",
   "execution_count": 49,
   "outputs": [],
   "source": [
    "predito_bnb = bnb.predict(X_teste)"
   ],
   "metadata": {
    "collapsed": false,
    "pycharm": {
     "name": "#%%\n"
    }
   }
  },
  {
   "cell_type": "code",
   "execution_count": 50,
   "outputs": [
    {
     "data": {
      "text/plain": "array([1, 0, 0, ..., 1, 1, 1], dtype=int64)"
     },
     "execution_count": 50,
     "metadata": {},
     "output_type": "execute_result"
    }
   ],
   "source": [
    "predito_bnb"
   ],
   "metadata": {
    "collapsed": false,
    "pycharm": {
     "name": "#%%\n"
    }
   }
  },
  {
   "cell_type": "markdown",
   "source": [
    "# 4 - Árvore de Decisão (Decision Tree)"
   ],
   "metadata": {
    "collapsed": false,
    "pycharm": {
     "name": "#%% md\n"
    }
   }
  },
  {
   "cell_type": "markdown",
   "source": [
    "## Implementando o modelo"
   ],
   "metadata": {
    "collapsed": false,
    "pycharm": {
     "name": "#%% md\n"
    }
   }
  },
  {
   "cell_type": "code",
   "execution_count": 51,
   "outputs": [],
   "source": [
    "# biblioteca para criarmos o modelo de machine learning\n",
    "from sklearn.tree import DecisionTreeClassifier"
   ],
   "metadata": {
    "collapsed": false,
    "pycharm": {
     "name": "#%%\n"
    }
   }
  },
  {
   "cell_type": "code",
   "execution_count": 52,
   "outputs": [],
   "source": [
    "# instanciando o modelo\n",
    "dtc = DecisionTreeClassifier(criterion=\"entropy\", random_state=42)"
   ],
   "metadata": {
    "collapsed": false,
    "pycharm": {
     "name": "#%%\n"
    }
   }
  },
  {
   "cell_type": "code",
   "execution_count": 53,
   "outputs": [
    {
     "data": {
      "text/plain": "DecisionTreeClassifier(criterion='entropy', random_state=42)",
      "text/html": "<style>#sk-container-id-3 {color: black;background-color: white;}#sk-container-id-3 pre{padding: 0;}#sk-container-id-3 div.sk-toggleable {background-color: white;}#sk-container-id-3 label.sk-toggleable__label {cursor: pointer;display: block;width: 100%;margin-bottom: 0;padding: 0.3em;box-sizing: border-box;text-align: center;}#sk-container-id-3 label.sk-toggleable__label-arrow:before {content: \"▸\";float: left;margin-right: 0.25em;color: #696969;}#sk-container-id-3 label.sk-toggleable__label-arrow:hover:before {color: black;}#sk-container-id-3 div.sk-estimator:hover label.sk-toggleable__label-arrow:before {color: black;}#sk-container-id-3 div.sk-toggleable__content {max-height: 0;max-width: 0;overflow: hidden;text-align: left;background-color: #f0f8ff;}#sk-container-id-3 div.sk-toggleable__content pre {margin: 0.2em;color: black;border-radius: 0.25em;background-color: #f0f8ff;}#sk-container-id-3 input.sk-toggleable__control:checked~div.sk-toggleable__content {max-height: 200px;max-width: 100%;overflow: auto;}#sk-container-id-3 input.sk-toggleable__control:checked~label.sk-toggleable__label-arrow:before {content: \"▾\";}#sk-container-id-3 div.sk-estimator input.sk-toggleable__control:checked~label.sk-toggleable__label {background-color: #d4ebff;}#sk-container-id-3 div.sk-label input.sk-toggleable__control:checked~label.sk-toggleable__label {background-color: #d4ebff;}#sk-container-id-3 input.sk-hidden--visually {border: 0;clip: rect(1px 1px 1px 1px);clip: rect(1px, 1px, 1px, 1px);height: 1px;margin: -1px;overflow: hidden;padding: 0;position: absolute;width: 1px;}#sk-container-id-3 div.sk-estimator {font-family: monospace;background-color: #f0f8ff;border: 1px dotted black;border-radius: 0.25em;box-sizing: border-box;margin-bottom: 0.5em;}#sk-container-id-3 div.sk-estimator:hover {background-color: #d4ebff;}#sk-container-id-3 div.sk-parallel-item::after {content: \"\";width: 100%;border-bottom: 1px solid gray;flex-grow: 1;}#sk-container-id-3 div.sk-label:hover label.sk-toggleable__label {background-color: #d4ebff;}#sk-container-id-3 div.sk-serial::before {content: \"\";position: absolute;border-left: 1px solid gray;box-sizing: border-box;top: 0;bottom: 0;left: 50%;z-index: 0;}#sk-container-id-3 div.sk-serial {display: flex;flex-direction: column;align-items: center;background-color: white;padding-right: 0.2em;padding-left: 0.2em;position: relative;}#sk-container-id-3 div.sk-item {position: relative;z-index: 1;}#sk-container-id-3 div.sk-parallel {display: flex;align-items: stretch;justify-content: center;background-color: white;position: relative;}#sk-container-id-3 div.sk-item::before, #sk-container-id-3 div.sk-parallel-item::before {content: \"\";position: absolute;border-left: 1px solid gray;box-sizing: border-box;top: 0;bottom: 0;left: 50%;z-index: -1;}#sk-container-id-3 div.sk-parallel-item {display: flex;flex-direction: column;z-index: 1;position: relative;background-color: white;}#sk-container-id-3 div.sk-parallel-item:first-child::after {align-self: flex-end;width: 50%;}#sk-container-id-3 div.sk-parallel-item:last-child::after {align-self: flex-start;width: 50%;}#sk-container-id-3 div.sk-parallel-item:only-child::after {width: 0;}#sk-container-id-3 div.sk-dashed-wrapped {border: 1px dashed gray;margin: 0 0.4em 0.5em 0.4em;box-sizing: border-box;padding-bottom: 0.4em;background-color: white;}#sk-container-id-3 div.sk-label label {font-family: monospace;font-weight: bold;display: inline-block;line-height: 1.2em;}#sk-container-id-3 div.sk-label-container {text-align: center;}#sk-container-id-3 div.sk-container {/* jupyter's `normalize.less` sets `[hidden] { display: none; }` but bootstrap.min.css set `[hidden] { display: none !important; }` so we also need the `!important` here to be able to override the default hidden behavior on the sphinx rendered scikit-learn.org. See: https://github.com/scikit-learn/scikit-learn/issues/21755 */display: inline-block !important;position: relative;}#sk-container-id-3 div.sk-text-repr-fallback {display: none;}</style><div id=\"sk-container-id-3\" class=\"sk-top-container\"><div class=\"sk-text-repr-fallback\"><pre>DecisionTreeClassifier(criterion=&#x27;entropy&#x27;, random_state=42)</pre><b>In a Jupyter environment, please rerun this cell to show the HTML representation or trust the notebook. <br />On GitHub, the HTML representation is unable to render, please try loading this page with nbviewer.org.</b></div><div class=\"sk-container\" hidden><div class=\"sk-item\"><div class=\"sk-estimator sk-toggleable\"><input class=\"sk-toggleable__control sk-hidden--visually\" id=\"sk-estimator-id-3\" type=\"checkbox\" checked><label for=\"sk-estimator-id-3\" class=\"sk-toggleable__label sk-toggleable__label-arrow\">DecisionTreeClassifier</label><div class=\"sk-toggleable__content\"><pre>DecisionTreeClassifier(criterion=&#x27;entropy&#x27;, random_state=42)</pre></div></div></div></div></div>"
     },
     "execution_count": 53,
     "metadata": {},
     "output_type": "execute_result"
    }
   ],
   "source": [
    "# treinar o modelo\n",
    "dtc.fit(X_treino, y_treino)"
   ],
   "metadata": {
    "collapsed": false,
    "pycharm": {
     "name": "#%%\n"
    }
   }
  },
  {
   "cell_type": "code",
   "execution_count": 54,
   "outputs": [
    {
     "data": {
      "text/plain": "array([0.02120757, 0.01359941, 0.0068095 , 0.01980908, 0.01889643,\n       0.16281074, 0.22256182, 0.00930128, 0.00344576, 0.01008899,\n       0.0019815 , 0.03131262, 0.00065123, 0.00849934, 0.        ,\n       0.01697374, 0.00622973, 0.        , 0.00964718, 0.01267467,\n       0.00027769, 0.00770208, 0.01306512, 0.00368329, 0.02048948,\n       0.00371587, 0.        , 0.00156955, 0.00671244, 0.0003825 ,\n       0.01126638, 0.03611651, 0.16384005, 0.07422263, 0.0176017 ,\n       0.02131358, 0.02184439, 0.01969615])"
     },
     "execution_count": 54,
     "metadata": {},
     "output_type": "execute_result"
    }
   ],
   "source": [
    "# verificar a importância de cada atributo (entropy = quanto menor melhor)\n",
    "dtc.feature_importances_"
   ],
   "metadata": {
    "collapsed": false,
    "pycharm": {
     "name": "#%%\n"
    }
   }
  },
  {
   "cell_type": "code",
   "execution_count": 55,
   "outputs": [],
   "source": [
    "predito_dtc = dtc.predict(X_teste)"
   ],
   "metadata": {
    "collapsed": false,
    "pycharm": {
     "name": "#%%\n"
    }
   }
  },
  {
   "cell_type": "code",
   "execution_count": 56,
   "outputs": [
    {
     "data": {
      "text/plain": "array([0, 0, 0, ..., 1, 1, 1], dtype=int64)"
     },
     "execution_count": 56,
     "metadata": {},
     "output_type": "execute_result"
    }
   ],
   "source": [
    "predito_dtc"
   ],
   "metadata": {
    "collapsed": false,
    "pycharm": {
     "name": "#%%\n"
    }
   }
  },
  {
   "cell_type": "markdown",
   "source": [
    "# 5 - Validação dos modelos"
   ],
   "metadata": {
    "collapsed": false,
    "pycharm": {
     "name": "#%% md\n"
    }
   }
  },
  {
   "cell_type": "markdown",
   "source": [
    "## Matriz de confusão"
   ],
   "metadata": {
    "collapsed": false,
    "pycharm": {
     "name": "#%% md\n"
    }
   }
  },
  {
   "cell_type": "code",
   "execution_count": 57,
   "outputs": [],
   "source": [
    "from sklearn.metrics import confusion_matrix"
   ],
   "metadata": {
    "collapsed": false,
    "pycharm": {
     "name": "#%%\n"
    }
   }
  },
  {
   "cell_type": "code",
   "execution_count": 58,
   "outputs": [
    {
     "name": "stdout",
     "output_type": "stream",
     "text": [
      "[[1240  329]\n",
      " [ 247 1289]]\n"
     ]
    }
   ],
   "source": [
    "print(confusion_matrix(y_teste, predito_knn))"
   ],
   "metadata": {
    "collapsed": false,
    "pycharm": {
     "name": "#%%\n"
    }
   }
  },
  {
   "cell_type": "code",
   "execution_count": 59,
   "outputs": [
    {
     "name": "stdout",
     "output_type": "stream",
     "text": [
      "[[1050  519]\n",
      " [ 242 1294]]\n"
     ]
    }
   ],
   "source": [
    "print(confusion_matrix(y_teste, predito_bnb))"
   ],
   "metadata": {
    "collapsed": false,
    "pycharm": {
     "name": "#%%\n"
    }
   }
  },
  {
   "cell_type": "code",
   "execution_count": 64,
   "outputs": [
    {
     "data": {
      "text/plain": "array([[1253,  316],\n       [ 276, 1260]], dtype=int64)"
     },
     "execution_count": 64,
     "metadata": {},
     "output_type": "execute_result"
    }
   ],
   "source": [
    "confusion_matrix(y_teste, predito_dtc)"
   ],
   "metadata": {
    "collapsed": false,
    "pycharm": {
     "name": "#%%\n"
    }
   }
  },
  {
   "cell_type": "markdown",
   "source": [
    "Exemplo"
   ],
   "metadata": {
    "collapsed": false,
    "pycharm": {
     "name": "#%% md\n"
    }
   }
  },
  {
   "cell_type": "code",
   "execution_count": 61,
   "outputs": [
    {
     "data": {
      "text/plain": "array([[4, 2],\n       [1, 3]], dtype=int64)"
     },
     "execution_count": 61,
     "metadata": {},
     "output_type": "execute_result"
    }
   ],
   "source": [
    "                     # VN VP FP VP VN VN VP VN FN FP\n",
    "valores_preditos =    [0, 1, 1, 1, 0, 0, 1, 0, 0, 1]\n",
    "valores_verdadeiros = [0, 1, 0, 1, 0, 0, 1, 0, 1, 0]\n",
    "\n",
    "mc = confusion_matrix(valores_verdadeiros, valores_preditos)  # Matriz de confusão\n",
    "mc"
   ],
   "metadata": {
    "collapsed": false,
    "pycharm": {
     "name": "#%%\n"
    }
   }
  },
  {
   "cell_type": "markdown",
   "source": [
    "## Acurácia"
   ],
   "metadata": {
    "collapsed": false,
    "pycharm": {
     "name": "#%% md\n"
    }
   }
  },
  {
   "cell_type": "markdown",
   "source": [
    "$ACC = \\frac{VP+VN}{VP+FP+VN+FN}$"
   ],
   "metadata": {
    "collapsed": false,
    "pycharm": {
     "name": "#%% md\n"
    }
   }
  },
  {
   "cell_type": "code",
   "execution_count": 65,
   "outputs": [],
   "source": [
    "from sklearn.metrics import accuracy_score"
   ],
   "metadata": {
    "collapsed": false,
    "pycharm": {
     "name": "#%%\n"
    }
   }
  },
  {
   "cell_type": "code",
   "execution_count": 66,
   "outputs": [
    {
     "name": "stdout",
     "output_type": "stream",
     "text": [
      "0.8144927536231884\n"
     ]
    }
   ],
   "source": [
    "# modelo KNN\n",
    "print(accuracy_score(y_teste, predito_knn))"
   ],
   "metadata": {
    "collapsed": false,
    "pycharm": {
     "name": "#%%\n"
    }
   }
  },
  {
   "cell_type": "code",
   "execution_count": 67,
   "outputs": [
    {
     "name": "stdout",
     "output_type": "stream",
     "text": [
      "0.7549114331723027\n"
     ]
    }
   ],
   "source": [
    "# modelo Bernoulli de Naïve Bayes\n",
    "print(accuracy_score(y_teste, predito_bnb))"
   ],
   "metadata": {
    "collapsed": false,
    "pycharm": {
     "name": "#%%\n"
    }
   }
  },
  {
   "cell_type": "code",
   "execution_count": 68,
   "outputs": [
    {
     "name": "stdout",
     "output_type": "stream",
     "text": [
      "0.8093397745571659\n"
     ]
    }
   ],
   "source": [
    "# modelo Árvore de Decisão\n",
    "print(accuracy_score(y_teste, predito_dtc))"
   ],
   "metadata": {
    "collapsed": false,
    "pycharm": {
     "name": "#%%\n"
    }
   }
  },
  {
   "cell_type": "markdown",
   "source": [
    "## Precisão"
   ],
   "metadata": {
    "collapsed": false,
    "pycharm": {
     "name": "#%% md\n"
    }
   }
  },
  {
   "cell_type": "markdown",
   "source": [
    "$PS = \\frac{VP}{VP+FP}$"
   ],
   "metadata": {
    "collapsed": false,
    "pycharm": {
     "name": "#%% md\n"
    }
   }
  },
  {
   "cell_type": "code",
   "execution_count": 70,
   "outputs": [],
   "source": [
    "from sklearn.metrics import precision_score"
   ],
   "metadata": {
    "collapsed": false,
    "pycharm": {
     "name": "#%%\n"
    }
   }
  },
  {
   "cell_type": "code",
   "execution_count": 71,
   "outputs": [
    {
     "name": "stdout",
     "output_type": "stream",
     "text": [
      "0.7966625463535228\n"
     ]
    }
   ],
   "source": [
    "# modelo KNN\n",
    "print(precision_score(y_teste, predito_knn))"
   ],
   "metadata": {
    "collapsed": false,
    "pycharm": {
     "name": "#%%\n"
    }
   }
  },
  {
   "cell_type": "code",
   "execution_count": 72,
   "outputs": [
    {
     "name": "stdout",
     "output_type": "stream",
     "text": [
      "0.7137341423055709\n"
     ]
    }
   ],
   "source": [
    "# modelo Bernoulli de Naïve Bayes\n",
    "print(precision_score(y_teste, predito_bnb))"
   ],
   "metadata": {
    "collapsed": false,
    "pycharm": {
     "name": "#%%\n"
    }
   }
  },
  {
   "cell_type": "code",
   "execution_count": 73,
   "outputs": [
    {
     "name": "stdout",
     "output_type": "stream",
     "text": [
      "0.799492385786802\n"
     ]
    }
   ],
   "source": [
    "# modelo Árvore de Decisão\n",
    "print(precision_score(y_teste, predito_dtc))"
   ],
   "metadata": {
    "collapsed": false,
    "pycharm": {
     "name": "#%%\n"
    }
   }
  },
  {
   "cell_type": "markdown",
   "source": [
    "## Recall"
   ],
   "metadata": {
    "collapsed": false,
    "pycharm": {
     "name": "#%% md\n"
    }
   }
  },
  {
   "cell_type": "markdown",
   "source": [
    "$RC = \\frac{VP}{VP+FN}$"
   ],
   "metadata": {
    "collapsed": false,
    "pycharm": {
     "name": "#%% md\n"
    }
   }
  },
  {
   "cell_type": "code",
   "execution_count": 75,
   "outputs": [],
   "source": [
    "from sklearn.metrics import recall_score"
   ],
   "metadata": {
    "collapsed": false,
    "pycharm": {
     "name": "#%%\n"
    }
   }
  },
  {
   "cell_type": "code",
   "execution_count": 76,
   "outputs": [
    {
     "name": "stdout",
     "output_type": "stream",
     "text": [
      "0.8391927083333334\n"
     ]
    }
   ],
   "source": [
    "# modelo KNN\n",
    "print(recall_score(y_teste, predito_knn))"
   ],
   "metadata": {
    "collapsed": false,
    "pycharm": {
     "name": "#%%\n"
    }
   }
  },
  {
   "cell_type": "code",
   "execution_count": 77,
   "outputs": [
    {
     "name": "stdout",
     "output_type": "stream",
     "text": [
      "0.8424479166666666\n"
     ]
    }
   ],
   "source": [
    "# modelo Bernoulli de Naïve Bayes\n",
    "print(recall_score(y_teste, predito_bnb))"
   ],
   "metadata": {
    "collapsed": false,
    "pycharm": {
     "name": "#%%\n"
    }
   }
  },
  {
   "cell_type": "code",
   "execution_count": 78,
   "outputs": [
    {
     "name": "stdout",
     "output_type": "stream",
     "text": [
      "0.8203125\n"
     ]
    }
   ],
   "source": [
    "# modelo Árvore de Decisão\n",
    "print(recall_score(y_teste, predito_dtc))"
   ],
   "metadata": {
    "collapsed": false,
    "pycharm": {
     "name": "#%%\n"
    }
   }
  },
  {
   "cell_type": "markdown",
   "source": [
    "Exercício"
   ],
   "metadata": {
    "collapsed": false,
    "pycharm": {
     "name": "#%% md\n"
    }
   }
  },
  {
   "cell_type": "code",
   "execution_count": 88,
   "outputs": [
    {
     "data": {
      "text/plain": "array([[2, 3],\n       [4, 3]], dtype=int64)"
     },
     "execution_count": 88,
     "metadata": {},
     "output_type": "execute_result"
    }
   ],
   "source": [
    "# Diagnóstico\n",
    "predito = [0,0,0,0,1,1,1,1,0,1,0,1]\n",
    "real = [1,1,0,0,1,1,1,0,1,0,1,0]\n",
    "\n",
    "matriz = confusion_matrix(real, predito)\n",
    "matriz"
   ],
   "metadata": {
    "collapsed": false,
    "pycharm": {
     "name": "#%%\n"
    }
   }
  },
  {
   "cell_type": "code",
   "execution_count": 92,
   "outputs": [
    {
     "name": "stdout",
     "output_type": "stream",
     "text": [
      "Recall: 0.429\n",
      "F1 score: 0.462\n"
     ]
    }
   ],
   "source": [
    "ps = matriz[1][1] / (matriz[1][1] + matriz[0][1])\n",
    "rc = matriz[1][1] / (matriz[1][1] + matriz[1][0])\n",
    "f1 = 2 * ((ps * rc) / (ps + rc))\n",
    "\n",
    "print(\"Recall:\", rc.round(3))\n",
    "print(\"F1 score:\", f1.round(3))"
   ],
   "metadata": {
    "collapsed": false,
    "pycharm": {
     "name": "#%%\n"
    }
   }
  },
  {
   "cell_type": "markdown",
   "source": [
    "## Escolhendo o melhor modelo"
   ],
   "metadata": {
    "collapsed": false,
    "pycharm": {
     "name": "#%% md\n"
    }
   }
  },
  {
   "cell_type": "code",
   "execution_count": 94,
   "outputs": [
    {
     "name": "stdout",
     "output_type": "stream",
     "text": [
      "Modelo KNN: 0.7966625463535228\n",
      "Modelo Bernoulli de Naïve Bayes: 0.7137341423055709\n",
      "Modelo Árvore de Decisão: 0.799492385786802\n"
     ]
    }
   ],
   "source": [
    "# Exemplo - análise das previsões calculadas anteriormente\n",
    "\n",
    "print(\"Modelo KNN:\", precision_score(y_teste, predito_knn))\n",
    "print(\"Modelo Bernoulli de Naïve Bayes:\", precision_score(y_teste, predito_bnb))\n",
    "print(\"Modelo Árvore de Decisão:\", precision_score(y_teste, predito_dtc))"
   ],
   "metadata": {
    "collapsed": false,
    "pycharm": {
     "name": "#%%\n"
    }
   }
  },
  {
   "cell_type": "code",
   "execution_count": null,
   "outputs": [],
   "source": [],
   "metadata": {
    "collapsed": false,
    "pycharm": {
     "name": "#%%\n"
    }
   }
  }
 ],
 "metadata": {
  "kernelspec": {
   "display_name": "Python 3",
   "language": "python",
   "name": "python3"
  },
  "language_info": {
   "codemirror_mode": {
    "name": "ipython",
    "version": 2
   },
   "file_extension": ".py",
   "mimetype": "text/x-python",
   "name": "python",
   "nbconvert_exporter": "python",
   "pygments_lexer": "ipython2",
   "version": "2.7.6"
  }
 },
 "nbformat": 4,
 "nbformat_minor": 0
}