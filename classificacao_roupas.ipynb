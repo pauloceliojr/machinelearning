{
 "cells": [
  {
   "cell_type": "markdown",
   "source": [
    "Imports"
   ],
   "metadata": {
    "collapsed": false
   }
  },
  {
   "cell_type": "code",
   "execution_count": 1,
   "metadata": {
    "collapsed": true
   },
   "outputs": [],
   "source": [
    "import matplotlib.pyplot as plt\n",
    "import tensorflow\n",
    "import numpy as np\n",
    "from tensorflow import keras\n",
    "from tensorflow.keras.models import load_model"
   ]
  },
  {
   "cell_type": "markdown",
   "source": [
    "Carregando o dataset"
   ],
   "metadata": {
    "collapsed": false
   }
  },
  {
   "cell_type": "code",
   "execution_count": 2,
   "outputs": [],
   "source": [
    "dataset = keras.datasets.fashion_mnist\n",
    "((imagens_treino, identificacoes_treino), (imagens_teste, identificacoes_teste)) = dataset.load_data()"
   ],
   "metadata": {
    "collapsed": false
   }
  },
  {
   "cell_type": "markdown",
   "source": [
    "Exploração dos dados"
   ],
   "metadata": {
    "collapsed": false
   }
  },
  {
   "cell_type": "code",
   "execution_count": 3,
   "outputs": [
    {
     "name": "stdout",
     "output_type": "stream",
     "text": [
      "Treino: (60000, 28, 28)\n",
      "Teste: (10000, 28, 28)\n",
      "Tam. mín. identificacões treino: 0\n",
      "Tam. máx. identificacões treino: 9\n"
     ]
    }
   ],
   "source": [
    "print(\"Treino:\", imagens_treino.shape)\n",
    "print(\"Teste:\", imagens_teste.shape)\n",
    "print(\"Tam. mín. identificacões treino:\", min(identificacoes_treino))\n",
    "print(\"Tam. máx. identificacões treino:\", max(identificacoes_treino))"
   ],
   "metadata": {
    "collapsed": false
   }
  },
  {
   "cell_type": "markdown",
   "source": [
    "Exibição dos dados"
   ],
   "metadata": {
    "collapsed": false
   }
  },
  {
   "cell_type": "code",
   "execution_count": 4,
   "outputs": [
    {
     "data": {
      "text/plain": "<matplotlib.colorbar.Colorbar at 0x28310ec53a0>"
     },
     "execution_count": 4,
     "metadata": {},
     "output_type": "execute_result"
    },
    {
     "data": {
      "text/plain": "<Figure size 432x288 with 2 Axes>",
      "image/png": "[encoded data removed]"
     },
     "metadata": {
      "needs_background": "light"
     },
     "output_type": "display_data"
    }
   ],
   "source": [
    "nomes_de_classificacoes = {0: \"Camiseta\",\n",
    "                           1: \"Calça\",\n",
    "                           2: \"Pullover\",\n",
    "                           3: \"Vestido\",\n",
    "                           4: \"Casaco\",\n",
    "                           5: \"Sandália\",\n",
    "                           6: \"Camisa\",\n",
    "                           7: \"Tênis\",\n",
    "                           8: \"Bolsa\",\n",
    "                           9: \"Bota\"}\n",
    "\"\"\"\n",
    "for imagem in range(10):\n",
    "    plt.subplot(2, 5, imagem + 1)\n",
    "    plt.imshow(imagens_treino[imagem])\n",
    "    plt.title(nomes_de_classificacoes[identificacoes_treino[imagem]])\n",
    "\"\"\"\n",
    "plt.imshow(imagens_treino[0])\n",
    "plt.colorbar()"
   ],
   "metadata": {
    "collapsed": false
   }
  },
  {
   "cell_type": "markdown",
   "source": [
    "Normalização dos dados"
   ],
   "metadata": {
    "collapsed": false
   }
  },
  {
   "cell_type": "code",
   "execution_count": 5,
   "outputs": [],
   "source": [
    "# normalização\n",
    "imagens_treino = imagens_treino / float(255)"
   ],
   "metadata": {
    "collapsed": false
   }
  },
  {
   "cell_type": "markdown",
   "source": [
    "Criando, compilando, treinando e normalizando o modelo (com dropout)"
   ],
   "metadata": {
    "collapsed": false
   }
  },
  {
   "cell_type": "code",
   "execution_count": 6,
   "outputs": [
    {
     "name": "stdout",
     "output_type": "stream",
     "text": [
      "Epoch 1/6\n",
      "1500/1500 [==============================] - 4s 2ms/step - loss: 0.5260 - accuracy: 0.8134 - val_loss: 0.4081 - val_accuracy: 0.8548\n",
      "Epoch 2/6\n",
      "1500/1500 [==============================] - 4s 2ms/step - loss: 0.3988 - accuracy: 0.8568 - val_loss: 0.3819 - val_accuracy: 0.8589\n",
      "Epoch 3/6\n",
      "1500/1500 [==============================] - 4s 2ms/step - loss: 0.3616 - accuracy: 0.8656 - val_loss: 0.3574 - val_accuracy: 0.8693\n",
      "Epoch 4/6\n",
      "1500/1500 [==============================] - 4s 2ms/step - loss: 0.3410 - accuracy: 0.8744 - val_loss: 0.3539 - val_accuracy: 0.8696\n",
      "Epoch 5/6\n",
      "1500/1500 [==============================] - 4s 2ms/step - loss: 0.3247 - accuracy: 0.8800 - val_loss: 0.3276 - val_accuracy: 0.8817\n",
      "Epoch 6/6\n",
      "1500/1500 [==============================] - 4s 3ms/step - loss: 0.3108 - accuracy: 0.8849 - val_loss: 0.3345 - val_accuracy: 0.8809\n"
     ]
    }
   ],
   "source": [
    "modelo = keras.Sequential([\n",
    "    keras.layers.Flatten(input_shape=(28, 28)),\n",
    "    keras.layers.Dense(256, activation=tensorflow.nn.relu),\n",
    "    keras.layers.Dropout(0.2),\n",
    "    keras.layers.Dense(10, activation=tensorflow.nn.softmax)\n",
    "])\n",
    "\n",
    "modelo.compile(optimizer=\"adam\", loss=\"sparse_categorical_crossentropy\", metrics=[\"accuracy\"])\n",
    "historico = modelo.fit(imagens_treino, identificacoes_treino, epochs=6, validation_split=0.2)"
   ],
   "metadata": {
    "collapsed": false
   }
  },
  {
   "cell_type": "markdown",
   "source": [
    "Sumário do modelo"
   ],
   "metadata": {
    "collapsed": false
   }
  },
  {
   "cell_type": "code",
   "execution_count": 7,
   "outputs": [
    {
     "name": "stdout",
     "output_type": "stream",
     "text": [
      "Model: \"sequential\"\n",
      "_________________________________________________________________\n",
      " Layer (type)                Output Shape              Param #   \n",
      "=================================================================\n",
      " flatten (Flatten)           (None, 784)               0         \n",
      "                                                                 \n",
      " dense (Dense)               (None, 256)               200960    \n",
      "                                                                 \n",
      " dropout (Dropout)           (None, 256)               0         \n",
      "                                                                 \n",
      " dense_1 (Dense)             (None, 10)                2570      \n",
      "                                                                 \n",
      "=================================================================\n",
      "Total params: 203,530\n",
      "Trainable params: 203,530\n",
      "Non-trainable params: 0\n",
      "_________________________________________________________________\n"
     ]
    }
   ],
   "source": [
    "modelo.summary()"
   ],
   "metadata": {
    "collapsed": false
   }
  },
  {
   "cell_type": "markdown",
   "source": [
    "Pesos da primeira camada Dense"
   ],
   "metadata": {
    "collapsed": false
   }
  },
  {
   "cell_type": "code",
   "execution_count": 8,
   "outputs": [
    {
     "data": {
      "text/plain": "array([[-0.01398499,  0.07202657,  0.00348878, ..., -0.00887955,\n        -0.01451374,  0.07398116],\n       [-0.09615228, -0.07272751,  0.02872938, ..., -0.0059907 ,\n         0.02183741,  0.16475208],\n       [ 0.01709885, -0.05335473, -0.07903652, ..., -0.03102092,\n        -0.10246877, -0.07592579],\n       ...,\n       [-0.1005213 ,  0.04671346, -0.24719   , ..., -0.08049172,\n         0.12368841, -0.09025236],\n       [ 0.05010062, -0.05335272, -0.20784591, ...,  0.04128973,\n         0.07096024,  0.17365041],\n       [ 0.05168254, -0.02708378,  0.02674683, ..., -0.04133316,\n        -0.15000476,  0.09685618]], dtype=float32)"
     },
     "execution_count": 8,
     "metadata": {},
     "output_type": "execute_result"
    }
   ],
   "source": [
    "pesos_camada_dense = modelo.layers[1].get_weights()[0]\n",
    "pesos_camada_dense"
   ],
   "metadata": {
    "collapsed": false
   }
  },
  {
   "cell_type": "code",
   "execution_count": 9,
   "outputs": [
    {
     "data": {
      "text/plain": "array([ 2.40728348e-01, -9.17796139e-03,  2.03890726e-02,  3.75912078e-02,\n        1.90094411e-01, -3.97625379e-03, -1.26573250e-01,  4.44730490e-01,\n       -1.14900507e-02,  2.58174390e-01,  3.08689084e-02,  1.72743216e-01,\n        2.91720152e-01,  4.47882563e-01,  1.76781937e-01,  1.89994603e-01,\n        8.70959908e-02,  1.15076855e-01,  3.93586159e-02,  1.22534782e-01,\n        2.20294192e-01, -5.94987646e-02,  5.14174113e-03,  8.95549133e-02,\n        9.12159216e-03,  5.31822369e-02,  1.71671048e-01,  1.03508636e-01,\n        6.37613386e-02,  1.72345400e-01, -1.33049354e-01,  3.63199592e-01,\n       -1.51835550e-02, -4.66535799e-02,  3.06289703e-01,  2.37138063e-01,\n        3.56951475e-01,  6.99061202e-03, -1.06827423e-01,  4.42526251e-01,\n        1.28696650e-01,  1.25402778e-01,  2.50139296e-01,  1.03471406e-01,\n        6.24961376e-01, -1.98072463e-01,  2.22702548e-02,  3.21248770e-01,\n       -9.94477980e-03,  1.56640381e-01, -2.59160828e-02, -1.57380447e-01,\n        1.94591016e-01,  4.77421805e-02, -2.91244369e-02,  2.25086436e-01,\n        1.89463571e-01,  1.45338282e-01, -2.90537208e-01,  8.32880065e-02,\n        4.30636942e-01,  6.24873377e-02, -1.75323889e-01,  1.24974847e-01,\n        5.27683049e-02,  2.47432172e-01,  1.61868647e-01,  8.90165344e-02,\n        1.29947722e-01, -1.72409952e-01,  9.90935788e-02,  1.21337675e-01,\n        3.70480642e-02, -2.40346342e-01,  2.29379267e-01,  1.50470018e-01,\n       -1.77233756e-01, -1.57497060e-02, -1.17397616e-02,  3.65736008e-01,\n        2.38723695e-01,  2.62541622e-01, -2.23906919e-01,  1.39133492e-02,\n       -3.29808928e-02,  1.86398804e-01, -1.02332622e-01, -7.50199258e-02,\n       -1.59162004e-02,  3.18493038e-01, -3.10877353e-01,  1.22147262e-01,\n       -1.34146921e-02,  6.83541521e-02, -1.71175580e-02, -7.62322266e-03,\n        8.12569782e-02,  1.72163650e-01,  1.05121829e-01,  7.77751133e-02,\n        2.12745339e-01,  3.54539193e-02,  1.65006980e-01, -1.74755603e-02,\n        1.75515532e-01,  1.40495989e-02,  2.57554259e-02,  1.12613738e-01,\n       -1.61162525e-01,  4.17144373e-02,  3.93312313e-02,  2.44906470e-01,\n        1.36883724e-02, -2.27509234e-02,  6.73779696e-02,  2.36667722e-01,\n        2.08980039e-01,  1.20917447e-01, -7.68156424e-02,  5.49075007e-01,\n       -8.02829489e-02,  1.42234832e-01, -2.31339261e-02,  1.79179505e-01,\n        6.20472133e-02,  3.02938968e-01,  4.38343883e-02, -6.88164458e-02,\n        1.58675730e-01,  1.12032495e-01,  3.73961657e-01,  4.46944050e-02,\n       -1.54281259e-01,  2.74864942e-01,  5.80764795e-03, -1.54383369e-02,\n       -1.68749750e-01,  6.61805049e-02, -2.14927867e-01,  4.18848664e-01,\n        2.13365313e-02,  1.17678270e-01,  2.58271009e-01,  2.21733555e-01,\n        3.12532097e-01, -9.60757062e-02,  2.96994030e-01,  1.70966834e-01,\n        9.91443917e-03,  3.13889533e-01,  5.12674041e-02, -3.51473875e-02,\n        5.57628050e-02, -1.90016061e-01,  2.46917725e-01,  3.59082460e-01,\n       -1.34279598e-02,  1.08699858e-01,  1.65067211e-01, -1.37327209e-01,\n       -2.23893411e-02, -2.59969443e-01, -2.47950420e-01,  8.46448168e-02,\n       -1.08149629e-02,  7.34033883e-02,  2.68957645e-01,  2.32993718e-02,\n        2.42680266e-01,  1.33060932e-01,  6.29270449e-02,  3.41611564e-01,\n        1.27981722e-01, -2.00154796e-01,  3.09141934e-01,  3.94644469e-01,\n        2.98647106e-01, -3.70243937e-01,  1.98033475e-03, -3.01631466e-02,\n        1.58794567e-01, -8.89512803e-03, -2.58091446e-02,  2.09227517e-01,\n        3.29872161e-01,  2.94351846e-01,  1.67241260e-01,  5.03349483e-01,\n        3.32623601e-01,  5.12792885e-01,  3.24697912e-01,  2.34870970e-01,\n        3.22012782e-01,  2.56367356e-01, -4.52679656e-02,  1.62985042e-01,\n        1.71607751e-02, -1.29029090e-02,  2.77392805e-01, -1.13189459e-01,\n        4.05976661e-02,  3.61486077e-01, -2.12048441e-02, -1.47081148e-02,\n        1.00805752e-01,  5.29135354e-02, -2.36165315e-01,  2.00957596e-01,\n       -1.25166792e-02,  3.08820665e-01, -2.50708051e-02,  4.43372637e-01,\n        1.51436448e-01,  1.81594193e-01, -1.38351396e-01, -6.73816800e-02,\n        2.01372996e-01,  2.01528549e-01, -1.29973441e-01,  3.01209807e-01,\n       -3.73114683e-02,  5.96792817e-01,  2.96810359e-01, -3.04194182e-01,\n       -1.38820201e-01,  2.17421904e-01, -1.13064731e-02, -2.69125223e-01,\n       -3.62285785e-02,  2.35690549e-01,  2.88641214e-01, -2.76197996e-02,\n        2.45651677e-01,  5.78218848e-02,  2.45218739e-01,  3.28759879e-01,\n       -1.39638066e-01, -1.15877472e-01, -1.68172777e-01,  2.36156628e-01,\n        2.61258185e-01, -3.95099446e-03,  1.87774286e-01, -2.59561669e-02,\n       -5.12330011e-02,  5.30986667e-01,  1.98146388e-01,  1.51304519e-02,\n        2.93374002e-01, -1.49582615e-04,  1.18148983e-01,  1.41772032e-01,\n        3.09946418e-01, -4.49928874e-03,  3.25319737e-01, -1.37505978e-01],\n      dtype=float32)"
     },
     "execution_count": 9,
     "metadata": {},
     "output_type": "execute_result"
    }
   ],
   "source": [
    "vieses_camada_dense = modelo.layers[1].get_weights()[1]\n",
    "vieses_camada_dense"
   ],
   "metadata": {
    "collapsed": false
   }
  },
  {
   "cell_type": "code",
   "execution_count": 10,
   "outputs": [
    {
     "data": {
      "text/plain": "<matplotlib.legend.Legend at 0x2833673ab50>"
     },
     "execution_count": 10,
     "metadata": {},
     "output_type": "execute_result"
    },
    {
     "data": {
      "text/plain": "<Figure size 432x288 with 1 Axes>",
      "image/png": "[encoded data removed]"
     },
     "metadata": {
      "needs_background": "light"
     },
     "output_type": "display_data"
    }
   ],
   "source": [
    "plt.plot(historico.history[\"accuracy\"])\n",
    "plt.plot(historico.history[\"val_accuracy\"])\n",
    "plt.title(\"Acurácia por épocas\")\n",
    "plt.xlabel(\"épocas\")\n",
    "plt.ylabel(\"acurácia\")\n",
    "plt.legend([\"treino\", \"validação\"])"
   ],
   "metadata": {
    "collapsed": false
   }
  },
  {
   "cell_type": "code",
   "execution_count": 11,
   "outputs": [
    {
     "data": {
      "text/plain": "<matplotlib.legend.Legend at 0x283367d3fd0>"
     },
     "execution_count": 11,
     "metadata": {},
     "output_type": "execute_result"
    },
    {
     "data": {
      "text/plain": "<Figure size 432x288 with 1 Axes>",
      "image/png": "[encoded data removed]"
     },
     "metadata": {
      "needs_background": "light"
     },
     "output_type": "display_data"
    }
   ],
   "source": [
    "plt.plot(historico.history[\"loss\"])\n",
    "plt.plot(historico.history[\"val_loss\"])\n",
    "plt.title(\"Perda por épocas\")\n",
    "plt.xlabel(\"épocas\")\n",
    "plt.ylabel(\"perda\")\n",
    "plt.legend([\"treino\", \"validação\"])"
   ],
   "metadata": {
    "collapsed": false
   }
  },
  {
   "cell_type": "code",
   "execution_count": 12,
   "outputs": [
    {
     "data": {
      "text/plain": "[array([[0., 0., 0., ..., 0., 0., 0.],\n        [0., 0., 0., ..., 0., 0., 0.],\n        [0., 0., 0., ..., 0., 0., 0.],\n        ...,\n        [0., 0., 0., ..., 0., 0., 0.],\n        [0., 0., 0., ..., 0., 0., 0.],\n        [0., 0., 0., ..., 0., 0., 0.]], dtype=float32),\n array([ 2.40728348e-01, -9.17796139e-03,  2.03890726e-02,  3.75912078e-02,\n         1.90094411e-01, -3.97625379e-03, -1.26573250e-01,  4.44730490e-01,\n        -1.14900507e-02,  2.58174390e-01,  3.08689084e-02,  1.72743216e-01,\n         2.91720152e-01,  4.47882563e-01,  1.76781937e-01,  1.89994603e-01,\n         8.70959908e-02,  1.15076855e-01,  3.93586159e-02,  1.22534782e-01,\n         2.20294192e-01, -5.94987646e-02,  5.14174113e-03,  8.95549133e-02,\n         9.12159216e-03,  5.31822369e-02,  1.71671048e-01,  1.03508636e-01,\n         6.37613386e-02,  1.72345400e-01, -1.33049354e-01,  3.63199592e-01,\n        -1.51835550e-02, -4.66535799e-02,  3.06289703e-01,  2.37138063e-01,\n         3.56951475e-01,  6.99061202e-03, -1.06827423e-01,  4.42526251e-01,\n         1.28696650e-01,  1.25402778e-01,  2.50139296e-01,  1.03471406e-01,\n         6.24961376e-01, -1.98072463e-01,  2.22702548e-02,  3.21248770e-01,\n        -9.94477980e-03,  1.56640381e-01, -2.59160828e-02, -1.57380447e-01,\n         1.94591016e-01,  4.77421805e-02, -2.91244369e-02,  2.25086436e-01,\n         1.89463571e-01,  1.45338282e-01, -2.90537208e-01,  8.32880065e-02,\n         4.30636942e-01,  6.24873377e-02, -1.75323889e-01,  1.24974847e-01,\n         5.27683049e-02,  2.47432172e-01,  1.61868647e-01,  8.90165344e-02,\n         1.29947722e-01, -1.72409952e-01,  9.90935788e-02,  1.21337675e-01,\n         3.70480642e-02, -2.40346342e-01,  2.29379267e-01,  1.50470018e-01,\n        -1.77233756e-01, -1.57497060e-02, -1.17397616e-02,  3.65736008e-01,\n         2.38723695e-01,  2.62541622e-01, -2.23906919e-01,  1.39133492e-02,\n        -3.29808928e-02,  1.86398804e-01, -1.02332622e-01, -7.50199258e-02,\n        -1.59162004e-02,  3.18493038e-01, -3.10877353e-01,  1.22147262e-01,\n        -1.34146921e-02,  6.83541521e-02, -1.71175580e-02, -7.62322266e-03,\n         8.12569782e-02,  1.72163650e-01,  1.05121829e-01,  7.77751133e-02,\n         2.12745339e-01,  3.54539193e-02,  1.65006980e-01, -1.74755603e-02,\n         1.75515532e-01,  1.40495989e-02,  2.57554259e-02,  1.12613738e-01,\n        -1.61162525e-01,  4.17144373e-02,  3.93312313e-02,  2.44906470e-01,\n         1.36883724e-02, -2.27509234e-02,  6.73779696e-02,  2.36667722e-01,\n         2.08980039e-01,  1.20917447e-01, -7.68156424e-02,  5.49075007e-01,\n        -8.02829489e-02,  1.42234832e-01, -2.31339261e-02,  1.79179505e-01,\n         6.20472133e-02,  3.02938968e-01,  4.38343883e-02, -6.88164458e-02,\n         1.58675730e-01,  1.12032495e-01,  3.73961657e-01,  4.46944050e-02,\n        -1.54281259e-01,  2.74864942e-01,  5.80764795e-03, -1.54383369e-02,\n        -1.68749750e-01,  6.61805049e-02, -2.14927867e-01,  4.18848664e-01,\n         2.13365313e-02,  1.17678270e-01,  2.58271009e-01,  2.21733555e-01,\n         3.12532097e-01, -9.60757062e-02,  2.96994030e-01,  1.70966834e-01,\n         9.91443917e-03,  3.13889533e-01,  5.12674041e-02, -3.51473875e-02,\n         5.57628050e-02, -1.90016061e-01,  2.46917725e-01,  3.59082460e-01,\n        -1.34279598e-02,  1.08699858e-01,  1.65067211e-01, -1.37327209e-01,\n        -2.23893411e-02, -2.59969443e-01, -2.47950420e-01,  8.46448168e-02,\n        -1.08149629e-02,  7.34033883e-02,  2.68957645e-01,  2.32993718e-02,\n         2.42680266e-01,  1.33060932e-01,  6.29270449e-02,  3.41611564e-01,\n         1.27981722e-01, -2.00154796e-01,  3.09141934e-01,  3.94644469e-01,\n         2.98647106e-01, -3.70243937e-01,  1.98033475e-03, -3.01631466e-02,\n         1.58794567e-01, -8.89512803e-03, -2.58091446e-02,  2.09227517e-01,\n         3.29872161e-01,  2.94351846e-01,  1.67241260e-01,  5.03349483e-01,\n         3.32623601e-01,  5.12792885e-01,  3.24697912e-01,  2.34870970e-01,\n         3.22012782e-01,  2.56367356e-01, -4.52679656e-02,  1.62985042e-01,\n         1.71607751e-02, -1.29029090e-02,  2.77392805e-01, -1.13189459e-01,\n         4.05976661e-02,  3.61486077e-01, -2.12048441e-02, -1.47081148e-02,\n         1.00805752e-01,  5.29135354e-02, -2.36165315e-01,  2.00957596e-01,\n        -1.25166792e-02,  3.08820665e-01, -2.50708051e-02,  4.43372637e-01,\n         1.51436448e-01,  1.81594193e-01, -1.38351396e-01, -6.73816800e-02,\n         2.01372996e-01,  2.01528549e-01, -1.29973441e-01,  3.01209807e-01,\n        -3.73114683e-02,  5.96792817e-01,  2.96810359e-01, -3.04194182e-01,\n        -1.38820201e-01,  2.17421904e-01, -1.13064731e-02, -2.69125223e-01,\n        -3.62285785e-02,  2.35690549e-01,  2.88641214e-01, -2.76197996e-02,\n         2.45651677e-01,  5.78218848e-02,  2.45218739e-01,  3.28759879e-01,\n        -1.39638066e-01, -1.15877472e-01, -1.68172777e-01,  2.36156628e-01,\n         2.61258185e-01, -3.95099446e-03,  1.87774286e-01, -2.59561669e-02,\n        -5.12330011e-02,  5.30986667e-01,  1.98146388e-01,  1.51304519e-02,\n         2.93374002e-01, -1.49582615e-04,  1.18148983e-01,  1.41772032e-01,\n         3.09946418e-01, -4.49928874e-03,  3.25319737e-01, -1.37505978e-01],\n       dtype=float32)]"
     },
     "execution_count": 12,
     "metadata": {},
     "output_type": "execute_result"
    }
   ],
   "source": [
    "pesos_camada_dense_zerados = np.zeros((784, 256))\n",
    "modelo.layers[1].set_weights([pesos_camada_dense_zerados, vieses_camada_dense])\n",
    "\n",
    "modelo.layers[1].get_weights()"
   ],
   "metadata": {
    "collapsed": false
   }
  },
  {
   "cell_type": "code",
   "execution_count": 13,
   "outputs": [
    {
     "name": "stdout",
     "output_type": "stream",
     "text": [
      "Epoch 1/6\n",
      "1500/1500 [==============================] - 5s 3ms/step - loss: 0.5385 - accuracy: 0.8055 - val_loss: 0.4295 - val_accuracy: 0.8429\n",
      "Epoch 2/6\n",
      "1500/1500 [==============================] - 4s 3ms/step - loss: 0.4066 - accuracy: 0.8488 - val_loss: 0.3838 - val_accuracy: 0.8594\n",
      "Epoch 3/6\n",
      "1500/1500 [==============================] - 4s 2ms/step - loss: 0.3742 - accuracy: 0.8634 - val_loss: 0.3904 - val_accuracy: 0.8598\n",
      "Epoch 4/6\n",
      "1500/1500 [==============================] - 3s 2ms/step - loss: 0.3555 - accuracy: 0.8680 - val_loss: 0.3554 - val_accuracy: 0.8742\n",
      "Epoch 5/6\n",
      "1500/1500 [==============================] - 4s 2ms/step - loss: 0.3362 - accuracy: 0.8757 - val_loss: 0.3388 - val_accuracy: 0.8776\n",
      "Epoch 6/6\n",
      "1500/1500 [==============================] - 4s 3ms/step - loss: 0.3209 - accuracy: 0.8814 - val_loss: 0.3504 - val_accuracy: 0.8725\n"
     ]
    }
   ],
   "source": [
    "modelo.compile(optimizer=\"adam\", loss=\"sparse_categorical_crossentropy\", metrics=[\"accuracy\"])\n",
    "historico = modelo.fit(imagens_treino, identificacoes_treino, epochs=6, validation_split=0.2)"
   ],
   "metadata": {
    "collapsed": false
   }
  },
  {
   "cell_type": "markdown",
   "source": [
    "Visualizando as acurácias de treino e validação por época"
   ],
   "metadata": {
    "collapsed": false
   }
  },
  {
   "cell_type": "code",
   "execution_count": 14,
   "outputs": [
    {
     "data": {
      "text/plain": "<matplotlib.legend.Legend at 0x283633c7370>"
     },
     "execution_count": 14,
     "metadata": {},
     "output_type": "execute_result"
    },
    {
     "data": {
      "text/plain": "<Figure size 432x288 with 1 Axes>",
      "image/png": "[encoded data removed]"
     },
     "metadata": {
      "needs_background": "light"
     },
     "output_type": "display_data"
    }
   ],
   "source": [
    "plt.plot(historico.history[\"accuracy\"])\n",
    "plt.plot(historico.history[\"val_accuracy\"])\n",
    "plt.title(\"Acurácia por épocas\")\n",
    "plt.xlabel(\"épocas\")\n",
    "plt.ylabel(\"acurácia\")\n",
    "plt.legend([\"treino\", \"validação\"])"
   ],
   "metadata": {
    "collapsed": false
   }
  },
  {
   "cell_type": "markdown",
   "source": [
    "Visualizando as perdas de treino e validação por época"
   ],
   "metadata": {
    "collapsed": false
   }
  },
  {
   "cell_type": "code",
   "execution_count": 15,
   "outputs": [
    {
     "data": {
      "text/plain": "<matplotlib.legend.Legend at 0x28310f2c5b0>"
     },
     "execution_count": 15,
     "metadata": {},
     "output_type": "execute_result"
    },
    {
     "data": {
      "text/plain": "<Figure size 432x288 with 1 Axes>",
      "image/png": "[encoded data removed]"
     },
     "metadata": {
      "needs_background": "light"
     },
     "output_type": "display_data"
    }
   ],
   "source": [
    "plt.plot(historico.history[\"loss\"])\n",
    "plt.plot(historico.history[\"val_loss\"])\n",
    "plt.title(\"Perda por épocas\")\n",
    "plt.xlabel(\"épocas\")\n",
    "plt.ylabel(\"perda\")\n",
    "plt.legend([\"treino\", \"validação\"])"
   ],
   "metadata": {
    "collapsed": false
   }
  },
  {
   "cell_type": "markdown",
   "source": [
    "Salvando e carregando o modelo treinado"
   ],
   "metadata": {
    "collapsed": false
   }
  },
  {
   "cell_type": "code",
   "execution_count": 16,
   "outputs": [],
   "source": [
    "modelo.save(\"modelo.h5\")\n",
    "modelo_salvo = load_model(\"modelo.h5\")"
   ],
   "metadata": {
    "collapsed": false
   }
  },
  {
   "cell_type": "markdown",
   "source": [
    "Testando o modelo"
   ],
   "metadata": {
    "collapsed": false
   }
  },
  {
   "cell_type": "code",
   "execution_count": 17,
   "outputs": [
    {
     "name": "stdout",
     "output_type": "stream",
     "text": [
      "313/313 [==============================] - 1s 2ms/step\n",
      "Resultado teste: 2\n",
      "Número da imagem de teste: 2\n"
     ]
    }
   ],
   "source": [
    "testes = modelo.predict(imagens_teste)\n",
    "print(\"Resultado teste:\", np.argmax(testes[1]))\n",
    "print(\"Número da imagem de teste:\", identificacoes_teste[1])"
   ],
   "metadata": {
    "collapsed": false
   }
  },
  {
   "cell_type": "markdown",
   "source": [
    "Avaliando o modelo"
   ],
   "metadata": {
    "collapsed": false
   }
  },
  {
   "cell_type": "code",
   "execution_count": 18,
   "outputs": [
    {
     "name": "stdout",
     "output_type": "stream",
     "text": [
      "313/313 [==============================] - 1s 2ms/step - loss: 61.1529 - accuracy: 0.8318\n",
      "Perda do teste: 61.152889251708984\n",
      "Acurácia do teste: 0.8317999839782715\n"
     ]
    }
   ],
   "source": [
    "perda_teste, acuracia_teste = modelo.evaluate(imagens_teste, identificacoes_teste)\n",
    "\n",
    "print(\"Perda do teste:\", perda_teste)\n",
    "print(\"Acurácia do teste:\", acuracia_teste)"
   ],
   "metadata": {
    "collapsed": false
   }
  },
  {
   "cell_type": "markdown",
   "source": [
    "Testando o modelo salvo"
   ],
   "metadata": {
    "collapsed": false
   }
  },
  {
   "cell_type": "code",
   "execution_count": 19,
   "outputs": [
    {
     "name": "stdout",
     "output_type": "stream",
     "text": [
      "313/313 [==============================] - 0s 1ms/step\n",
      "Resultado teste modelo salvo: 2\n",
      "Número da imagem de teste modelo salvo: 2\n"
     ]
    }
   ],
   "source": [
    "testes_modelo_salvo = modelo_salvo.predict(imagens_teste)\n",
    "print(\"Resultado teste modelo salvo:\", np.argmax(testes_modelo_salvo[1]))\n",
    "print(\"Número da imagem de teste modelo salvo:\", identificacoes_teste[1])"
   ],
   "metadata": {
    "collapsed": false
   }
  }
 ],
 "metadata": {
  "kernelspec": {
   "display_name": "Python 3",
   "language": "python",
   "name": "python3"
  },
  "language_info": {
   "codemirror_mode": {
    "name": "ipython",
    "version": 2
   },
   "file_extension": ".py",
   "mimetype": "text/x-python",
   "name": "python",
   "nbconvert_exporter": "python",
   "pygments_lexer": "ipython2",
   "version": "2.7.6"
  }
 },
 "nbformat": 4,
 "nbformat_minor": 0
}
