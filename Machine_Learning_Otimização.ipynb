{
 "cells": [
  {
   "cell_type": "code",
   "execution_count": 1,
   "metadata": {
    "collapsed": true,
    "pycharm": {
     "name": "#%%\n"
    }
   },
   "outputs": [],
   "source": [
    "import pandas as pd\n",
    "import numpy as np"
   ]
  },
  {
   "cell_type": "code",
   "execution_count": 2,
   "outputs": [
    {
     "data": {
      "text/plain": "       preco  vendido  idade_do_modelo   km_por_ano\n0   30941.02        1               18  35085.22134\n1   40557.96        1               20  12622.05362\n2   89627.50        0               12  11440.79806\n3   95276.14        0                3  43167.32682\n4  117384.68        1                4  12770.11290",
      "text/html": "<div>\n<style scoped>\n    .dataframe tbody tr th:only-of-type {\n        vertical-align: middle;\n    }\n\n    .dataframe tbody tr th {\n        vertical-align: top;\n    }\n\n    .dataframe thead th {\n        text-align: right;\n    }\n</style>\n<table border=\"1\" class=\"dataframe\">\n  <thead>\n    <tr style=\"text-align: right;\">\n      <th></th>\n      <th>preco</th>\n      <th>vendido</th>\n      <th>idade_do_modelo</th>\n      <th>km_por_ano</th>\n    </tr>\n  </thead>\n  <tbody>\n    <tr>\n      <th>0</th>\n      <td>30941.02</td>\n      <td>1</td>\n      <td>18</td>\n      <td>35085.22134</td>\n    </tr>\n    <tr>\n      <th>1</th>\n      <td>40557.96</td>\n      <td>1</td>\n      <td>20</td>\n      <td>12622.05362</td>\n    </tr>\n    <tr>\n      <th>2</th>\n      <td>89627.50</td>\n      <td>0</td>\n      <td>12</td>\n      <td>11440.79806</td>\n    </tr>\n    <tr>\n      <th>3</th>\n      <td>95276.14</td>\n      <td>0</td>\n      <td>3</td>\n      <td>43167.32682</td>\n    </tr>\n    <tr>\n      <th>4</th>\n      <td>117384.68</td>\n      <td>1</td>\n      <td>4</td>\n      <td>12770.11290</td>\n    </tr>\n  </tbody>\n</table>\n</div>"
     },
     "execution_count": 2,
     "metadata": {},
     "output_type": "execute_result"
    }
   ],
   "source": [
    "uri = \"https://gist.githubusercontent.com/guilhermesilveira/e99a526b2e7ccc6c3b70f53db43a87d2/raw/1605fc74aa778066bf2e6695e24d53cf65f2f447/machine-learning-carros-simulacao.csv\"\n",
    "\n",
    "dados = pd.read_csv(uri).drop(columns=[\"Unnamed: 0\"], axis=1)\n",
    "dados.head()"
   ],
   "metadata": {
    "collapsed": false,
    "pycharm": {
     "name": "#%%\n"
    }
   }
  },
  {
   "cell_type": "markdown",
   "source": [
    "Pode ser um \"azar\" como pode ser uma proporção de exemplos desbalanceados entre as classes."
   ],
   "metadata": {
    "collapsed": false,
    "pycharm": {
     "name": "#%% md\n"
    }
   }
  },
  {
   "cell_type": "code",
   "execution_count": 3,
   "outputs": [
    {
     "data": {
      "text/plain": "         preco  vendido  idade_do_modelo   km_por_ano\n4999  74023.29        0               12  24812.80412\n5322  84843.49        0               13  23095.63834\n5319  83100.27        0               19  36240.72746\n5316  87932.13        0               16  32249.56426\n5315  77937.01        0               15  28414.50704",
      "text/html": "<div>\n<style scoped>\n    .dataframe tbody tr th:only-of-type {\n        vertical-align: middle;\n    }\n\n    .dataframe tbody tr th {\n        vertical-align: top;\n    }\n\n    .dataframe thead th {\n        text-align: right;\n    }\n</style>\n<table border=\"1\" class=\"dataframe\">\n  <thead>\n    <tr style=\"text-align: right;\">\n      <th></th>\n      <th>preco</th>\n      <th>vendido</th>\n      <th>idade_do_modelo</th>\n      <th>km_por_ano</th>\n    </tr>\n  </thead>\n  <tbody>\n    <tr>\n      <th>4999</th>\n      <td>74023.29</td>\n      <td>0</td>\n      <td>12</td>\n      <td>24812.80412</td>\n    </tr>\n    <tr>\n      <th>5322</th>\n      <td>84843.49</td>\n      <td>0</td>\n      <td>13</td>\n      <td>23095.63834</td>\n    </tr>\n    <tr>\n      <th>5319</th>\n      <td>83100.27</td>\n      <td>0</td>\n      <td>19</td>\n      <td>36240.72746</td>\n    </tr>\n    <tr>\n      <th>5316</th>\n      <td>87932.13</td>\n      <td>0</td>\n      <td>16</td>\n      <td>32249.56426</td>\n    </tr>\n    <tr>\n      <th>5315</th>\n      <td>77937.01</td>\n      <td>0</td>\n      <td>15</td>\n      <td>28414.50704</td>\n    </tr>\n  </tbody>\n</table>\n</div>"
     },
     "execution_count": 3,
     "metadata": {},
     "output_type": "execute_result"
    }
   ],
   "source": [
    "dados_azar = dados.sort_values(\"vendido\")\n",
    "X_azar = dados_azar.filter([\"preco\",\"idade_do_modelo\",\"km_por_ano\"])\n",
    "y_azar = dados_azar.vendido\n",
    "dados_azar.head()"
   ],
   "metadata": {
    "collapsed": false,
    "pycharm": {
     "name": "#%%\n"
    }
   }
  },
  {
   "cell_type": "code",
   "execution_count": 4,
   "outputs": [
    {
     "name": "stdout",
     "output_type": "stream",
     "text": [
      "Acurácia do Dummy com 10-fold Cross-Validation [58.00, 58.00]\n"
     ]
    }
   ],
   "source": [
    "from sklearn.model_selection import cross_validate\n",
    "from sklearn.dummy import DummyClassifier\n",
    "\n",
    "SEED = 301\n",
    "np.random.seed(SEED)\n",
    "\n",
    "modelo = DummyClassifier()\n",
    "results = cross_validate(modelo, X_azar, y_azar, cv=10)\n",
    "media = results[\"test_score\"].mean()\n",
    "desvio_padrao = results[\"test_score\"].std()\n",
    "print(f\"Acurácia do Dummy com 10-fold Cross-Validation [{(media - 2 * desvio_padrao) * 100:0.2f}, {(media + 2 * desvio_padrao) * 100:0.2f}]\")"
   ],
   "metadata": {
    "collapsed": false,
    "pycharm": {
     "name": "#%%\n"
    }
   }
  },
  {
   "cell_type": "code",
   "execution_count": 5,
   "outputs": [
    {
     "name": "stdout",
     "output_type": "stream",
     "text": [
      "Acurácia do DecisionTreeClassifier com 10-fold Cross-Validation [73.83, 77.73]\n"
     ]
    }
   ],
   "source": [
    "from sklearn.tree import DecisionTreeClassifier\n",
    "\n",
    "SEED = 301\n",
    "np.random.seed(SEED)\n",
    "\n",
    "modelo = DecisionTreeClassifier(max_depth=2)\n",
    "results = cross_validate(modelo, X_azar, y_azar, cv=10)\n",
    "media = results[\"test_score\"].mean()\n",
    "desvio_padrao = results[\"test_score\"].std()\n",
    "print(f\"Acurácia do DecisionTreeClassifier com 10-fold Cross-Validation [{(media - 2 * desvio_padrao) * 100:0.2f}, {(media + 2 * desvio_padrao) * 100:0.2f}]\")"
   ],
   "metadata": {
    "collapsed": false,
    "pycharm": {
     "name": "#%%\n"
    }
   }
  },
  {
   "cell_type": "markdown",
   "source": [
    "Gerando dados aleatórios de modelo de carro para simulação de agrupamento ao usar nosso estimador."
   ],
   "metadata": {
    "collapsed": false,
    "pycharm": {
     "name": "#%% md\n"
    }
   }
  },
  {
   "cell_type": "code",
   "execution_count": 6,
   "outputs": [
    {
     "data": {
      "text/plain": "       preco  vendido  idade_do_modelo   km_por_ano  modelo\n0   30941.02        1               18  35085.22134      18\n1   40557.96        1               20  12622.05362      24\n2   89627.50        0               12  11440.79806      14\n3   95276.14        0                3  43167.32682       6\n4  117384.68        1                4  12770.11290       5",
      "text/html": "<div>\n<style scoped>\n    .dataframe tbody tr th:only-of-type {\n        vertical-align: middle;\n    }\n\n    .dataframe tbody tr th {\n        vertical-align: top;\n    }\n\n    .dataframe thead th {\n        text-align: right;\n    }\n</style>\n<table border=\"1\" class=\"dataframe\">\n  <thead>\n    <tr style=\"text-align: right;\">\n      <th></th>\n      <th>preco</th>\n      <th>vendido</th>\n      <th>idade_do_modelo</th>\n      <th>km_por_ano</th>\n      <th>modelo</th>\n    </tr>\n  </thead>\n  <tbody>\n    <tr>\n      <th>0</th>\n      <td>30941.02</td>\n      <td>1</td>\n      <td>18</td>\n      <td>35085.22134</td>\n      <td>18</td>\n    </tr>\n    <tr>\n      <th>1</th>\n      <td>40557.96</td>\n      <td>1</td>\n      <td>20</td>\n      <td>12622.05362</td>\n      <td>24</td>\n    </tr>\n    <tr>\n      <th>2</th>\n      <td>89627.50</td>\n      <td>0</td>\n      <td>12</td>\n      <td>11440.79806</td>\n      <td>14</td>\n    </tr>\n    <tr>\n      <th>3</th>\n      <td>95276.14</td>\n      <td>0</td>\n      <td>3</td>\n      <td>43167.32682</td>\n      <td>6</td>\n    </tr>\n    <tr>\n      <th>4</th>\n      <td>117384.68</td>\n      <td>1</td>\n      <td>4</td>\n      <td>12770.11290</td>\n      <td>5</td>\n    </tr>\n  </tbody>\n</table>\n</div>"
     },
     "execution_count": 6,
     "metadata": {},
     "output_type": "execute_result"
    }
   ],
   "source": [
    "np.random.seed(SEED)\n",
    "dados[\"modelo\"] = dados.idade_do_modelo + np.random.randint(-2, 3, size=len(dados))\n",
    "dados.modelo = dados.modelo + abs(dados.modelo.min()) + 1\n",
    "dados.head()"
   ],
   "metadata": {
    "collapsed": false,
    "pycharm": {
     "name": "#%%\n"
    }
   }
  },
  {
   "cell_type": "code",
   "execution_count": 7,
   "outputs": [],
   "source": [
    "def imprime_resultados(results):\n",
    "    media = results[\"test_score\"].mean()\n",
    "    desvio_padrao = results[\"test_score\"].std()\n",
    "    print(f\"Acurácia {media * 100:0.2f}\")\n",
    "    print(f\"Acurácia com Cross-Validation = [{(media - 2 * desvio_padrao) * 100:0.2f}, {(media + 2 * desvio_padrao) * 100:0.2f}]\")"
   ],
   "metadata": {
    "collapsed": false,
    "pycharm": {
     "name": "#%%\n"
    }
   }
  },
  {
   "cell_type": "markdown",
   "source": [
    "GroupKFold em um pipeline com StandardScaler e SVC."
   ],
   "metadata": {
    "collapsed": false,
    "pycharm": {
     "name": "#%% md\n"
    }
   }
  },
  {
   "cell_type": "code",
   "execution_count": 8,
   "outputs": [
    {
     "name": "stdout",
     "output_type": "stream",
     "text": [
      "Acurácia 76.68\n",
      "Acurácia com Cross-Validation = [74.28, 79.08]\n"
     ]
    }
   ],
   "source": [
    "from sklearn.preprocessing import StandardScaler\n",
    "from sklearn.svm import SVC\n",
    "from sklearn.pipeline import Pipeline\n",
    "from sklearn.model_selection import GroupKFold\n",
    "\n",
    "\n",
    "SEED = 301\n",
    "np.random.seed(SEED)\n",
    "\n",
    "scaler = StandardScaler()\n",
    "modelo = SVC()\n",
    "\n",
    "pipeline = Pipeline([(\"transformacao\", scaler), (\"estimador\", modelo)])\n",
    "\n",
    "cv = GroupKFold(n_splits=10)\n",
    "results = cross_validate(pipeline, X_azar, y_azar, cv=cv, groups=dados.modelo)\n",
    "imprime_resultados(results)"
   ],
   "metadata": {
    "collapsed": false,
    "pycharm": {
     "name": "#%%\n"
    }
   }
  },
  {
   "cell_type": "markdown",
   "source": [
    "GroupKFold para analisar como o modelo se comporta com novos grupos."
   ],
   "metadata": {
    "collapsed": false,
    "pycharm": {
     "name": "#%% md\n"
    }
   }
  },
  {
   "cell_type": "code",
   "execution_count": 9,
   "outputs": [
    {
     "name": "stdout",
     "output_type": "stream",
     "text": [
      "Acurácia 75.78\n",
      "Acurácia com Cross-Validation = [73.67, 77.90]\n"
     ]
    }
   ],
   "source": [
    "SEED = 301\n",
    "np.random.seed(SEED)\n",
    "\n",
    "cv = GroupKFold(n_splits=10)\n",
    "modelo = DecisionTreeClassifier(max_depth=2)\n",
    "results = cross_validate(modelo, X_azar, y_azar, cv=cv, groups=dados.modelo)\n",
    "imprime_resultados(results)"
   ],
   "metadata": {
    "collapsed": false,
    "pycharm": {
     "name": "#%%\n"
    }
   }
  },
  {
   "cell_type": "code",
   "execution_count": 10,
   "outputs": [
    {
     "data": {
      "image/svg+xml": "<?xml version=\"1.0\" encoding=\"UTF-8\" standalone=\"no\"?>\n<!DOCTYPE svg PUBLIC \"-//W3C//DTD SVG 1.1//EN\"\n \"http://www.w3.org/Graphics/SVG/1.1/DTD/svg11.dtd\">\n<!-- Generated by graphviz version 2.50.0 (0)\n -->\n<!-- Title: Tree Pages: 1 -->\n<svg width=\"595pt\" height=\"314pt\"\n viewBox=\"0.00 0.00 594.50 314.00\" xmlns=\"http://www.w3.org/2000/svg\" xmlns:xlink=\"http://www.w3.org/1999/xlink\">\n<g id=\"graph0\" class=\"graph\" transform=\"scale(1 1) rotate(0) translate(4 310)\">\n<title>Tree</title>\n<polygon fill=\"white\" stroke=\"transparent\" points=\"-4,4 -4,-310 590.5,-310 590.5,4 -4,4\"/>\n<!-- 0 -->\n<g id=\"node1\" class=\"node\">\n<title>0</title>\n<path fill=\"#c8e4f8\" stroke=\"black\" d=\"M341.5,-306C341.5,-306 225.5,-306 225.5,-306 219.5,-306 213.5,-300 213.5,-294 213.5,-294 213.5,-235 213.5,-235 213.5,-229 219.5,-223 225.5,-223 225.5,-223 341.5,-223 341.5,-223 347.5,-223 353.5,-229 353.5,-235 353.5,-235 353.5,-294 353.5,-294 353.5,-300 347.5,-306 341.5,-306\"/>\n<text text-anchor=\"middle\" x=\"283.5\" y=\"-290.8\" font-family=\"Helvetica,sans-Serif\" font-size=\"14.00\">preco &lt;= 59982.246</text>\n<text text-anchor=\"middle\" x=\"283.5\" y=\"-275.8\" font-family=\"Helvetica,sans-Serif\" font-size=\"14.00\">gini = 0.487</text>\n<text text-anchor=\"middle\" x=\"283.5\" y=\"-260.8\" font-family=\"Helvetica,sans-Serif\" font-size=\"14.00\">samples = 10000</text>\n<text text-anchor=\"middle\" x=\"283.5\" y=\"-245.8\" font-family=\"Helvetica,sans-Serif\" font-size=\"14.00\">value = [4200, 5800]</text>\n<text text-anchor=\"middle\" x=\"283.5\" y=\"-230.8\" font-family=\"Helvetica,sans-Serif\" font-size=\"14.00\">class = sim</text>\n</g>\n<!-- 1 -->\n<g id=\"node2\" class=\"node\">\n<title>1</title>\n<path fill=\"#52a9e8\" stroke=\"black\" d=\"M252.5,-187C252.5,-187 138.5,-187 138.5,-187 132.5,-187 126.5,-181 126.5,-175 126.5,-175 126.5,-116 126.5,-116 126.5,-110 132.5,-104 138.5,-104 138.5,-104 252.5,-104 252.5,-104 258.5,-104 264.5,-110 264.5,-116 264.5,-116 264.5,-175 264.5,-175 264.5,-181 258.5,-187 252.5,-187\"/>\n<text text-anchor=\"middle\" x=\"195.5\" y=\"-171.8\" font-family=\"Helvetica,sans-Serif\" font-size=\"14.00\">preco &lt;= 40083.385</text>\n<text text-anchor=\"middle\" x=\"195.5\" y=\"-156.8\" font-family=\"Helvetica,sans-Serif\" font-size=\"14.00\">gini = 0.198</text>\n<text text-anchor=\"middle\" x=\"195.5\" y=\"-141.8\" font-family=\"Helvetica,sans-Serif\" font-size=\"14.00\">samples = 4347</text>\n<text text-anchor=\"middle\" x=\"195.5\" y=\"-126.8\" font-family=\"Helvetica,sans-Serif\" font-size=\"14.00\">value = [484, 3863]</text>\n<text text-anchor=\"middle\" x=\"195.5\" y=\"-111.8\" font-family=\"Helvetica,sans-Serif\" font-size=\"14.00\">class = sim</text>\n</g>\n<!-- 0&#45;&gt;1 -->\n<g id=\"edge1\" class=\"edge\">\n<title>0&#45;&gt;1</title>\n<path fill=\"none\" stroke=\"black\" d=\"M252.97,-222.91C246.21,-213.92 238.98,-204.32 232.02,-195.05\"/>\n<polygon fill=\"black\" stroke=\"black\" points=\"234.79,-192.91 225.98,-187.02 229.19,-197.12 234.79,-192.91\"/>\n<text text-anchor=\"middle\" x=\"222.48\" y=\"-208.07\" font-family=\"Helvetica,sans-Serif\" font-size=\"14.00\">True</text>\n</g>\n<!-- 4 -->\n<g id=\"node5\" class=\"node\">\n<title>4</title>\n<path fill=\"#f3c3a0\" stroke=\"black\" d=\"M450.5,-187C450.5,-187 294.5,-187 294.5,-187 288.5,-187 282.5,-181 282.5,-175 282.5,-175 282.5,-116 282.5,-116 282.5,-110 288.5,-104 294.5,-104 294.5,-104 450.5,-104 450.5,-104 456.5,-104 462.5,-110 462.5,-116 462.5,-116 462.5,-175 462.5,-175 462.5,-181 456.5,-187 450.5,-187\"/>\n<text text-anchor=\"middle\" x=\"372.5\" y=\"-171.8\" font-family=\"Helvetica,sans-Serif\" font-size=\"14.00\">km_por_ano &lt;= 24124.006</text>\n<text text-anchor=\"middle\" x=\"372.5\" y=\"-156.8\" font-family=\"Helvetica,sans-Serif\" font-size=\"14.00\">gini = 0.45</text>\n<text text-anchor=\"middle\" x=\"372.5\" y=\"-141.8\" font-family=\"Helvetica,sans-Serif\" font-size=\"14.00\">samples = 5653</text>\n<text text-anchor=\"middle\" x=\"372.5\" y=\"-126.8\" font-family=\"Helvetica,sans-Serif\" font-size=\"14.00\">value = [3716, 1937]</text>\n<text text-anchor=\"middle\" x=\"372.5\" y=\"-111.8\" font-family=\"Helvetica,sans-Serif\" font-size=\"14.00\">class = não</text>\n</g>\n<!-- 0&#45;&gt;4 -->\n<g id=\"edge4\" class=\"edge\">\n<title>0&#45;&gt;4</title>\n<path fill=\"none\" stroke=\"black\" d=\"M314.38,-222.91C321.21,-213.92 328.52,-204.32 335.57,-195.05\"/>\n<polygon fill=\"black\" stroke=\"black\" points=\"338.41,-197.1 341.68,-187.02 332.84,-192.86 338.41,-197.1\"/>\n<text text-anchor=\"middle\" x=\"345.04\" y=\"-208.09\" font-family=\"Helvetica,sans-Serif\" font-size=\"14.00\">False</text>\n</g>\n<!-- 2 -->\n<g id=\"node3\" class=\"node\">\n<title>2</title>\n<path fill=\"#399de5\" stroke=\"black\" d=\"M105,-68C105,-68 12,-68 12,-68 6,-68 0,-62 0,-56 0,-56 0,-12 0,-12 0,-6 6,0 12,0 12,0 105,0 105,0 111,0 117,-6 117,-12 117,-12 117,-56 117,-56 117,-62 111,-68 105,-68\"/>\n<text text-anchor=\"middle\" x=\"58.5\" y=\"-52.8\" font-family=\"Helvetica,sans-Serif\" font-size=\"14.00\">gini = 0.0</text>\n<text text-anchor=\"middle\" x=\"58.5\" y=\"-37.8\" font-family=\"Helvetica,sans-Serif\" font-size=\"14.00\">samples = 1935</text>\n<text text-anchor=\"middle\" x=\"58.5\" y=\"-22.8\" font-family=\"Helvetica,sans-Serif\" font-size=\"14.00\">value = [0, 1935]</text>\n<text text-anchor=\"middle\" x=\"58.5\" y=\"-7.8\" font-family=\"Helvetica,sans-Serif\" font-size=\"14.00\">class = sim</text>\n</g>\n<!-- 1&#45;&gt;2 -->\n<g id=\"edge2\" class=\"edge\">\n<title>1&#45;&gt;2</title>\n<path fill=\"none\" stroke=\"black\" d=\"M144.49,-103.73C132.62,-94.24 120,-84.16 108.19,-74.72\"/>\n<polygon fill=\"black\" stroke=\"black\" points=\"110.16,-71.81 100.16,-68.3 105.79,-77.28 110.16,-71.81\"/>\n</g>\n<!-- 3 -->\n<g id=\"node4\" class=\"node\">\n<title>3</title>\n<path fill=\"#6bb6ec\" stroke=\"black\" d=\"M255.5,-68C255.5,-68 147.5,-68 147.5,-68 141.5,-68 135.5,-62 135.5,-56 135.5,-56 135.5,-12 135.5,-12 135.5,-6 141.5,0 147.5,0 147.5,0 255.5,0 255.5,0 261.5,0 267.5,-6 267.5,-12 267.5,-12 267.5,-56 267.5,-56 267.5,-62 261.5,-68 255.5,-68\"/>\n<text text-anchor=\"middle\" x=\"201.5\" y=\"-52.8\" font-family=\"Helvetica,sans-Serif\" font-size=\"14.00\">gini = 0.321</text>\n<text text-anchor=\"middle\" x=\"201.5\" y=\"-37.8\" font-family=\"Helvetica,sans-Serif\" font-size=\"14.00\">samples = 2412</text>\n<text text-anchor=\"middle\" x=\"201.5\" y=\"-22.8\" font-family=\"Helvetica,sans-Serif\" font-size=\"14.00\">value = [484, 1928]</text>\n<text text-anchor=\"middle\" x=\"201.5\" y=\"-7.8\" font-family=\"Helvetica,sans-Serif\" font-size=\"14.00\">class = sim</text>\n</g>\n<!-- 1&#45;&gt;3 -->\n<g id=\"edge3\" class=\"edge\">\n<title>1&#45;&gt;3</title>\n<path fill=\"none\" stroke=\"black\" d=\"M197.73,-103.73C198.18,-95.52 198.66,-86.86 199.11,-78.56\"/>\n<polygon fill=\"black\" stroke=\"black\" points=\"202.62,-78.48 199.68,-68.3 195.63,-78.09 202.62,-78.48\"/>\n</g>\n<!-- 5 -->\n<g id=\"node6\" class=\"node\">\n<title>5</title>\n<path fill=\"#fcefe5\" stroke=\"black\" d=\"M424.5,-68C424.5,-68 308.5,-68 308.5,-68 302.5,-68 296.5,-62 296.5,-56 296.5,-56 296.5,-12 296.5,-12 296.5,-6 302.5,0 308.5,0 308.5,0 424.5,0 424.5,0 430.5,0 436.5,-6 436.5,-12 436.5,-12 436.5,-56 436.5,-56 436.5,-62 430.5,-68 424.5,-68\"/>\n<text text-anchor=\"middle\" x=\"366.5\" y=\"-52.8\" font-family=\"Helvetica,sans-Serif\" font-size=\"14.00\">gini = 0.498</text>\n<text text-anchor=\"middle\" x=\"366.5\" y=\"-37.8\" font-family=\"Helvetica,sans-Serif\" font-size=\"14.00\">samples = 3513</text>\n<text text-anchor=\"middle\" x=\"366.5\" y=\"-22.8\" font-family=\"Helvetica,sans-Serif\" font-size=\"14.00\">value = [1879, 1634]</text>\n<text text-anchor=\"middle\" x=\"366.5\" y=\"-7.8\" font-family=\"Helvetica,sans-Serif\" font-size=\"14.00\">class = não</text>\n</g>\n<!-- 4&#45;&gt;5 -->\n<g id=\"edge5\" class=\"edge\">\n<title>4&#45;&gt;5</title>\n<path fill=\"none\" stroke=\"black\" d=\"M370.27,-103.73C369.82,-95.52 369.34,-86.86 368.89,-78.56\"/>\n<polygon fill=\"black\" stroke=\"black\" points=\"372.37,-78.09 368.32,-68.3 365.38,-78.48 372.37,-78.09\"/>\n</g>\n<!-- 6 -->\n<g id=\"node7\" class=\"node\">\n<title>6</title>\n<path fill=\"#e9965a\" stroke=\"black\" d=\"M574.5,-68C574.5,-68 466.5,-68 466.5,-68 460.5,-68 454.5,-62 454.5,-56 454.5,-56 454.5,-12 454.5,-12 454.5,-6 460.5,0 466.5,0 466.5,0 574.5,0 574.5,0 580.5,0 586.5,-6 586.5,-12 586.5,-12 586.5,-56 586.5,-56 586.5,-62 580.5,-68 574.5,-68\"/>\n<text text-anchor=\"middle\" x=\"520.5\" y=\"-52.8\" font-family=\"Helvetica,sans-Serif\" font-size=\"14.00\">gini = 0.243</text>\n<text text-anchor=\"middle\" x=\"520.5\" y=\"-37.8\" font-family=\"Helvetica,sans-Serif\" font-size=\"14.00\">samples = 2140</text>\n<text text-anchor=\"middle\" x=\"520.5\" y=\"-22.8\" font-family=\"Helvetica,sans-Serif\" font-size=\"14.00\">value = [1837, 303]</text>\n<text text-anchor=\"middle\" x=\"520.5\" y=\"-7.8\" font-family=\"Helvetica,sans-Serif\" font-size=\"14.00\">class = não</text>\n</g>\n<!-- 4&#45;&gt;6 -->\n<g id=\"edge6\" class=\"edge\">\n<title>4&#45;&gt;6</title>\n<path fill=\"none\" stroke=\"black\" d=\"M427.61,-103.73C440.55,-94.15 454.32,-83.96 467.19,-74.44\"/>\n<polygon fill=\"black\" stroke=\"black\" points=\"469.54,-77.06 475.49,-68.3 465.37,-71.43 469.54,-77.06\"/>\n</g>\n</g>\n</svg>\n",
      "text/plain": "<graphviz.sources.Source at 0x20b8578ee50>"
     },
     "execution_count": 10,
     "metadata": {},
     "output_type": "execute_result"
    }
   ],
   "source": [
    "from sklearn.tree import export_graphviz\n",
    "import graphviz\n",
    "\n",
    "modelo.fit(X_azar, y_azar)\n",
    "dot_data = export_graphviz(modelo, out_file=None, filled=True, rounded=True, class_names=[\"não\", \"sim\"], feature_names=X_azar.columns)\n",
    "graph = graphviz.Source(dot_data)\n",
    "graph"
   ],
   "metadata": {
    "collapsed": false,
    "pycharm": {
     "name": "#%%\n"
    }
   }
  },
  {
   "cell_type": "code",
   "execution_count": 11,
   "outputs": [
    {
     "name": "stdout",
     "output_type": "stream",
     "text": [
      "Acurácia 78.67\n",
      "Acurácia com Cross-Validation = [76.40, 80.94]\n"
     ]
    }
   ],
   "source": [
    "SEED = 301\n",
    "np.random.seed(SEED)\n",
    "\n",
    "cv = GroupKFold(n_splits=10)\n",
    "modelo = DecisionTreeClassifier(max_depth=3)\n",
    "results = cross_validate(modelo, X_azar, y_azar, cv=cv, groups=dados.modelo)\n",
    "imprime_resultados(results)"
   ],
   "metadata": {
    "collapsed": false,
    "pycharm": {
     "name": "#%%\n"
    }
   }
  },
  {
   "cell_type": "code",
   "execution_count": 12,
   "outputs": [
    {
     "data": {
      "image/svg+xml": "<?xml version=\"1.0\" encoding=\"UTF-8\" standalone=\"no\"?>\n<!DOCTYPE svg PUBLIC \"-//W3C//DTD SVG 1.1//EN\"\n \"http://www.w3.org/Graphics/SVG/1.1/DTD/svg11.dtd\">\n<!-- Generated by graphviz version 2.50.0 (0)\n -->\n<!-- Title: Tree Pages: 1 -->\n<svg width=\"866pt\" height=\"433pt\"\n viewBox=\"0.00 0.00 866.00 433.00\" xmlns=\"http://www.w3.org/2000/svg\" xmlns:xlink=\"http://www.w3.org/1999/xlink\">\n<g id=\"graph0\" class=\"graph\" transform=\"scale(1 1) rotate(0) translate(4 429)\">\n<title>Tree</title>\n<polygon fill=\"white\" stroke=\"transparent\" points=\"-4,4 -4,-429 862,-429 862,4 -4,4\"/>\n<!-- 0 -->\n<g id=\"node1\" class=\"node\">\n<title>0</title>\n<path fill=\"#c8e4f8\" stroke=\"black\" d=\"M350.5,-425C350.5,-425 234.5,-425 234.5,-425 228.5,-425 222.5,-419 222.5,-413 222.5,-413 222.5,-354 222.5,-354 222.5,-348 228.5,-342 234.5,-342 234.5,-342 350.5,-342 350.5,-342 356.5,-342 362.5,-348 362.5,-354 362.5,-354 362.5,-413 362.5,-413 362.5,-419 356.5,-425 350.5,-425\"/>\n<text text-anchor=\"middle\" x=\"292.5\" y=\"-409.8\" font-family=\"Helvetica,sans-Serif\" font-size=\"14.00\">preco &lt;= 59982.246</text>\n<text text-anchor=\"middle\" x=\"292.5\" y=\"-394.8\" font-family=\"Helvetica,sans-Serif\" font-size=\"14.00\">gini = 0.487</text>\n<text text-anchor=\"middle\" x=\"292.5\" y=\"-379.8\" font-family=\"Helvetica,sans-Serif\" font-size=\"14.00\">samples = 10000</text>\n<text text-anchor=\"middle\" x=\"292.5\" y=\"-364.8\" font-family=\"Helvetica,sans-Serif\" font-size=\"14.00\">value = [4200, 5800]</text>\n<text text-anchor=\"middle\" x=\"292.5\" y=\"-349.8\" font-family=\"Helvetica,sans-Serif\" font-size=\"14.00\">class = sim</text>\n</g>\n<!-- 1 -->\n<g id=\"node2\" class=\"node\">\n<title>1</title>\n<path fill=\"#52a9e8\" stroke=\"black\" d=\"M261.5,-306C261.5,-306 147.5,-306 147.5,-306 141.5,-306 135.5,-300 135.5,-294 135.5,-294 135.5,-235 135.5,-235 135.5,-229 141.5,-223 147.5,-223 147.5,-223 261.5,-223 261.5,-223 267.5,-223 273.5,-229 273.5,-235 273.5,-235 273.5,-294 273.5,-294 273.5,-300 267.5,-306 261.5,-306\"/>\n<text text-anchor=\"middle\" x=\"204.5\" y=\"-290.8\" font-family=\"Helvetica,sans-Serif\" font-size=\"14.00\">preco &lt;= 40083.385</text>\n<text text-anchor=\"middle\" x=\"204.5\" y=\"-275.8\" font-family=\"Helvetica,sans-Serif\" font-size=\"14.00\">gini = 0.198</text>\n<text text-anchor=\"middle\" x=\"204.5\" y=\"-260.8\" font-family=\"Helvetica,sans-Serif\" font-size=\"14.00\">samples = 4347</text>\n<text text-anchor=\"middle\" x=\"204.5\" y=\"-245.8\" font-family=\"Helvetica,sans-Serif\" font-size=\"14.00\">value = [484, 3863]</text>\n<text text-anchor=\"middle\" x=\"204.5\" y=\"-230.8\" font-family=\"Helvetica,sans-Serif\" font-size=\"14.00\">class = sim</text>\n</g>\n<!-- 0&#45;&gt;1 -->\n<g id=\"edge1\" class=\"edge\">\n<title>0&#45;&gt;1</title>\n<path fill=\"none\" stroke=\"black\" d=\"M261.97,-341.91C255.21,-332.92 247.98,-323.32 241.02,-314.05\"/>\n<polygon fill=\"black\" stroke=\"black\" points=\"243.79,-311.91 234.98,-306.02 238.19,-316.12 243.79,-311.91\"/>\n<text text-anchor=\"middle\" x=\"231.48\" y=\"-327.07\" font-family=\"Helvetica,sans-Serif\" font-size=\"14.00\">True</text>\n</g>\n<!-- 6 -->\n<g id=\"node7\" class=\"node\">\n<title>6</title>\n<path fill=\"#f3c3a0\" stroke=\"black\" d=\"M514.5,-306C514.5,-306 358.5,-306 358.5,-306 352.5,-306 346.5,-300 346.5,-294 346.5,-294 346.5,-235 346.5,-235 346.5,-229 352.5,-223 358.5,-223 358.5,-223 514.5,-223 514.5,-223 520.5,-223 526.5,-229 526.5,-235 526.5,-235 526.5,-294 526.5,-294 526.5,-300 520.5,-306 514.5,-306\"/>\n<text text-anchor=\"middle\" x=\"436.5\" y=\"-290.8\" font-family=\"Helvetica,sans-Serif\" font-size=\"14.00\">km_por_ano &lt;= 24124.006</text>\n<text text-anchor=\"middle\" x=\"436.5\" y=\"-275.8\" font-family=\"Helvetica,sans-Serif\" font-size=\"14.00\">gini = 0.45</text>\n<text text-anchor=\"middle\" x=\"436.5\" y=\"-260.8\" font-family=\"Helvetica,sans-Serif\" font-size=\"14.00\">samples = 5653</text>\n<text text-anchor=\"middle\" x=\"436.5\" y=\"-245.8\" font-family=\"Helvetica,sans-Serif\" font-size=\"14.00\">value = [3716, 1937]</text>\n<text text-anchor=\"middle\" x=\"436.5\" y=\"-230.8\" font-family=\"Helvetica,sans-Serif\" font-size=\"14.00\">class = não</text>\n</g>\n<!-- 0&#45;&gt;6 -->\n<g id=\"edge6\" class=\"edge\">\n<title>0&#45;&gt;6</title>\n<path fill=\"none\" stroke=\"black\" d=\"M342.46,-341.91C354.19,-332.38 366.78,-322.15 378.81,-312.37\"/>\n<polygon fill=\"black\" stroke=\"black\" points=\"381.07,-315.04 386.63,-306.02 376.66,-309.61 381.07,-315.04\"/>\n<text text-anchor=\"middle\" x=\"384.06\" y=\"-327.19\" font-family=\"Helvetica,sans-Serif\" font-size=\"14.00\">False</text>\n</g>\n<!-- 2 -->\n<g id=\"node3\" class=\"node\">\n<title>2</title>\n<path fill=\"#399de5\" stroke=\"black\" d=\"M105,-179.5C105,-179.5 12,-179.5 12,-179.5 6,-179.5 0,-173.5 0,-167.5 0,-167.5 0,-123.5 0,-123.5 0,-117.5 6,-111.5 12,-111.5 12,-111.5 105,-111.5 105,-111.5 111,-111.5 117,-117.5 117,-123.5 117,-123.5 117,-167.5 117,-167.5 117,-173.5 111,-179.5 105,-179.5\"/>\n<text text-anchor=\"middle\" x=\"58.5\" y=\"-164.3\" font-family=\"Helvetica,sans-Serif\" font-size=\"14.00\">gini = 0.0</text>\n<text text-anchor=\"middle\" x=\"58.5\" y=\"-149.3\" font-family=\"Helvetica,sans-Serif\" font-size=\"14.00\">samples = 1935</text>\n<text text-anchor=\"middle\" x=\"58.5\" y=\"-134.3\" font-family=\"Helvetica,sans-Serif\" font-size=\"14.00\">value = [0, 1935]</text>\n<text text-anchor=\"middle\" x=\"58.5\" y=\"-119.3\" font-family=\"Helvetica,sans-Serif\" font-size=\"14.00\">class = sim</text>\n</g>\n<!-- 1&#45;&gt;2 -->\n<g id=\"edge2\" class=\"edge\">\n<title>1&#45;&gt;2</title>\n<path fill=\"none\" stroke=\"black\" d=\"M153.85,-222.91C138.97,-210.99 122.73,-197.98 107.94,-186.12\"/>\n<polygon fill=\"black\" stroke=\"black\" points=\"109.88,-183.19 99.89,-179.67 105.5,-188.65 109.88,-183.19\"/>\n</g>\n<!-- 3 -->\n<g id=\"node4\" class=\"node\">\n<title>3</title>\n<path fill=\"#6bb6ec\" stroke=\"black\" d=\"M261.5,-187C261.5,-187 147.5,-187 147.5,-187 141.5,-187 135.5,-181 135.5,-175 135.5,-175 135.5,-116 135.5,-116 135.5,-110 141.5,-104 147.5,-104 147.5,-104 261.5,-104 261.5,-104 267.5,-104 273.5,-110 273.5,-116 273.5,-116 273.5,-175 273.5,-175 273.5,-181 267.5,-187 261.5,-187\"/>\n<text text-anchor=\"middle\" x=\"204.5\" y=\"-171.8\" font-family=\"Helvetica,sans-Serif\" font-size=\"14.00\">preco &lt;= 41083.029</text>\n<text text-anchor=\"middle\" x=\"204.5\" y=\"-156.8\" font-family=\"Helvetica,sans-Serif\" font-size=\"14.00\">gini = 0.321</text>\n<text text-anchor=\"middle\" x=\"204.5\" y=\"-141.8\" font-family=\"Helvetica,sans-Serif\" font-size=\"14.00\">samples = 2412</text>\n<text text-anchor=\"middle\" x=\"204.5\" y=\"-126.8\" font-family=\"Helvetica,sans-Serif\" font-size=\"14.00\">value = [484, 1928]</text>\n<text text-anchor=\"middle\" x=\"204.5\" y=\"-111.8\" font-family=\"Helvetica,sans-Serif\" font-size=\"14.00\">class = sim</text>\n</g>\n<!-- 1&#45;&gt;3 -->\n<g id=\"edge3\" class=\"edge\">\n<title>1&#45;&gt;3</title>\n<path fill=\"none\" stroke=\"black\" d=\"M204.5,-222.91C204.5,-214.65 204.5,-205.86 204.5,-197.3\"/>\n<polygon fill=\"black\" stroke=\"black\" points=\"208,-197.02 204.5,-187.02 201,-197.02 208,-197.02\"/>\n</g>\n<!-- 4 -->\n<g id=\"node5\" class=\"node\">\n<title>4</title>\n<path fill=\"#95cbf1\" stroke=\"black\" d=\"M108.5,-68C108.5,-68 22.5,-68 22.5,-68 16.5,-68 10.5,-62 10.5,-56 10.5,-56 10.5,-12 10.5,-12 10.5,-6 16.5,0 22.5,0 22.5,0 108.5,0 108.5,0 114.5,0 120.5,-6 120.5,-12 120.5,-12 120.5,-56 120.5,-56 120.5,-62 114.5,-68 108.5,-68\"/>\n<text text-anchor=\"middle\" x=\"65.5\" y=\"-52.8\" font-family=\"Helvetica,sans-Serif\" font-size=\"14.00\">gini = 0.434</text>\n<text text-anchor=\"middle\" x=\"65.5\" y=\"-37.8\" font-family=\"Helvetica,sans-Serif\" font-size=\"14.00\">samples = 110</text>\n<text text-anchor=\"middle\" x=\"65.5\" y=\"-22.8\" font-family=\"Helvetica,sans-Serif\" font-size=\"14.00\">value = [35, 75]</text>\n<text text-anchor=\"middle\" x=\"65.5\" y=\"-7.8\" font-family=\"Helvetica,sans-Serif\" font-size=\"14.00\">class = sim</text>\n</g>\n<!-- 3&#45;&gt;4 -->\n<g id=\"edge4\" class=\"edge\">\n<title>3&#45;&gt;4</title>\n<path fill=\"none\" stroke=\"black\" d=\"M152.74,-103.73C140.7,-94.24 127.9,-84.16 115.92,-74.72\"/>\n<polygon fill=\"black\" stroke=\"black\" points=\"117.79,-71.74 107.77,-68.3 113.46,-77.24 117.79,-71.74\"/>\n</g>\n<!-- 5 -->\n<g id=\"node6\" class=\"node\">\n<title>5</title>\n<path fill=\"#69b5eb\" stroke=\"black\" d=\"M258.5,-68C258.5,-68 150.5,-68 150.5,-68 144.5,-68 138.5,-62 138.5,-56 138.5,-56 138.5,-12 138.5,-12 138.5,-6 144.5,0 150.5,0 150.5,0 258.5,0 258.5,0 264.5,0 270.5,-6 270.5,-12 270.5,-12 270.5,-56 270.5,-56 270.5,-62 264.5,-68 258.5,-68\"/>\n<text text-anchor=\"middle\" x=\"204.5\" y=\"-52.8\" font-family=\"Helvetica,sans-Serif\" font-size=\"14.00\">gini = 0.314</text>\n<text text-anchor=\"middle\" x=\"204.5\" y=\"-37.8\" font-family=\"Helvetica,sans-Serif\" font-size=\"14.00\">samples = 2302</text>\n<text text-anchor=\"middle\" x=\"204.5\" y=\"-22.8\" font-family=\"Helvetica,sans-Serif\" font-size=\"14.00\">value = [449, 1853]</text>\n<text text-anchor=\"middle\" x=\"204.5\" y=\"-7.8\" font-family=\"Helvetica,sans-Serif\" font-size=\"14.00\">class = sim</text>\n</g>\n<!-- 3&#45;&gt;5 -->\n<g id=\"edge5\" class=\"edge\">\n<title>3&#45;&gt;5</title>\n<path fill=\"none\" stroke=\"black\" d=\"M204.5,-103.73C204.5,-95.52 204.5,-86.86 204.5,-78.56\"/>\n<polygon fill=\"black\" stroke=\"black\" points=\"208,-78.3 204.5,-68.3 201,-78.3 208,-78.3\"/>\n</g>\n<!-- 7 -->\n<g id=\"node8\" class=\"node\">\n<title>7</title>\n<path fill=\"#fcefe5\" stroke=\"black\" d=\"M494.5,-187C494.5,-187 378.5,-187 378.5,-187 372.5,-187 366.5,-181 366.5,-175 366.5,-175 366.5,-116 366.5,-116 366.5,-110 372.5,-104 378.5,-104 378.5,-104 494.5,-104 494.5,-104 500.5,-104 506.5,-110 506.5,-116 506.5,-116 506.5,-175 506.5,-175 506.5,-181 500.5,-187 494.5,-187\"/>\n<text text-anchor=\"middle\" x=\"436.5\" y=\"-171.8\" font-family=\"Helvetica,sans-Serif\" font-size=\"14.00\">preco &lt;= 99974.41</text>\n<text text-anchor=\"middle\" x=\"436.5\" y=\"-156.8\" font-family=\"Helvetica,sans-Serif\" font-size=\"14.00\">gini = 0.498</text>\n<text text-anchor=\"middle\" x=\"436.5\" y=\"-141.8\" font-family=\"Helvetica,sans-Serif\" font-size=\"14.00\">samples = 3513</text>\n<text text-anchor=\"middle\" x=\"436.5\" y=\"-126.8\" font-family=\"Helvetica,sans-Serif\" font-size=\"14.00\">value = [1879, 1634]</text>\n<text text-anchor=\"middle\" x=\"436.5\" y=\"-111.8\" font-family=\"Helvetica,sans-Serif\" font-size=\"14.00\">class = não</text>\n</g>\n<!-- 6&#45;&gt;7 -->\n<g id=\"edge7\" class=\"edge\">\n<title>6&#45;&gt;7</title>\n<path fill=\"none\" stroke=\"black\" d=\"M436.5,-222.91C436.5,-214.65 436.5,-205.86 436.5,-197.3\"/>\n<polygon fill=\"black\" stroke=\"black\" points=\"440,-197.02 436.5,-187.02 433,-197.02 440,-197.02\"/>\n</g>\n<!-- 10 -->\n<g id=\"node11\" class=\"node\">\n<title>10</title>\n<path fill=\"#e9965a\" stroke=\"black\" d=\"M713.5,-187C713.5,-187 591.5,-187 591.5,-187 585.5,-187 579.5,-181 579.5,-175 579.5,-175 579.5,-116 579.5,-116 579.5,-110 585.5,-104 591.5,-104 591.5,-104 713.5,-104 713.5,-104 719.5,-104 725.5,-110 725.5,-116 725.5,-116 725.5,-175 725.5,-175 725.5,-181 719.5,-187 713.5,-187\"/>\n<text text-anchor=\"middle\" x=\"652.5\" y=\"-171.8\" font-family=\"Helvetica,sans-Serif\" font-size=\"14.00\">preco &lt;= 100076.957</text>\n<text text-anchor=\"middle\" x=\"652.5\" y=\"-156.8\" font-family=\"Helvetica,sans-Serif\" font-size=\"14.00\">gini = 0.243</text>\n<text text-anchor=\"middle\" x=\"652.5\" y=\"-141.8\" font-family=\"Helvetica,sans-Serif\" font-size=\"14.00\">samples = 2140</text>\n<text text-anchor=\"middle\" x=\"652.5\" y=\"-126.8\" font-family=\"Helvetica,sans-Serif\" font-size=\"14.00\">value = [1837, 303]</text>\n<text text-anchor=\"middle\" x=\"652.5\" y=\"-111.8\" font-family=\"Helvetica,sans-Serif\" font-size=\"14.00\">class = não</text>\n</g>\n<!-- 6&#45;&gt;10 -->\n<g id=\"edge10\" class=\"edge\">\n<title>6&#45;&gt;10</title>\n<path fill=\"none\" stroke=\"black\" d=\"M511.44,-222.91C530.46,-212.61 550.99,-201.48 570.35,-191\"/>\n<polygon fill=\"black\" stroke=\"black\" points=\"572.03,-194.07 579.15,-186.23 568.69,-187.92 572.03,-194.07\"/>\n</g>\n<!-- 8 -->\n<g id=\"node9\" class=\"node\">\n<title>8</title>\n<path fill=\"#f9e0ce\" stroke=\"black\" d=\"M416.5,-68C416.5,-68 300.5,-68 300.5,-68 294.5,-68 288.5,-62 288.5,-56 288.5,-56 288.5,-12 288.5,-12 288.5,-6 294.5,0 300.5,0 300.5,0 416.5,0 416.5,0 422.5,0 428.5,-6 428.5,-12 428.5,-12 428.5,-56 428.5,-56 428.5,-62 422.5,-68 416.5,-68\"/>\n<text text-anchor=\"middle\" x=\"358.5\" y=\"-52.8\" font-family=\"Helvetica,sans-Serif\" font-size=\"14.00\">gini = 0.49</text>\n<text text-anchor=\"middle\" x=\"358.5\" y=\"-37.8\" font-family=\"Helvetica,sans-Serif\" font-size=\"14.00\">samples = 2944</text>\n<text text-anchor=\"middle\" x=\"358.5\" y=\"-22.8\" font-family=\"Helvetica,sans-Serif\" font-size=\"14.00\">value = [1682, 1262]</text>\n<text text-anchor=\"middle\" x=\"358.5\" y=\"-7.8\" font-family=\"Helvetica,sans-Serif\" font-size=\"14.00\">class = não</text>\n</g>\n<!-- 7&#45;&gt;8 -->\n<g id=\"edge8\" class=\"edge\">\n<title>7&#45;&gt;8</title>\n<path fill=\"none\" stroke=\"black\" d=\"M407.46,-103.73C401.15,-94.88 394.48,-85.51 388.15,-76.63\"/>\n<polygon fill=\"black\" stroke=\"black\" points=\"390.87,-74.41 382.22,-68.3 385.17,-78.48 390.87,-74.41\"/>\n</g>\n<!-- 9 -->\n<g id=\"node10\" class=\"node\">\n<title>9</title>\n<path fill=\"#a2d1f3\" stroke=\"black\" d=\"M560,-68C560,-68 459,-68 459,-68 453,-68 447,-62 447,-56 447,-56 447,-12 447,-12 447,-6 453,0 459,0 459,0 560,0 560,0 566,0 572,-6 572,-12 572,-12 572,-56 572,-56 572,-62 566,-68 560,-68\"/>\n<text text-anchor=\"middle\" x=\"509.5\" y=\"-52.8\" font-family=\"Helvetica,sans-Serif\" font-size=\"14.00\">gini = 0.453</text>\n<text text-anchor=\"middle\" x=\"509.5\" y=\"-37.8\" font-family=\"Helvetica,sans-Serif\" font-size=\"14.00\">samples = 569</text>\n<text text-anchor=\"middle\" x=\"509.5\" y=\"-22.8\" font-family=\"Helvetica,sans-Serif\" font-size=\"14.00\">value = [197, 372]</text>\n<text text-anchor=\"middle\" x=\"509.5\" y=\"-7.8\" font-family=\"Helvetica,sans-Serif\" font-size=\"14.00\">class = sim</text>\n</g>\n<!-- 7&#45;&gt;9 -->\n<g id=\"edge9\" class=\"edge\">\n<title>7&#45;&gt;9</title>\n<path fill=\"none\" stroke=\"black\" d=\"M463.68,-103.73C469.58,-94.88 475.83,-85.51 481.75,-76.63\"/>\n<polygon fill=\"black\" stroke=\"black\" points=\"484.67,-78.56 487.3,-68.3 478.84,-74.68 484.67,-78.56\"/>\n</g>\n<!-- 11 -->\n<g id=\"node12\" class=\"node\">\n<title>11</title>\n<path fill=\"#e68742\" stroke=\"black\" d=\"M703,-68C703,-68 602,-68 602,-68 596,-68 590,-62 590,-56 590,-56 590,-12 590,-12 590,-6 596,0 602,0 602,0 703,0 703,0 709,0 715,-6 715,-12 715,-12 715,-56 715,-56 715,-62 709,-68 703,-68\"/>\n<text text-anchor=\"middle\" x=\"652.5\" y=\"-52.8\" font-family=\"Helvetica,sans-Serif\" font-size=\"14.00\">gini = 0.082</text>\n<text text-anchor=\"middle\" x=\"652.5\" y=\"-37.8\" font-family=\"Helvetica,sans-Serif\" font-size=\"14.00\">samples = 1809</text>\n<text text-anchor=\"middle\" x=\"652.5\" y=\"-22.8\" font-family=\"Helvetica,sans-Serif\" font-size=\"14.00\">value = [1732, 77]</text>\n<text text-anchor=\"middle\" x=\"652.5\" y=\"-7.8\" font-family=\"Helvetica,sans-Serif\" font-size=\"14.00\">class = não</text>\n</g>\n<!-- 10&#45;&gt;11 -->\n<g id=\"edge11\" class=\"edge\">\n<title>10&#45;&gt;11</title>\n<path fill=\"none\" stroke=\"black\" d=\"M652.5,-103.73C652.5,-95.52 652.5,-86.86 652.5,-78.56\"/>\n<polygon fill=\"black\" stroke=\"black\" points=\"656,-78.3 652.5,-68.3 649,-78.3 656,-78.3\"/>\n</g>\n<!-- 12 -->\n<g id=\"node13\" class=\"node\">\n<title>12</title>\n<path fill=\"#95cbf1\" stroke=\"black\" d=\"M846,-68C846,-68 745,-68 745,-68 739,-68 733,-62 733,-56 733,-56 733,-12 733,-12 733,-6 739,0 745,0 745,0 846,0 846,0 852,0 858,-6 858,-12 858,-12 858,-56 858,-56 858,-62 852,-68 846,-68\"/>\n<text text-anchor=\"middle\" x=\"795.5\" y=\"-52.8\" font-family=\"Helvetica,sans-Serif\" font-size=\"14.00\">gini = 0.433</text>\n<text text-anchor=\"middle\" x=\"795.5\" y=\"-37.8\" font-family=\"Helvetica,sans-Serif\" font-size=\"14.00\">samples = 331</text>\n<text text-anchor=\"middle\" x=\"795.5\" y=\"-22.8\" font-family=\"Helvetica,sans-Serif\" font-size=\"14.00\">value = [105, 226]</text>\n<text text-anchor=\"middle\" x=\"795.5\" y=\"-7.8\" font-family=\"Helvetica,sans-Serif\" font-size=\"14.00\">class = sim</text>\n</g>\n<!-- 10&#45;&gt;12 -->\n<g id=\"edge12\" class=\"edge\">\n<title>10&#45;&gt;12</title>\n<path fill=\"none\" stroke=\"black\" d=\"M705.75,-103.73C718.25,-94.15 731.56,-83.96 743.99,-74.44\"/>\n<polygon fill=\"black\" stroke=\"black\" points=\"746.2,-77.16 752.01,-68.3 741.95,-71.6 746.2,-77.16\"/>\n</g>\n</g>\n</svg>\n",
      "text/plain": "<graphviz.sources.Source at 0x20b85db08b0>"
     },
     "execution_count": 12,
     "metadata": {},
     "output_type": "execute_result"
    }
   ],
   "source": [
    "modelo.fit(X_azar, y_azar)\n",
    "dot_data = export_graphviz(modelo, out_file=None, filled=True, rounded=True, class_names=[\"não\", \"sim\"], feature_names=X_azar.columns)\n",
    "graph = graphviz.Source(dot_data)\n",
    "graph"
   ],
   "metadata": {
    "collapsed": false,
    "pycharm": {
     "name": "#%%\n"
    }
   }
  },
  {
   "cell_type": "code",
   "execution_count": 13,
   "outputs": [
    {
     "name": "stdout",
     "output_type": "stream",
     "text": [
      "Acurácia 77.19\n",
      "Acurácia com Cross-Validation = [75.26, 79.13]\n"
     ]
    }
   ],
   "source": [
    "SEED = 301\n",
    "np.random.seed(SEED)\n",
    "\n",
    "cv = GroupKFold(n_splits=10)\n",
    "modelo = DecisionTreeClassifier(max_depth=10)\n",
    "results = cross_validate(modelo, X_azar, y_azar, cv=cv, groups=dados.modelo)\n",
    "imprime_resultados(results)"
   ],
   "metadata": {
    "collapsed": false,
    "pycharm": {
     "name": "#%%\n"
    }
   }
  },
  {
   "cell_type": "markdown",
   "source": [
    "# Explorando hiperparâmetros em 1 dimensão"
   ],
   "metadata": {
    "collapsed": false,
    "pycharm": {
     "name": "#%% md\n"
    }
   }
  },
  {
   "cell_type": "code",
   "execution_count": 14,
   "outputs": [
    {
     "name": "stdout",
     "output_type": "stream",
     "text": [
      "Árvore max_depth = 1, treino = 75.79%, teste = 75.78%\n",
      "Árvore max_depth = 2, treino = 75.79%, teste = 75.78%\n",
      "Árvore max_depth = 3, treino = 78.75%, teste = 78.67%\n",
      "Árvore max_depth = 4, treino = 78.79%, teste = 78.63%\n",
      "Árvore max_depth = 5, treino = 78.94%, teste = 78.56%\n",
      "Árvore max_depth = 6, treino = 79.17%, teste = 78.12%\n",
      "Árvore max_depth = 7, treino = 79.50%, teste = 77.96%\n",
      "Árvore max_depth = 8, treino = 79.89%, teste = 77.86%\n",
      "Árvore max_depth = 9, treino = 80.46%, teste = 77.38%\n",
      "Árvore max_depth = 10, treino = 81.16%, teste = 77.19%\n",
      "Árvore max_depth = 11, treino = 82.03%, teste = 76.97%\n",
      "Árvore max_depth = 12, treino = 82.89%, teste = 76.49%\n",
      "Árvore max_depth = 13, treino = 83.95%, teste = 75.81%\n",
      "Árvore max_depth = 14, treino = 85.03%, teste = 75.66%\n",
      "Árvore max_depth = 15, treino = 86.14%, teste = 75.16%\n",
      "Árvore max_depth = 16, treino = 87.19%, teste = 75.11%\n",
      "Árvore max_depth = 17, treino = 88.31%, teste = 74.74%\n",
      "Árvore max_depth = 18, treino = 89.26%, teste = 74.33%\n",
      "Árvore max_depth = 19, treino = 90.32%, teste = 74.34%\n",
      "Árvore max_depth = 20, treino = 91.32%, teste = 74.22%\n",
      "Árvore max_depth = 21, treino = 92.14%, teste = 73.80%\n",
      "Árvore max_depth = 22, treino = 93.02%, teste = 73.81%\n",
      "Árvore max_depth = 23, treino = 93.80%, teste = 73.38%\n",
      "Árvore max_depth = 24, treino = 94.47%, teste = 73.43%\n",
      "Árvore max_depth = 25, treino = 95.16%, teste = 73.14%\n",
      "Árvore max_depth = 26, treino = 95.74%, teste = 73.04%\n",
      "Árvore max_depth = 27, treino = 96.33%, teste = 72.91%\n",
      "Árvore max_depth = 28, treino = 96.75%, teste = 72.66%\n",
      "Árvore max_depth = 29, treino = 97.10%, teste = 72.73%\n",
      "Árvore max_depth = 30, treino = 97.43%, teste = 72.81%\n",
      "Árvore max_depth = 31, treino = 97.80%, teste = 72.86%\n",
      "Árvore max_depth = 32, treino = 98.10%, teste = 72.52%\n"
     ]
    },
    {
     "data": {
      "text/plain": "   max_depth  media_treino  media_teste\n0          1     75.791169    75.784219\n1          2     75.791169    75.784219\n2          3     78.750993    78.672633\n3          4     78.787628    78.632803\n4          5     78.941007    78.555912",
      "text/html": "<div>\n<style scoped>\n    .dataframe tbody tr th:only-of-type {\n        vertical-align: middle;\n    }\n\n    .dataframe tbody tr th {\n        vertical-align: top;\n    }\n\n    .dataframe thead th {\n        text-align: right;\n    }\n</style>\n<table border=\"1\" class=\"dataframe\">\n  <thead>\n    <tr style=\"text-align: right;\">\n      <th></th>\n      <th>max_depth</th>\n      <th>media_treino</th>\n      <th>media_teste</th>\n    </tr>\n  </thead>\n  <tbody>\n    <tr>\n      <th>0</th>\n      <td>1</td>\n      <td>75.791169</td>\n      <td>75.784219</td>\n    </tr>\n    <tr>\n      <th>1</th>\n      <td>2</td>\n      <td>75.791169</td>\n      <td>75.784219</td>\n    </tr>\n    <tr>\n      <th>2</th>\n      <td>3</td>\n      <td>78.750993</td>\n      <td>78.672633</td>\n    </tr>\n    <tr>\n      <th>3</th>\n      <td>4</td>\n      <td>78.787628</td>\n      <td>78.632803</td>\n    </tr>\n    <tr>\n      <th>4</th>\n      <td>5</td>\n      <td>78.941007</td>\n      <td>78.555912</td>\n    </tr>\n  </tbody>\n</table>\n</div>"
     },
     "execution_count": 14,
     "metadata": {},
     "output_type": "execute_result"
    }
   ],
   "source": [
    "def roda_arvore_de_decisao(max_depth):\n",
    "    SEED = 301\n",
    "    np.random.seed(SEED)\n",
    "\n",
    "    cv = GroupKFold(n_splits=10)\n",
    "    modelo = DecisionTreeClassifier(max_depth=max_depth)\n",
    "    results = cross_validate(modelo, X_azar, y_azar, cv=cv, groups=dados.modelo, return_train_score=True)\n",
    "    media_treino = results['train_score'].mean() * 100\n",
    "    media_teste = results['test_score'].mean() * 100\n",
    "    print(f\"Árvore max_depth = {max_depth}, treino = {media_treino:0.2f}%, teste = {media_teste:0.2f}%\")\n",
    "    tabela = [max_depth, media_treino, media_teste]\n",
    "    return tabela\n",
    "\n",
    "resultados = [roda_arvore_de_decisao(i) for i in range(1, 33)]\n",
    "resultados = pd.DataFrame(resultados, columns=[\"max_depth\", \"media_treino\", \"media_teste\"])\n",
    "resultados.head()"
   ],
   "metadata": {
    "collapsed": false,
    "pycharm": {
     "name": "#%%\n"
    }
   }
  },
  {
   "cell_type": "markdown",
   "source": [
    "# OVERFIT: ficou \"perfeito\" para o treino, mas ruim para o teste"
   ],
   "metadata": {
    "collapsed": false,
    "pycharm": {
     "name": "#%% md\n"
    }
   }
  },
  {
   "cell_type": "code",
   "execution_count": 15,
   "outputs": [
    {
     "data": {
      "text/plain": "<AxesSubplot:xlabel='max_depth', ylabel='media_treino'>"
     },
     "execution_count": 15,
     "metadata": {},
     "output_type": "execute_result"
    },
    {
     "data": {
      "text/plain": "<Figure size 432x288 with 1 Axes>",
      "image/png": "[encoded data removed]"
     },
     "metadata": {},
     "output_type": "display_data"
    }
   ],
   "source": [
    "import seaborn as sns\n",
    "\n",
    "ax = sns.lineplot(x=\"max_depth\", y=\"media_treino\", data=resultados)\n",
    "ax = sns.lineplot(x=\"max_depth\", y=\"media_teste\", data=resultados)\n",
    "ax.legend([\"Treino\", \"Teste\"])\n",
    "ax"
   ],
   "metadata": {
    "collapsed": false,
    "pycharm": {
     "name": "#%%\n"
    }
   }
  },
  {
   "cell_type": "code",
   "execution_count": 16,
   "outputs": [
    {
     "data": {
      "text/plain": "   max_depth  media_treino  media_teste\n2          3     78.750993    78.672633\n3          4     78.787628    78.632803\n4          5     78.941007    78.555912\n5          6     79.170115    78.123266\n6          7     79.496806    77.963185",
      "text/html": "<div>\n<style scoped>\n    .dataframe tbody tr th:only-of-type {\n        vertical-align: middle;\n    }\n\n    .dataframe tbody tr th {\n        vertical-align: top;\n    }\n\n    .dataframe thead th {\n        text-align: right;\n    }\n</style>\n<table border=\"1\" class=\"dataframe\">\n  <thead>\n    <tr style=\"text-align: right;\">\n      <th></th>\n      <th>max_depth</th>\n      <th>media_treino</th>\n      <th>media_teste</th>\n    </tr>\n  </thead>\n  <tbody>\n    <tr>\n      <th>2</th>\n      <td>3</td>\n      <td>78.750993</td>\n      <td>78.672633</td>\n    </tr>\n    <tr>\n      <th>3</th>\n      <td>4</td>\n      <td>78.787628</td>\n      <td>78.632803</td>\n    </tr>\n    <tr>\n      <th>4</th>\n      <td>5</td>\n      <td>78.941007</td>\n      <td>78.555912</td>\n    </tr>\n    <tr>\n      <th>5</th>\n      <td>6</td>\n      <td>79.170115</td>\n      <td>78.123266</td>\n    </tr>\n    <tr>\n      <th>6</th>\n      <td>7</td>\n      <td>79.496806</td>\n      <td>77.963185</td>\n    </tr>\n  </tbody>\n</table>\n</div>"
     },
     "execution_count": 16,
     "metadata": {},
     "output_type": "execute_result"
    }
   ],
   "source": [
    "resultados.sort_values(\"media_teste\", ascending=False).head()"
   ],
   "metadata": {
    "collapsed": false,
    "pycharm": {
     "name": "#%%\n"
    }
   }
  },
  {
   "cell_type": "markdown",
   "source": [
    "# Explorando hiperparâmetros em 2 dimensões"
   ],
   "metadata": {
    "collapsed": false,
    "pycharm": {
     "name": "#%% md\n"
    }
   }
  },
  {
   "cell_type": "code",
   "execution_count": 17,
   "outputs": [
    {
     "name": "stdout",
     "output_type": "stream",
     "text": [
      "Árvore max_depth = 1, min_samples_leaf = 32, treino = 75.79%, teste = 75.78%\n",
      "Árvore max_depth = 1, min_samples_leaf = 64, treino = 75.79%, teste = 75.78%\n",
      "Árvore max_depth = 1, min_samples_leaf = 128, treino = 75.79%, teste = 75.78%\n",
      "Árvore max_depth = 1, min_samples_leaf = 256, treino = 75.79%, teste = 75.78%\n",
      "Árvore max_depth = 2, min_samples_leaf = 32, treino = 75.79%, teste = 75.78%\n",
      "Árvore max_depth = 2, min_samples_leaf = 64, treino = 75.79%, teste = 75.78%\n",
      "Árvore max_depth = 2, min_samples_leaf = 128, treino = 75.79%, teste = 75.78%\n",
      "Árvore max_depth = 2, min_samples_leaf = 256, treino = 75.79%, teste = 75.78%\n",
      "Árvore max_depth = 3, min_samples_leaf = 32, treino = 78.75%, teste = 78.67%\n",
      "Árvore max_depth = 3, min_samples_leaf = 64, treino = 78.75%, teste = 78.67%\n",
      "Árvore max_depth = 3, min_samples_leaf = 128, treino = 78.75%, teste = 78.67%\n",
      "Árvore max_depth = 3, min_samples_leaf = 256, treino = 78.75%, teste = 78.67%\n",
      "Árvore max_depth = 4, min_samples_leaf = 32, treino = 78.75%, teste = 78.67%\n",
      "Árvore max_depth = 4, min_samples_leaf = 64, treino = 78.75%, teste = 78.67%\n",
      "Árvore max_depth = 4, min_samples_leaf = 128, treino = 78.75%, teste = 78.67%\n",
      "Árvore max_depth = 4, min_samples_leaf = 256, treino = 78.75%, teste = 78.67%\n",
      "Árvore max_depth = 5, min_samples_leaf = 32, treino = 78.82%, teste = 78.50%\n",
      "Árvore max_depth = 5, min_samples_leaf = 64, treino = 78.79%, teste = 78.45%\n",
      "Árvore max_depth = 5, min_samples_leaf = 128, treino = 78.77%, teste = 78.44%\n",
      "Árvore max_depth = 5, min_samples_leaf = 256, treino = 78.77%, teste = 78.44%\n",
      "Árvore max_depth = 6, min_samples_leaf = 32, treino = 78.96%, teste = 78.02%\n",
      "Árvore max_depth = 6, min_samples_leaf = 64, treino = 78.92%, teste = 78.09%\n",
      "Árvore max_depth = 6, min_samples_leaf = 128, treino = 78.85%, teste = 78.27%\n",
      "Árvore max_depth = 6, min_samples_leaf = 256, treino = 78.79%, teste = 78.27%\n",
      "Árvore max_depth = 7, min_samples_leaf = 32, treino = 79.24%, teste = 77.94%\n",
      "Árvore max_depth = 7, min_samples_leaf = 64, treino = 79.18%, teste = 78.05%\n",
      "Árvore max_depth = 7, min_samples_leaf = 128, treino = 79.01%, teste = 78.21%\n",
      "Árvore max_depth = 7, min_samples_leaf = 256, treino = 78.85%, teste = 78.08%\n",
      "Árvore max_depth = 8, min_samples_leaf = 32, treino = 79.47%, teste = 77.93%\n",
      "Árvore max_depth = 8, min_samples_leaf = 64, treino = 79.30%, teste = 77.99%\n",
      "Árvore max_depth = 8, min_samples_leaf = 128, treino = 79.05%, teste = 78.37%\n",
      "Árvore max_depth = 8, min_samples_leaf = 256, treino = 78.89%, teste = 77.94%\n",
      "Árvore max_depth = 9, min_samples_leaf = 32, treino = 79.80%, teste = 77.32%\n",
      "Árvore max_depth = 9, min_samples_leaf = 64, treino = 79.46%, teste = 77.55%\n",
      "Árvore max_depth = 9, min_samples_leaf = 128, treino = 79.12%, teste = 78.30%\n",
      "Árvore max_depth = 9, min_samples_leaf = 256, treino = 78.90%, teste = 77.85%\n",
      "Árvore max_depth = 10, min_samples_leaf = 32, treino = 80.05%, teste = 77.45%\n",
      "Árvore max_depth = 10, min_samples_leaf = 64, treino = 79.55%, teste = 77.64%\n",
      "Árvore max_depth = 10, min_samples_leaf = 128, treino = 79.16%, teste = 78.29%\n",
      "Árvore max_depth = 10, min_samples_leaf = 256, treino = 78.90%, teste = 77.85%\n",
      "Árvore max_depth = 11, min_samples_leaf = 32, treino = 80.21%, teste = 77.20%\n",
      "Árvore max_depth = 11, min_samples_leaf = 64, treino = 79.60%, teste = 77.53%\n",
      "Árvore max_depth = 11, min_samples_leaf = 128, treino = 79.19%, teste = 78.31%\n",
      "Árvore max_depth = 11, min_samples_leaf = 256, treino = 78.90%, teste = 77.85%\n",
      "Árvore max_depth = 12, min_samples_leaf = 32, treino = 80.34%, teste = 77.00%\n",
      "Árvore max_depth = 12, min_samples_leaf = 64, treino = 79.72%, teste = 77.29%\n",
      "Árvore max_depth = 12, min_samples_leaf = 128, treino = 79.21%, teste = 78.22%\n",
      "Árvore max_depth = 12, min_samples_leaf = 256, treino = 78.90%, teste = 77.85%\n",
      "Árvore max_depth = 13, min_samples_leaf = 32, treino = 80.51%, teste = 76.85%\n",
      "Árvore max_depth = 13, min_samples_leaf = 64, treino = 79.74%, teste = 77.34%\n",
      "Árvore max_depth = 13, min_samples_leaf = 128, treino = 79.21%, teste = 78.22%\n",
      "Árvore max_depth = 13, min_samples_leaf = 256, treino = 78.90%, teste = 77.85%\n",
      "Árvore max_depth = 14, min_samples_leaf = 32, treino = 80.60%, teste = 76.69%\n",
      "Árvore max_depth = 14, min_samples_leaf = 64, treino = 79.77%, teste = 77.26%\n",
      "Árvore max_depth = 14, min_samples_leaf = 128, treino = 79.21%, teste = 78.22%\n",
      "Árvore max_depth = 14, min_samples_leaf = 256, treino = 78.90%, teste = 77.85%\n",
      "Árvore max_depth = 15, min_samples_leaf = 32, treino = 80.70%, teste = 76.88%\n",
      "Árvore max_depth = 15, min_samples_leaf = 64, treino = 79.79%, teste = 77.30%\n",
      "Árvore max_depth = 15, min_samples_leaf = 128, treino = 79.21%, teste = 78.22%\n",
      "Árvore max_depth = 15, min_samples_leaf = 256, treino = 78.90%, teste = 77.85%\n",
      "Árvore max_depth = 16, min_samples_leaf = 32, treino = 80.76%, teste = 76.87%\n",
      "Árvore max_depth = 16, min_samples_leaf = 64, treino = 79.79%, teste = 77.30%\n",
      "Árvore max_depth = 16, min_samples_leaf = 128, treino = 79.21%, teste = 78.22%\n",
      "Árvore max_depth = 16, min_samples_leaf = 256, treino = 78.90%, teste = 77.85%\n",
      "Árvore max_depth = 17, min_samples_leaf = 32, treino = 80.82%, teste = 76.98%\n",
      "Árvore max_depth = 17, min_samples_leaf = 64, treino = 79.79%, teste = 77.30%\n",
      "Árvore max_depth = 17, min_samples_leaf = 128, treino = 79.21%, teste = 78.22%\n",
      "Árvore max_depth = 17, min_samples_leaf = 256, treino = 78.90%, teste = 77.85%\n",
      "Árvore max_depth = 18, min_samples_leaf = 32, treino = 80.85%, teste = 76.86%\n",
      "Árvore max_depth = 18, min_samples_leaf = 64, treino = 79.79%, teste = 77.30%\n",
      "Árvore max_depth = 18, min_samples_leaf = 128, treino = 79.21%, teste = 78.22%\n",
      "Árvore max_depth = 18, min_samples_leaf = 256, treino = 78.90%, teste = 77.85%\n",
      "Árvore max_depth = 19, min_samples_leaf = 32, treino = 80.86%, teste = 76.89%\n",
      "Árvore max_depth = 19, min_samples_leaf = 64, treino = 79.79%, teste = 77.30%\n",
      "Árvore max_depth = 19, min_samples_leaf = 128, treino = 79.21%, teste = 78.22%\n",
      "Árvore max_depth = 19, min_samples_leaf = 256, treino = 78.90%, teste = 77.85%\n",
      "Árvore max_depth = 20, min_samples_leaf = 32, treino = 80.88%, teste = 76.87%\n",
      "Árvore max_depth = 20, min_samples_leaf = 64, treino = 79.79%, teste = 77.30%\n",
      "Árvore max_depth = 20, min_samples_leaf = 128, treino = 79.21%, teste = 78.22%\n",
      "Árvore max_depth = 20, min_samples_leaf = 256, treino = 78.90%, teste = 77.85%\n",
      "Árvore max_depth = 21, min_samples_leaf = 32, treino = 80.88%, teste = 76.92%\n",
      "Árvore max_depth = 21, min_samples_leaf = 64, treino = 79.79%, teste = 77.30%\n",
      "Árvore max_depth = 21, min_samples_leaf = 128, treino = 79.21%, teste = 78.22%\n",
      "Árvore max_depth = 21, min_samples_leaf = 256, treino = 78.90%, teste = 77.85%\n",
      "Árvore max_depth = 22, min_samples_leaf = 32, treino = 80.88%, teste = 76.87%\n",
      "Árvore max_depth = 22, min_samples_leaf = 64, treino = 79.79%, teste = 77.30%\n",
      "Árvore max_depth = 22, min_samples_leaf = 128, treino = 79.21%, teste = 78.22%\n",
      "Árvore max_depth = 22, min_samples_leaf = 256, treino = 78.90%, teste = 77.85%\n",
      "Árvore max_depth = 23, min_samples_leaf = 32, treino = 80.88%, teste = 76.87%\n",
      "Árvore max_depth = 23, min_samples_leaf = 64, treino = 79.79%, teste = 77.30%\n",
      "Árvore max_depth = 23, min_samples_leaf = 128, treino = 79.21%, teste = 78.22%\n",
      "Árvore max_depth = 23, min_samples_leaf = 256, treino = 78.90%, teste = 77.85%\n",
      "Árvore max_depth = 24, min_samples_leaf = 32, treino = 80.89%, teste = 76.84%\n",
      "Árvore max_depth = 24, min_samples_leaf = 64, treino = 79.79%, teste = 77.30%\n",
      "Árvore max_depth = 24, min_samples_leaf = 128, treino = 79.21%, teste = 78.22%\n",
      "Árvore max_depth = 24, min_samples_leaf = 256, treino = 78.90%, teste = 77.85%\n",
      "Árvore max_depth = 25, min_samples_leaf = 32, treino = 80.89%, teste = 76.84%\n",
      "Árvore max_depth = 25, min_samples_leaf = 64, treino = 79.79%, teste = 77.30%\n",
      "Árvore max_depth = 25, min_samples_leaf = 128, treino = 79.21%, teste = 78.22%\n",
      "Árvore max_depth = 25, min_samples_leaf = 256, treino = 78.90%, teste = 77.85%\n",
      "Árvore max_depth = 26, min_samples_leaf = 32, treino = 80.89%, teste = 76.84%\n",
      "Árvore max_depth = 26, min_samples_leaf = 64, treino = 79.79%, teste = 77.30%\n",
      "Árvore max_depth = 26, min_samples_leaf = 128, treino = 79.21%, teste = 78.22%\n",
      "Árvore max_depth = 26, min_samples_leaf = 256, treino = 78.90%, teste = 77.85%\n",
      "Árvore max_depth = 27, min_samples_leaf = 32, treino = 80.89%, teste = 76.84%\n",
      "Árvore max_depth = 27, min_samples_leaf = 64, treino = 79.79%, teste = 77.30%\n",
      "Árvore max_depth = 27, min_samples_leaf = 128, treino = 79.21%, teste = 78.22%\n",
      "Árvore max_depth = 27, min_samples_leaf = 256, treino = 78.90%, teste = 77.85%\n",
      "Árvore max_depth = 28, min_samples_leaf = 32, treino = 80.89%, teste = 76.84%\n",
      "Árvore max_depth = 28, min_samples_leaf = 64, treino = 79.79%, teste = 77.30%\n",
      "Árvore max_depth = 28, min_samples_leaf = 128, treino = 79.21%, teste = 78.22%\n",
      "Árvore max_depth = 28, min_samples_leaf = 256, treino = 78.90%, teste = 77.85%\n",
      "Árvore max_depth = 29, min_samples_leaf = 32, treino = 80.89%, teste = 76.84%\n",
      "Árvore max_depth = 29, min_samples_leaf = 64, treino = 79.79%, teste = 77.30%\n",
      "Árvore max_depth = 29, min_samples_leaf = 128, treino = 79.21%, teste = 78.22%\n",
      "Árvore max_depth = 29, min_samples_leaf = 256, treino = 78.90%, teste = 77.85%\n",
      "Árvore max_depth = 30, min_samples_leaf = 32, treino = 80.89%, teste = 76.84%\n",
      "Árvore max_depth = 30, min_samples_leaf = 64, treino = 79.79%, teste = 77.30%\n",
      "Árvore max_depth = 30, min_samples_leaf = 128, treino = 79.21%, teste = 78.22%\n",
      "Árvore max_depth = 30, min_samples_leaf = 256, treino = 78.90%, teste = 77.85%\n",
      "Árvore max_depth = 31, min_samples_leaf = 32, treino = 80.89%, teste = 76.84%\n",
      "Árvore max_depth = 31, min_samples_leaf = 64, treino = 79.79%, teste = 77.30%\n",
      "Árvore max_depth = 31, min_samples_leaf = 128, treino = 79.21%, teste = 78.22%\n",
      "Árvore max_depth = 31, min_samples_leaf = 256, treino = 78.90%, teste = 77.85%\n",
      "Árvore max_depth = 32, min_samples_leaf = 32, treino = 80.89%, teste = 76.84%\n",
      "Árvore max_depth = 32, min_samples_leaf = 64, treino = 79.79%, teste = 77.30%\n",
      "Árvore max_depth = 32, min_samples_leaf = 128, treino = 79.21%, teste = 78.22%\n",
      "Árvore max_depth = 32, min_samples_leaf = 256, treino = 78.90%, teste = 77.85%\n"
     ]
    }
   ],
   "source": [
    "def roda_arvore_de_decisao(max_depth, min_samples_leaf):\n",
    "    SEED = 301\n",
    "    np.random.seed(SEED)\n",
    "\n",
    "    cv = GroupKFold(n_splits=10)\n",
    "    modelo = DecisionTreeClassifier(max_depth=max_depth, min_samples_leaf=min_samples_leaf)\n",
    "    results = cross_validate(modelo, X_azar, y_azar, cv=cv, groups=dados.modelo, return_train_score=True)\n",
    "    media_treino = results['train_score'].mean() * 100\n",
    "    media_teste = results['test_score'].mean() * 100\n",
    "    print(f\"Árvore max_depth = {max_depth}, min_samples_leaf = {min_samples_leaf}, treino = {media_treino:0.2f}%, teste = {media_teste:0.2f}%\")\n",
    "    tabela = [max_depth, min_samples_leaf, media_treino, media_teste]\n",
    "    return tabela\n",
    "\n",
    "def busca():\n",
    "    resultados = []\n",
    "    for max_depth in range(1, 33):\n",
    "        for min_samples_leaf in [32, 64, 128, 256]:\n",
    "            tabela = roda_arvore_de_decisao(max_depth, min_samples_leaf)\n",
    "            resultados.append(tabela)\n",
    "\n",
    "    resultados = pd.DataFrame(resultados, columns=[\"max_depth\", \"min_samples_leaf\", \"media_treino\", \"media_teste\"])\n",
    "    return resultados\n",
    "\n",
    "resultados = busca()"
   ],
   "metadata": {
    "collapsed": false,
    "pycharm": {
     "name": "#%%\n"
    }
   }
  },
  {
   "cell_type": "code",
   "execution_count": 18,
   "outputs": [
    {
     "data": {
      "text/plain": "    max_depth  min_samples_leaf  media_treino  media_teste\n15          4               256     78.750993    78.672633\n12          4                32     78.750993    78.672633\n14          4               128     78.750993    78.672633\n13          4                64     78.750993    78.672633\n8           3                32     78.750993    78.672633",
      "text/html": "<div>\n<style scoped>\n    .dataframe tbody tr th:only-of-type {\n        vertical-align: middle;\n    }\n\n    .dataframe tbody tr th {\n        vertical-align: top;\n    }\n\n    .dataframe thead th {\n        text-align: right;\n    }\n</style>\n<table border=\"1\" class=\"dataframe\">\n  <thead>\n    <tr style=\"text-align: right;\">\n      <th></th>\n      <th>max_depth</th>\n      <th>min_samples_leaf</th>\n      <th>media_treino</th>\n      <th>media_teste</th>\n    </tr>\n  </thead>\n  <tbody>\n    <tr>\n      <th>15</th>\n      <td>4</td>\n      <td>256</td>\n      <td>78.750993</td>\n      <td>78.672633</td>\n    </tr>\n    <tr>\n      <th>12</th>\n      <td>4</td>\n      <td>32</td>\n      <td>78.750993</td>\n      <td>78.672633</td>\n    </tr>\n    <tr>\n      <th>14</th>\n      <td>4</td>\n      <td>128</td>\n      <td>78.750993</td>\n      <td>78.672633</td>\n    </tr>\n    <tr>\n      <th>13</th>\n      <td>4</td>\n      <td>64</td>\n      <td>78.750993</td>\n      <td>78.672633</td>\n    </tr>\n    <tr>\n      <th>8</th>\n      <td>3</td>\n      <td>32</td>\n      <td>78.750993</td>\n      <td>78.672633</td>\n    </tr>\n  </tbody>\n</table>\n</div>"
     },
     "execution_count": 18,
     "metadata": {},
     "output_type": "execute_result"
    }
   ],
   "source": [
    "resultados.sort_values(\"media_teste\", ascending=False).head()"
   ],
   "metadata": {
    "collapsed": false,
    "pycharm": {
     "name": "#%%\n"
    }
   }
  },
  {
   "cell_type": "code",
   "execution_count": 19,
   "outputs": [],
   "source": [
    "corr = resultados.corr()"
   ],
   "metadata": {
    "collapsed": false,
    "pycharm": {
     "name": "#%%\n"
    }
   }
  },
  {
   "cell_type": "code",
   "execution_count": 20,
   "outputs": [
    {
     "data": {
      "text/plain": "<AxesSubplot:>"
     },
     "execution_count": 20,
     "metadata": {},
     "output_type": "execute_result"
    },
    {
     "data": {
      "text/plain": "<Figure size 432x288 with 2 Axes>",
      "image/png": "[encoded data removed]"
     },
     "metadata": {},
     "output_type": "display_data"
    }
   ],
   "source": [
    "sns.heatmap(corr)"
   ],
   "metadata": {
    "collapsed": false,
    "pycharm": {
     "name": "#%%\n"
    }
   }
  },
  {
   "cell_type": "code",
   "execution_count": 21,
   "outputs": [
    {
     "data": {
      "text/plain": "array([[<AxesSubplot:xlabel='max_depth', ylabel='max_depth'>,\n        <AxesSubplot:xlabel='min_samples_leaf', ylabel='max_depth'>,\n        <AxesSubplot:xlabel='media_treino', ylabel='max_depth'>,\n        <AxesSubplot:xlabel='media_teste', ylabel='max_depth'>],\n       [<AxesSubplot:xlabel='max_depth', ylabel='min_samples_leaf'>,\n        <AxesSubplot:xlabel='min_samples_leaf', ylabel='min_samples_leaf'>,\n        <AxesSubplot:xlabel='media_treino', ylabel='min_samples_leaf'>,\n        <AxesSubplot:xlabel='media_teste', ylabel='min_samples_leaf'>],\n       [<AxesSubplot:xlabel='max_depth', ylabel='media_treino'>,\n        <AxesSubplot:xlabel='min_samples_leaf', ylabel='media_treino'>,\n        <AxesSubplot:xlabel='media_treino', ylabel='media_treino'>,\n        <AxesSubplot:xlabel='media_teste', ylabel='media_treino'>],\n       [<AxesSubplot:xlabel='max_depth', ylabel='media_teste'>,\n        <AxesSubplot:xlabel='min_samples_leaf', ylabel='media_teste'>,\n        <AxesSubplot:xlabel='media_treino', ylabel='media_teste'>,\n        <AxesSubplot:xlabel='media_teste', ylabel='media_teste'>]],\n      dtype=object)"
     },
     "execution_count": 21,
     "metadata": {},
     "output_type": "execute_result"
    },
    {
     "data": {
      "text/plain": "<Figure size 1008x576 with 16 Axes>",
      "image/png": "[encoded data removed]"
     },
     "metadata": {},
     "output_type": "display_data"
    }
   ],
   "source": [
    "pd.plotting.scatter_matrix(resultados, figsize=(14, 8), alpha=0.3)"
   ],
   "metadata": {
    "collapsed": false,
    "pycharm": {
     "name": "#%%\n"
    }
   }
  },
  {
   "cell_type": "code",
   "execution_count": 22,
   "outputs": [
    {
     "data": {
      "text/plain": "<seaborn.axisgrid.PairGrid at 0x20b921d06a0>"
     },
     "execution_count": 22,
     "metadata": {},
     "output_type": "execute_result"
    },
    {
     "data": {
      "text/plain": "<Figure size 720x720 with 20 Axes>",
      "image/png": "[encoded data removed]"
     },
     "metadata": {},
     "output_type": "display_data"
    }
   ],
   "source": [
    "sns.pairplot(resultados)"
   ],
   "metadata": {
    "collapsed": false,
    "pycharm": {
     "name": "#%%\n"
    }
   }
  },
  {
   "cell_type": "code",
   "execution_count": 23,
   "outputs": [
    {
     "data": {
      "text/plain": "<AxesSubplot:>"
     },
     "execution_count": 23,
     "metadata": {},
     "output_type": "execute_result"
    },
    {
     "data": {
      "text/plain": "<Figure size 792x648 with 2 Axes>",
      "image/png": "[encoded data removed]"
     },
     "metadata": {},
     "output_type": "display_data"
    }
   ],
   "source": [
    "from string import ascii_letters\n",
    "import matplotlib.pyplot as plt\n",
    "\n",
    "sns.set_theme(style=\"white\")\n",
    "\n",
    "# Generate a mask for the upper triangle\n",
    "mask = np.triu(np.ones_like(corr, dtype=bool))\n",
    "\n",
    "# Set up the matplotlib figure\n",
    "f, ax = plt.subplots(figsize=(11, 9))\n",
    "\n",
    "# Generate a custom diverging colormap\n",
    "cmap = sns.diverging_palette(230, 20, as_cmap=True)\n",
    "\n",
    "# Draw the heatmap with the mask and correct aspect ratio\n",
    "sns.heatmap(corr, mask=mask, cmap=cmap, vmax=.3, center=0,\n",
    "            square=True, linewidths=.5, cbar_kws={\"shrink\": .5})"
   ],
   "metadata": {
    "collapsed": false,
    "pycharm": {
     "name": "#%%\n"
    }
   }
  },
  {
   "cell_type": "code",
   "execution_count": 24,
   "outputs": [
    {
     "name": "stdout",
     "output_type": "stream",
     "text": [
      "Árvore max_depth = 1, min_samples_leaf = 128, treino = 75.79%, teste = 75.78%\n",
      "Árvore max_depth = 1, min_samples_leaf = 192, treino = 75.79%, teste = 75.78%\n",
      "Árvore max_depth = 1, min_samples_leaf = 256, treino = 75.79%, teste = 75.78%\n",
      "Árvore max_depth = 1, min_samples_leaf = 512, treino = 75.79%, teste = 75.78%\n",
      "Árvore max_depth = 2, min_samples_leaf = 128, treino = 75.79%, teste = 75.78%\n",
      "Árvore max_depth = 2, min_samples_leaf = 192, treino = 75.79%, teste = 75.78%\n",
      "Árvore max_depth = 2, min_samples_leaf = 256, treino = 75.79%, teste = 75.78%\n",
      "Árvore max_depth = 2, min_samples_leaf = 512, treino = 75.79%, teste = 75.78%\n",
      "Árvore max_depth = 3, min_samples_leaf = 128, treino = 78.75%, teste = 78.67%\n",
      "Árvore max_depth = 3, min_samples_leaf = 192, treino = 78.75%, teste = 78.67%\n",
      "Árvore max_depth = 3, min_samples_leaf = 256, treino = 78.75%, teste = 78.67%\n",
      "Árvore max_depth = 3, min_samples_leaf = 512, treino = 77.53%, teste = 77.50%\n",
      "Árvore max_depth = 4, min_samples_leaf = 128, treino = 78.75%, teste = 78.67%\n",
      "Árvore max_depth = 4, min_samples_leaf = 192, treino = 78.75%, teste = 78.67%\n",
      "Árvore max_depth = 4, min_samples_leaf = 256, treino = 78.75%, teste = 78.67%\n",
      "Árvore max_depth = 4, min_samples_leaf = 512, treino = 77.53%, teste = 77.50%\n",
      "Árvore max_depth = 5, min_samples_leaf = 128, treino = 78.77%, teste = 78.44%\n",
      "Árvore max_depth = 5, min_samples_leaf = 192, treino = 78.77%, teste = 78.44%\n",
      "Árvore max_depth = 5, min_samples_leaf = 256, treino = 78.77%, teste = 78.44%\n",
      "Árvore max_depth = 5, min_samples_leaf = 512, treino = 77.53%, teste = 77.50%\n",
      "Árvore max_depth = 6, min_samples_leaf = 128, treino = 78.85%, teste = 78.27%\n",
      "Árvore max_depth = 6, min_samples_leaf = 192, treino = 78.79%, teste = 78.31%\n",
      "Árvore max_depth = 6, min_samples_leaf = 256, treino = 78.79%, teste = 78.27%\n",
      "Árvore max_depth = 6, min_samples_leaf = 512, treino = 77.53%, teste = 77.50%\n",
      "Árvore max_depth = 7, min_samples_leaf = 128, treino = 79.01%, teste = 78.21%\n",
      "Árvore max_depth = 7, min_samples_leaf = 192, treino = 78.92%, teste = 78.10%\n",
      "Árvore max_depth = 7, min_samples_leaf = 256, treino = 78.85%, teste = 78.08%\n",
      "Árvore max_depth = 7, min_samples_leaf = 512, treino = 77.53%, teste = 77.50%\n",
      "Árvore max_depth = 8, min_samples_leaf = 128, treino = 79.05%, teste = 78.37%\n",
      "Árvore max_depth = 8, min_samples_leaf = 192, treino = 78.98%, teste = 78.20%\n",
      "Árvore max_depth = 8, min_samples_leaf = 256, treino = 78.89%, teste = 77.94%\n",
      "Árvore max_depth = 8, min_samples_leaf = 512, treino = 77.53%, teste = 77.50%\n",
      "Árvore max_depth = 9, min_samples_leaf = 128, treino = 79.12%, teste = 78.30%\n",
      "Árvore max_depth = 9, min_samples_leaf = 192, treino = 78.99%, teste = 78.11%\n",
      "Árvore max_depth = 9, min_samples_leaf = 256, treino = 78.90%, teste = 77.85%\n",
      "Árvore max_depth = 9, min_samples_leaf = 512, treino = 77.53%, teste = 77.50%\n",
      "Árvore max_depth = 10, min_samples_leaf = 128, treino = 79.16%, teste = 78.29%\n",
      "Árvore max_depth = 10, min_samples_leaf = 192, treino = 79.01%, teste = 78.05%\n",
      "Árvore max_depth = 10, min_samples_leaf = 256, treino = 78.90%, teste = 77.85%\n",
      "Árvore max_depth = 10, min_samples_leaf = 512, treino = 77.53%, teste = 77.50%\n",
      "Árvore max_depth = 11, min_samples_leaf = 128, treino = 79.19%, teste = 78.31%\n",
      "Árvore max_depth = 11, min_samples_leaf = 192, treino = 79.01%, teste = 78.05%\n",
      "Árvore max_depth = 11, min_samples_leaf = 256, treino = 78.90%, teste = 77.85%\n",
      "Árvore max_depth = 11, min_samples_leaf = 512, treino = 77.53%, teste = 77.50%\n",
      "Árvore max_depth = 12, min_samples_leaf = 128, treino = 79.21%, teste = 78.22%\n",
      "Árvore max_depth = 12, min_samples_leaf = 192, treino = 79.01%, teste = 78.05%\n",
      "Árvore max_depth = 12, min_samples_leaf = 256, treino = 78.90%, teste = 77.85%\n",
      "Árvore max_depth = 12, min_samples_leaf = 512, treino = 77.53%, teste = 77.50%\n",
      "Árvore max_depth = 13, min_samples_leaf = 128, treino = 79.21%, teste = 78.22%\n",
      "Árvore max_depth = 13, min_samples_leaf = 192, treino = 79.01%, teste = 78.05%\n",
      "Árvore max_depth = 13, min_samples_leaf = 256, treino = 78.90%, teste = 77.85%\n",
      "Árvore max_depth = 13, min_samples_leaf = 512, treino = 77.53%, teste = 77.50%\n",
      "Árvore max_depth = 14, min_samples_leaf = 128, treino = 79.21%, teste = 78.22%\n",
      "Árvore max_depth = 14, min_samples_leaf = 192, treino = 79.01%, teste = 78.05%\n",
      "Árvore max_depth = 14, min_samples_leaf = 256, treino = 78.90%, teste = 77.85%\n",
      "Árvore max_depth = 14, min_samples_leaf = 512, treino = 77.53%, teste = 77.50%\n",
      "Árvore max_depth = 15, min_samples_leaf = 128, treino = 79.21%, teste = 78.22%\n",
      "Árvore max_depth = 15, min_samples_leaf = 192, treino = 79.01%, teste = 78.05%\n",
      "Árvore max_depth = 15, min_samples_leaf = 256, treino = 78.90%, teste = 77.85%\n",
      "Árvore max_depth = 15, min_samples_leaf = 512, treino = 77.53%, teste = 77.50%\n",
      "Árvore max_depth = 16, min_samples_leaf = 128, treino = 79.21%, teste = 78.22%\n",
      "Árvore max_depth = 16, min_samples_leaf = 192, treino = 79.01%, teste = 78.05%\n",
      "Árvore max_depth = 16, min_samples_leaf = 256, treino = 78.90%, teste = 77.85%\n",
      "Árvore max_depth = 16, min_samples_leaf = 512, treino = 77.53%, teste = 77.50%\n",
      "Árvore max_depth = 17, min_samples_leaf = 128, treino = 79.21%, teste = 78.22%\n",
      "Árvore max_depth = 17, min_samples_leaf = 192, treino = 79.01%, teste = 78.05%\n",
      "Árvore max_depth = 17, min_samples_leaf = 256, treino = 78.90%, teste = 77.85%\n",
      "Árvore max_depth = 17, min_samples_leaf = 512, treino = 77.53%, teste = 77.50%\n",
      "Árvore max_depth = 18, min_samples_leaf = 128, treino = 79.21%, teste = 78.22%\n",
      "Árvore max_depth = 18, min_samples_leaf = 192, treino = 79.01%, teste = 78.05%\n",
      "Árvore max_depth = 18, min_samples_leaf = 256, treino = 78.90%, teste = 77.85%\n",
      "Árvore max_depth = 18, min_samples_leaf = 512, treino = 77.53%, teste = 77.50%\n",
      "Árvore max_depth = 19, min_samples_leaf = 128, treino = 79.21%, teste = 78.22%\n",
      "Árvore max_depth = 19, min_samples_leaf = 192, treino = 79.01%, teste = 78.05%\n",
      "Árvore max_depth = 19, min_samples_leaf = 256, treino = 78.90%, teste = 77.85%\n",
      "Árvore max_depth = 19, min_samples_leaf = 512, treino = 77.53%, teste = 77.50%\n",
      "Árvore max_depth = 20, min_samples_leaf = 128, treino = 79.21%, teste = 78.22%\n",
      "Árvore max_depth = 20, min_samples_leaf = 192, treino = 79.01%, teste = 78.05%\n",
      "Árvore max_depth = 20, min_samples_leaf = 256, treino = 78.90%, teste = 77.85%\n",
      "Árvore max_depth = 20, min_samples_leaf = 512, treino = 77.53%, teste = 77.50%\n",
      "Árvore max_depth = 21, min_samples_leaf = 128, treino = 79.21%, teste = 78.22%\n",
      "Árvore max_depth = 21, min_samples_leaf = 192, treino = 79.01%, teste = 78.05%\n",
      "Árvore max_depth = 21, min_samples_leaf = 256, treino = 78.90%, teste = 77.85%\n",
      "Árvore max_depth = 21, min_samples_leaf = 512, treino = 77.53%, teste = 77.50%\n",
      "Árvore max_depth = 22, min_samples_leaf = 128, treino = 79.21%, teste = 78.22%\n",
      "Árvore max_depth = 22, min_samples_leaf = 192, treino = 79.01%, teste = 78.05%\n",
      "Árvore max_depth = 22, min_samples_leaf = 256, treino = 78.90%, teste = 77.85%\n",
      "Árvore max_depth = 22, min_samples_leaf = 512, treino = 77.53%, teste = 77.50%\n",
      "Árvore max_depth = 23, min_samples_leaf = 128, treino = 79.21%, teste = 78.22%\n",
      "Árvore max_depth = 23, min_samples_leaf = 192, treino = 79.01%, teste = 78.05%\n",
      "Árvore max_depth = 23, min_samples_leaf = 256, treino = 78.90%, teste = 77.85%\n",
      "Árvore max_depth = 23, min_samples_leaf = 512, treino = 77.53%, teste = 77.50%\n",
      "Árvore max_depth = 24, min_samples_leaf = 128, treino = 79.21%, teste = 78.22%\n",
      "Árvore max_depth = 24, min_samples_leaf = 192, treino = 79.01%, teste = 78.05%\n",
      "Árvore max_depth = 24, min_samples_leaf = 256, treino = 78.90%, teste = 77.85%\n",
      "Árvore max_depth = 24, min_samples_leaf = 512, treino = 77.53%, teste = 77.50%\n",
      "Árvore max_depth = 25, min_samples_leaf = 128, treino = 79.21%, teste = 78.22%\n",
      "Árvore max_depth = 25, min_samples_leaf = 192, treino = 79.01%, teste = 78.05%\n",
      "Árvore max_depth = 25, min_samples_leaf = 256, treino = 78.90%, teste = 77.85%\n",
      "Árvore max_depth = 25, min_samples_leaf = 512, treino = 77.53%, teste = 77.50%\n",
      "Árvore max_depth = 26, min_samples_leaf = 128, treino = 79.21%, teste = 78.22%\n",
      "Árvore max_depth = 26, min_samples_leaf = 192, treino = 79.01%, teste = 78.05%\n",
      "Árvore max_depth = 26, min_samples_leaf = 256, treino = 78.90%, teste = 77.85%\n",
      "Árvore max_depth = 26, min_samples_leaf = 512, treino = 77.53%, teste = 77.50%\n",
      "Árvore max_depth = 27, min_samples_leaf = 128, treino = 79.21%, teste = 78.22%\n",
      "Árvore max_depth = 27, min_samples_leaf = 192, treino = 79.01%, teste = 78.05%\n",
      "Árvore max_depth = 27, min_samples_leaf = 256, treino = 78.90%, teste = 77.85%\n",
      "Árvore max_depth = 27, min_samples_leaf = 512, treino = 77.53%, teste = 77.50%\n",
      "Árvore max_depth = 28, min_samples_leaf = 128, treino = 79.21%, teste = 78.22%\n",
      "Árvore max_depth = 28, min_samples_leaf = 192, treino = 79.01%, teste = 78.05%\n",
      "Árvore max_depth = 28, min_samples_leaf = 256, treino = 78.90%, teste = 77.85%\n",
      "Árvore max_depth = 28, min_samples_leaf = 512, treino = 77.53%, teste = 77.50%\n",
      "Árvore max_depth = 29, min_samples_leaf = 128, treino = 79.21%, teste = 78.22%\n",
      "Árvore max_depth = 29, min_samples_leaf = 192, treino = 79.01%, teste = 78.05%\n",
      "Árvore max_depth = 29, min_samples_leaf = 256, treino = 78.90%, teste = 77.85%\n",
      "Árvore max_depth = 29, min_samples_leaf = 512, treino = 77.53%, teste = 77.50%\n",
      "Árvore max_depth = 30, min_samples_leaf = 128, treino = 79.21%, teste = 78.22%\n",
      "Árvore max_depth = 30, min_samples_leaf = 192, treino = 79.01%, teste = 78.05%\n",
      "Árvore max_depth = 30, min_samples_leaf = 256, treino = 78.90%, teste = 77.85%\n",
      "Árvore max_depth = 30, min_samples_leaf = 512, treino = 77.53%, teste = 77.50%\n",
      "Árvore max_depth = 31, min_samples_leaf = 128, treino = 79.21%, teste = 78.22%\n",
      "Árvore max_depth = 31, min_samples_leaf = 192, treino = 79.01%, teste = 78.05%\n",
      "Árvore max_depth = 31, min_samples_leaf = 256, treino = 78.90%, teste = 77.85%\n",
      "Árvore max_depth = 31, min_samples_leaf = 512, treino = 77.53%, teste = 77.50%\n",
      "Árvore max_depth = 32, min_samples_leaf = 128, treino = 79.21%, teste = 78.22%\n",
      "Árvore max_depth = 32, min_samples_leaf = 192, treino = 79.01%, teste = 78.05%\n",
      "Árvore max_depth = 32, min_samples_leaf = 256, treino = 78.90%, teste = 77.85%\n",
      "Árvore max_depth = 32, min_samples_leaf = 512, treino = 77.53%, teste = 77.50%\n"
     ]
    }
   ],
   "source": [
    "def busca():\n",
    "    resultados = []\n",
    "    for max_depth in range(1, 33):\n",
    "        for min_samples_leaf in [128, 192, 256, 512]:\n",
    "            tabela = roda_arvore_de_decisao(max_depth, min_samples_leaf)\n",
    "            resultados.append(tabela)\n",
    "\n",
    "    resultados = pd.DataFrame(resultados, columns=[\"max_depth\", \"min_samples_leaf\", \"media_treino\", \"media_teste\"])\n",
    "    return resultados\n",
    "\n",
    "resultados = busca()"
   ],
   "metadata": {
    "collapsed": false,
    "pycharm": {
     "name": "#%%\n"
    }
   }
  },
  {
   "cell_type": "code",
   "execution_count": 25,
   "outputs": [],
   "source": [
    "corr = resultados.corr()"
   ],
   "metadata": {
    "collapsed": false,
    "pycharm": {
     "name": "#%%\n"
    }
   }
  },
  {
   "cell_type": "code",
   "execution_count": 26,
   "outputs": [
    {
     "data": {
      "text/plain": "<AxesSubplot:>"
     },
     "execution_count": 26,
     "metadata": {},
     "output_type": "execute_result"
    },
    {
     "data": {
      "text/plain": "<Figure size 792x648 with 2 Axes>",
      "image/png": "[encoded data removed]"
     },
     "metadata": {},
     "output_type": "display_data"
    }
   ],
   "source": [
    "sns.set_theme(style=\"white\")\n",
    "\n",
    "# Generate a mask for the upper triangle\n",
    "mask = np.triu(np.ones_like(corr, dtype=bool))\n",
    "\n",
    "# Set up the matplotlib figure\n",
    "f, ax = plt.subplots(figsize=(11, 9))\n",
    "\n",
    "# Generate a custom diverging colormap\n",
    "cmap = sns.diverging_palette(230, 20, as_cmap=True)\n",
    "\n",
    "# Draw the heatmap with the mask and correct aspect ratio\n",
    "sns.heatmap(corr, mask=mask, cmap=cmap, vmax=.3, center=0,\n",
    "            square=True, linewidths=.5, cbar_kws={\"shrink\": .5})"
   ],
   "metadata": {
    "collapsed": false,
    "pycharm": {
     "name": "#%%\n"
    }
   }
  },
  {
   "cell_type": "code",
   "execution_count": 27,
   "outputs": [
    {
     "data": {
      "text/plain": "    max_depth  min_samples_leaf  media_treino  media_teste\n13          4               192     78.750993    78.672633\n8           3               128     78.750993    78.672633\n9           3               192     78.750993    78.672633\n10          3               256     78.750993    78.672633\n14          4               256     78.750993    78.672633",
      "text/html": "<div>\n<style scoped>\n    .dataframe tbody tr th:only-of-type {\n        vertical-align: middle;\n    }\n\n    .dataframe tbody tr th {\n        vertical-align: top;\n    }\n\n    .dataframe thead th {\n        text-align: right;\n    }\n</style>\n<table border=\"1\" class=\"dataframe\">\n  <thead>\n    <tr style=\"text-align: right;\">\n      <th></th>\n      <th>max_depth</th>\n      <th>min_samples_leaf</th>\n      <th>media_treino</th>\n      <th>media_teste</th>\n    </tr>\n  </thead>\n  <tbody>\n    <tr>\n      <th>13</th>\n      <td>4</td>\n      <td>192</td>\n      <td>78.750993</td>\n      <td>78.672633</td>\n    </tr>\n    <tr>\n      <th>8</th>\n      <td>3</td>\n      <td>128</td>\n      <td>78.750993</td>\n      <td>78.672633</td>\n    </tr>\n    <tr>\n      <th>9</th>\n      <td>3</td>\n      <td>192</td>\n      <td>78.750993</td>\n      <td>78.672633</td>\n    </tr>\n    <tr>\n      <th>10</th>\n      <td>3</td>\n      <td>256</td>\n      <td>78.750993</td>\n      <td>78.672633</td>\n    </tr>\n    <tr>\n      <th>14</th>\n      <td>4</td>\n      <td>256</td>\n      <td>78.750993</td>\n      <td>78.672633</td>\n    </tr>\n  </tbody>\n</table>\n</div>"
     },
     "execution_count": 27,
     "metadata": {},
     "output_type": "execute_result"
    }
   ],
   "source": [
    "resultados.sort_values(\"media_teste\", ascending=False).head()"
   ],
   "metadata": {
    "collapsed": false,
    "pycharm": {
     "name": "#%%\n"
    }
   }
  },
  {
   "cell_type": "markdown",
   "source": [
    "# Explorando hiperparâmetros em 3 dimensões"
   ],
   "metadata": {
    "collapsed": false,
    "pycharm": {
     "name": "#%% md\n"
    }
   }
  },
  {
   "cell_type": "code",
   "execution_count": 28,
   "outputs": [],
   "source": [
    "def roda_arvore_de_decisao(max_depth, min_samples_leaf, min_samples_split):\n",
    "    SEED = 301\n",
    "    np.random.seed(SEED)\n",
    "\n",
    "    cv = GroupKFold(n_splits=10)\n",
    "    modelo = DecisionTreeClassifier(max_depth=max_depth, min_samples_leaf=min_samples_leaf, min_samples_split=min_samples_split)\n",
    "    results = cross_validate(modelo, X_azar, y_azar, cv=cv, groups=dados.modelo, return_train_score=True)\n",
    "    media_treino = results['train_score'].mean() * 100\n",
    "    media_teste = results['test_score'].mean() * 100\n",
    "    media_tempo_treino = results[\"fit_time\"].mean() * 100 # tempo de treino\n",
    "    media_tempo_teste = results[\"score_time\"].mean() * 100 # tempo de teste\n",
    "    tabela = [max_depth, min_samples_leaf, min_samples_split, media_treino, media_teste, media_tempo_treino, media_tempo_teste]\n",
    "    return tabela\n",
    "\n",
    "def busca():\n",
    "    resultados = []\n",
    "    for max_depth in range(1, 33):\n",
    "        for min_samples_leaf in [32, 64, 128, 256]:\n",
    "            for min_samples_split in [32, 64, 128, 256]:\n",
    "                tabela = roda_arvore_de_decisao(max_depth, min_samples_leaf, min_samples_split)\n",
    "                resultados.append(tabela)\n",
    "\n",
    "    resultados = pd.DataFrame(resultados, columns=[\"max_depth\", \"min_samples_leaf\", \"min_samples_split\", \"media_treino\", \"media_teste\", \"media_tempo_treino\", \"media_tempo_teste\"])\n",
    "    return resultados\n",
    "\n",
    "resultados = busca()"
   ],
   "metadata": {
    "collapsed": false,
    "pycharm": {
     "name": "#%%\n"
    }
   }
  },
  {
   "cell_type": "code",
   "execution_count": 29,
   "outputs": [],
   "source": [
    "corr = resultados.corr()"
   ],
   "metadata": {
    "collapsed": false,
    "pycharm": {
     "name": "#%%\n"
    }
   }
  },
  {
   "cell_type": "code",
   "execution_count": 30,
   "outputs": [
    {
     "data": {
      "text/plain": "<AxesSubplot:>"
     },
     "execution_count": 30,
     "metadata": {},
     "output_type": "execute_result"
    },
    {
     "data": {
      "text/plain": "<Figure size 792x648 with 2 Axes>",
      "image/png": "[encoded data removed]"
     },
     "metadata": {},
     "output_type": "display_data"
    }
   ],
   "source": [
    "sns.set_theme(style=\"white\")\n",
    "\n",
    "# Generate a mask for the upper triangle\n",
    "mask = np.triu(np.ones_like(corr, dtype=bool))\n",
    "\n",
    "# Set up the matplotlib figure\n",
    "f, ax = plt.subplots(figsize=(11, 9))\n",
    "\n",
    "# Generate a custom diverging colormap\n",
    "cmap = sns.diverging_palette(230, 20, as_cmap=True)\n",
    "\n",
    "# Draw the heatmap with the mask and correct aspect ratio\n",
    "sns.heatmap(corr, mask=mask, cmap=cmap, vmax=.3, center=0,\n",
    "            square=True, linewidths=.5, cbar_kws={\"shrink\": .5})"
   ],
   "metadata": {
    "collapsed": false,
    "pycharm": {
     "name": "#%%\n"
    }
   }
  },
  {
   "cell_type": "code",
   "execution_count": 31,
   "outputs": [
    {
     "data": {
      "text/plain": "    max_depth  min_samples_leaf  min_samples_split  media_treino  media_teste  \\\n63          4               256                256     78.750993    78.672633   \n48          4                32                 32     78.750993    78.672633   \n34          3                32                128     78.750993    78.672633   \n35          3                32                256     78.750993    78.672633   \n36          3                64                 32     78.750993    78.672633   \n\n    media_tempo_treino  media_tempo_teste  \n63            0.989711           0.159943  \n48            1.039677           0.149968  \n34            0.899725           0.179954  \n35            0.959692           0.179944  \n36            1.009645           0.159979  ",
      "text/html": "<div>\n<style scoped>\n    .dataframe tbody tr th:only-of-type {\n        vertical-align: middle;\n    }\n\n    .dataframe tbody tr th {\n        vertical-align: top;\n    }\n\n    .dataframe thead th {\n        text-align: right;\n    }\n</style>\n<table border=\"1\" class=\"dataframe\">\n  <thead>\n    <tr style=\"text-align: right;\">\n      <th></th>\n      <th>max_depth</th>\n      <th>min_samples_leaf</th>\n      <th>min_samples_split</th>\n      <th>media_treino</th>\n      <th>media_teste</th>\n      <th>media_tempo_treino</th>\n      <th>media_tempo_teste</th>\n    </tr>\n  </thead>\n  <tbody>\n    <tr>\n      <th>63</th>\n      <td>4</td>\n      <td>256</td>\n      <td>256</td>\n      <td>78.750993</td>\n      <td>78.672633</td>\n      <td>0.989711</td>\n      <td>0.159943</td>\n    </tr>\n    <tr>\n      <th>48</th>\n      <td>4</td>\n      <td>32</td>\n      <td>32</td>\n      <td>78.750993</td>\n      <td>78.672633</td>\n      <td>1.039677</td>\n      <td>0.149968</td>\n    </tr>\n    <tr>\n      <th>34</th>\n      <td>3</td>\n      <td>32</td>\n      <td>128</td>\n      <td>78.750993</td>\n      <td>78.672633</td>\n      <td>0.899725</td>\n      <td>0.179954</td>\n    </tr>\n    <tr>\n      <th>35</th>\n      <td>3</td>\n      <td>32</td>\n      <td>256</td>\n      <td>78.750993</td>\n      <td>78.672633</td>\n      <td>0.959692</td>\n      <td>0.179944</td>\n    </tr>\n    <tr>\n      <th>36</th>\n      <td>3</td>\n      <td>64</td>\n      <td>32</td>\n      <td>78.750993</td>\n      <td>78.672633</td>\n      <td>1.009645</td>\n      <td>0.159979</td>\n    </tr>\n  </tbody>\n</table>\n</div>"
     },
     "execution_count": 31,
     "metadata": {},
     "output_type": "execute_result"
    }
   ],
   "source": [
    "resultados.sort_values(\"media_teste\", ascending=False).head()"
   ],
   "metadata": {
    "collapsed": false,
    "pycharm": {
     "name": "#%%\n"
    }
   }
  },
  {
   "cell_type": "markdown",
   "source": [
    "# Explorando espaço de hiperparâmetros com GridSearchCV"
   ],
   "metadata": {
    "collapsed": false,
    "pycharm": {
     "name": "#%% md\n"
    }
   }
  },
  {
   "cell_type": "code",
   "execution_count": 32,
   "outputs": [
    {
     "data": {
      "text/plain": "   mean_fit_time  std_fit_time  mean_score_time  std_score_time  \\\n0       0.008897      0.000538         0.001799        0.000400   \n1       0.008698      0.000459         0.001799        0.000400   \n2       0.008798      0.000400         0.001399        0.000489   \n3       0.008798      0.000399         0.001499        0.000500   \n4       0.012196      0.005380         0.002299        0.001486   \n\n  param_criterion param_max_depth param_min_samples_leaf  \\\n0            gini               3                     32   \n1            gini               3                     32   \n2            gini               3                     32   \n3            gini               3                     64   \n4            gini               3                     64   \n\n  param_min_samples_split                                             params  \\\n0                      32  {'criterion': 'gini', 'max_depth': 3, 'min_sam...   \n1                      64  {'criterion': 'gini', 'max_depth': 3, 'min_sam...   \n2                     128  {'criterion': 'gini', 'max_depth': 3, 'min_sam...   \n3                      32  {'criterion': 'gini', 'max_depth': 3, 'min_sam...   \n4                      64  {'criterion': 'gini', 'max_depth': 3, 'min_sam...   \n\n   split0_test_score  ...  split3_test_score  split4_test_score  \\\n0           0.804757  ...            0.78408           0.783181   \n1           0.804757  ...            0.78408           0.783181   \n2           0.804757  ...            0.78408           0.783181   \n3           0.804757  ...            0.78408           0.783181   \n4           0.804757  ...            0.78408           0.783181   \n\n   split5_test_score  split6_test_score  split7_test_score  split8_test_score  \\\n0           0.797809           0.762866           0.781818            0.77551   \n1           0.797809           0.762866           0.781818            0.77551   \n2           0.797809           0.762866           0.781818            0.77551   \n3           0.797809           0.762866           0.781818            0.77551   \n4           0.797809           0.762866           0.781818            0.77551   \n\n   split9_test_score  mean_test_score  std_test_score  rank_test_score  \n0           0.790262         0.786726        0.011361                1  \n1           0.790262         0.786726        0.011361                1  \n2           0.790262         0.786726        0.011361                1  \n3           0.790262         0.786726        0.011361                1  \n4           0.790262         0.786726        0.011361                1  \n\n[5 rows x 22 columns]",
      "text/html": "<div>\n<style scoped>\n    .dataframe tbody tr th:only-of-type {\n        vertical-align: middle;\n    }\n\n    .dataframe tbody tr th {\n        vertical-align: top;\n    }\n\n    .dataframe thead th {\n        text-align: right;\n    }\n</style>\n<table border=\"1\" class=\"dataframe\">\n  <thead>\n    <tr style=\"text-align: right;\">\n      <th></th>\n      <th>mean_fit_time</th>\n      <th>std_fit_time</th>\n      <th>mean_score_time</th>\n      <th>std_score_time</th>\n      <th>param_criterion</th>\n      <th>param_max_depth</th>\n      <th>param_min_samples_leaf</th>\n      <th>param_min_samples_split</th>\n      <th>params</th>\n      <th>split0_test_score</th>\n      <th>...</th>\n      <th>split3_test_score</th>\n      <th>split4_test_score</th>\n      <th>split5_test_score</th>\n      <th>split6_test_score</th>\n      <th>split7_test_score</th>\n      <th>split8_test_score</th>\n      <th>split9_test_score</th>\n      <th>mean_test_score</th>\n      <th>std_test_score</th>\n      <th>rank_test_score</th>\n    </tr>\n  </thead>\n  <tbody>\n    <tr>\n      <th>0</th>\n      <td>0.008897</td>\n      <td>0.000538</td>\n      <td>0.001799</td>\n      <td>0.000400</td>\n      <td>gini</td>\n      <td>3</td>\n      <td>32</td>\n      <td>32</td>\n      <td>{'criterion': 'gini', 'max_depth': 3, 'min_sam...</td>\n      <td>0.804757</td>\n      <td>...</td>\n      <td>0.78408</td>\n      <td>0.783181</td>\n      <td>0.797809</td>\n      <td>0.762866</td>\n      <td>0.781818</td>\n      <td>0.77551</td>\n      <td>0.790262</td>\n      <td>0.786726</td>\n      <td>0.011361</td>\n      <td>1</td>\n    </tr>\n    <tr>\n      <th>1</th>\n      <td>0.008698</td>\n      <td>0.000459</td>\n      <td>0.001799</td>\n      <td>0.000400</td>\n      <td>gini</td>\n      <td>3</td>\n      <td>32</td>\n      <td>64</td>\n      <td>{'criterion': 'gini', 'max_depth': 3, 'min_sam...</td>\n      <td>0.804757</td>\n      <td>...</td>\n      <td>0.78408</td>\n      <td>0.783181</td>\n      <td>0.797809</td>\n      <td>0.762866</td>\n      <td>0.781818</td>\n      <td>0.77551</td>\n      <td>0.790262</td>\n      <td>0.786726</td>\n      <td>0.011361</td>\n      <td>1</td>\n    </tr>\n    <tr>\n      <th>2</th>\n      <td>0.008798</td>\n      <td>0.000400</td>\n      <td>0.001399</td>\n      <td>0.000489</td>\n      <td>gini</td>\n      <td>3</td>\n      <td>32</td>\n      <td>128</td>\n      <td>{'criterion': 'gini', 'max_depth': 3, 'min_sam...</td>\n      <td>0.804757</td>\n      <td>...</td>\n      <td>0.78408</td>\n      <td>0.783181</td>\n      <td>0.797809</td>\n      <td>0.762866</td>\n      <td>0.781818</td>\n      <td>0.77551</td>\n      <td>0.790262</td>\n      <td>0.786726</td>\n      <td>0.011361</td>\n      <td>1</td>\n    </tr>\n    <tr>\n      <th>3</th>\n      <td>0.008798</td>\n      <td>0.000399</td>\n      <td>0.001499</td>\n      <td>0.000500</td>\n      <td>gini</td>\n      <td>3</td>\n      <td>64</td>\n      <td>32</td>\n      <td>{'criterion': 'gini', 'max_depth': 3, 'min_sam...</td>\n      <td>0.804757</td>\n      <td>...</td>\n      <td>0.78408</td>\n      <td>0.783181</td>\n      <td>0.797809</td>\n      <td>0.762866</td>\n      <td>0.781818</td>\n      <td>0.77551</td>\n      <td>0.790262</td>\n      <td>0.786726</td>\n      <td>0.011361</td>\n      <td>1</td>\n    </tr>\n    <tr>\n      <th>4</th>\n      <td>0.012196</td>\n      <td>0.005380</td>\n      <td>0.002299</td>\n      <td>0.001486</td>\n      <td>gini</td>\n      <td>3</td>\n      <td>64</td>\n      <td>64</td>\n      <td>{'criterion': 'gini', 'max_depth': 3, 'min_sam...</td>\n      <td>0.804757</td>\n      <td>...</td>\n      <td>0.78408</td>\n      <td>0.783181</td>\n      <td>0.797809</td>\n      <td>0.762866</td>\n      <td>0.781818</td>\n      <td>0.77551</td>\n      <td>0.790262</td>\n      <td>0.786726</td>\n      <td>0.011361</td>\n      <td>1</td>\n    </tr>\n  </tbody>\n</table>\n<p>5 rows × 22 columns</p>\n</div>"
     },
     "execution_count": 32,
     "metadata": {},
     "output_type": "execute_result"
    }
   ],
   "source": [
    "from sklearn.model_selection import GridSearchCV\n",
    "\n",
    "SEED = 301\n",
    "np.random.seed(SEED)\n",
    "\n",
    "espaco_parametros = {\n",
    "    \"max_depth\": [3, 5],\n",
    "    \"min_samples_split\": [32, 64, 128],\n",
    "    \"min_samples_leaf\": [32, 64, 128],\n",
    "    \"criterion\": [\"gini\", \"entropy\"]\n",
    "}\n",
    "\n",
    "busca = GridSearchCV(DecisionTreeClassifier(), espaco_parametros, cv=GroupKFold(n_splits=10))\n",
    "busca.fit(X_azar, y_azar, groups=dados.modelo)\n",
    "resultados = pd.DataFrame(busca.cv_results_)\n",
    "resultados.head()"
   ],
   "metadata": {
    "collapsed": false,
    "pycharm": {
     "name": "#%%\n"
    }
   }
  },
  {
   "cell_type": "code",
   "execution_count": 33,
   "outputs": [
    {
     "name": "stdout",
     "output_type": "stream",
     "text": [
      "{'criterion': 'gini', 'max_depth': 3, 'min_samples_leaf': 32, 'min_samples_split': 32}\n",
      "78.67263337284332\n"
     ]
    }
   ],
   "source": [
    "print(busca.best_params_)\n",
    "print(busca.best_score_ * 100)"
   ],
   "metadata": {
    "collapsed": false,
    "pycharm": {
     "name": "#%%\n"
    }
   }
  },
  {
   "cell_type": "code",
   "execution_count": 34,
   "outputs": [
    {
     "data": {
      "text/plain": "DecisionTreeClassifier(max_depth=3, min_samples_leaf=32, min_samples_split=32)",
      "text/html": "<style>#sk-container-id-1 {color: black;background-color: white;}#sk-container-id-1 pre{padding: 0;}#sk-container-id-1 div.sk-toggleable {background-color: white;}#sk-container-id-1 label.sk-toggleable__label {cursor: pointer;display: block;width: 100%;margin-bottom: 0;padding: 0.3em;box-sizing: border-box;text-align: center;}#sk-container-id-1 label.sk-toggleable__label-arrow:before {content: \"▸\";float: left;margin-right: 0.25em;color: #696969;}#sk-container-id-1 label.sk-toggleable__label-arrow:hover:before {color: black;}#sk-container-id-1 div.sk-estimator:hover label.sk-toggleable__label-arrow:before {color: black;}#sk-container-id-1 div.sk-toggleable__content {max-height: 0;max-width: 0;overflow: hidden;text-align: left;background-color: #f0f8ff;}#sk-container-id-1 div.sk-toggleable__content pre {margin: 0.2em;color: black;border-radius: 0.25em;background-color: #f0f8ff;}#sk-container-id-1 input.sk-toggleable__control:checked~div.sk-toggleable__content {max-height: 200px;max-width: 100%;overflow: auto;}#sk-container-id-1 input.sk-toggleable__control:checked~label.sk-toggleable__label-arrow:before {content: \"▾\";}#sk-container-id-1 div.sk-estimator input.sk-toggleable__control:checked~label.sk-toggleable__label {background-color: #d4ebff;}#sk-container-id-1 div.sk-label input.sk-toggleable__control:checked~label.sk-toggleable__label {background-color: #d4ebff;}#sk-container-id-1 input.sk-hidden--visually {border: 0;clip: rect(1px 1px 1px 1px);clip: rect(1px, 1px, 1px, 1px);height: 1px;margin: -1px;overflow: hidden;padding: 0;position: absolute;width: 1px;}#sk-container-id-1 div.sk-estimator {font-family: monospace;background-color: #f0f8ff;border: 1px dotted black;border-radius: 0.25em;box-sizing: border-box;margin-bottom: 0.5em;}#sk-container-id-1 div.sk-estimator:hover {background-color: #d4ebff;}#sk-container-id-1 div.sk-parallel-item::after {content: \"\";width: 100%;border-bottom: 1px solid gray;flex-grow: 1;}#sk-container-id-1 div.sk-label:hover label.sk-toggleable__label {background-color: #d4ebff;}#sk-container-id-1 div.sk-serial::before {content: \"\";position: absolute;border-left: 1px solid gray;box-sizing: border-box;top: 0;bottom: 0;left: 50%;z-index: 0;}#sk-container-id-1 div.sk-serial {display: flex;flex-direction: column;align-items: center;background-color: white;padding-right: 0.2em;padding-left: 0.2em;position: relative;}#sk-container-id-1 div.sk-item {position: relative;z-index: 1;}#sk-container-id-1 div.sk-parallel {display: flex;align-items: stretch;justify-content: center;background-color: white;position: relative;}#sk-container-id-1 div.sk-item::before, #sk-container-id-1 div.sk-parallel-item::before {content: \"\";position: absolute;border-left: 1px solid gray;box-sizing: border-box;top: 0;bottom: 0;left: 50%;z-index: -1;}#sk-container-id-1 div.sk-parallel-item {display: flex;flex-direction: column;z-index: 1;position: relative;background-color: white;}#sk-container-id-1 div.sk-parallel-item:first-child::after {align-self: flex-end;width: 50%;}#sk-container-id-1 div.sk-parallel-item:last-child::after {align-self: flex-start;width: 50%;}#sk-container-id-1 div.sk-parallel-item:only-child::after {width: 0;}#sk-container-id-1 div.sk-dashed-wrapped {border: 1px dashed gray;margin: 0 0.4em 0.5em 0.4em;box-sizing: border-box;padding-bottom: 0.4em;background-color: white;}#sk-container-id-1 div.sk-label label {font-family: monospace;font-weight: bold;display: inline-block;line-height: 1.2em;}#sk-container-id-1 div.sk-label-container {text-align: center;}#sk-container-id-1 div.sk-container {/* jupyter's `normalize.less` sets `[hidden] { display: none; }` but bootstrap.min.css set `[hidden] { display: none !important; }` so we also need the `!important` here to be able to override the default hidden behavior on the sphinx rendered scikit-learn.org. See: https://github.com/scikit-learn/scikit-learn/issues/21755 */display: inline-block !important;position: relative;}#sk-container-id-1 div.sk-text-repr-fallback {display: none;}</style><div id=\"sk-container-id-1\" class=\"sk-top-container\"><div class=\"sk-text-repr-fallback\"><pre>DecisionTreeClassifier(max_depth=3, min_samples_leaf=32, min_samples_split=32)</pre><b>In a Jupyter environment, please rerun this cell to show the HTML representation or trust the notebook. <br />On GitHub, the HTML representation is unable to render, please try loading this page with nbviewer.org.</b></div><div class=\"sk-container\" hidden><div class=\"sk-item\"><div class=\"sk-estimator sk-toggleable\"><input class=\"sk-toggleable__control sk-hidden--visually\" id=\"sk-estimator-id-1\" type=\"checkbox\" checked><label for=\"sk-estimator-id-1\" class=\"sk-toggleable__label sk-toggleable__label-arrow\">DecisionTreeClassifier</label><div class=\"sk-toggleable__content\"><pre>DecisionTreeClassifier(max_depth=3, min_samples_leaf=32, min_samples_split=32)</pre></div></div></div></div></div>"
     },
     "execution_count": 34,
     "metadata": {},
     "output_type": "execute_result"
    }
   ],
   "source": [
    "melhor_modelo = busca.best_estimator_\n",
    "melhor_modelo"
   ],
   "metadata": {
    "collapsed": false,
    "pycharm": {
     "name": "#%%\n"
    }
   }
  },
  {
   "cell_type": "code",
   "execution_count": 35,
   "outputs": [
    {
     "name": "stdout",
     "output_type": "stream",
     "text": [
      "Acurácia para os dados foi 78.75%\n"
     ]
    }
   ],
   "source": [
    "from sklearn.metrics import accuracy_score\n",
    "\n",
    "# evitar essa abordagem, pois estará sendo otimista\n",
    "predicoes = melhor_modelo.predict(X_azar)\n",
    "acuracia = accuracy_score(y_azar, predicoes) * 100\n",
    "print(f\"Acurácia para os dados foi {acuracia:0.2f}%\")"
   ],
   "metadata": {
    "collapsed": false,
    "pycharm": {
     "name": "#%%\n"
    }
   }
  },
  {
   "cell_type": "markdown",
   "source": [
    "# Como ter uma estimativa sem esse vício nos dados já vistos?\n",
    "\n",
    "No caso de cross validation com busca de hiperparâmetros, fazemos, após, uma nova validação cruzada. Chama-se nested cross validation."
   ],
   "metadata": {
    "collapsed": false,
    "pycharm": {
     "name": "#%% md\n"
    }
   }
  },
  {
   "cell_type": "code",
   "execution_count": 36,
   "outputs": [],
   "source": [
    "# from sklearn.model_selection import cross_val_score\n",
    "#\n",
    "# scores = cross_val_score(busca, X_azar, y_azar, cv=GroupKFold(n_splits=10), groups=dados.modelo)"
   ],
   "metadata": {
    "collapsed": false,
    "pycharm": {
     "name": "#%%\n"
    }
   }
  },
  {
   "cell_type": "markdown",
   "source": [
    "Obs.: infelizmente, como o scikit-learn não suporta nested cross validation com GroupKFold (bug), não é possível prever o resultado para novos grupos."
   ],
   "metadata": {
    "collapsed": false,
    "pycharm": {
     "name": "#%% md\n"
    }
   }
  },
  {
   "cell_type": "code",
   "execution_count": 37,
   "outputs": [
    {
     "data": {
      "text/plain": "   mean_fit_time  std_fit_time  mean_score_time  std_score_time  \\\n0       0.009797      0.001832         0.002400        0.001019   \n1       0.007398      0.000489         0.001799        0.000400   \n2       0.007598      0.000490         0.001800        0.000400   \n3       0.009996      0.000633         0.002199        0.000400   \n4       0.008997      0.002529         0.001400        0.000490   \n\n  param_criterion param_max_depth param_min_samples_leaf  \\\n0            gini               3                     32   \n1            gini               3                     32   \n2            gini               3                     32   \n3            gini               3                     64   \n4            gini               3                     64   \n\n  param_min_samples_split                                             params  \\\n0                      32  {'criterion': 'gini', 'max_depth': 3, 'min_sam...   \n1                      64  {'criterion': 'gini', 'max_depth': 3, 'min_sam...   \n2                     128  {'criterion': 'gini', 'max_depth': 3, 'min_sam...   \n3                      32  {'criterion': 'gini', 'max_depth': 3, 'min_sam...   \n4                      64  {'criterion': 'gini', 'max_depth': 3, 'min_sam...   \n\n   split0_test_score  split1_test_score  split2_test_score  split3_test_score  \\\n0              0.784              0.776             0.8025              0.793   \n1              0.784              0.776             0.8025              0.793   \n2              0.784              0.776             0.8025              0.793   \n3              0.784              0.776             0.8025              0.793   \n4              0.784              0.776             0.8025              0.793   \n\n   split4_test_score  mean_test_score  std_test_score  rank_test_score  \n0             0.7795            0.787        0.009618                1  \n1             0.7795            0.787        0.009618                1  \n2             0.7795            0.787        0.009618                1  \n3             0.7795            0.787        0.009618                1  \n4             0.7795            0.787        0.009618                1  ",
      "text/html": "<div>\n<style scoped>\n    .dataframe tbody tr th:only-of-type {\n        vertical-align: middle;\n    }\n\n    .dataframe tbody tr th {\n        vertical-align: top;\n    }\n\n    .dataframe thead th {\n        text-align: right;\n    }\n</style>\n<table border=\"1\" class=\"dataframe\">\n  <thead>\n    <tr style=\"text-align: right;\">\n      <th></th>\n      <th>mean_fit_time</th>\n      <th>std_fit_time</th>\n      <th>mean_score_time</th>\n      <th>std_score_time</th>\n      <th>param_criterion</th>\n      <th>param_max_depth</th>\n      <th>param_min_samples_leaf</th>\n      <th>param_min_samples_split</th>\n      <th>params</th>\n      <th>split0_test_score</th>\n      <th>split1_test_score</th>\n      <th>split2_test_score</th>\n      <th>split3_test_score</th>\n      <th>split4_test_score</th>\n      <th>mean_test_score</th>\n      <th>std_test_score</th>\n      <th>rank_test_score</th>\n    </tr>\n  </thead>\n  <tbody>\n    <tr>\n      <th>0</th>\n      <td>0.009797</td>\n      <td>0.001832</td>\n      <td>0.002400</td>\n      <td>0.001019</td>\n      <td>gini</td>\n      <td>3</td>\n      <td>32</td>\n      <td>32</td>\n      <td>{'criterion': 'gini', 'max_depth': 3, 'min_sam...</td>\n      <td>0.784</td>\n      <td>0.776</td>\n      <td>0.8025</td>\n      <td>0.793</td>\n      <td>0.7795</td>\n      <td>0.787</td>\n      <td>0.009618</td>\n      <td>1</td>\n    </tr>\n    <tr>\n      <th>1</th>\n      <td>0.007398</td>\n      <td>0.000489</td>\n      <td>0.001799</td>\n      <td>0.000400</td>\n      <td>gini</td>\n      <td>3</td>\n      <td>32</td>\n      <td>64</td>\n      <td>{'criterion': 'gini', 'max_depth': 3, 'min_sam...</td>\n      <td>0.784</td>\n      <td>0.776</td>\n      <td>0.8025</td>\n      <td>0.793</td>\n      <td>0.7795</td>\n      <td>0.787</td>\n      <td>0.009618</td>\n      <td>1</td>\n    </tr>\n    <tr>\n      <th>2</th>\n      <td>0.007598</td>\n      <td>0.000490</td>\n      <td>0.001800</td>\n      <td>0.000400</td>\n      <td>gini</td>\n      <td>3</td>\n      <td>32</td>\n      <td>128</td>\n      <td>{'criterion': 'gini', 'max_depth': 3, 'min_sam...</td>\n      <td>0.784</td>\n      <td>0.776</td>\n      <td>0.8025</td>\n      <td>0.793</td>\n      <td>0.7795</td>\n      <td>0.787</td>\n      <td>0.009618</td>\n      <td>1</td>\n    </tr>\n    <tr>\n      <th>3</th>\n      <td>0.009996</td>\n      <td>0.000633</td>\n      <td>0.002199</td>\n      <td>0.000400</td>\n      <td>gini</td>\n      <td>3</td>\n      <td>64</td>\n      <td>32</td>\n      <td>{'criterion': 'gini', 'max_depth': 3, 'min_sam...</td>\n      <td>0.784</td>\n      <td>0.776</td>\n      <td>0.8025</td>\n      <td>0.793</td>\n      <td>0.7795</td>\n      <td>0.787</td>\n      <td>0.009618</td>\n      <td>1</td>\n    </tr>\n    <tr>\n      <th>4</th>\n      <td>0.008997</td>\n      <td>0.002529</td>\n      <td>0.001400</td>\n      <td>0.000490</td>\n      <td>gini</td>\n      <td>3</td>\n      <td>64</td>\n      <td>64</td>\n      <td>{'criterion': 'gini', 'max_depth': 3, 'min_sam...</td>\n      <td>0.784</td>\n      <td>0.776</td>\n      <td>0.8025</td>\n      <td>0.793</td>\n      <td>0.7795</td>\n      <td>0.787</td>\n      <td>0.009618</td>\n      <td>1</td>\n    </tr>\n  </tbody>\n</table>\n</div>"
     },
     "execution_count": 37,
     "metadata": {},
     "output_type": "execute_result"
    }
   ],
   "source": [
    "from sklearn.model_selection import KFold\n",
    "\n",
    "SEED = 301\n",
    "np.random.seed(SEED)\n",
    "\n",
    "espaco_parametros = {\n",
    "    \"max_depth\": [3, 5],\n",
    "    \"min_samples_split\": [32, 64, 128],\n",
    "    \"min_samples_leaf\": [32, 64, 128],\n",
    "    \"criterion\": [\"gini\", \"entropy\"]\n",
    "}\n",
    "\n",
    "busca = GridSearchCV(DecisionTreeClassifier(), espaco_parametros, cv=KFold(n_splits=5, shuffle=True))\n",
    "busca.fit(X_azar, y_azar)\n",
    "resultados = pd.DataFrame(busca.cv_results_)\n",
    "resultados.head()"
   ],
   "metadata": {
    "collapsed": false,
    "pycharm": {
     "name": "#%%\n"
    }
   }
  },
  {
   "cell_type": "code",
   "execution_count": 38,
   "outputs": [
    {
     "data": {
      "text/plain": "array([0.767, 0.801, 0.778, 0.774, 0.813, 0.792, 0.796, 0.79 , 0.78 ,\n       0.779])"
     },
     "execution_count": 38,
     "metadata": {},
     "output_type": "execute_result"
    }
   ],
   "source": [
    "from sklearn.model_selection import cross_val_score\n",
    "\n",
    "SEED = 301\n",
    "np.random.seed(SEED)\n",
    "\n",
    "scores = cross_val_score(busca, X_azar, y_azar, cv=KFold(n_splits=10, shuffle=True))\n",
    "scores"
   ],
   "metadata": {
    "collapsed": false,
    "pycharm": {
     "name": "#%%\n"
    }
   }
  },
  {
   "cell_type": "code",
   "execution_count": 39,
   "outputs": [],
   "source": [
    "def imprime_score(scores):\n",
    "    media = scores.mean()\n",
    "    desvio_padrao = scores.std()\n",
    "    print(f\"Acurácia média {media * 100:0.2f}\")\n",
    "    print(f\"Intervalo = [{(media - 2 * desvio_padrao) * 100:0.2f}, {(media + 2 * desvio_padrao) * 100:0.2f}]\")"
   ],
   "metadata": {
    "collapsed": false,
    "pycharm": {
     "name": "#%%\n"
    }
   }
  },
  {
   "cell_type": "code",
   "execution_count": 40,
   "outputs": [
    {
     "name": "stdout",
     "output_type": "stream",
     "text": [
      "Acurácia média 78.70\n",
      "Intervalo = [76.05, 81.35]\n"
     ]
    }
   ],
   "source": [
    "imprime_score(scores)"
   ],
   "metadata": {
    "collapsed": false,
    "pycharm": {
     "name": "#%%\n"
    }
   }
  },
  {
   "cell_type": "code",
   "execution_count": 41,
   "outputs": [
    {
     "name": "stdout",
     "output_type": "stream",
     "text": [
      "DecisionTreeClassifier(max_depth=3, min_samples_leaf=32, min_samples_split=32)\n"
     ]
    }
   ],
   "source": [
    "melhor_modelo = busca.best_estimator_\n",
    "print(melhor_modelo)"
   ],
   "metadata": {
    "collapsed": false,
    "pycharm": {
     "name": "#%%\n"
    }
   }
  },
  {
   "cell_type": "code",
   "execution_count": 42,
   "outputs": [
    {
     "data": {
      "image/svg+xml": "<?xml version=\"1.0\" encoding=\"UTF-8\" standalone=\"no\"?>\n<!DOCTYPE svg PUBLIC \"-//W3C//DTD SVG 1.1//EN\"\n \"http://www.w3.org/Graphics/SVG/1.1/DTD/svg11.dtd\">\n<!-- Generated by graphviz version 2.50.0 (0)\n -->\n<!-- Title: Tree Pages: 1 -->\n<svg width=\"866pt\" height=\"433pt\"\n viewBox=\"0.00 0.00 866.00 433.00\" xmlns=\"http://www.w3.org/2000/svg\" xmlns:xlink=\"http://www.w3.org/1999/xlink\">\n<g id=\"graph0\" class=\"graph\" transform=\"scale(1 1) rotate(0) translate(4 429)\">\n<title>Tree</title>\n<polygon fill=\"white\" stroke=\"transparent\" points=\"-4,4 -4,-429 862,-429 862,4 -4,4\"/>\n<!-- 0 -->\n<g id=\"node1\" class=\"node\">\n<title>0</title>\n<path fill=\"#c8e4f8\" stroke=\"black\" d=\"M350.5,-425C350.5,-425 234.5,-425 234.5,-425 228.5,-425 222.5,-419 222.5,-413 222.5,-413 222.5,-354 222.5,-354 222.5,-348 228.5,-342 234.5,-342 234.5,-342 350.5,-342 350.5,-342 356.5,-342 362.5,-348 362.5,-354 362.5,-354 362.5,-413 362.5,-413 362.5,-419 356.5,-425 350.5,-425\"/>\n<text text-anchor=\"middle\" x=\"292.5\" y=\"-409.8\" font-family=\"Helvetica,sans-Serif\" font-size=\"14.00\">preco &lt;= 59982.246</text>\n<text text-anchor=\"middle\" x=\"292.5\" y=\"-394.8\" font-family=\"Helvetica,sans-Serif\" font-size=\"14.00\">gini = 0.487</text>\n<text text-anchor=\"middle\" x=\"292.5\" y=\"-379.8\" font-family=\"Helvetica,sans-Serif\" font-size=\"14.00\">samples = 10000</text>\n<text text-anchor=\"middle\" x=\"292.5\" y=\"-364.8\" font-family=\"Helvetica,sans-Serif\" font-size=\"14.00\">value = [4200, 5800]</text>\n<text text-anchor=\"middle\" x=\"292.5\" y=\"-349.8\" font-family=\"Helvetica,sans-Serif\" font-size=\"14.00\">class = sim</text>\n</g>\n<!-- 1 -->\n<g id=\"node2\" class=\"node\">\n<title>1</title>\n<path fill=\"#52a9e8\" stroke=\"black\" d=\"M261.5,-306C261.5,-306 147.5,-306 147.5,-306 141.5,-306 135.5,-300 135.5,-294 135.5,-294 135.5,-235 135.5,-235 135.5,-229 141.5,-223 147.5,-223 147.5,-223 261.5,-223 261.5,-223 267.5,-223 273.5,-229 273.5,-235 273.5,-235 273.5,-294 273.5,-294 273.5,-300 267.5,-306 261.5,-306\"/>\n<text text-anchor=\"middle\" x=\"204.5\" y=\"-290.8\" font-family=\"Helvetica,sans-Serif\" font-size=\"14.00\">preco &lt;= 40083.385</text>\n<text text-anchor=\"middle\" x=\"204.5\" y=\"-275.8\" font-family=\"Helvetica,sans-Serif\" font-size=\"14.00\">gini = 0.198</text>\n<text text-anchor=\"middle\" x=\"204.5\" y=\"-260.8\" font-family=\"Helvetica,sans-Serif\" font-size=\"14.00\">samples = 4347</text>\n<text text-anchor=\"middle\" x=\"204.5\" y=\"-245.8\" font-family=\"Helvetica,sans-Serif\" font-size=\"14.00\">value = [484, 3863]</text>\n<text text-anchor=\"middle\" x=\"204.5\" y=\"-230.8\" font-family=\"Helvetica,sans-Serif\" font-size=\"14.00\">class = sim</text>\n</g>\n<!-- 0&#45;&gt;1 -->\n<g id=\"edge1\" class=\"edge\">\n<title>0&#45;&gt;1</title>\n<path fill=\"none\" stroke=\"black\" d=\"M261.97,-341.91C255.21,-332.92 247.98,-323.32 241.02,-314.05\"/>\n<polygon fill=\"black\" stroke=\"black\" points=\"243.79,-311.91 234.98,-306.02 238.19,-316.12 243.79,-311.91\"/>\n<text text-anchor=\"middle\" x=\"231.48\" y=\"-327.07\" font-family=\"Helvetica,sans-Serif\" font-size=\"14.00\">True</text>\n</g>\n<!-- 6 -->\n<g id=\"node7\" class=\"node\">\n<title>6</title>\n<path fill=\"#f3c3a0\" stroke=\"black\" d=\"M514.5,-306C514.5,-306 358.5,-306 358.5,-306 352.5,-306 346.5,-300 346.5,-294 346.5,-294 346.5,-235 346.5,-235 346.5,-229 352.5,-223 358.5,-223 358.5,-223 514.5,-223 514.5,-223 520.5,-223 526.5,-229 526.5,-235 526.5,-235 526.5,-294 526.5,-294 526.5,-300 520.5,-306 514.5,-306\"/>\n<text text-anchor=\"middle\" x=\"436.5\" y=\"-290.8\" font-family=\"Helvetica,sans-Serif\" font-size=\"14.00\">km_por_ano &lt;= 24124.006</text>\n<text text-anchor=\"middle\" x=\"436.5\" y=\"-275.8\" font-family=\"Helvetica,sans-Serif\" font-size=\"14.00\">gini = 0.45</text>\n<text text-anchor=\"middle\" x=\"436.5\" y=\"-260.8\" font-family=\"Helvetica,sans-Serif\" font-size=\"14.00\">samples = 5653</text>\n<text text-anchor=\"middle\" x=\"436.5\" y=\"-245.8\" font-family=\"Helvetica,sans-Serif\" font-size=\"14.00\">value = [3716, 1937]</text>\n<text text-anchor=\"middle\" x=\"436.5\" y=\"-230.8\" font-family=\"Helvetica,sans-Serif\" font-size=\"14.00\">class = não</text>\n</g>\n<!-- 0&#45;&gt;6 -->\n<g id=\"edge6\" class=\"edge\">\n<title>0&#45;&gt;6</title>\n<path fill=\"none\" stroke=\"black\" d=\"M342.46,-341.91C354.19,-332.38 366.78,-322.15 378.81,-312.37\"/>\n<polygon fill=\"black\" stroke=\"black\" points=\"381.07,-315.04 386.63,-306.02 376.66,-309.61 381.07,-315.04\"/>\n<text text-anchor=\"middle\" x=\"384.06\" y=\"-327.19\" font-family=\"Helvetica,sans-Serif\" font-size=\"14.00\">False</text>\n</g>\n<!-- 2 -->\n<g id=\"node3\" class=\"node\">\n<title>2</title>\n<path fill=\"#399de5\" stroke=\"black\" d=\"M105,-179.5C105,-179.5 12,-179.5 12,-179.5 6,-179.5 0,-173.5 0,-167.5 0,-167.5 0,-123.5 0,-123.5 0,-117.5 6,-111.5 12,-111.5 12,-111.5 105,-111.5 105,-111.5 111,-111.5 117,-117.5 117,-123.5 117,-123.5 117,-167.5 117,-167.5 117,-173.5 111,-179.5 105,-179.5\"/>\n<text text-anchor=\"middle\" x=\"58.5\" y=\"-164.3\" font-family=\"Helvetica,sans-Serif\" font-size=\"14.00\">gini = 0.0</text>\n<text text-anchor=\"middle\" x=\"58.5\" y=\"-149.3\" font-family=\"Helvetica,sans-Serif\" font-size=\"14.00\">samples = 1935</text>\n<text text-anchor=\"middle\" x=\"58.5\" y=\"-134.3\" font-family=\"Helvetica,sans-Serif\" font-size=\"14.00\">value = [0, 1935]</text>\n<text text-anchor=\"middle\" x=\"58.5\" y=\"-119.3\" font-family=\"Helvetica,sans-Serif\" font-size=\"14.00\">class = sim</text>\n</g>\n<!-- 1&#45;&gt;2 -->\n<g id=\"edge2\" class=\"edge\">\n<title>1&#45;&gt;2</title>\n<path fill=\"none\" stroke=\"black\" d=\"M153.85,-222.91C138.97,-210.99 122.73,-197.98 107.94,-186.12\"/>\n<polygon fill=\"black\" stroke=\"black\" points=\"109.88,-183.19 99.89,-179.67 105.5,-188.65 109.88,-183.19\"/>\n</g>\n<!-- 3 -->\n<g id=\"node4\" class=\"node\">\n<title>3</title>\n<path fill=\"#6bb6ec\" stroke=\"black\" d=\"M261.5,-187C261.5,-187 147.5,-187 147.5,-187 141.5,-187 135.5,-181 135.5,-175 135.5,-175 135.5,-116 135.5,-116 135.5,-110 141.5,-104 147.5,-104 147.5,-104 261.5,-104 261.5,-104 267.5,-104 273.5,-110 273.5,-116 273.5,-116 273.5,-175 273.5,-175 273.5,-181 267.5,-187 261.5,-187\"/>\n<text text-anchor=\"middle\" x=\"204.5\" y=\"-171.8\" font-family=\"Helvetica,sans-Serif\" font-size=\"14.00\">preco &lt;= 41083.029</text>\n<text text-anchor=\"middle\" x=\"204.5\" y=\"-156.8\" font-family=\"Helvetica,sans-Serif\" font-size=\"14.00\">gini = 0.321</text>\n<text text-anchor=\"middle\" x=\"204.5\" y=\"-141.8\" font-family=\"Helvetica,sans-Serif\" font-size=\"14.00\">samples = 2412</text>\n<text text-anchor=\"middle\" x=\"204.5\" y=\"-126.8\" font-family=\"Helvetica,sans-Serif\" font-size=\"14.00\">value = [484, 1928]</text>\n<text text-anchor=\"middle\" x=\"204.5\" y=\"-111.8\" font-family=\"Helvetica,sans-Serif\" font-size=\"14.00\">class = sim</text>\n</g>\n<!-- 1&#45;&gt;3 -->\n<g id=\"edge3\" class=\"edge\">\n<title>1&#45;&gt;3</title>\n<path fill=\"none\" stroke=\"black\" d=\"M204.5,-222.91C204.5,-214.65 204.5,-205.86 204.5,-197.3\"/>\n<polygon fill=\"black\" stroke=\"black\" points=\"208,-197.02 204.5,-187.02 201,-197.02 208,-197.02\"/>\n</g>\n<!-- 4 -->\n<g id=\"node5\" class=\"node\">\n<title>4</title>\n<path fill=\"#95cbf1\" stroke=\"black\" d=\"M108.5,-68C108.5,-68 22.5,-68 22.5,-68 16.5,-68 10.5,-62 10.5,-56 10.5,-56 10.5,-12 10.5,-12 10.5,-6 16.5,0 22.5,0 22.5,0 108.5,0 108.5,0 114.5,0 120.5,-6 120.5,-12 120.5,-12 120.5,-56 120.5,-56 120.5,-62 114.5,-68 108.5,-68\"/>\n<text text-anchor=\"middle\" x=\"65.5\" y=\"-52.8\" font-family=\"Helvetica,sans-Serif\" font-size=\"14.00\">gini = 0.434</text>\n<text text-anchor=\"middle\" x=\"65.5\" y=\"-37.8\" font-family=\"Helvetica,sans-Serif\" font-size=\"14.00\">samples = 110</text>\n<text text-anchor=\"middle\" x=\"65.5\" y=\"-22.8\" font-family=\"Helvetica,sans-Serif\" font-size=\"14.00\">value = [35, 75]</text>\n<text text-anchor=\"middle\" x=\"65.5\" y=\"-7.8\" font-family=\"Helvetica,sans-Serif\" font-size=\"14.00\">class = sim</text>\n</g>\n<!-- 3&#45;&gt;4 -->\n<g id=\"edge4\" class=\"edge\">\n<title>3&#45;&gt;4</title>\n<path fill=\"none\" stroke=\"black\" d=\"M152.74,-103.73C140.7,-94.24 127.9,-84.16 115.92,-74.72\"/>\n<polygon fill=\"black\" stroke=\"black\" points=\"117.79,-71.74 107.77,-68.3 113.46,-77.24 117.79,-71.74\"/>\n</g>\n<!-- 5 -->\n<g id=\"node6\" class=\"node\">\n<title>5</title>\n<path fill=\"#69b5eb\" stroke=\"black\" d=\"M258.5,-68C258.5,-68 150.5,-68 150.5,-68 144.5,-68 138.5,-62 138.5,-56 138.5,-56 138.5,-12 138.5,-12 138.5,-6 144.5,0 150.5,0 150.5,0 258.5,0 258.5,0 264.5,0 270.5,-6 270.5,-12 270.5,-12 270.5,-56 270.5,-56 270.5,-62 264.5,-68 258.5,-68\"/>\n<text text-anchor=\"middle\" x=\"204.5\" y=\"-52.8\" font-family=\"Helvetica,sans-Serif\" font-size=\"14.00\">gini = 0.314</text>\n<text text-anchor=\"middle\" x=\"204.5\" y=\"-37.8\" font-family=\"Helvetica,sans-Serif\" font-size=\"14.00\">samples = 2302</text>\n<text text-anchor=\"middle\" x=\"204.5\" y=\"-22.8\" font-family=\"Helvetica,sans-Serif\" font-size=\"14.00\">value = [449, 1853]</text>\n<text text-anchor=\"middle\" x=\"204.5\" y=\"-7.8\" font-family=\"Helvetica,sans-Serif\" font-size=\"14.00\">class = sim</text>\n</g>\n<!-- 3&#45;&gt;5 -->\n<g id=\"edge5\" class=\"edge\">\n<title>3&#45;&gt;5</title>\n<path fill=\"none\" stroke=\"black\" d=\"M204.5,-103.73C204.5,-95.52 204.5,-86.86 204.5,-78.56\"/>\n<polygon fill=\"black\" stroke=\"black\" points=\"208,-78.3 204.5,-68.3 201,-78.3 208,-78.3\"/>\n</g>\n<!-- 7 -->\n<g id=\"node8\" class=\"node\">\n<title>7</title>\n<path fill=\"#fcefe5\" stroke=\"black\" d=\"M494.5,-187C494.5,-187 378.5,-187 378.5,-187 372.5,-187 366.5,-181 366.5,-175 366.5,-175 366.5,-116 366.5,-116 366.5,-110 372.5,-104 378.5,-104 378.5,-104 494.5,-104 494.5,-104 500.5,-104 506.5,-110 506.5,-116 506.5,-116 506.5,-175 506.5,-175 506.5,-181 500.5,-187 494.5,-187\"/>\n<text text-anchor=\"middle\" x=\"436.5\" y=\"-171.8\" font-family=\"Helvetica,sans-Serif\" font-size=\"14.00\">preco &lt;= 99974.41</text>\n<text text-anchor=\"middle\" x=\"436.5\" y=\"-156.8\" font-family=\"Helvetica,sans-Serif\" font-size=\"14.00\">gini = 0.498</text>\n<text text-anchor=\"middle\" x=\"436.5\" y=\"-141.8\" font-family=\"Helvetica,sans-Serif\" font-size=\"14.00\">samples = 3513</text>\n<text text-anchor=\"middle\" x=\"436.5\" y=\"-126.8\" font-family=\"Helvetica,sans-Serif\" font-size=\"14.00\">value = [1879, 1634]</text>\n<text text-anchor=\"middle\" x=\"436.5\" y=\"-111.8\" font-family=\"Helvetica,sans-Serif\" font-size=\"14.00\">class = não</text>\n</g>\n<!-- 6&#45;&gt;7 -->\n<g id=\"edge7\" class=\"edge\">\n<title>6&#45;&gt;7</title>\n<path fill=\"none\" stroke=\"black\" d=\"M436.5,-222.91C436.5,-214.65 436.5,-205.86 436.5,-197.3\"/>\n<polygon fill=\"black\" stroke=\"black\" points=\"440,-197.02 436.5,-187.02 433,-197.02 440,-197.02\"/>\n</g>\n<!-- 10 -->\n<g id=\"node11\" class=\"node\">\n<title>10</title>\n<path fill=\"#e9965a\" stroke=\"black\" d=\"M713.5,-187C713.5,-187 591.5,-187 591.5,-187 585.5,-187 579.5,-181 579.5,-175 579.5,-175 579.5,-116 579.5,-116 579.5,-110 585.5,-104 591.5,-104 591.5,-104 713.5,-104 713.5,-104 719.5,-104 725.5,-110 725.5,-116 725.5,-116 725.5,-175 725.5,-175 725.5,-181 719.5,-187 713.5,-187\"/>\n<text text-anchor=\"middle\" x=\"652.5\" y=\"-171.8\" font-family=\"Helvetica,sans-Serif\" font-size=\"14.00\">preco &lt;= 100076.957</text>\n<text text-anchor=\"middle\" x=\"652.5\" y=\"-156.8\" font-family=\"Helvetica,sans-Serif\" font-size=\"14.00\">gini = 0.243</text>\n<text text-anchor=\"middle\" x=\"652.5\" y=\"-141.8\" font-family=\"Helvetica,sans-Serif\" font-size=\"14.00\">samples = 2140</text>\n<text text-anchor=\"middle\" x=\"652.5\" y=\"-126.8\" font-family=\"Helvetica,sans-Serif\" font-size=\"14.00\">value = [1837, 303]</text>\n<text text-anchor=\"middle\" x=\"652.5\" y=\"-111.8\" font-family=\"Helvetica,sans-Serif\" font-size=\"14.00\">class = não</text>\n</g>\n<!-- 6&#45;&gt;10 -->\n<g id=\"edge10\" class=\"edge\">\n<title>6&#45;&gt;10</title>\n<path fill=\"none\" stroke=\"black\" d=\"M511.44,-222.91C530.46,-212.61 550.99,-201.48 570.35,-191\"/>\n<polygon fill=\"black\" stroke=\"black\" points=\"572.03,-194.07 579.15,-186.23 568.69,-187.92 572.03,-194.07\"/>\n</g>\n<!-- 8 -->\n<g id=\"node9\" class=\"node\">\n<title>8</title>\n<path fill=\"#f9e0ce\" stroke=\"black\" d=\"M416.5,-68C416.5,-68 300.5,-68 300.5,-68 294.5,-68 288.5,-62 288.5,-56 288.5,-56 288.5,-12 288.5,-12 288.5,-6 294.5,0 300.5,0 300.5,0 416.5,0 416.5,0 422.5,0 428.5,-6 428.5,-12 428.5,-12 428.5,-56 428.5,-56 428.5,-62 422.5,-68 416.5,-68\"/>\n<text text-anchor=\"middle\" x=\"358.5\" y=\"-52.8\" font-family=\"Helvetica,sans-Serif\" font-size=\"14.00\">gini = 0.49</text>\n<text text-anchor=\"middle\" x=\"358.5\" y=\"-37.8\" font-family=\"Helvetica,sans-Serif\" font-size=\"14.00\">samples = 2944</text>\n<text text-anchor=\"middle\" x=\"358.5\" y=\"-22.8\" font-family=\"Helvetica,sans-Serif\" font-size=\"14.00\">value = [1682, 1262]</text>\n<text text-anchor=\"middle\" x=\"358.5\" y=\"-7.8\" font-family=\"Helvetica,sans-Serif\" font-size=\"14.00\">class = não</text>\n</g>\n<!-- 7&#45;&gt;8 -->\n<g id=\"edge8\" class=\"edge\">\n<title>7&#45;&gt;8</title>\n<path fill=\"none\" stroke=\"black\" d=\"M407.46,-103.73C401.15,-94.88 394.48,-85.51 388.15,-76.63\"/>\n<polygon fill=\"black\" stroke=\"black\" points=\"390.87,-74.41 382.22,-68.3 385.17,-78.48 390.87,-74.41\"/>\n</g>\n<!-- 9 -->\n<g id=\"node10\" class=\"node\">\n<title>9</title>\n<path fill=\"#a2d1f3\" stroke=\"black\" d=\"M560,-68C560,-68 459,-68 459,-68 453,-68 447,-62 447,-56 447,-56 447,-12 447,-12 447,-6 453,0 459,0 459,0 560,0 560,0 566,0 572,-6 572,-12 572,-12 572,-56 572,-56 572,-62 566,-68 560,-68\"/>\n<text text-anchor=\"middle\" x=\"509.5\" y=\"-52.8\" font-family=\"Helvetica,sans-Serif\" font-size=\"14.00\">gini = 0.453</text>\n<text text-anchor=\"middle\" x=\"509.5\" y=\"-37.8\" font-family=\"Helvetica,sans-Serif\" font-size=\"14.00\">samples = 569</text>\n<text text-anchor=\"middle\" x=\"509.5\" y=\"-22.8\" font-family=\"Helvetica,sans-Serif\" font-size=\"14.00\">value = [197, 372]</text>\n<text text-anchor=\"middle\" x=\"509.5\" y=\"-7.8\" font-family=\"Helvetica,sans-Serif\" font-size=\"14.00\">class = sim</text>\n</g>\n<!-- 7&#45;&gt;9 -->\n<g id=\"edge9\" class=\"edge\">\n<title>7&#45;&gt;9</title>\n<path fill=\"none\" stroke=\"black\" d=\"M463.68,-103.73C469.58,-94.88 475.83,-85.51 481.75,-76.63\"/>\n<polygon fill=\"black\" stroke=\"black\" points=\"484.67,-78.56 487.3,-68.3 478.84,-74.68 484.67,-78.56\"/>\n</g>\n<!-- 11 -->\n<g id=\"node12\" class=\"node\">\n<title>11</title>\n<path fill=\"#e68742\" stroke=\"black\" d=\"M703,-68C703,-68 602,-68 602,-68 596,-68 590,-62 590,-56 590,-56 590,-12 590,-12 590,-6 596,0 602,0 602,0 703,0 703,0 709,0 715,-6 715,-12 715,-12 715,-56 715,-56 715,-62 709,-68 703,-68\"/>\n<text text-anchor=\"middle\" x=\"652.5\" y=\"-52.8\" font-family=\"Helvetica,sans-Serif\" font-size=\"14.00\">gini = 0.082</text>\n<text text-anchor=\"middle\" x=\"652.5\" y=\"-37.8\" font-family=\"Helvetica,sans-Serif\" font-size=\"14.00\">samples = 1809</text>\n<text text-anchor=\"middle\" x=\"652.5\" y=\"-22.8\" font-family=\"Helvetica,sans-Serif\" font-size=\"14.00\">value = [1732, 77]</text>\n<text text-anchor=\"middle\" x=\"652.5\" y=\"-7.8\" font-family=\"Helvetica,sans-Serif\" font-size=\"14.00\">class = não</text>\n</g>\n<!-- 10&#45;&gt;11 -->\n<g id=\"edge11\" class=\"edge\">\n<title>10&#45;&gt;11</title>\n<path fill=\"none\" stroke=\"black\" d=\"M652.5,-103.73C652.5,-95.52 652.5,-86.86 652.5,-78.56\"/>\n<polygon fill=\"black\" stroke=\"black\" points=\"656,-78.3 652.5,-68.3 649,-78.3 656,-78.3\"/>\n</g>\n<!-- 12 -->\n<g id=\"node13\" class=\"node\">\n<title>12</title>\n<path fill=\"#95cbf1\" stroke=\"black\" d=\"M846,-68C846,-68 745,-68 745,-68 739,-68 733,-62 733,-56 733,-56 733,-12 733,-12 733,-6 739,0 745,0 745,0 846,0 846,0 852,0 858,-6 858,-12 858,-12 858,-56 858,-56 858,-62 852,-68 846,-68\"/>\n<text text-anchor=\"middle\" x=\"795.5\" y=\"-52.8\" font-family=\"Helvetica,sans-Serif\" font-size=\"14.00\">gini = 0.433</text>\n<text text-anchor=\"middle\" x=\"795.5\" y=\"-37.8\" font-family=\"Helvetica,sans-Serif\" font-size=\"14.00\">samples = 331</text>\n<text text-anchor=\"middle\" x=\"795.5\" y=\"-22.8\" font-family=\"Helvetica,sans-Serif\" font-size=\"14.00\">value = [105, 226]</text>\n<text text-anchor=\"middle\" x=\"795.5\" y=\"-7.8\" font-family=\"Helvetica,sans-Serif\" font-size=\"14.00\">class = sim</text>\n</g>\n<!-- 10&#45;&gt;12 -->\n<g id=\"edge12\" class=\"edge\">\n<title>10&#45;&gt;12</title>\n<path fill=\"none\" stroke=\"black\" d=\"M705.75,-103.73C718.25,-94.15 731.56,-83.96 743.99,-74.44\"/>\n<polygon fill=\"black\" stroke=\"black\" points=\"746.2,-77.16 752.01,-68.3 741.95,-71.6 746.2,-77.16\"/>\n</g>\n</g>\n</svg>\n",
      "text/plain": "<graphviz.sources.Source at 0x20b93ad5cd0>"
     },
     "execution_count": 42,
     "metadata": {},
     "output_type": "execute_result"
    }
   ],
   "source": [
    "dot_data = export_graphviz(melhor_modelo, out_file=None, filled=True, rounded=True, class_names=[\"não\", \"sim\"], feature_names=X_azar.columns)\n",
    "graph = graphviz.Source(dot_data)\n",
    "graph"
   ],
   "metadata": {
    "collapsed": false,
    "pycharm": {
     "name": "#%%\n"
    }
   }
  },
  {
   "cell_type": "markdown",
   "source": [
    "# Busca aleatória: RandomizedSearch"
   ],
   "metadata": {
    "collapsed": false,
    "pycharm": {
     "name": "#%% md\n"
    }
   }
  },
  {
   "cell_type": "code",
   "execution_count": 43,
   "outputs": [
    {
     "data": {
      "text/plain": "   mean_fit_time  std_fit_time  mean_score_time  std_score_time  \\\n0       0.013995      0.002529         0.002399    4.898629e-04   \n1       0.010796      0.000748         0.002400    4.899602e-04   \n2       0.009798      0.000399         0.001999    8.662177e-07   \n3       0.019586      0.001733         0.002600    4.895315e-04   \n4       0.017994      0.001095         0.002000    7.136645e-07   \n\n  param_min_samples_split param_min_samples_leaf param_max_depth  \\\n0                     128                    128               5   \n1                      64                     32               3   \n2                      64                    128               3   \n3                      32                     64               5   \n4                      64                     64               5   \n\n  param_criterion                                             params  \\\n0            gini  {'min_samples_split': 128, 'min_samples_leaf':...   \n1            gini  {'min_samples_split': 64, 'min_samples_leaf': ...   \n2            gini  {'min_samples_split': 64, 'min_samples_leaf': ...   \n3         entropy  {'min_samples_split': 32, 'min_samples_leaf': ...   \n4         entropy  {'min_samples_split': 64, 'min_samples_leaf': ...   \n\n   split0_test_score  split1_test_score  split2_test_score  split3_test_score  \\\n0              0.784              0.769             0.7985              0.793   \n1              0.784              0.776             0.8025              0.793   \n2              0.784              0.776             0.8025              0.793   \n3              0.784              0.769             0.8005              0.793   \n4              0.784              0.769             0.8005              0.793   \n\n   split4_test_score  mean_test_score  std_test_score  rank_test_score  \n0             0.7730           0.7835        0.011278               13  \n1             0.7795           0.7870        0.009618                1  \n2             0.7795           0.7870        0.009618                1  \n3             0.7730           0.7839        0.011825                7  \n4             0.7730           0.7839        0.011825                7  ",
      "text/html": "<div>\n<style scoped>\n    .dataframe tbody tr th:only-of-type {\n        vertical-align: middle;\n    }\n\n    .dataframe tbody tr th {\n        vertical-align: top;\n    }\n\n    .dataframe thead th {\n        text-align: right;\n    }\n</style>\n<table border=\"1\" class=\"dataframe\">\n  <thead>\n    <tr style=\"text-align: right;\">\n      <th></th>\n      <th>mean_fit_time</th>\n      <th>std_fit_time</th>\n      <th>mean_score_time</th>\n      <th>std_score_time</th>\n      <th>param_min_samples_split</th>\n      <th>param_min_samples_leaf</th>\n      <th>param_max_depth</th>\n      <th>param_criterion</th>\n      <th>params</th>\n      <th>split0_test_score</th>\n      <th>split1_test_score</th>\n      <th>split2_test_score</th>\n      <th>split3_test_score</th>\n      <th>split4_test_score</th>\n      <th>mean_test_score</th>\n      <th>std_test_score</th>\n      <th>rank_test_score</th>\n    </tr>\n  </thead>\n  <tbody>\n    <tr>\n      <th>0</th>\n      <td>0.013995</td>\n      <td>0.002529</td>\n      <td>0.002399</td>\n      <td>4.898629e-04</td>\n      <td>128</td>\n      <td>128</td>\n      <td>5</td>\n      <td>gini</td>\n      <td>{'min_samples_split': 128, 'min_samples_leaf':...</td>\n      <td>0.784</td>\n      <td>0.769</td>\n      <td>0.7985</td>\n      <td>0.793</td>\n      <td>0.7730</td>\n      <td>0.7835</td>\n      <td>0.011278</td>\n      <td>13</td>\n    </tr>\n    <tr>\n      <th>1</th>\n      <td>0.010796</td>\n      <td>0.000748</td>\n      <td>0.002400</td>\n      <td>4.899602e-04</td>\n      <td>64</td>\n      <td>32</td>\n      <td>3</td>\n      <td>gini</td>\n      <td>{'min_samples_split': 64, 'min_samples_leaf': ...</td>\n      <td>0.784</td>\n      <td>0.776</td>\n      <td>0.8025</td>\n      <td>0.793</td>\n      <td>0.7795</td>\n      <td>0.7870</td>\n      <td>0.009618</td>\n      <td>1</td>\n    </tr>\n    <tr>\n      <th>2</th>\n      <td>0.009798</td>\n      <td>0.000399</td>\n      <td>0.001999</td>\n      <td>8.662177e-07</td>\n      <td>64</td>\n      <td>128</td>\n      <td>3</td>\n      <td>gini</td>\n      <td>{'min_samples_split': 64, 'min_samples_leaf': ...</td>\n      <td>0.784</td>\n      <td>0.776</td>\n      <td>0.8025</td>\n      <td>0.793</td>\n      <td>0.7795</td>\n      <td>0.7870</td>\n      <td>0.009618</td>\n      <td>1</td>\n    </tr>\n    <tr>\n      <th>3</th>\n      <td>0.019586</td>\n      <td>0.001733</td>\n      <td>0.002600</td>\n      <td>4.895315e-04</td>\n      <td>32</td>\n      <td>64</td>\n      <td>5</td>\n      <td>entropy</td>\n      <td>{'min_samples_split': 32, 'min_samples_leaf': ...</td>\n      <td>0.784</td>\n      <td>0.769</td>\n      <td>0.8005</td>\n      <td>0.793</td>\n      <td>0.7730</td>\n      <td>0.7839</td>\n      <td>0.011825</td>\n      <td>7</td>\n    </tr>\n    <tr>\n      <th>4</th>\n      <td>0.017994</td>\n      <td>0.001095</td>\n      <td>0.002000</td>\n      <td>7.136645e-07</td>\n      <td>64</td>\n      <td>64</td>\n      <td>5</td>\n      <td>entropy</td>\n      <td>{'min_samples_split': 64, 'min_samples_leaf': ...</td>\n      <td>0.784</td>\n      <td>0.769</td>\n      <td>0.8005</td>\n      <td>0.793</td>\n      <td>0.7730</td>\n      <td>0.7839</td>\n      <td>0.011825</td>\n      <td>7</td>\n    </tr>\n  </tbody>\n</table>\n</div>"
     },
     "execution_count": 43,
     "metadata": {},
     "output_type": "execute_result"
    }
   ],
   "source": [
    "from sklearn.model_selection import RandomizedSearchCV\n",
    "\n",
    "SEED = 301\n",
    "np.random.seed(SEED)\n",
    "\n",
    "espaco_parametros = {\n",
    "    \"max_depth\": [3, 5],\n",
    "    \"min_samples_split\": [32, 64, 128],\n",
    "    \"min_samples_leaf\": [32, 64, 128],\n",
    "    \"criterion\": [\"gini\", \"entropy\"]\n",
    "}\n",
    "\n",
    "busca = RandomizedSearchCV(DecisionTreeClassifier(), espaco_parametros, n_iter= 16, cv=KFold(n_splits=5, shuffle=True), random_state=SEED)\n",
    "busca.fit(X_azar, y_azar)\n",
    "resultados = pd.DataFrame(busca.cv_results_)\n",
    "resultados.head()"
   ],
   "metadata": {
    "collapsed": false,
    "pycharm": {
     "name": "#%%\n"
    }
   }
  },
  {
   "cell_type": "code",
   "execution_count": 44,
   "outputs": [
    {
     "name": "stdout",
     "output_type": "stream",
     "text": [
      "Acurácia média 78.70\n",
      "Intervalo = [76.70, 80.70]\n"
     ]
    }
   ],
   "source": [
    "scores = cross_val_score(busca, X_azar, y_azar, cv=KFold(n_splits=10, shuffle=True))\n",
    "imprime_score(scores)"
   ],
   "metadata": {
    "collapsed": false,
    "pycharm": {
     "name": "#%%\n"
    }
   }
  },
  {
   "cell_type": "code",
   "execution_count": 45,
   "outputs": [
    {
     "name": "stdout",
     "output_type": "stream",
     "text": [
      "DecisionTreeClassifier(max_depth=3, min_samples_leaf=32, min_samples_split=64)\n"
     ]
    }
   ],
   "source": [
    "melhor_modelo = busca.best_estimator_\n",
    "print(melhor_modelo)"
   ],
   "metadata": {
    "collapsed": false,
    "pycharm": {
     "name": "#%%\n"
    }
   }
  },
  {
   "cell_type": "code",
   "execution_count": 46,
   "outputs": [
    {
     "data": {
      "image/svg+xml": "<?xml version=\"1.0\" encoding=\"UTF-8\" standalone=\"no\"?>\n<!DOCTYPE svg PUBLIC \"-//W3C//DTD SVG 1.1//EN\"\n \"http://www.w3.org/Graphics/SVG/1.1/DTD/svg11.dtd\">\n<!-- Generated by graphviz version 2.50.0 (0)\n -->\n<!-- Title: Tree Pages: 1 -->\n<svg width=\"866pt\" height=\"433pt\"\n viewBox=\"0.00 0.00 866.00 433.00\" xmlns=\"http://www.w3.org/2000/svg\" xmlns:xlink=\"http://www.w3.org/1999/xlink\">\n<g id=\"graph0\" class=\"graph\" transform=\"scale(1 1) rotate(0) translate(4 429)\">\n<title>Tree</title>\n<polygon fill=\"white\" stroke=\"transparent\" points=\"-4,4 -4,-429 862,-429 862,4 -4,4\"/>\n<!-- 0 -->\n<g id=\"node1\" class=\"node\">\n<title>0</title>\n<path fill=\"#c8e4f8\" stroke=\"black\" d=\"M350.5,-425C350.5,-425 234.5,-425 234.5,-425 228.5,-425 222.5,-419 222.5,-413 222.5,-413 222.5,-354 222.5,-354 222.5,-348 228.5,-342 234.5,-342 234.5,-342 350.5,-342 350.5,-342 356.5,-342 362.5,-348 362.5,-354 362.5,-354 362.5,-413 362.5,-413 362.5,-419 356.5,-425 350.5,-425\"/>\n<text text-anchor=\"middle\" x=\"292.5\" y=\"-409.8\" font-family=\"Helvetica,sans-Serif\" font-size=\"14.00\">preco &lt;= 59982.246</text>\n<text text-anchor=\"middle\" x=\"292.5\" y=\"-394.8\" font-family=\"Helvetica,sans-Serif\" font-size=\"14.00\">gini = 0.487</text>\n<text text-anchor=\"middle\" x=\"292.5\" y=\"-379.8\" font-family=\"Helvetica,sans-Serif\" font-size=\"14.00\">samples = 10000</text>\n<text text-anchor=\"middle\" x=\"292.5\" y=\"-364.8\" font-family=\"Helvetica,sans-Serif\" font-size=\"14.00\">value = [4200, 5800]</text>\n<text text-anchor=\"middle\" x=\"292.5\" y=\"-349.8\" font-family=\"Helvetica,sans-Serif\" font-size=\"14.00\">class = sim</text>\n</g>\n<!-- 1 -->\n<g id=\"node2\" class=\"node\">\n<title>1</title>\n<path fill=\"#52a9e8\" stroke=\"black\" d=\"M261.5,-306C261.5,-306 147.5,-306 147.5,-306 141.5,-306 135.5,-300 135.5,-294 135.5,-294 135.5,-235 135.5,-235 135.5,-229 141.5,-223 147.5,-223 147.5,-223 261.5,-223 261.5,-223 267.5,-223 273.5,-229 273.5,-235 273.5,-235 273.5,-294 273.5,-294 273.5,-300 267.5,-306 261.5,-306\"/>\n<text text-anchor=\"middle\" x=\"204.5\" y=\"-290.8\" font-family=\"Helvetica,sans-Serif\" font-size=\"14.00\">preco &lt;= 40083.385</text>\n<text text-anchor=\"middle\" x=\"204.5\" y=\"-275.8\" font-family=\"Helvetica,sans-Serif\" font-size=\"14.00\">gini = 0.198</text>\n<text text-anchor=\"middle\" x=\"204.5\" y=\"-260.8\" font-family=\"Helvetica,sans-Serif\" font-size=\"14.00\">samples = 4347</text>\n<text text-anchor=\"middle\" x=\"204.5\" y=\"-245.8\" font-family=\"Helvetica,sans-Serif\" font-size=\"14.00\">value = [484, 3863]</text>\n<text text-anchor=\"middle\" x=\"204.5\" y=\"-230.8\" font-family=\"Helvetica,sans-Serif\" font-size=\"14.00\">class = sim</text>\n</g>\n<!-- 0&#45;&gt;1 -->\n<g id=\"edge1\" class=\"edge\">\n<title>0&#45;&gt;1</title>\n<path fill=\"none\" stroke=\"black\" d=\"M261.97,-341.91C255.21,-332.92 247.98,-323.32 241.02,-314.05\"/>\n<polygon fill=\"black\" stroke=\"black\" points=\"243.79,-311.91 234.98,-306.02 238.19,-316.12 243.79,-311.91\"/>\n<text text-anchor=\"middle\" x=\"231.48\" y=\"-327.07\" font-family=\"Helvetica,sans-Serif\" font-size=\"14.00\">True</text>\n</g>\n<!-- 6 -->\n<g id=\"node7\" class=\"node\">\n<title>6</title>\n<path fill=\"#f3c3a0\" stroke=\"black\" d=\"M514.5,-306C514.5,-306 358.5,-306 358.5,-306 352.5,-306 346.5,-300 346.5,-294 346.5,-294 346.5,-235 346.5,-235 346.5,-229 352.5,-223 358.5,-223 358.5,-223 514.5,-223 514.5,-223 520.5,-223 526.5,-229 526.5,-235 526.5,-235 526.5,-294 526.5,-294 526.5,-300 520.5,-306 514.5,-306\"/>\n<text text-anchor=\"middle\" x=\"436.5\" y=\"-290.8\" font-family=\"Helvetica,sans-Serif\" font-size=\"14.00\">km_por_ano &lt;= 24124.006</text>\n<text text-anchor=\"middle\" x=\"436.5\" y=\"-275.8\" font-family=\"Helvetica,sans-Serif\" font-size=\"14.00\">gini = 0.45</text>\n<text text-anchor=\"middle\" x=\"436.5\" y=\"-260.8\" font-family=\"Helvetica,sans-Serif\" font-size=\"14.00\">samples = 5653</text>\n<text text-anchor=\"middle\" x=\"436.5\" y=\"-245.8\" font-family=\"Helvetica,sans-Serif\" font-size=\"14.00\">value = [3716, 1937]</text>\n<text text-anchor=\"middle\" x=\"436.5\" y=\"-230.8\" font-family=\"Helvetica,sans-Serif\" font-size=\"14.00\">class = não</text>\n</g>\n<!-- 0&#45;&gt;6 -->\n<g id=\"edge6\" class=\"edge\">\n<title>0&#45;&gt;6</title>\n<path fill=\"none\" stroke=\"black\" d=\"M342.46,-341.91C354.19,-332.38 366.78,-322.15 378.81,-312.37\"/>\n<polygon fill=\"black\" stroke=\"black\" points=\"381.07,-315.04 386.63,-306.02 376.66,-309.61 381.07,-315.04\"/>\n<text text-anchor=\"middle\" x=\"384.06\" y=\"-327.19\" font-family=\"Helvetica,sans-Serif\" font-size=\"14.00\">False</text>\n</g>\n<!-- 2 -->\n<g id=\"node3\" class=\"node\">\n<title>2</title>\n<path fill=\"#399de5\" stroke=\"black\" d=\"M105,-179.5C105,-179.5 12,-179.5 12,-179.5 6,-179.5 0,-173.5 0,-167.5 0,-167.5 0,-123.5 0,-123.5 0,-117.5 6,-111.5 12,-111.5 12,-111.5 105,-111.5 105,-111.5 111,-111.5 117,-117.5 117,-123.5 117,-123.5 117,-167.5 117,-167.5 117,-173.5 111,-179.5 105,-179.5\"/>\n<text text-anchor=\"middle\" x=\"58.5\" y=\"-164.3\" font-family=\"Helvetica,sans-Serif\" font-size=\"14.00\">gini = 0.0</text>\n<text text-anchor=\"middle\" x=\"58.5\" y=\"-149.3\" font-family=\"Helvetica,sans-Serif\" font-size=\"14.00\">samples = 1935</text>\n<text text-anchor=\"middle\" x=\"58.5\" y=\"-134.3\" font-family=\"Helvetica,sans-Serif\" font-size=\"14.00\">value = [0, 1935]</text>\n<text text-anchor=\"middle\" x=\"58.5\" y=\"-119.3\" font-family=\"Helvetica,sans-Serif\" font-size=\"14.00\">class = sim</text>\n</g>\n<!-- 1&#45;&gt;2 -->\n<g id=\"edge2\" class=\"edge\">\n<title>1&#45;&gt;2</title>\n<path fill=\"none\" stroke=\"black\" d=\"M153.85,-222.91C138.97,-210.99 122.73,-197.98 107.94,-186.12\"/>\n<polygon fill=\"black\" stroke=\"black\" points=\"109.88,-183.19 99.89,-179.67 105.5,-188.65 109.88,-183.19\"/>\n</g>\n<!-- 3 -->\n<g id=\"node4\" class=\"node\">\n<title>3</title>\n<path fill=\"#6bb6ec\" stroke=\"black\" d=\"M261.5,-187C261.5,-187 147.5,-187 147.5,-187 141.5,-187 135.5,-181 135.5,-175 135.5,-175 135.5,-116 135.5,-116 135.5,-110 141.5,-104 147.5,-104 147.5,-104 261.5,-104 261.5,-104 267.5,-104 273.5,-110 273.5,-116 273.5,-116 273.5,-175 273.5,-175 273.5,-181 267.5,-187 261.5,-187\"/>\n<text text-anchor=\"middle\" x=\"204.5\" y=\"-171.8\" font-family=\"Helvetica,sans-Serif\" font-size=\"14.00\">preco &lt;= 41083.029</text>\n<text text-anchor=\"middle\" x=\"204.5\" y=\"-156.8\" font-family=\"Helvetica,sans-Serif\" font-size=\"14.00\">gini = 0.321</text>\n<text text-anchor=\"middle\" x=\"204.5\" y=\"-141.8\" font-family=\"Helvetica,sans-Serif\" font-size=\"14.00\">samples = 2412</text>\n<text text-anchor=\"middle\" x=\"204.5\" y=\"-126.8\" font-family=\"Helvetica,sans-Serif\" font-size=\"14.00\">value = [484, 1928]</text>\n<text text-anchor=\"middle\" x=\"204.5\" y=\"-111.8\" font-family=\"Helvetica,sans-Serif\" font-size=\"14.00\">class = sim</text>\n</g>\n<!-- 1&#45;&gt;3 -->\n<g id=\"edge3\" class=\"edge\">\n<title>1&#45;&gt;3</title>\n<path fill=\"none\" stroke=\"black\" d=\"M204.5,-222.91C204.5,-214.65 204.5,-205.86 204.5,-197.3\"/>\n<polygon fill=\"black\" stroke=\"black\" points=\"208,-197.02 204.5,-187.02 201,-197.02 208,-197.02\"/>\n</g>\n<!-- 4 -->\n<g id=\"node5\" class=\"node\">\n<title>4</title>\n<path fill=\"#95cbf1\" stroke=\"black\" d=\"M108.5,-68C108.5,-68 22.5,-68 22.5,-68 16.5,-68 10.5,-62 10.5,-56 10.5,-56 10.5,-12 10.5,-12 10.5,-6 16.5,0 22.5,0 22.5,0 108.5,0 108.5,0 114.5,0 120.5,-6 120.5,-12 120.5,-12 120.5,-56 120.5,-56 120.5,-62 114.5,-68 108.5,-68\"/>\n<text text-anchor=\"middle\" x=\"65.5\" y=\"-52.8\" font-family=\"Helvetica,sans-Serif\" font-size=\"14.00\">gini = 0.434</text>\n<text text-anchor=\"middle\" x=\"65.5\" y=\"-37.8\" font-family=\"Helvetica,sans-Serif\" font-size=\"14.00\">samples = 110</text>\n<text text-anchor=\"middle\" x=\"65.5\" y=\"-22.8\" font-family=\"Helvetica,sans-Serif\" font-size=\"14.00\">value = [35, 75]</text>\n<text text-anchor=\"middle\" x=\"65.5\" y=\"-7.8\" font-family=\"Helvetica,sans-Serif\" font-size=\"14.00\">class = sim</text>\n</g>\n<!-- 3&#45;&gt;4 -->\n<g id=\"edge4\" class=\"edge\">\n<title>3&#45;&gt;4</title>\n<path fill=\"none\" stroke=\"black\" d=\"M152.74,-103.73C140.7,-94.24 127.9,-84.16 115.92,-74.72\"/>\n<polygon fill=\"black\" stroke=\"black\" points=\"117.79,-71.74 107.77,-68.3 113.46,-77.24 117.79,-71.74\"/>\n</g>\n<!-- 5 -->\n<g id=\"node6\" class=\"node\">\n<title>5</title>\n<path fill=\"#69b5eb\" stroke=\"black\" d=\"M258.5,-68C258.5,-68 150.5,-68 150.5,-68 144.5,-68 138.5,-62 138.5,-56 138.5,-56 138.5,-12 138.5,-12 138.5,-6 144.5,0 150.5,0 150.5,0 258.5,0 258.5,0 264.5,0 270.5,-6 270.5,-12 270.5,-12 270.5,-56 270.5,-56 270.5,-62 264.5,-68 258.5,-68\"/>\n<text text-anchor=\"middle\" x=\"204.5\" y=\"-52.8\" font-family=\"Helvetica,sans-Serif\" font-size=\"14.00\">gini = 0.314</text>\n<text text-anchor=\"middle\" x=\"204.5\" y=\"-37.8\" font-family=\"Helvetica,sans-Serif\" font-size=\"14.00\">samples = 2302</text>\n<text text-anchor=\"middle\" x=\"204.5\" y=\"-22.8\" font-family=\"Helvetica,sans-Serif\" font-size=\"14.00\">value = [449, 1853]</text>\n<text text-anchor=\"middle\" x=\"204.5\" y=\"-7.8\" font-family=\"Helvetica,sans-Serif\" font-size=\"14.00\">class = sim</text>\n</g>\n<!-- 3&#45;&gt;5 -->\n<g id=\"edge5\" class=\"edge\">\n<title>3&#45;&gt;5</title>\n<path fill=\"none\" stroke=\"black\" d=\"M204.5,-103.73C204.5,-95.52 204.5,-86.86 204.5,-78.56\"/>\n<polygon fill=\"black\" stroke=\"black\" points=\"208,-78.3 204.5,-68.3 201,-78.3 208,-78.3\"/>\n</g>\n<!-- 7 -->\n<g id=\"node8\" class=\"node\">\n<title>7</title>\n<path fill=\"#fcefe5\" stroke=\"black\" d=\"M494.5,-187C494.5,-187 378.5,-187 378.5,-187 372.5,-187 366.5,-181 366.5,-175 366.5,-175 366.5,-116 366.5,-116 366.5,-110 372.5,-104 378.5,-104 378.5,-104 494.5,-104 494.5,-104 500.5,-104 506.5,-110 506.5,-116 506.5,-116 506.5,-175 506.5,-175 506.5,-181 500.5,-187 494.5,-187\"/>\n<text text-anchor=\"middle\" x=\"436.5\" y=\"-171.8\" font-family=\"Helvetica,sans-Serif\" font-size=\"14.00\">preco &lt;= 99974.41</text>\n<text text-anchor=\"middle\" x=\"436.5\" y=\"-156.8\" font-family=\"Helvetica,sans-Serif\" font-size=\"14.00\">gini = 0.498</text>\n<text text-anchor=\"middle\" x=\"436.5\" y=\"-141.8\" font-family=\"Helvetica,sans-Serif\" font-size=\"14.00\">samples = 3513</text>\n<text text-anchor=\"middle\" x=\"436.5\" y=\"-126.8\" font-family=\"Helvetica,sans-Serif\" font-size=\"14.00\">value = [1879, 1634]</text>\n<text text-anchor=\"middle\" x=\"436.5\" y=\"-111.8\" font-family=\"Helvetica,sans-Serif\" font-size=\"14.00\">class = não</text>\n</g>\n<!-- 6&#45;&gt;7 -->\n<g id=\"edge7\" class=\"edge\">\n<title>6&#45;&gt;7</title>\n<path fill=\"none\" stroke=\"black\" d=\"M436.5,-222.91C436.5,-214.65 436.5,-205.86 436.5,-197.3\"/>\n<polygon fill=\"black\" stroke=\"black\" points=\"440,-197.02 436.5,-187.02 433,-197.02 440,-197.02\"/>\n</g>\n<!-- 10 -->\n<g id=\"node11\" class=\"node\">\n<title>10</title>\n<path fill=\"#e9965a\" stroke=\"black\" d=\"M713.5,-187C713.5,-187 591.5,-187 591.5,-187 585.5,-187 579.5,-181 579.5,-175 579.5,-175 579.5,-116 579.5,-116 579.5,-110 585.5,-104 591.5,-104 591.5,-104 713.5,-104 713.5,-104 719.5,-104 725.5,-110 725.5,-116 725.5,-116 725.5,-175 725.5,-175 725.5,-181 719.5,-187 713.5,-187\"/>\n<text text-anchor=\"middle\" x=\"652.5\" y=\"-171.8\" font-family=\"Helvetica,sans-Serif\" font-size=\"14.00\">preco &lt;= 100076.957</text>\n<text text-anchor=\"middle\" x=\"652.5\" y=\"-156.8\" font-family=\"Helvetica,sans-Serif\" font-size=\"14.00\">gini = 0.243</text>\n<text text-anchor=\"middle\" x=\"652.5\" y=\"-141.8\" font-family=\"Helvetica,sans-Serif\" font-size=\"14.00\">samples = 2140</text>\n<text text-anchor=\"middle\" x=\"652.5\" y=\"-126.8\" font-family=\"Helvetica,sans-Serif\" font-size=\"14.00\">value = [1837, 303]</text>\n<text text-anchor=\"middle\" x=\"652.5\" y=\"-111.8\" font-family=\"Helvetica,sans-Serif\" font-size=\"14.00\">class = não</text>\n</g>\n<!-- 6&#45;&gt;10 -->\n<g id=\"edge10\" class=\"edge\">\n<title>6&#45;&gt;10</title>\n<path fill=\"none\" stroke=\"black\" d=\"M511.44,-222.91C530.46,-212.61 550.99,-201.48 570.35,-191\"/>\n<polygon fill=\"black\" stroke=\"black\" points=\"572.03,-194.07 579.15,-186.23 568.69,-187.92 572.03,-194.07\"/>\n</g>\n<!-- 8 -->\n<g id=\"node9\" class=\"node\">\n<title>8</title>\n<path fill=\"#f9e0ce\" stroke=\"black\" d=\"M416.5,-68C416.5,-68 300.5,-68 300.5,-68 294.5,-68 288.5,-62 288.5,-56 288.5,-56 288.5,-12 288.5,-12 288.5,-6 294.5,0 300.5,0 300.5,0 416.5,0 416.5,0 422.5,0 428.5,-6 428.5,-12 428.5,-12 428.5,-56 428.5,-56 428.5,-62 422.5,-68 416.5,-68\"/>\n<text text-anchor=\"middle\" x=\"358.5\" y=\"-52.8\" font-family=\"Helvetica,sans-Serif\" font-size=\"14.00\">gini = 0.49</text>\n<text text-anchor=\"middle\" x=\"358.5\" y=\"-37.8\" font-family=\"Helvetica,sans-Serif\" font-size=\"14.00\">samples = 2944</text>\n<text text-anchor=\"middle\" x=\"358.5\" y=\"-22.8\" font-family=\"Helvetica,sans-Serif\" font-size=\"14.00\">value = [1682, 1262]</text>\n<text text-anchor=\"middle\" x=\"358.5\" y=\"-7.8\" font-family=\"Helvetica,sans-Serif\" font-size=\"14.00\">class = não</text>\n</g>\n<!-- 7&#45;&gt;8 -->\n<g id=\"edge8\" class=\"edge\">\n<title>7&#45;&gt;8</title>\n<path fill=\"none\" stroke=\"black\" d=\"M407.46,-103.73C401.15,-94.88 394.48,-85.51 388.15,-76.63\"/>\n<polygon fill=\"black\" stroke=\"black\" points=\"390.87,-74.41 382.22,-68.3 385.17,-78.48 390.87,-74.41\"/>\n</g>\n<!-- 9 -->\n<g id=\"node10\" class=\"node\">\n<title>9</title>\n<path fill=\"#a2d1f3\" stroke=\"black\" d=\"M560,-68C560,-68 459,-68 459,-68 453,-68 447,-62 447,-56 447,-56 447,-12 447,-12 447,-6 453,0 459,0 459,0 560,0 560,0 566,0 572,-6 572,-12 572,-12 572,-56 572,-56 572,-62 566,-68 560,-68\"/>\n<text text-anchor=\"middle\" x=\"509.5\" y=\"-52.8\" font-family=\"Helvetica,sans-Serif\" font-size=\"14.00\">gini = 0.453</text>\n<text text-anchor=\"middle\" x=\"509.5\" y=\"-37.8\" font-family=\"Helvetica,sans-Serif\" font-size=\"14.00\">samples = 569</text>\n<text text-anchor=\"middle\" x=\"509.5\" y=\"-22.8\" font-family=\"Helvetica,sans-Serif\" font-size=\"14.00\">value = [197, 372]</text>\n<text text-anchor=\"middle\" x=\"509.5\" y=\"-7.8\" font-family=\"Helvetica,sans-Serif\" font-size=\"14.00\">class = sim</text>\n</g>\n<!-- 7&#45;&gt;9 -->\n<g id=\"edge9\" class=\"edge\">\n<title>7&#45;&gt;9</title>\n<path fill=\"none\" stroke=\"black\" d=\"M463.68,-103.73C469.58,-94.88 475.83,-85.51 481.75,-76.63\"/>\n<polygon fill=\"black\" stroke=\"black\" points=\"484.67,-78.56 487.3,-68.3 478.84,-74.68 484.67,-78.56\"/>\n</g>\n<!-- 11 -->\n<g id=\"node12\" class=\"node\">\n<title>11</title>\n<path fill=\"#e68742\" stroke=\"black\" d=\"M703,-68C703,-68 602,-68 602,-68 596,-68 590,-62 590,-56 590,-56 590,-12 590,-12 590,-6 596,0 602,0 602,0 703,0 703,0 709,0 715,-6 715,-12 715,-12 715,-56 715,-56 715,-62 709,-68 703,-68\"/>\n<text text-anchor=\"middle\" x=\"652.5\" y=\"-52.8\" font-family=\"Helvetica,sans-Serif\" font-size=\"14.00\">gini = 0.082</text>\n<text text-anchor=\"middle\" x=\"652.5\" y=\"-37.8\" font-family=\"Helvetica,sans-Serif\" font-size=\"14.00\">samples = 1809</text>\n<text text-anchor=\"middle\" x=\"652.5\" y=\"-22.8\" font-family=\"Helvetica,sans-Serif\" font-size=\"14.00\">value = [1732, 77]</text>\n<text text-anchor=\"middle\" x=\"652.5\" y=\"-7.8\" font-family=\"Helvetica,sans-Serif\" font-size=\"14.00\">class = não</text>\n</g>\n<!-- 10&#45;&gt;11 -->\n<g id=\"edge11\" class=\"edge\">\n<title>10&#45;&gt;11</title>\n<path fill=\"none\" stroke=\"black\" d=\"M652.5,-103.73C652.5,-95.52 652.5,-86.86 652.5,-78.56\"/>\n<polygon fill=\"black\" stroke=\"black\" points=\"656,-78.3 652.5,-68.3 649,-78.3 656,-78.3\"/>\n</g>\n<!-- 12 -->\n<g id=\"node13\" class=\"node\">\n<title>12</title>\n<path fill=\"#95cbf1\" stroke=\"black\" d=\"M846,-68C846,-68 745,-68 745,-68 739,-68 733,-62 733,-56 733,-56 733,-12 733,-12 733,-6 739,0 745,0 745,0 846,0 846,0 852,0 858,-6 858,-12 858,-12 858,-56 858,-56 858,-62 852,-68 846,-68\"/>\n<text text-anchor=\"middle\" x=\"795.5\" y=\"-52.8\" font-family=\"Helvetica,sans-Serif\" font-size=\"14.00\">gini = 0.433</text>\n<text text-anchor=\"middle\" x=\"795.5\" y=\"-37.8\" font-family=\"Helvetica,sans-Serif\" font-size=\"14.00\">samples = 331</text>\n<text text-anchor=\"middle\" x=\"795.5\" y=\"-22.8\" font-family=\"Helvetica,sans-Serif\" font-size=\"14.00\">value = [105, 226]</text>\n<text text-anchor=\"middle\" x=\"795.5\" y=\"-7.8\" font-family=\"Helvetica,sans-Serif\" font-size=\"14.00\">class = sim</text>\n</g>\n<!-- 10&#45;&gt;12 -->\n<g id=\"edge12\" class=\"edge\">\n<title>10&#45;&gt;12</title>\n<path fill=\"none\" stroke=\"black\" d=\"M705.75,-103.73C718.25,-94.15 731.56,-83.96 743.99,-74.44\"/>\n<polygon fill=\"black\" stroke=\"black\" points=\"746.2,-77.16 752.01,-68.3 741.95,-71.6 746.2,-77.16\"/>\n</g>\n</g>\n</svg>\n",
      "text/plain": "<graphviz.sources.Source at 0x20b93ad5f10>"
     },
     "execution_count": 46,
     "metadata": {},
     "output_type": "execute_result"
    }
   ],
   "source": [
    "dot_data = export_graphviz(melhor_modelo, out_file=None, filled=True, rounded=True, class_names=[\"não\", \"sim\"], feature_names=X_azar.columns)\n",
    "graph = graphviz.Source(dot_data)\n",
    "graph"
   ],
   "metadata": {
    "collapsed": false,
    "pycharm": {
     "name": "#%%\n"
    }
   }
  },
  {
   "cell_type": "markdown",
   "source": [
    "# Personalizando o espaço de hiperparâmetros"
   ],
   "metadata": {
    "collapsed": false,
    "pycharm": {
     "name": "#%% md\n"
    }
   }
  },
  {
   "cell_type": "code",
   "execution_count": 47,
   "outputs": [
    {
     "data": {
      "text/plain": "   mean_fit_time  std_fit_time  mean_score_time  std_score_time  \\\n0       0.016195      0.002783         0.002399        0.000489   \n1       0.016794      0.002855         0.002199        0.000400   \n2       0.014195      0.001469         0.002200        0.000748   \n3       0.018195      0.002135         0.002199        0.000400   \n4       0.014995      0.002828         0.001999        0.000632   \n\n  param_criterion param_max_depth param_min_samples_leaf  \\\n0         entropy               3                     71   \n1            gini              15                     93   \n2            gini              20                    124   \n3            gini            None                     46   \n4            gini              15                    126   \n\n  param_min_samples_split                                             params  \\\n0                     100  {'criterion': 'entropy', 'max_depth': 3, 'min_...   \n1                     111  {'criterion': 'gini', 'max_depth': 15, 'min_sa...   \n2                      88  {'criterion': 'gini', 'max_depth': 20, 'min_sa...   \n3                      62  {'criterion': 'gini', 'max_depth': None, 'min_...   \n4                      84  {'criterion': 'gini', 'max_depth': 15, 'min_sa...   \n\n   split0_test_score  split1_test_score  split2_test_score  split3_test_score  \\\n0             0.7840             0.7760             0.8025             0.7930   \n1             0.7740             0.7725             0.7830             0.7805   \n2             0.7705             0.7745             0.7990             0.7790   \n3             0.7575             0.7730             0.7725             0.7835   \n4             0.7705             0.7735             0.7995             0.7790   \n\n   split4_test_score  mean_test_score  std_test_score  rank_test_score  \n0             0.7795           0.7870        0.009618                1  \n1             0.7725           0.7765        0.004393               14  \n2             0.7735           0.7793        0.010221                8  \n3             0.7560           0.7685        0.010378               16  \n4             0.7745           0.7794        0.010413                7  ",
      "text/html": "<div>\n<style scoped>\n    .dataframe tbody tr th:only-of-type {\n        vertical-align: middle;\n    }\n\n    .dataframe tbody tr th {\n        vertical-align: top;\n    }\n\n    .dataframe thead th {\n        text-align: right;\n    }\n</style>\n<table border=\"1\" class=\"dataframe\">\n  <thead>\n    <tr style=\"text-align: right;\">\n      <th></th>\n      <th>mean_fit_time</th>\n      <th>std_fit_time</th>\n      <th>mean_score_time</th>\n      <th>std_score_time</th>\n      <th>param_criterion</th>\n      <th>param_max_depth</th>\n      <th>param_min_samples_leaf</th>\n      <th>param_min_samples_split</th>\n      <th>params</th>\n      <th>split0_test_score</th>\n      <th>split1_test_score</th>\n      <th>split2_test_score</th>\n      <th>split3_test_score</th>\n      <th>split4_test_score</th>\n      <th>mean_test_score</th>\n      <th>std_test_score</th>\n      <th>rank_test_score</th>\n    </tr>\n  </thead>\n  <tbody>\n    <tr>\n      <th>0</th>\n      <td>0.016195</td>\n      <td>0.002783</td>\n      <td>0.002399</td>\n      <td>0.000489</td>\n      <td>entropy</td>\n      <td>3</td>\n      <td>71</td>\n      <td>100</td>\n      <td>{'criterion': 'entropy', 'max_depth': 3, 'min_...</td>\n      <td>0.7840</td>\n      <td>0.7760</td>\n      <td>0.8025</td>\n      <td>0.7930</td>\n      <td>0.7795</td>\n      <td>0.7870</td>\n      <td>0.009618</td>\n      <td>1</td>\n    </tr>\n    <tr>\n      <th>1</th>\n      <td>0.016794</td>\n      <td>0.002855</td>\n      <td>0.002199</td>\n      <td>0.000400</td>\n      <td>gini</td>\n      <td>15</td>\n      <td>93</td>\n      <td>111</td>\n      <td>{'criterion': 'gini', 'max_depth': 15, 'min_sa...</td>\n      <td>0.7740</td>\n      <td>0.7725</td>\n      <td>0.7830</td>\n      <td>0.7805</td>\n      <td>0.7725</td>\n      <td>0.7765</td>\n      <td>0.004393</td>\n      <td>14</td>\n    </tr>\n    <tr>\n      <th>2</th>\n      <td>0.014195</td>\n      <td>0.001469</td>\n      <td>0.002200</td>\n      <td>0.000748</td>\n      <td>gini</td>\n      <td>20</td>\n      <td>124</td>\n      <td>88</td>\n      <td>{'criterion': 'gini', 'max_depth': 20, 'min_sa...</td>\n      <td>0.7705</td>\n      <td>0.7745</td>\n      <td>0.7990</td>\n      <td>0.7790</td>\n      <td>0.7735</td>\n      <td>0.7793</td>\n      <td>0.010221</td>\n      <td>8</td>\n    </tr>\n    <tr>\n      <th>3</th>\n      <td>0.018195</td>\n      <td>0.002135</td>\n      <td>0.002199</td>\n      <td>0.000400</td>\n      <td>gini</td>\n      <td>None</td>\n      <td>46</td>\n      <td>62</td>\n      <td>{'criterion': 'gini', 'max_depth': None, 'min_...</td>\n      <td>0.7575</td>\n      <td>0.7730</td>\n      <td>0.7725</td>\n      <td>0.7835</td>\n      <td>0.7560</td>\n      <td>0.7685</td>\n      <td>0.010378</td>\n      <td>16</td>\n    </tr>\n    <tr>\n      <th>4</th>\n      <td>0.014995</td>\n      <td>0.002828</td>\n      <td>0.001999</td>\n      <td>0.000632</td>\n      <td>gini</td>\n      <td>15</td>\n      <td>126</td>\n      <td>84</td>\n      <td>{'criterion': 'gini', 'max_depth': 15, 'min_sa...</td>\n      <td>0.7705</td>\n      <td>0.7735</td>\n      <td>0.7995</td>\n      <td>0.7790</td>\n      <td>0.7745</td>\n      <td>0.7794</td>\n      <td>0.010413</td>\n      <td>7</td>\n    </tr>\n  </tbody>\n</table>\n</div>"
     },
     "execution_count": 47,
     "metadata": {},
     "output_type": "execute_result"
    }
   ],
   "source": [
    "from scipy.stats import randint\n",
    "\n",
    "SEED = 301\n",
    "np.random.seed(SEED)\n",
    "\n",
    "espaco_parametros = {\n",
    "    \"max_depth\": [3, 5, 10, 15, 20, 30, None],\n",
    "    \"min_samples_split\": randint(32, 128),\n",
    "    \"min_samples_leaf\": randint(32, 128),\n",
    "    \"criterion\": [\"gini\", \"entropy\"]\n",
    "}\n",
    "\n",
    "busca = RandomizedSearchCV(DecisionTreeClassifier(), espaco_parametros, n_iter= 16, cv=KFold(n_splits=5, shuffle=True), random_state=SEED)\n",
    "busca.fit(X_azar, y_azar)\n",
    "resultados = pd.DataFrame(busca.cv_results_)\n",
    "resultados.head()"
   ],
   "metadata": {
    "collapsed": false,
    "pycharm": {
     "name": "#%%\n"
    }
   }
  },
  {
   "cell_type": "code",
   "execution_count": 48,
   "outputs": [
    {
     "name": "stdout",
     "output_type": "stream",
     "text": [
      "Acurácia média 78.70\n",
      "Intervalo = [76.70, 80.70]\n",
      "DecisionTreeClassifier(criterion='entropy', max_depth=3, min_samples_leaf=71,\n",
      "                       min_samples_split=100)\n"
     ]
    }
   ],
   "source": [
    "scores = cross_val_score(busca, X_azar, y_azar, cv=KFold(n_splits=10, shuffle=True))\n",
    "imprime_score(scores)\n",
    "melhor_modelo = busca.best_estimator_\n",
    "print(melhor_modelo)"
   ],
   "metadata": {
    "collapsed": false,
    "pycharm": {
     "name": "#%%\n"
    }
   }
  },
  {
   "cell_type": "code",
   "execution_count": 49,
   "outputs": [
    {
     "name": "stdout",
     "output_type": "stream",
     "text": [
      "0.787 +-(0.019), {'criterion': 'entropy', 'max_depth': 3, 'min_samples_leaf': 71, 'min_samples_split': 100}\n",
      "0.784 +-(0.024), {'criterion': 'entropy', 'max_depth': 5, 'min_samples_leaf': 73, 'min_samples_split': 72}\n",
      "0.784 +-(0.024), {'criterion': 'gini', 'max_depth': 5, 'min_samples_leaf': 64, 'min_samples_split': 67}\n",
      "0.781 +-(0.017), {'criterion': 'gini', 'max_depth': 10, 'min_samples_leaf': 108, 'min_samples_split': 110}\n",
      "0.780 +-(0.019), {'criterion': 'gini', 'max_depth': 10, 'min_samples_leaf': 125, 'min_samples_split': 59}\n",
      "0.780 +-(0.012), {'criterion': 'gini', 'max_depth': 15, 'min_samples_leaf': 103, 'min_samples_split': 96}\n",
      "0.779 +-(0.021), {'criterion': 'gini', 'max_depth': 15, 'min_samples_leaf': 126, 'min_samples_split': 84}\n",
      "0.779 +-(0.020), {'criterion': 'gini', 'max_depth': 20, 'min_samples_leaf': 124, 'min_samples_split': 88}\n",
      "0.779 +-(0.009), {'criterion': 'gini', 'max_depth': None, 'min_samples_leaf': 101, 'min_samples_split': 52}\n",
      "0.779 +-(0.014), {'criterion': 'entropy', 'max_depth': 15, 'min_samples_leaf': 104, 'min_samples_split': 88}\n",
      "0.779 +-(0.010), {'criterion': 'gini', 'max_depth': 30, 'min_samples_leaf': 100, 'min_samples_split': 84}\n",
      "0.778 +-(0.014), {'criterion': 'entropy', 'max_depth': 30, 'min_samples_leaf': 74, 'min_samples_split': 58}\n",
      "0.777 +-(0.013), {'criterion': 'gini', 'max_depth': 30, 'min_samples_leaf': 88, 'min_samples_split': 78}\n",
      "0.776 +-(0.009), {'criterion': 'gini', 'max_depth': 15, 'min_samples_leaf': 93, 'min_samples_split': 111}\n",
      "0.775 +-(0.015), {'criterion': 'entropy', 'max_depth': 20, 'min_samples_leaf': 52, 'min_samples_split': 80}\n",
      "0.769 +-(0.021), {'criterion': 'gini', 'max_depth': None, 'min_samples_leaf': 46, 'min_samples_split': 62}\n"
     ]
    }
   ],
   "source": [
    "resultados_ordenados_pela_media = resultados.sort_values(\"mean_test_score\", ascending=False)\n",
    "\n",
    "for indice, linha in resultados_ordenados_pela_media.iterrows():\n",
    "    print(f\"{linha.mean_test_score:0.3f} +-({linha.std_test_score * 2:0.3f}), {linha.params}\")"
   ],
   "metadata": {
    "collapsed": false,
    "pycharm": {
     "name": "#%%\n"
    }
   }
  },
  {
   "cell_type": "markdown",
   "source": [
    "# Uma exploração mais a fundo de forma aleatória"
   ],
   "metadata": {
    "collapsed": false,
    "pycharm": {
     "name": "#%% md\n"
    }
   }
  },
  {
   "cell_type": "code",
   "execution_count": 50,
   "outputs": [
    {
     "data": {
      "text/plain": "   mean_fit_time  std_fit_time  mean_score_time  std_score_time  \\\n0       0.023192      0.000748         0.002200    3.999952e-04   \n1       0.008397      0.000799         0.002200    4.001858e-04   \n2       0.013196      0.000400         0.001800    3.996849e-04   \n3       0.026592      0.001357         0.002000    2.780415e-07   \n4       0.014795      0.000400         0.002199    4.001379e-04   \n\n  param_criterion param_max_depth param_min_samples_leaf  \\\n0         entropy            None                     84   \n1            gini               3                     53   \n2            gini              30                    118   \n3         entropy            None                     53   \n4            gini              10                     44   \n\n  param_min_samples_split                                             params  \\\n0                     103  {'criterion': 'entropy', 'max_depth': None, 'm...   \n1                      60  {'criterion': 'gini', 'max_depth': 3, 'min_sam...   \n2                      61  {'criterion': 'gini', 'max_depth': 30, 'min_sa...   \n3                      85  {'criterion': 'entropy', 'max_depth': None, 'm...   \n4                      67  {'criterion': 'gini', 'max_depth': 10, 'min_sa...   \n\n   split0_test_score  split1_test_score  split2_test_score  split3_test_score  \\\n0             0.7780             0.7745             0.7735             0.7620   \n1             0.7905             0.7855             0.7915             0.7905   \n2             0.7775             0.7745             0.7785             0.7720   \n3             0.7710             0.7780             0.7760             0.7650   \n4             0.7755             0.7780             0.7835             0.7695   \n\n   split4_test_score  mean_test_score  std_test_score  rank_test_score  \n0             0.7625           0.7701        0.006583               62  \n1             0.7765           0.7869        0.005607                1  \n2             0.7875           0.7780        0.005273               18  \n3             0.7655           0.7711        0.005295               57  \n4             0.7735           0.7760        0.004669               29  ",
      "text/html": "<div>\n<style scoped>\n    .dataframe tbody tr th:only-of-type {\n        vertical-align: middle;\n    }\n\n    .dataframe tbody tr th {\n        vertical-align: top;\n    }\n\n    .dataframe thead th {\n        text-align: right;\n    }\n</style>\n<table border=\"1\" class=\"dataframe\">\n  <thead>\n    <tr style=\"text-align: right;\">\n      <th></th>\n      <th>mean_fit_time</th>\n      <th>std_fit_time</th>\n      <th>mean_score_time</th>\n      <th>std_score_time</th>\n      <th>param_criterion</th>\n      <th>param_max_depth</th>\n      <th>param_min_samples_leaf</th>\n      <th>param_min_samples_split</th>\n      <th>params</th>\n      <th>split0_test_score</th>\n      <th>split1_test_score</th>\n      <th>split2_test_score</th>\n      <th>split3_test_score</th>\n      <th>split4_test_score</th>\n      <th>mean_test_score</th>\n      <th>std_test_score</th>\n      <th>rank_test_score</th>\n    </tr>\n  </thead>\n  <tbody>\n    <tr>\n      <th>0</th>\n      <td>0.023192</td>\n      <td>0.000748</td>\n      <td>0.002200</td>\n      <td>3.999952e-04</td>\n      <td>entropy</td>\n      <td>None</td>\n      <td>84</td>\n      <td>103</td>\n      <td>{'criterion': 'entropy', 'max_depth': None, 'm...</td>\n      <td>0.7780</td>\n      <td>0.7745</td>\n      <td>0.7735</td>\n      <td>0.7620</td>\n      <td>0.7625</td>\n      <td>0.7701</td>\n      <td>0.006583</td>\n      <td>62</td>\n    </tr>\n    <tr>\n      <th>1</th>\n      <td>0.008397</td>\n      <td>0.000799</td>\n      <td>0.002200</td>\n      <td>4.001858e-04</td>\n      <td>gini</td>\n      <td>3</td>\n      <td>53</td>\n      <td>60</td>\n      <td>{'criterion': 'gini', 'max_depth': 3, 'min_sam...</td>\n      <td>0.7905</td>\n      <td>0.7855</td>\n      <td>0.7915</td>\n      <td>0.7905</td>\n      <td>0.7765</td>\n      <td>0.7869</td>\n      <td>0.005607</td>\n      <td>1</td>\n    </tr>\n    <tr>\n      <th>2</th>\n      <td>0.013196</td>\n      <td>0.000400</td>\n      <td>0.001800</td>\n      <td>3.996849e-04</td>\n      <td>gini</td>\n      <td>30</td>\n      <td>118</td>\n      <td>61</td>\n      <td>{'criterion': 'gini', 'max_depth': 30, 'min_sa...</td>\n      <td>0.7775</td>\n      <td>0.7745</td>\n      <td>0.7785</td>\n      <td>0.7720</td>\n      <td>0.7875</td>\n      <td>0.7780</td>\n      <td>0.005273</td>\n      <td>18</td>\n    </tr>\n    <tr>\n      <th>3</th>\n      <td>0.026592</td>\n      <td>0.001357</td>\n      <td>0.002000</td>\n      <td>2.780415e-07</td>\n      <td>entropy</td>\n      <td>None</td>\n      <td>53</td>\n      <td>85</td>\n      <td>{'criterion': 'entropy', 'max_depth': None, 'm...</td>\n      <td>0.7710</td>\n      <td>0.7780</td>\n      <td>0.7760</td>\n      <td>0.7650</td>\n      <td>0.7655</td>\n      <td>0.7711</td>\n      <td>0.005295</td>\n      <td>57</td>\n    </tr>\n    <tr>\n      <th>4</th>\n      <td>0.014795</td>\n      <td>0.000400</td>\n      <td>0.002199</td>\n      <td>4.001379e-04</td>\n      <td>gini</td>\n      <td>10</td>\n      <td>44</td>\n      <td>67</td>\n      <td>{'criterion': 'gini', 'max_depth': 10, 'min_sa...</td>\n      <td>0.7755</td>\n      <td>0.7780</td>\n      <td>0.7835</td>\n      <td>0.7695</td>\n      <td>0.7735</td>\n      <td>0.7760</td>\n      <td>0.004669</td>\n      <td>29</td>\n    </tr>\n  </tbody>\n</table>\n</div>"
     },
     "execution_count": 50,
     "metadata": {},
     "output_type": "execute_result"
    }
   ],
   "source": [
    "SEED = 564\n",
    "np.random.seed(SEED)\n",
    "\n",
    "espaco_parametros = {\n",
    "    \"max_depth\": [3, 5, 10, 15, 20, 30, None],\n",
    "    \"min_samples_split\": randint(32, 128),\n",
    "    \"min_samples_leaf\": randint(32, 128),\n",
    "    \"criterion\": [\"gini\", \"entropy\"]\n",
    "}\n",
    "\n",
    "busca = RandomizedSearchCV(DecisionTreeClassifier(), espaco_parametros, n_iter= 64, cv=KFold(n_splits=5, shuffle=True), random_state=SEED)\n",
    "busca.fit(X_azar, y_azar)\n",
    "resultados = pd.DataFrame(busca.cv_results_)\n",
    "resultados.head()"
   ],
   "metadata": {
    "collapsed": false,
    "pycharm": {
     "name": "#%%\n"
    }
   }
  },
  {
   "cell_type": "code",
   "execution_count": 51,
   "outputs": [
    {
     "name": "stdout",
     "output_type": "stream",
     "text": [
      "0.787 +-(0.011), {'criterion': 'entropy', 'max_depth': 3, 'min_samples_leaf': 33, 'min_samples_split': 77}\n",
      "0.787 +-(0.011), {'criterion': 'gini', 'max_depth': 3, 'min_samples_leaf': 38, 'min_samples_split': 113}\n",
      "0.787 +-(0.011), {'criterion': 'gini', 'max_depth': 3, 'min_samples_leaf': 53, 'min_samples_split': 60}\n",
      "0.787 +-(0.011), {'criterion': 'gini', 'max_depth': 3, 'min_samples_leaf': 61, 'min_samples_split': 86}\n",
      "0.787 +-(0.011), {'criterion': 'entropy', 'max_depth': 3, 'min_samples_leaf': 49, 'min_samples_split': 58}\n",
      "0.787 +-(0.011), {'criterion': 'entropy', 'max_depth': 3, 'min_samples_leaf': 58, 'min_samples_split': 118}\n",
      "0.787 +-(0.011), {'criterion': 'gini', 'max_depth': 3, 'min_samples_leaf': 122, 'min_samples_split': 117}\n",
      "0.786 +-(0.013), {'criterion': 'gini', 'max_depth': 5, 'min_samples_leaf': 39, 'min_samples_split': 73}\n",
      "0.786 +-(0.013), {'criterion': 'entropy', 'max_depth': 5, 'min_samples_leaf': 45, 'min_samples_split': 65}\n",
      "0.786 +-(0.014), {'criterion': 'entropy', 'max_depth': 5, 'min_samples_leaf': 101, 'min_samples_split': 59}\n",
      "0.786 +-(0.013), {'criterion': 'entropy', 'max_depth': 5, 'min_samples_leaf': 67, 'min_samples_split': 82}\n",
      "0.786 +-(0.014), {'criterion': 'gini', 'max_depth': 5, 'min_samples_leaf': 80, 'min_samples_split': 60}\n",
      "0.786 +-(0.014), {'criterion': 'gini', 'max_depth': 5, 'min_samples_leaf': 85, 'min_samples_split': 121}\n",
      "0.779 +-(0.009), {'criterion': 'entropy', 'max_depth': None, 'min_samples_leaf': 115, 'min_samples_split': 90}\n",
      "0.779 +-(0.010), {'criterion': 'gini', 'max_depth': 10, 'min_samples_leaf': 43, 'min_samples_split': 97}\n",
      "0.778 +-(0.009), {'criterion': 'entropy', 'max_depth': 10, 'min_samples_leaf': 105, 'min_samples_split': 107}\n",
      "0.778 +-(0.014), {'criterion': 'gini', 'max_depth': 10, 'min_samples_leaf': 127, 'min_samples_split': 96}\n",
      "0.778 +-(0.011), {'criterion': 'gini', 'max_depth': None, 'min_samples_leaf': 121, 'min_samples_split': 50}\n",
      "0.778 +-(0.011), {'criterion': 'gini', 'max_depth': 30, 'min_samples_leaf': 118, 'min_samples_split': 61}\n",
      "0.778 +-(0.011), {'criterion': 'entropy', 'max_depth': 15, 'min_samples_leaf': 117, 'min_samples_split': 122}\n",
      "0.778 +-(0.011), {'criterion': 'gini', 'max_depth': 15, 'min_samples_leaf': 121, 'min_samples_split': 103}\n",
      "0.778 +-(0.011), {'criterion': 'entropy', 'max_depth': None, 'min_samples_leaf': 118, 'min_samples_split': 116}\n",
      "0.777 +-(0.012), {'criterion': 'entropy', 'max_depth': 15, 'min_samples_leaf': 123, 'min_samples_split': 71}\n",
      "0.777 +-(0.013), {'criterion': 'entropy', 'max_depth': 15, 'min_samples_leaf': 125, 'min_samples_split': 84}\n",
      "0.777 +-(0.013), {'criterion': 'entropy', 'max_depth': 20, 'min_samples_leaf': 126, 'min_samples_split': 104}\n",
      "0.777 +-(0.012), {'criterion': 'gini', 'max_depth': 10, 'min_samples_leaf': 32, 'min_samples_split': 53}\n",
      "0.776 +-(0.005), {'criterion': 'gini', 'max_depth': 20, 'min_samples_leaf': 108, 'min_samples_split': 45}\n",
      "0.776 +-(0.007), {'criterion': 'gini', 'max_depth': 20, 'min_samples_leaf': 104, 'min_samples_split': 71}\n",
      "0.776 +-(0.009), {'criterion': 'gini', 'max_depth': 10, 'min_samples_leaf': 44, 'min_samples_split': 67}\n",
      "0.776 +-(0.014), {'criterion': 'gini', 'max_depth': 10, 'min_samples_leaf': 100, 'min_samples_split': 92}\n",
      "0.776 +-(0.007), {'criterion': 'entropy', 'max_depth': 30, 'min_samples_leaf': 109, 'min_samples_split': 117}\n",
      "0.776 +-(0.011), {'criterion': 'entropy', 'max_depth': 20, 'min_samples_leaf': 95, 'min_samples_split': 104}\n",
      "0.776 +-(0.011), {'criterion': 'entropy', 'max_depth': 20, 'min_samples_leaf': 95, 'min_samples_split': 68}\n",
      "0.776 +-(0.007), {'criterion': 'gini', 'max_depth': None, 'min_samples_leaf': 76, 'min_samples_split': 79}\n",
      "0.776 +-(0.007), {'criterion': 'gini', 'max_depth': None, 'min_samples_leaf': 76, 'min_samples_split': 85}\n",
      "0.776 +-(0.007), {'criterion': 'gini', 'max_depth': 15, 'min_samples_leaf': 76, 'min_samples_split': 39}\n",
      "0.776 +-(0.008), {'criterion': 'entropy', 'max_depth': 20, 'min_samples_leaf': 104, 'min_samples_split': 77}\n",
      "0.776 +-(0.011), {'criterion': 'entropy', 'max_depth': 10, 'min_samples_leaf': 91, 'min_samples_split': 66}\n",
      "0.776 +-(0.015), {'criterion': 'gini', 'max_depth': 15, 'min_samples_leaf': 38, 'min_samples_split': 64}\n",
      "0.775 +-(0.015), {'criterion': 'gini', 'max_depth': None, 'min_samples_leaf': 37, 'min_samples_split': 79}\n",
      "0.775 +-(0.007), {'criterion': 'entropy', 'max_depth': 10, 'min_samples_leaf': 52, 'min_samples_split': 72}\n",
      "0.774 +-(0.008), {'criterion': 'gini', 'max_depth': 20, 'min_samples_leaf': 66, 'min_samples_split': 124}\n",
      "0.774 +-(0.007), {'criterion': 'entropy', 'max_depth': 10, 'min_samples_leaf': 51, 'min_samples_split': 62}\n",
      "0.774 +-(0.007), {'criterion': 'gini', 'max_depth': 30, 'min_samples_leaf': 80, 'min_samples_split': 41}\n",
      "0.774 +-(0.016), {'criterion': 'gini', 'max_depth': 20, 'min_samples_leaf': 32, 'min_samples_split': 93}\n",
      "0.774 +-(0.014), {'criterion': 'entropy', 'max_depth': 10, 'min_samples_leaf': 88, 'min_samples_split': 111}\n",
      "0.774 +-(0.010), {'criterion': 'gini', 'max_depth': 30, 'min_samples_leaf': 100, 'min_samples_split': 62}\n",
      "0.774 +-(0.015), {'criterion': 'gini', 'max_depth': 15, 'min_samples_leaf': 41, 'min_samples_split': 82}\n",
      "0.773 +-(0.007), {'criterion': 'entropy', 'max_depth': None, 'min_samples_leaf': 69, 'min_samples_split': 44}\n",
      "0.773 +-(0.005), {'criterion': 'entropy', 'max_depth': 20, 'min_samples_leaf': 61, 'min_samples_split': 82}\n",
      "0.773 +-(0.014), {'criterion': 'entropy', 'max_depth': 10, 'min_samples_leaf': 87, 'min_samples_split': 38}\n",
      "0.772 +-(0.010), {'criterion': 'entropy', 'max_depth': 15, 'min_samples_leaf': 49, 'min_samples_split': 78}\n",
      "0.772 +-(0.007), {'criterion': 'entropy', 'max_depth': None, 'min_samples_leaf': 60, 'min_samples_split': 84}\n",
      "0.771 +-(0.010), {'criterion': 'entropy', 'max_depth': 30, 'min_samples_leaf': 49, 'min_samples_split': 101}\n",
      "0.771 +-(0.003), {'criterion': 'gini', 'max_depth': 30, 'min_samples_leaf': 62, 'min_samples_split': 48}\n",
      "0.771 +-(0.007), {'criterion': 'entropy', 'max_depth': 15, 'min_samples_leaf': 63, 'min_samples_split': 97}\n",
      "0.771 +-(0.011), {'criterion': 'entropy', 'max_depth': None, 'min_samples_leaf': 53, 'min_samples_split': 85}\n",
      "0.771 +-(0.007), {'criterion': 'entropy', 'max_depth': 15, 'min_samples_leaf': 58, 'min_samples_split': 70}\n",
      "0.771 +-(0.006), {'criterion': 'entropy', 'max_depth': 20, 'min_samples_leaf': 57, 'min_samples_split': 96}\n",
      "0.771 +-(0.010), {'criterion': 'gini', 'max_depth': 30, 'min_samples_leaf': 51, 'min_samples_split': 101}\n",
      "0.771 +-(0.011), {'criterion': 'gini', 'max_depth': 20, 'min_samples_leaf': 47, 'min_samples_split': 59}\n",
      "0.770 +-(0.013), {'criterion': 'entropy', 'max_depth': None, 'min_samples_leaf': 84, 'min_samples_split': 103}\n",
      "0.770 +-(0.010), {'criterion': 'entropy', 'max_depth': 20, 'min_samples_leaf': 51, 'min_samples_split': 114}\n",
      "0.769 +-(0.014), {'criterion': 'gini', 'max_depth': None, 'min_samples_leaf': 45, 'min_samples_split': 36}\n"
     ]
    }
   ],
   "source": [
    "resultados_ordenados_pela_media = resultados.sort_values(\"mean_test_score\", ascending=False)\n",
    "\n",
    "for indice, linha in resultados_ordenados_pela_media.iterrows():\n",
    "    print(f\"{linha.mean_test_score:0.3f} +-({linha.std_test_score * 2:0.3f}), {linha.params}\")"
   ],
   "metadata": {
    "collapsed": false,
    "pycharm": {
     "name": "#%%\n"
    }
   }
  },
  {
   "cell_type": "code",
   "execution_count": 52,
   "outputs": [
    {
     "name": "stdout",
     "output_type": "stream",
     "text": [
      "Acurácia média 78.69\n",
      "Intervalo = [77.18, 80.20]\n",
      "DecisionTreeClassifier(max_depth=3, min_samples_leaf=53, min_samples_split=60)\n"
     ]
    }
   ],
   "source": [
    "scores = cross_val_score(busca, X_azar, y_azar, cv=KFold(n_splits=10, shuffle=True))\n",
    "imprime_score(scores)\n",
    "melhor_modelo = busca.best_estimator_\n",
    "print(melhor_modelo)"
   ],
   "metadata": {
    "collapsed": false,
    "pycharm": {
     "name": "#%%\n"
    }
   }
  },
  {
   "cell_type": "markdown",
   "source": [
    "# Comparando GridSearchCV com RandomizedSearch (1 comparação)"
   ],
   "metadata": {
    "collapsed": false,
    "pycharm": {
     "name": "#%% md\n"
    }
   }
  },
  {
   "cell_type": "code",
   "execution_count": 53,
   "outputs": [
    {
     "name": "stdout",
     "output_type": "stream",
     "text": [
      "Tempo 192.95 segundos\n"
     ]
    },
    {
     "data": {
      "text/plain": "   mean_fit_time  std_fit_time  mean_score_time  std_score_time  \\\n0       0.035789      0.004165         0.003999    2.431402e-07   \n1       0.328300      0.014701         0.025992    6.323344e-04   \n2       0.034990      0.001414         0.004399    4.895901e-04   \n3       0.319703      0.012651         0.025992    8.944693e-04   \n4       0.034190      0.001166         0.004799    7.480480e-04   \n\n  param_bootstrap param_criterion param_max_depth param_min_samples_leaf  \\\n0            True            gini               3                     32   \n1            True            gini               3                     32   \n2            True            gini               3                     32   \n3            True            gini               3                     32   \n4            True            gini               3                     32   \n\n  param_min_samples_split param_n_estimators  \\\n0                      32                 10   \n1                      32                100   \n2                      64                 10   \n3                      64                100   \n4                     128                 10   \n\n                                              params  split0_test_score  \\\n0  {'bootstrap': True, 'criterion': 'gini', 'max_...             0.7745   \n1  {'bootstrap': True, 'criterion': 'gini', 'max_...             0.7655   \n2  {'bootstrap': True, 'criterion': 'gini', 'max_...             0.7780   \n3  {'bootstrap': True, 'criterion': 'gini', 'max_...             0.7425   \n4  {'bootstrap': True, 'criterion': 'gini', 'max_...             0.7755   \n\n   split1_test_score  split2_test_score  split3_test_score  split4_test_score  \\\n0             0.7560             0.7490             0.7850             0.7450   \n1             0.7555             0.7945             0.7850             0.7625   \n2             0.7635             0.7835             0.7845             0.7560   \n3             0.7550             0.7950             0.7850             0.7620   \n4             0.7405             0.7485             0.7760             0.7630   \n\n   mean_test_score  std_test_score  rank_test_score  \n0           0.7619        0.015357              130  \n1           0.7726        0.014685               93  \n2           0.7731        0.011373               89  \n3           0.7679        0.019356              119  \n4           0.7607        0.014250              135  ",
      "text/html": "<div>\n<style scoped>\n    .dataframe tbody tr th:only-of-type {\n        vertical-align: middle;\n    }\n\n    .dataframe tbody tr th {\n        vertical-align: top;\n    }\n\n    .dataframe thead th {\n        text-align: right;\n    }\n</style>\n<table border=\"1\" class=\"dataframe\">\n  <thead>\n    <tr style=\"text-align: right;\">\n      <th></th>\n      <th>mean_fit_time</th>\n      <th>std_fit_time</th>\n      <th>mean_score_time</th>\n      <th>std_score_time</th>\n      <th>param_bootstrap</th>\n      <th>param_criterion</th>\n      <th>param_max_depth</th>\n      <th>param_min_samples_leaf</th>\n      <th>param_min_samples_split</th>\n      <th>param_n_estimators</th>\n      <th>params</th>\n      <th>split0_test_score</th>\n      <th>split1_test_score</th>\n      <th>split2_test_score</th>\n      <th>split3_test_score</th>\n      <th>split4_test_score</th>\n      <th>mean_test_score</th>\n      <th>std_test_score</th>\n      <th>rank_test_score</th>\n    </tr>\n  </thead>\n  <tbody>\n    <tr>\n      <th>0</th>\n      <td>0.035789</td>\n      <td>0.004165</td>\n      <td>0.003999</td>\n      <td>2.431402e-07</td>\n      <td>True</td>\n      <td>gini</td>\n      <td>3</td>\n      <td>32</td>\n      <td>32</td>\n      <td>10</td>\n      <td>{'bootstrap': True, 'criterion': 'gini', 'max_...</td>\n      <td>0.7745</td>\n      <td>0.7560</td>\n      <td>0.7490</td>\n      <td>0.7850</td>\n      <td>0.7450</td>\n      <td>0.7619</td>\n      <td>0.015357</td>\n      <td>130</td>\n    </tr>\n    <tr>\n      <th>1</th>\n      <td>0.328300</td>\n      <td>0.014701</td>\n      <td>0.025992</td>\n      <td>6.323344e-04</td>\n      <td>True</td>\n      <td>gini</td>\n      <td>3</td>\n      <td>32</td>\n      <td>32</td>\n      <td>100</td>\n      <td>{'bootstrap': True, 'criterion': 'gini', 'max_...</td>\n      <td>0.7655</td>\n      <td>0.7555</td>\n      <td>0.7945</td>\n      <td>0.7850</td>\n      <td>0.7625</td>\n      <td>0.7726</td>\n      <td>0.014685</td>\n      <td>93</td>\n    </tr>\n    <tr>\n      <th>2</th>\n      <td>0.034990</td>\n      <td>0.001414</td>\n      <td>0.004399</td>\n      <td>4.895901e-04</td>\n      <td>True</td>\n      <td>gini</td>\n      <td>3</td>\n      <td>32</td>\n      <td>64</td>\n      <td>10</td>\n      <td>{'bootstrap': True, 'criterion': 'gini', 'max_...</td>\n      <td>0.7780</td>\n      <td>0.7635</td>\n      <td>0.7835</td>\n      <td>0.7845</td>\n      <td>0.7560</td>\n      <td>0.7731</td>\n      <td>0.011373</td>\n      <td>89</td>\n    </tr>\n    <tr>\n      <th>3</th>\n      <td>0.319703</td>\n      <td>0.012651</td>\n      <td>0.025992</td>\n      <td>8.944693e-04</td>\n      <td>True</td>\n      <td>gini</td>\n      <td>3</td>\n      <td>32</td>\n      <td>64</td>\n      <td>100</td>\n      <td>{'bootstrap': True, 'criterion': 'gini', 'max_...</td>\n      <td>0.7425</td>\n      <td>0.7550</td>\n      <td>0.7950</td>\n      <td>0.7850</td>\n      <td>0.7620</td>\n      <td>0.7679</td>\n      <td>0.019356</td>\n      <td>119</td>\n    </tr>\n    <tr>\n      <th>4</th>\n      <td>0.034190</td>\n      <td>0.001166</td>\n      <td>0.004799</td>\n      <td>7.480480e-04</td>\n      <td>True</td>\n      <td>gini</td>\n      <td>3</td>\n      <td>32</td>\n      <td>128</td>\n      <td>10</td>\n      <td>{'bootstrap': True, 'criterion': 'gini', 'max_...</td>\n      <td>0.7755</td>\n      <td>0.7405</td>\n      <td>0.7485</td>\n      <td>0.7760</td>\n      <td>0.7630</td>\n      <td>0.7607</td>\n      <td>0.014250</td>\n      <td>135</td>\n    </tr>\n  </tbody>\n</table>\n</div>"
     },
     "execution_count": 53,
     "metadata": {},
     "output_type": "execute_result"
    }
   ],
   "source": [
    "from sklearn.ensemble import RandomForestClassifier\n",
    "import time\n",
    "\n",
    "SEED = 301\n",
    "np.random.seed(SEED)\n",
    "\n",
    "espaco_parametros = {\n",
    "    \"n_estimators\": [10, 100],\n",
    "    \"max_depth\": [3, 5],\n",
    "    \"min_samples_split\": [32, 64, 128],\n",
    "    \"min_samples_leaf\": [32, 64, 128],\n",
    "    \"bootstrap\": [True, False],\n",
    "    \"criterion\": [\"gini\", \"entropy\"]\n",
    "}\n",
    "\n",
    "tic = time.time()\n",
    "busca = GridSearchCV(RandomForestClassifier(), espaco_parametros, cv=KFold(n_splits=5, shuffle=True))\n",
    "busca.fit(X_azar, y_azar)\n",
    "tac = time.time()\n",
    "tempo_gasto = tac - tic\n",
    "print(f\"Tempo {tempo_gasto:0.2f} segundos\")\n",
    "resultados = pd.DataFrame(busca.cv_results_)\n",
    "resultados.head()"
   ],
   "metadata": {
    "collapsed": false,
    "pycharm": {
     "name": "#%%\n"
    }
   }
  },
  {
   "cell_type": "code",
   "execution_count": 54,
   "outputs": [
    {
     "name": "stdout",
     "output_type": "stream",
     "text": [
      "0.780 +-(0.020), {'bootstrap': False, 'criterion': 'gini', 'max_depth': 5, 'min_samples_leaf': 32, 'min_samples_split': 64, 'n_estimators': 10}\n",
      "0.778 +-(0.020), {'bootstrap': True, 'criterion': 'gini', 'max_depth': 5, 'min_samples_leaf': 32, 'min_samples_split': 128, 'n_estimators': 10}\n",
      "0.778 +-(0.030), {'bootstrap': False, 'criterion': 'entropy', 'max_depth': 5, 'min_samples_leaf': 64, 'min_samples_split': 64, 'n_estimators': 10}\n",
      "0.778 +-(0.027), {'bootstrap': False, 'criterion': 'gini', 'max_depth': 5, 'min_samples_leaf': 64, 'min_samples_split': 64, 'n_estimators': 10}\n",
      "0.778 +-(0.033), {'bootstrap': False, 'criterion': 'entropy', 'max_depth': 5, 'min_samples_leaf': 64, 'min_samples_split': 64, 'n_estimators': 100}\n"
     ]
    }
   ],
   "source": [
    "resultados_ordenados_pela_media = resultados.sort_values(\"mean_test_score\", ascending=False)\n",
    "\n",
    "for indice, linha in resultados_ordenados_pela_media[:5].iterrows():\n",
    "    print(f\"{linha.mean_test_score:0.3f} +-({linha.std_test_score * 2:0.3f}), {linha.params}\")"
   ],
   "metadata": {
    "collapsed": false,
    "pycharm": {
     "name": "#%%\n"
    }
   }
  },
  {
   "cell_type": "code",
   "execution_count": 55,
   "outputs": [
    {
     "name": "stdout",
     "output_type": "stream",
     "text": [
      "Tempo 1764.71 segundos\n",
      "Acurácia média 77.58\n",
      "Intervalo = [74.41, 80.75]\n",
      "RandomForestClassifier(bootstrap=False, max_depth=5, min_samples_leaf=32,\n",
      "                       min_samples_split=64, n_estimators=10)\n"
     ]
    }
   ],
   "source": [
    "tic = time.time()\n",
    "scores = cross_val_score(busca, X_azar, y_azar, cv=KFold(n_splits=10, shuffle=True))\n",
    "tac = time.time()\n",
    "tempo_gasto = tac - tic\n",
    "print(f\"Tempo {tempo_gasto:0.2f} segundos\")\n",
    "imprime_score(scores)\n",
    "melhor_modelo = busca.best_estimator_\n",
    "print(melhor_modelo)"
   ],
   "metadata": {
    "collapsed": false,
    "pycharm": {
     "name": "#%%\n"
    }
   }
  },
  {
   "cell_type": "code",
   "execution_count": 56,
   "outputs": [
    {
     "name": "stdout",
     "output_type": "stream",
     "text": [
      "Tempo 28.48 segundos\n"
     ]
    },
    {
     "data": {
      "text/plain": "   mean_fit_time  std_fit_time  mean_score_time  std_score_time  \\\n0       0.398479      0.011565         0.025992        0.001095   \n1       0.054183      0.002926         0.004799        0.000748   \n2       0.532638      0.013597         0.026992        0.000633   \n3       0.035389      0.003719         0.004199        0.000400   \n4       0.052584      0.004408         0.004199        0.000400   \n\n  param_n_estimators param_min_samples_split param_min_samples_leaf  \\\n0                100                      32                    128   \n1                 10                      32                    128   \n2                100                      32                     32   \n3                 10                     128                     32   \n4                 10                      64                     32   \n\n  param_max_depth param_criterion param_bootstrap  \\\n0               3         entropy            True   \n1               5         entropy            True   \n2               5         entropy            True   \n3               3            gini            True   \n4               3         entropy           False   \n\n                                              params  split0_test_score  \\\n0  {'n_estimators': 100, 'min_samples_split': 32,...              0.771   \n1  {'n_estimators': 10, 'min_samples_split': 32, ...              0.750   \n2  {'n_estimators': 100, 'min_samples_split': 32,...              0.771   \n3  {'n_estimators': 10, 'min_samples_split': 128,...              0.750   \n4  {'n_estimators': 10, 'min_samples_split': 64, ...              0.771   \n\n   split1_test_score  split2_test_score  split3_test_score  split4_test_score  \\\n0             0.7740             0.7925             0.7775             0.7560   \n1             0.7785             0.7820             0.7785             0.7645   \n2             0.7745             0.7930             0.7785             0.7585   \n3             0.7600             0.7450             0.7390             0.7520   \n4             0.7740             0.7635             0.7370             0.7585   \n\n   mean_test_score  std_test_score  rank_test_score  \n0           0.7742        0.011724               10  \n1           0.7707        0.011969               13  \n2           0.7751        0.011178                6  \n3           0.7492        0.007026               20  \n4           0.7608        0.013094               18  ",
      "text/html": "<div>\n<style scoped>\n    .dataframe tbody tr th:only-of-type {\n        vertical-align: middle;\n    }\n\n    .dataframe tbody tr th {\n        vertical-align: top;\n    }\n\n    .dataframe thead th {\n        text-align: right;\n    }\n</style>\n<table border=\"1\" class=\"dataframe\">\n  <thead>\n    <tr style=\"text-align: right;\">\n      <th></th>\n      <th>mean_fit_time</th>\n      <th>std_fit_time</th>\n      <th>mean_score_time</th>\n      <th>std_score_time</th>\n      <th>param_n_estimators</th>\n      <th>param_min_samples_split</th>\n      <th>param_min_samples_leaf</th>\n      <th>param_max_depth</th>\n      <th>param_criterion</th>\n      <th>param_bootstrap</th>\n      <th>params</th>\n      <th>split0_test_score</th>\n      <th>split1_test_score</th>\n      <th>split2_test_score</th>\n      <th>split3_test_score</th>\n      <th>split4_test_score</th>\n      <th>mean_test_score</th>\n      <th>std_test_score</th>\n      <th>rank_test_score</th>\n    </tr>\n  </thead>\n  <tbody>\n    <tr>\n      <th>0</th>\n      <td>0.398479</td>\n      <td>0.011565</td>\n      <td>0.025992</td>\n      <td>0.001095</td>\n      <td>100</td>\n      <td>32</td>\n      <td>128</td>\n      <td>3</td>\n      <td>entropy</td>\n      <td>True</td>\n      <td>{'n_estimators': 100, 'min_samples_split': 32,...</td>\n      <td>0.771</td>\n      <td>0.7740</td>\n      <td>0.7925</td>\n      <td>0.7775</td>\n      <td>0.7560</td>\n      <td>0.7742</td>\n      <td>0.011724</td>\n      <td>10</td>\n    </tr>\n    <tr>\n      <th>1</th>\n      <td>0.054183</td>\n      <td>0.002926</td>\n      <td>0.004799</td>\n      <td>0.000748</td>\n      <td>10</td>\n      <td>32</td>\n      <td>128</td>\n      <td>5</td>\n      <td>entropy</td>\n      <td>True</td>\n      <td>{'n_estimators': 10, 'min_samples_split': 32, ...</td>\n      <td>0.750</td>\n      <td>0.7785</td>\n      <td>0.7820</td>\n      <td>0.7785</td>\n      <td>0.7645</td>\n      <td>0.7707</td>\n      <td>0.011969</td>\n      <td>13</td>\n    </tr>\n    <tr>\n      <th>2</th>\n      <td>0.532638</td>\n      <td>0.013597</td>\n      <td>0.026992</td>\n      <td>0.000633</td>\n      <td>100</td>\n      <td>32</td>\n      <td>32</td>\n      <td>5</td>\n      <td>entropy</td>\n      <td>True</td>\n      <td>{'n_estimators': 100, 'min_samples_split': 32,...</td>\n      <td>0.771</td>\n      <td>0.7745</td>\n      <td>0.7930</td>\n      <td>0.7785</td>\n      <td>0.7585</td>\n      <td>0.7751</td>\n      <td>0.011178</td>\n      <td>6</td>\n    </tr>\n    <tr>\n      <th>3</th>\n      <td>0.035389</td>\n      <td>0.003719</td>\n      <td>0.004199</td>\n      <td>0.000400</td>\n      <td>10</td>\n      <td>128</td>\n      <td>32</td>\n      <td>3</td>\n      <td>gini</td>\n      <td>True</td>\n      <td>{'n_estimators': 10, 'min_samples_split': 128,...</td>\n      <td>0.750</td>\n      <td>0.7600</td>\n      <td>0.7450</td>\n      <td>0.7390</td>\n      <td>0.7520</td>\n      <td>0.7492</td>\n      <td>0.007026</td>\n      <td>20</td>\n    </tr>\n    <tr>\n      <th>4</th>\n      <td>0.052584</td>\n      <td>0.004408</td>\n      <td>0.004199</td>\n      <td>0.000400</td>\n      <td>10</td>\n      <td>64</td>\n      <td>32</td>\n      <td>3</td>\n      <td>entropy</td>\n      <td>False</td>\n      <td>{'n_estimators': 10, 'min_samples_split': 64, ...</td>\n      <td>0.771</td>\n      <td>0.7740</td>\n      <td>0.7635</td>\n      <td>0.7370</td>\n      <td>0.7585</td>\n      <td>0.7608</td>\n      <td>0.013094</td>\n      <td>18</td>\n    </tr>\n  </tbody>\n</table>\n</div>"
     },
     "execution_count": 56,
     "metadata": {},
     "output_type": "execute_result"
    }
   ],
   "source": [
    "SEED = 301\n",
    "np.random.seed(SEED)\n",
    "\n",
    "espaco_parametros = {\n",
    "    \"n_estimators\": [10, 100],\n",
    "    \"max_depth\": [3, 5],\n",
    "    \"min_samples_split\": [32, 64, 128],\n",
    "    \"min_samples_leaf\": [32, 64, 128],\n",
    "    \"bootstrap\": [True, False],\n",
    "    \"criterion\": [\"gini\", \"entropy\"]\n",
    "}\n",
    "\n",
    "tic = time.time()\n",
    "busca = RandomizedSearchCV(RandomForestClassifier(), espaco_parametros, n_iter=20, cv=KFold(n_splits=5, shuffle=True))\n",
    "busca.fit(X_azar, y_azar)\n",
    "tac = time.time()\n",
    "tempo_gasto = tac - tic\n",
    "print(f\"Tempo {tempo_gasto:0.2f} segundos\")\n",
    "resultados = pd.DataFrame(busca.cv_results_)\n",
    "resultados.head()"
   ],
   "metadata": {
    "collapsed": false,
    "pycharm": {
     "name": "#%%\n"
    }
   }
  },
  {
   "cell_type": "code",
   "execution_count": 57,
   "outputs": [
    {
     "name": "stdout",
     "output_type": "stream",
     "text": [
      "Tempo 247.44 segundos\n",
      "Acurácia média 77.54\n",
      "Intervalo = [75.90, 79.18]\n",
      "RandomForestClassifier(bootstrap=False, max_depth=5, min_samples_leaf=32,\n",
      "                       min_samples_split=32)\n"
     ]
    }
   ],
   "source": [
    "tic = time.time()\n",
    "scores = cross_val_score(busca, X_azar, y_azar, cv=KFold(n_splits=10, shuffle=True))\n",
    "tac = time.time()\n",
    "tempo_gasto = tac - tic\n",
    "print(f\"Tempo {tempo_gasto:0.2f} segundos\")\n",
    "imprime_score(scores)\n",
    "melhor_modelo = busca.best_estimator_\n",
    "print(melhor_modelo)"
   ],
   "metadata": {
    "collapsed": false,
    "pycharm": {
     "name": "#%%\n"
    }
   }
  },
  {
   "cell_type": "code",
   "execution_count": 58,
   "outputs": [
    {
     "name": "stdout",
     "output_type": "stream",
     "text": [
      "Tempo 101.56 segundos\n"
     ]
    },
    {
     "data": {
      "text/plain": "   mean_fit_time  std_fit_time  mean_score_time  std_score_time  \\\n0       0.308706      0.002039         0.024792        0.003187   \n1       0.252723      0.002481         0.021194        0.000400   \n2       0.253323      0.014175         0.023593        0.006215   \n3       0.159951      0.002449         0.014396        0.000490   \n4       0.250125      0.013344         0.020193        0.002924   \n\n  param_bootstrap param_criterion param_max_depth param_min_samples_leaf  \\\n0           False            gini               3                     50   \n1            True            gini               3                     88   \n2            True            gini               3                    126   \n3            True            gini               3                     57   \n4            True            gini               4                     52   \n\n  param_min_samples_split param_n_estimators  \\\n0                      93                 89   \n1                     104                 80   \n2                      84                 77   \n3                      73                 50   \n4                      88                 68   \n\n                                              params  split0_test_score  \\\n0  {'bootstrap': False, 'criterion': 'gini', 'max...             0.7715   \n1  {'bootstrap': True, 'criterion': 'gini', 'max_...             0.7715   \n2  {'bootstrap': True, 'criterion': 'gini', 'max_...             0.7685   \n3  {'bootstrap': True, 'criterion': 'gini', 'max_...             0.7720   \n4  {'bootstrap': True, 'criterion': 'gini', 'max_...             0.7720   \n\n   split1_test_score  split2_test_score  split3_test_score  split4_test_score  \\\n0             0.7620             0.7750             0.7855             0.7580   \n1             0.7575             0.7925             0.7855             0.7575   \n2             0.7695             0.7925             0.7795             0.7575   \n3             0.7670             0.7830             0.7865             0.7580   \n4             0.7685             0.7930             0.7850             0.7585   \n\n   mean_test_score  std_test_score  rank_test_score  \n0           0.7704        0.009744               75  \n1           0.7729        0.014277               63  \n2           0.7735        0.011781               59  \n3           0.7733        0.010429               60  \n4           0.7754        0.012220               30  ",
      "text/html": "<div>\n<style scoped>\n    .dataframe tbody tr th:only-of-type {\n        vertical-align: middle;\n    }\n\n    .dataframe tbody tr th {\n        vertical-align: top;\n    }\n\n    .dataframe thead th {\n        text-align: right;\n    }\n</style>\n<table border=\"1\" class=\"dataframe\">\n  <thead>\n    <tr style=\"text-align: right;\">\n      <th></th>\n      <th>mean_fit_time</th>\n      <th>std_fit_time</th>\n      <th>mean_score_time</th>\n      <th>std_score_time</th>\n      <th>param_bootstrap</th>\n      <th>param_criterion</th>\n      <th>param_max_depth</th>\n      <th>param_min_samples_leaf</th>\n      <th>param_min_samples_split</th>\n      <th>param_n_estimators</th>\n      <th>params</th>\n      <th>split0_test_score</th>\n      <th>split1_test_score</th>\n      <th>split2_test_score</th>\n      <th>split3_test_score</th>\n      <th>split4_test_score</th>\n      <th>mean_test_score</th>\n      <th>std_test_score</th>\n      <th>rank_test_score</th>\n    </tr>\n  </thead>\n  <tbody>\n    <tr>\n      <th>0</th>\n      <td>0.308706</td>\n      <td>0.002039</td>\n      <td>0.024792</td>\n      <td>0.003187</td>\n      <td>False</td>\n      <td>gini</td>\n      <td>3</td>\n      <td>50</td>\n      <td>93</td>\n      <td>89</td>\n      <td>{'bootstrap': False, 'criterion': 'gini', 'max...</td>\n      <td>0.7715</td>\n      <td>0.7620</td>\n      <td>0.7750</td>\n      <td>0.7855</td>\n      <td>0.7580</td>\n      <td>0.7704</td>\n      <td>0.009744</td>\n      <td>75</td>\n    </tr>\n    <tr>\n      <th>1</th>\n      <td>0.252723</td>\n      <td>0.002481</td>\n      <td>0.021194</td>\n      <td>0.000400</td>\n      <td>True</td>\n      <td>gini</td>\n      <td>3</td>\n      <td>88</td>\n      <td>104</td>\n      <td>80</td>\n      <td>{'bootstrap': True, 'criterion': 'gini', 'max_...</td>\n      <td>0.7715</td>\n      <td>0.7575</td>\n      <td>0.7925</td>\n      <td>0.7855</td>\n      <td>0.7575</td>\n      <td>0.7729</td>\n      <td>0.014277</td>\n      <td>63</td>\n    </tr>\n    <tr>\n      <th>2</th>\n      <td>0.253323</td>\n      <td>0.014175</td>\n      <td>0.023593</td>\n      <td>0.006215</td>\n      <td>True</td>\n      <td>gini</td>\n      <td>3</td>\n      <td>126</td>\n      <td>84</td>\n      <td>77</td>\n      <td>{'bootstrap': True, 'criterion': 'gini', 'max_...</td>\n      <td>0.7685</td>\n      <td>0.7695</td>\n      <td>0.7925</td>\n      <td>0.7795</td>\n      <td>0.7575</td>\n      <td>0.7735</td>\n      <td>0.011781</td>\n      <td>59</td>\n    </tr>\n    <tr>\n      <th>3</th>\n      <td>0.159951</td>\n      <td>0.002449</td>\n      <td>0.014396</td>\n      <td>0.000490</td>\n      <td>True</td>\n      <td>gini</td>\n      <td>3</td>\n      <td>57</td>\n      <td>73</td>\n      <td>50</td>\n      <td>{'bootstrap': True, 'criterion': 'gini', 'max_...</td>\n      <td>0.7720</td>\n      <td>0.7670</td>\n      <td>0.7830</td>\n      <td>0.7865</td>\n      <td>0.7580</td>\n      <td>0.7733</td>\n      <td>0.010429</td>\n      <td>60</td>\n    </tr>\n    <tr>\n      <th>4</th>\n      <td>0.250125</td>\n      <td>0.013344</td>\n      <td>0.020193</td>\n      <td>0.002924</td>\n      <td>True</td>\n      <td>gini</td>\n      <td>4</td>\n      <td>52</td>\n      <td>88</td>\n      <td>68</td>\n      <td>{'bootstrap': True, 'criterion': 'gini', 'max_...</td>\n      <td>0.7720</td>\n      <td>0.7685</td>\n      <td>0.7930</td>\n      <td>0.7850</td>\n      <td>0.7585</td>\n      <td>0.7754</td>\n      <td>0.012220</td>\n      <td>30</td>\n    </tr>\n  </tbody>\n</table>\n</div>"
     },
     "execution_count": 58,
     "metadata": {},
     "output_type": "execute_result"
    }
   ],
   "source": [
    "SEED = 301\n",
    "np.random.seed(SEED)\n",
    "\n",
    "espaco_parametros = {\n",
    "    \"n_estimators\": randint(10, 101),\n",
    "    \"max_depth\": randint(3, 6),\n",
    "    \"min_samples_split\": randint(32, 129),\n",
    "    \"min_samples_leaf\": randint(32, 129),\n",
    "    \"bootstrap\": [True, False],\n",
    "    \"criterion\": [\"gini\", \"entropy\"]\n",
    "}\n",
    "\n",
    "tic = time.time()\n",
    "busca = RandomizedSearchCV(RandomForestClassifier(), espaco_parametros, n_iter=80, cv=KFold(n_splits=5, shuffle=True))\n",
    "busca.fit(X_azar, y_azar)\n",
    "tac = time.time()\n",
    "tempo_gasto = tac - tic\n",
    "print(f\"Tempo {tempo_gasto:0.2f} segundos\")\n",
    "resultados = pd.DataFrame(busca.cv_results_)\n",
    "resultados.head()"
   ],
   "metadata": {
    "collapsed": false,
    "pycharm": {
     "name": "#%%\n"
    }
   }
  },
  {
   "cell_type": "code",
   "execution_count": 59,
   "outputs": [
    {
     "name": "stdout",
     "output_type": "stream",
     "text": [
      "Tempo 962.11 segundos\n",
      "Acurácia média 77.49\n",
      "Intervalo = [74.96, 80.02]\n",
      "RandomForestClassifier(bootstrap=False, criterion='entropy', max_depth=5,\n",
      "                       min_samples_leaf=84, min_samples_split=89,\n",
      "                       n_estimators=48)\n"
     ]
    }
   ],
   "source": [
    "tic = time.time()\n",
    "scores = cross_val_score(busca, X_azar, y_azar, cv=KFold(n_splits=10, shuffle=True))\n",
    "tac = time.time()\n",
    "tempo_gasto = tac - tic\n",
    "print(f\"Tempo {tempo_gasto:0.2f} segundos\")\n",
    "imprime_score(scores)\n",
    "melhor_modelo = busca.best_estimator_\n",
    "print(melhor_modelo)"
   ],
   "metadata": {
    "collapsed": false,
    "pycharm": {
     "name": "#%%\n"
    }
   }
  },
  {
   "cell_type": "markdown",
   "source": [
    "# Se eu não posso ou não consigo usar cross validation"
   ],
   "metadata": {
    "collapsed": false,
    "pycharm": {
     "name": "#%% md\n"
    }
   }
  },
  {
   "cell_type": "code",
   "execution_count": 60,
   "outputs": [
    {
     "name": "stdout",
     "output_type": "stream",
     "text": [
      "(8000, 3)\n",
      "(2000, 3)\n",
      "(8000,)\n",
      "(2000,)\n"
     ]
    }
   ],
   "source": [
    "# 0.6 treino    => treino\n",
    "# 0.2 teste     => dev teste\n",
    "# 0.2 validação => validação\n",
    "\n",
    "from sklearn.model_selection import train_test_split\n",
    "\n",
    "SEED = 301\n",
    "np.random.seed(SEED)\n",
    "\n",
    "X_treino_teste, X_validacao, y_treino_teste, y_validacao = train_test_split(X_azar, y_azar, test_size=0.2, shuffle=True, stratify=y_azar)\n",
    "print(X_treino_teste.shape)\n",
    "print(X_validacao.shape)\n",
    "print(y_treino_teste.shape)\n",
    "print(y_validacao.shape)"
   ],
   "metadata": {
    "collapsed": false,
    "pycharm": {
     "name": "#%%\n"
    }
   }
  },
  {
   "cell_type": "code",
   "execution_count": 61,
   "outputs": [
    {
     "name": "stdout",
     "output_type": "stream",
     "text": [
      "Tempo 5.97 segundos\n"
     ]
    },
    {
     "data": {
      "text/plain": "   mean_fit_time  std_fit_time  mean_score_time  std_score_time  \\\n0       0.265719      0.010339         0.023193        0.000748   \n1       0.214935      0.003897         0.020793        0.000748   \n2       0.203738      0.003867         0.020793        0.002135   \n3       0.135959      0.004380         0.013796        0.000400   \n4       0.207537      0.002799         0.019594        0.000489   \n\n  param_bootstrap param_criterion param_max_depth param_min_samples_leaf  \\\n0           False            gini               3                     50   \n1            True            gini               3                     88   \n2            True            gini               3                    126   \n3            True            gini               3                     57   \n4            True            gini               4                     52   \n\n  param_min_samples_split param_n_estimators  \\\n0                      93                 89   \n1                     104                 80   \n2                      84                 77   \n3                      73                 50   \n4                      88                 68   \n\n                                              params  split0_test_score  \\\n0  {'bootstrap': False, 'criterion': 'gini', 'max...             0.7740   \n1  {'bootstrap': True, 'criterion': 'gini', 'max_...             0.7735   \n2  {'bootstrap': True, 'criterion': 'gini', 'max_...             0.7730   \n3  {'bootstrap': True, 'criterion': 'gini', 'max_...             0.7730   \n4  {'bootstrap': True, 'criterion': 'gini', 'max_...             0.7745   \n\n   split1_test_score  split2_test_score  split3_test_score  split4_test_score  \\\n0             0.7795             0.7810             0.7735             0.7885   \n1             0.7800             0.7810             0.7735             0.7885   \n2             0.7800             0.7805             0.7625             0.7885   \n3             0.7735             0.7810             0.7655             0.7880   \n4             0.7785             0.7815             0.7485             0.7895   \n\n   mean_test_score  std_test_score  rank_test_score  \n0           0.7793        0.005464                1  \n1           0.7793        0.005573                1  \n2           0.7769        0.008714                3  \n3           0.7762        0.007672                4  \n4           0.7745        0.013900                5  ",
      "text/html": "<div>\n<style scoped>\n    .dataframe tbody tr th:only-of-type {\n        vertical-align: middle;\n    }\n\n    .dataframe tbody tr th {\n        vertical-align: top;\n    }\n\n    .dataframe thead th {\n        text-align: right;\n    }\n</style>\n<table border=\"1\" class=\"dataframe\">\n  <thead>\n    <tr style=\"text-align: right;\">\n      <th></th>\n      <th>mean_fit_time</th>\n      <th>std_fit_time</th>\n      <th>mean_score_time</th>\n      <th>std_score_time</th>\n      <th>param_bootstrap</th>\n      <th>param_criterion</th>\n      <th>param_max_depth</th>\n      <th>param_min_samples_leaf</th>\n      <th>param_min_samples_split</th>\n      <th>param_n_estimators</th>\n      <th>params</th>\n      <th>split0_test_score</th>\n      <th>split1_test_score</th>\n      <th>split2_test_score</th>\n      <th>split3_test_score</th>\n      <th>split4_test_score</th>\n      <th>mean_test_score</th>\n      <th>std_test_score</th>\n      <th>rank_test_score</th>\n    </tr>\n  </thead>\n  <tbody>\n    <tr>\n      <th>0</th>\n      <td>0.265719</td>\n      <td>0.010339</td>\n      <td>0.023193</td>\n      <td>0.000748</td>\n      <td>False</td>\n      <td>gini</td>\n      <td>3</td>\n      <td>50</td>\n      <td>93</td>\n      <td>89</td>\n      <td>{'bootstrap': False, 'criterion': 'gini', 'max...</td>\n      <td>0.7740</td>\n      <td>0.7795</td>\n      <td>0.7810</td>\n      <td>0.7735</td>\n      <td>0.7885</td>\n      <td>0.7793</td>\n      <td>0.005464</td>\n      <td>1</td>\n    </tr>\n    <tr>\n      <th>1</th>\n      <td>0.214935</td>\n      <td>0.003897</td>\n      <td>0.020793</td>\n      <td>0.000748</td>\n      <td>True</td>\n      <td>gini</td>\n      <td>3</td>\n      <td>88</td>\n      <td>104</td>\n      <td>80</td>\n      <td>{'bootstrap': True, 'criterion': 'gini', 'max_...</td>\n      <td>0.7735</td>\n      <td>0.7800</td>\n      <td>0.7810</td>\n      <td>0.7735</td>\n      <td>0.7885</td>\n      <td>0.7793</td>\n      <td>0.005573</td>\n      <td>1</td>\n    </tr>\n    <tr>\n      <th>2</th>\n      <td>0.203738</td>\n      <td>0.003867</td>\n      <td>0.020793</td>\n      <td>0.002135</td>\n      <td>True</td>\n      <td>gini</td>\n      <td>3</td>\n      <td>126</td>\n      <td>84</td>\n      <td>77</td>\n      <td>{'bootstrap': True, 'criterion': 'gini', 'max_...</td>\n      <td>0.7730</td>\n      <td>0.7800</td>\n      <td>0.7805</td>\n      <td>0.7625</td>\n      <td>0.7885</td>\n      <td>0.7769</td>\n      <td>0.008714</td>\n      <td>3</td>\n    </tr>\n    <tr>\n      <th>3</th>\n      <td>0.135959</td>\n      <td>0.004380</td>\n      <td>0.013796</td>\n      <td>0.000400</td>\n      <td>True</td>\n      <td>gini</td>\n      <td>3</td>\n      <td>57</td>\n      <td>73</td>\n      <td>50</td>\n      <td>{'bootstrap': True, 'criterion': 'gini', 'max_...</td>\n      <td>0.7730</td>\n      <td>0.7735</td>\n      <td>0.7810</td>\n      <td>0.7655</td>\n      <td>0.7880</td>\n      <td>0.7762</td>\n      <td>0.007672</td>\n      <td>4</td>\n    </tr>\n    <tr>\n      <th>4</th>\n      <td>0.207537</td>\n      <td>0.002799</td>\n      <td>0.019594</td>\n      <td>0.000489</td>\n      <td>True</td>\n      <td>gini</td>\n      <td>4</td>\n      <td>52</td>\n      <td>88</td>\n      <td>68</td>\n      <td>{'bootstrap': True, 'criterion': 'gini', 'max_...</td>\n      <td>0.7745</td>\n      <td>0.7785</td>\n      <td>0.7815</td>\n      <td>0.7485</td>\n      <td>0.7895</td>\n      <td>0.7745</td>\n      <td>0.013900</td>\n      <td>5</td>\n    </tr>\n  </tbody>\n</table>\n</div>"
     },
     "execution_count": 61,
     "metadata": {},
     "output_type": "execute_result"
    }
   ],
   "source": [
    "from sklearn.model_selection import StratifiedShuffleSplit\n",
    "\n",
    "SEED = 301\n",
    "np.random.seed(SEED)\n",
    "\n",
    "espaco_parametros = {\n",
    "    \"n_estimators\": randint(10, 101),\n",
    "    \"max_depth\": randint(3, 6),\n",
    "    \"min_samples_split\": randint(32, 129),\n",
    "    \"min_samples_leaf\": randint(32, 129),\n",
    "    \"bootstrap\": [True, False],\n",
    "    \"criterion\": [\"gini\", \"entropy\"]\n",
    "}\n",
    "\n",
    "split = StratifiedShuffleSplit(n_splits=5, test_size=0.25) # representa 20% do total\n",
    "\n",
    "tic = time.time()\n",
    "busca = RandomizedSearchCV(RandomForestClassifier(), espaco_parametros, n_iter=5, cv=split)\n",
    "busca.fit(X_treino_teste, y_treino_teste)\n",
    "tac = time.time()\n",
    "tempo_gasto = tac - tic\n",
    "print(f\"Tempo {tempo_gasto:0.2f} segundos\")\n",
    "resultados = pd.DataFrame(busca.cv_results_)\n",
    "resultados.head()"
   ],
   "metadata": {
    "collapsed": false,
    "pycharm": {
     "name": "#%%\n"
    }
   }
  },
  {
   "cell_type": "code",
   "execution_count": 62,
   "outputs": [
    {
     "name": "stdout",
     "output_type": "stream",
     "text": [
      "Tempo 12.42 segundos\n",
      "Acurácia média 77.64\n",
      "Intervalo = [75.50, 79.78]\n",
      "RandomForestClassifier(bootstrap=False, max_depth=3, min_samples_leaf=50,\n",
      "                       min_samples_split=93, n_estimators=89)\n"
     ]
    }
   ],
   "source": [
    "tic = time.time()\n",
    "scores = cross_val_score(busca, X_validacao, y_validacao, cv=split)\n",
    "tac = time.time()\n",
    "tempo_gasto = tac - tic\n",
    "print(f\"Tempo {tempo_gasto:0.2f} segundos\")\n",
    "imprime_score(scores)\n",
    "melhor_modelo = busca.best_estimator_\n",
    "print(melhor_modelo)"
   ],
   "metadata": {
    "collapsed": false,
    "pycharm": {
     "name": "#%%\n"
    }
   }
  }
 ],
 "metadata": {
  "kernelspec": {
   "display_name": "Python 3",
   "language": "python",
   "name": "python3"
  },
  "language_info": {
   "codemirror_mode": {
    "name": "ipython",
    "version": 2
   },
   "file_extension": ".py",
   "mimetype": "text/x-python",
   "name": "python",
   "nbconvert_exporter": "python",
   "pygments_lexer": "ipython2",
   "version": "2.7.6"
  }
 },
 "nbformat": 4,
 "nbformat_minor": 0
}