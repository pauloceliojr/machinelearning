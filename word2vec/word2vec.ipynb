{
 "cells": [
  {
   "cell_type": "code",
   "execution_count": 1,
   "outputs": [
    {
     "data": {
      "text/plain": "                                                   title  \\\n39209  Mascarados distribuem panfletos com ameaças a ...   \n\n                                                    text        date category  \\\n39209  Uma gangue de homens mascarados e vestidos de ...  2016-01-30    mundo   \n\n      subcategory                                               link  \n39209         NaN  http://www1.folha.uol.com.br/mundo/2016/01/173...  ",
      "text/html": "<div>\n<style scoped>\n    .dataframe tbody tr th:only-of-type {\n        vertical-align: middle;\n    }\n\n    .dataframe tbody tr th {\n        vertical-align: top;\n    }\n\n    .dataframe thead th {\n        text-align: right;\n    }\n</style>\n<table border=\"1\" class=\"dataframe\">\n  <thead>\n    <tr style=\"text-align: right;\">\n      <th></th>\n      <th>title</th>\n      <th>text</th>\n      <th>date</th>\n      <th>category</th>\n      <th>subcategory</th>\n      <th>link</th>\n    </tr>\n  </thead>\n  <tbody>\n    <tr>\n      <th>39209</th>\n      <td>Mascarados distribuem panfletos com ameaças a ...</td>\n      <td>Uma gangue de homens mascarados e vestidos de ...</td>\n      <td>2016-01-30</td>\n      <td>mundo</td>\n      <td>NaN</td>\n      <td>http://www1.folha.uol.com.br/mundo/2016/01/173...</td>\n    </tr>\n  </tbody>\n</table>\n</div>"
     },
     "execution_count": 1,
     "metadata": {},
     "output_type": "execute_result"
    }
   ],
   "source": [
    "import pandas as pd\n",
    "\n",
    "artigo_treino = pd.read_csv(\"treino.csv\")\n",
    "artigo_teste = pd.read_csv(\"teste.csv\")\n",
    "artigo_treino.sample()"
   ],
   "metadata": {
    "collapsed": false,
    "pycharm": {
     "name": "#%%\n"
    }
   }
  },
  {
   "cell_type": "markdown",
   "source": [
    "## Count Vectorizer"
   ],
   "metadata": {
    "collapsed": false,
    "pycharm": {
     "name": "#%% md\n"
    }
   }
  },
  {
   "cell_type": "code",
   "execution_count": 2,
   "outputs": [],
   "source": [
    "from sklearn.feature_extraction.text import CountVectorizer"
   ],
   "metadata": {
    "collapsed": false,
    "pycharm": {
     "name": "#%%\n"
    }
   }
  },
  {
   "cell_type": "code",
   "execution_count": 3,
   "outputs": [
    {
     "data": {
      "text/plain": "CountVectorizer()"
     },
     "execution_count": 3,
     "metadata": {},
     "output_type": "execute_result"
    }
   ],
   "source": [
    "texto = [\"tenha um bom dia\",\n",
    "         \"tenha um péssimo dia\",\n",
    "         \"tenha um ótimo dia\",\n",
    "         \"tenha um dia ruim\"]\n",
    "\n",
    "vetorizador = CountVectorizer()\n",
    "vetorizador.fit(texto)"
   ],
   "metadata": {
    "collapsed": false,
    "pycharm": {
     "name": "#%%\n"
    }
   }
  },
  {
   "cell_type": "code",
   "execution_count": 4,
   "outputs": [
    {
     "name": "stdout",
     "output_type": "stream",
     "text": [
      "{'tenha': 4, 'um': 5, 'bom': 0, 'dia': 1, 'péssimo': 2, 'ótimo': 6, 'ruim': 3}\n"
     ]
    }
   ],
   "source": [
    "print(vetorizador.vocabulary_)"
   ],
   "metadata": {
    "collapsed": false,
    "pycharm": {
     "name": "#%%\n"
    }
   }
  },
  {
   "cell_type": "code",
   "execution_count": 5,
   "outputs": [
    {
     "name": "stdout",
     "output_type": "stream",
     "text": [
      "[[1 0 0 0 0 0 0]]\n"
     ]
    }
   ],
   "source": [
    "vetor_bom = vetorizador.transform([\"bom\"])\n",
    "print(vetor_bom.toarray())"
   ],
   "metadata": {
    "collapsed": false,
    "pycharm": {
     "name": "#%%\n"
    }
   }
  },
  {
   "cell_type": "code",
   "execution_count": 6,
   "outputs": [
    {
     "name": "stdout",
     "output_type": "stream",
     "text": [
      "[[0 0 0 0 0 0 1]]\n"
     ]
    }
   ],
   "source": [
    "vetor_otimo = vetorizador.transform([\"ótimo\"])\n",
    "print(vetor_otimo.toarray())"
   ],
   "metadata": {
    "collapsed": false,
    "pycharm": {
     "name": "#%%\n"
    }
   }
  },
  {
   "cell_type": "markdown",
   "source": [
    "## Word2Vec"
   ],
   "metadata": {
    "collapsed": false,
    "pycharm": {
     "name": "#%% md\n"
    }
   }
  },
  {
   "cell_type": "code",
   "execution_count": 7,
   "outputs": [],
   "source": [
    "from gensim.models import KeyedVectors\n",
    "\n",
    "modelo = KeyedVectors.load_word2vec_format(\"cbow_s300.txt\")"
   ],
   "metadata": {
    "collapsed": false,
    "pycharm": {
     "name": "#%%\n"
    }
   }
  },
  {
   "cell_type": "code",
   "execution_count": 8,
   "outputs": [
    {
     "data": {
      "text/plain": "[('rússia', 0.7320704460144043),\n ('índia', 0.7241617441177368),\n ('tailândia', 0.7019359469413757),\n ('indonésia', 0.6860769987106323),\n ('turquia', 0.6741335988044739),\n ('malásia', 0.6665689945220947),\n ('mongólia', 0.6593616008758545),\n ('manchúria', 0.6581847071647644),\n ('urss', 0.6581669449806213),\n ('grã-bretanha', 0.6568098068237305)]"
     },
     "execution_count": 8,
     "metadata": {},
     "output_type": "execute_result"
    }
   ],
   "source": [
    "modelo.most_similar(\"china\")"
   ],
   "metadata": {
    "collapsed": false,
    "pycharm": {
     "name": "#%%\n"
    }
   }
  },
  {
   "cell_type": "code",
   "execution_count": 9,
   "outputs": [
    {
     "data": {
      "text/plain": "[('frança', 0.79836106300354),\n ('grécia', 0.7547341585159302),\n ('espanha', 0.7417078018188477),\n ('holanda', 0.7343161702156067),\n ('grã-bretanha', 0.7281739711761475),\n ('inglaterra', 0.7172061204910278),\n ('bélgica', 0.7155542373657227),\n ('alemanha', 0.7135661840438843),\n ('suécia', 0.6831519603729248),\n ('áustria', 0.6822685599327087)]"
     },
     "execution_count": 9,
     "metadata": {},
     "output_type": "execute_result"
    }
   ],
   "source": [
    "modelo.most_similar(\"itália\")"
   ],
   "metadata": {
    "collapsed": false,
    "pycharm": {
     "name": "#%%\n"
    }
   }
  },
  {
   "cell_type": "code",
   "execution_count": 10,
   "outputs": [
    {
     "data": {
      "text/plain": "[('chile', 0.6781662702560425),\n ('peru', 0.6348032355308533),\n ('venezuela', 0.6273865103721619),\n ('equador', 0.6037015318870544),\n ('bolívia', 0.6017141342163086),\n ('haiti', 0.599380612373352),\n ('méxico', 0.596230685710907),\n ('paraguai', 0.5957703590393066),\n ('uruguai', 0.5903672575950623),\n ('japão', 0.5893509984016418)]"
     },
     "execution_count": 10,
     "metadata": {},
     "output_type": "execute_result"
    }
   ],
   "source": [
    "modelo.most_similar(positive=[\"brasil\", \"argentina\"])"
   ],
   "metadata": {
    "collapsed": false,
    "pycharm": {
     "name": "#%%\n"
    }
   }
  },
  {
   "cell_type": "code",
   "execution_count": 11,
   "outputs": [
    {
     "data": {
      "text/plain": "[('estrelas', 0.5497430562973022),\n ('plêiades', 0.3791978657245636),\n ('colinas', 0.3746805489063263),\n ('trovoadas', 0.37370336055755615),\n ('sombras', 0.37341946363449097),\n ('pombas', 0.3726757764816284),\n ('corredoras', 0.3640727400779724),\n ('cigarras', 0.36065393686294556),\n ('galáxias', 0.35754910111427307),\n ('luas', 0.3575345277786255)]"
     },
     "execution_count": 11,
     "metadata": {},
     "output_type": "execute_result"
    }
   ],
   "source": [
    "# nuvem -> nuvens : estrelas -> estrela\n",
    "# nuvens + estrela - nuvem = estrelas\n",
    "\n",
    "modelo.most_similar(positive=[\"nuvens\", \"estrela\"], negative=\"nuvem\")"
   ],
   "metadata": {
    "collapsed": false,
    "pycharm": {
     "name": "#%%\n"
    }
   }
  },
  {
   "cell_type": "code",
   "execution_count": 12,
   "outputs": [
    {
     "data": {
      "text/plain": "[('enfermeira', 0.6180862188339233),\n ('psicóloga', 0.47447535395622253),\n ('dama-de-companhia', 0.47382354736328125),\n ('esposa', 0.4655913710594177),\n ('parteira', 0.4636286795139313),\n ('mãe', 0.45817673206329346),\n ('governanta', 0.45722928643226624),\n ('madrasta', 0.4569782614707947),\n ('menina', 0.44435903429985046),\n ('filha', 0.44341105222702026)]"
     },
     "execution_count": 12,
     "metadata": {},
     "output_type": "execute_result"
    }
   ],
   "source": [
    "modelo.most_similar(positive=[\"médico\", \"mulher\"], negative=\"homem\")"
   ],
   "metadata": {
    "collapsed": false,
    "pycharm": {
     "name": "#%%\n"
    }
   }
  },
  {
   "cell_type": "code",
   "execution_count": 13,
   "outputs": [
    {
     "data": {
      "text/plain": "[('professora', 0.6192207932472229),\n ('aluna', 0.5449554324150085),\n ('esposa', 0.4978231191635132),\n ('ex-aluna', 0.4884248375892639),\n ('namorada', 0.4737859070301056),\n ('enfermeira', 0.4728143811225891),\n ('filha', 0.46737387776374817),\n ('irmã', 0.4584592282772064),\n ('ex-namorada', 0.45824769139289856),\n ('ex-professora', 0.4510471522808075)]"
     },
     "execution_count": 13,
     "metadata": {},
     "output_type": "execute_result"
    }
   ],
   "source": [
    "modelo.most_similar(positive=[\"professor\", \"mulher\"], negative=\"homem\")"
   ],
   "metadata": {
    "collapsed": false,
    "pycharm": {
     "name": "#%%\n"
    }
   }
  },
  {
   "cell_type": "markdown",
   "source": [
    "## Vetorização de texto"
   ],
   "metadata": {
    "collapsed": false,
    "pycharm": {
     "name": "#%% md\n"
    }
   }
  },
  {
   "cell_type": "code",
   "execution_count": 14,
   "outputs": [
    {
     "data": {
      "text/plain": "\"Daniel Craig será stormtrooper em novo 'Star Wars', diz ator\""
     },
     "execution_count": 14,
     "metadata": {},
     "output_type": "execute_result"
    }
   ],
   "source": [
    "artigo_treino.title.loc[12]"
   ],
   "metadata": {
    "collapsed": false,
    "pycharm": {
     "name": "#%%\n"
    }
   }
  },
  {
   "cell_type": "code",
   "execution_count": 17,
   "outputs": [
    {
     "name": "stderr",
     "output_type": "stream",
     "text": [
      "[nltk_data] Downloading package punkt to\n",
      "[nltk_data]     C:\\Users\\pauloceliojr\\AppData\\Roaming\\nltk_data...\n",
      "[nltk_data]   Package punkt is already up-to-date!\n"
     ]
    },
    {
     "data": {
      "text/plain": "['texto', 'exemplo', '1234']"
     },
     "execution_count": 17,
     "metadata": {},
     "output_type": "execute_result"
    }
   ],
   "source": [
    "import nltk\n",
    "import string\n",
    "nltk.download(\"punkt\")\n",
    "\n",
    "def tokenizador(texto):\n",
    "    texto = texto.lower()\n",
    "    lista_alfanumerica = []\n",
    "\n",
    "    for token_valido in nltk.word_tokenize(texto):\n",
    "        if token_valido in string.punctuation: continue\n",
    "        lista_alfanumerica.append(token_valido)\n",
    "\n",
    "    return lista_alfanumerica\n",
    "\n",
    "tokenizador(\"Texto Exemplo, 1234.\")"
   ],
   "metadata": {
    "collapsed": false,
    "pycharm": {
     "name": "#%%\n"
    }
   }
  },
  {
   "cell_type": "code",
   "execution_count": 26,
   "outputs": [],
   "source": [
    "import numpy as np\n",
    "\n",
    "# Combinação de vetores por soma\n",
    "def combinacao_vetores(palavras_numeros):\n",
    "    vetor_resultante = np.zeros(300)\n",
    "\n",
    "    for pn in palavras_numeros:\n",
    "        try:\n",
    "            vetor_resultante += modelo.get_vector(pn)\n",
    "        except KeyError:\n",
    "            if pn.isnumeric():\n",
    "                pn = \"0\" * len(pn) # \"0, 00, 000, 0000, etc. dependendo do tamanho de caracteres do número\n",
    "                vetor_resultante += modelo.get_vector(pn)\n",
    "            else:\n",
    "                vetor_resultante += modelo.get_vector(\"unknown\")\n",
    "\n",
    "    return vetor_resultante"
   ],
   "metadata": {
    "collapsed": false,
    "pycharm": {
     "name": "#%%\n"
    }
   }
  },
  {
   "cell_type": "code",
   "execution_count": 30,
   "outputs": [
    {
     "name": "stdout",
     "output_type": "stream",
     "text": [
      "300\n",
      "[ 4.04902007e-01  1.61033005e-01 -1.28350001e-01  4.63957988e-01\n",
      " -3.79070006e-02  9.79099981e-02  6.06219992e-02  2.50669867e-02\n",
      " -1.45315003e-01 -1.20187001e-01 -1.45029984e-02 -3.97820026e-02\n",
      " -5.53439990e-01  3.39491010e-01  4.74720001e-02  2.32610006e-01\n",
      " -7.91507989e-01  7.62100518e-03 -4.30413000e-01 -1.62210986e-01\n",
      " -1.36736006e-01 -2.92862996e-01 -7.81050026e-02  4.56106991e-01\n",
      " -1.08597010e-01 -1.72903001e-01 -3.94289017e-01 -7.94299692e-03\n",
      "  1.54560007e-01 -1.81829929e-02 -1.44808993e-01 -1.92361996e-01\n",
      "  5.27470000e-02  2.77960012e-02  3.75599414e-03  2.15162002e-01\n",
      "  2.41512008e-01  2.07674988e-01  1.77449007e-01  2.00845003e-01\n",
      "  1.08239995e-02 -1.03557003e-01  4.52470034e-02  3.54460012e-02\n",
      "  2.74897987e-01 -7.71570001e-02  4.26173002e-01  4.57773015e-01\n",
      "  2.98846003e-01  2.85166003e-01  1.75556996e-01  1.93372004e-01\n",
      " -2.64183000e-01  1.87287997e-01  2.00636007e-01 -1.48244001e-01\n",
      "  1.16369996e-01  5.01876995e-01 -2.73249969e-02 -3.36082000e-01\n",
      " -1.06219009e-01  4.23524987e-01  1.28744990e-01 -1.98225003e-01\n",
      "  1.14148993e-01 -1.25489000e-01  4.15736988e-01  2.05809958e-02\n",
      "  2.32367992e-01 -2.06323002e-01  1.77664001e-01 -5.38936019e-01\n",
      "  1.96721995e-01 -1.02734990e-01 -3.09021994e-01  8.97740014e-02\n",
      " -3.16364005e-01 -2.96394996e-01  1.56473998e-01  6.75339978e-02\n",
      " -2.85212003e-01 -4.68930006e-02  5.95229000e-01 -3.89000028e-02\n",
      " -1.57348998e-01 -6.07699156e-03 -4.04890992e-01  2.97449993e-01\n",
      "  1.63218006e-01 -3.78456987e-01 -2.16413990e-01 -4.07410040e-02\n",
      " -9.21399891e-03  3.70410085e-02 -2.91540027e-02  1.31810009e-02\n",
      "  1.34384997e-01  1.30410001e-01  9.68170017e-02 -3.55980992e-01\n",
      "  2.14397006e-01 -2.98079006e-01  2.54114997e-01 -1.51478000e-01\n",
      "  1.95116995e-01  2.09010001e-01 -1.63654998e-01  3.20399009e-01\n",
      " -2.51417004e-01  2.53486998e-01  4.42780033e-02  2.24656996e-01\n",
      "  8.25779997e-02 -2.04713996e-01 -3.06100026e-03  2.70969868e-02\n",
      " -1.38156980e-01 -2.51079008e-01  1.61626004e-01  1.95170045e-02\n",
      "  3.43521997e-01 -3.87043998e-01 -8.47560018e-02 -3.38781985e-01\n",
      " -1.14501003e-01 -7.03117013e-01 -2.56285995e-01  4.24469993e-02\n",
      " -1.62145995e-01  4.75210987e-01 -2.77539000e-01  7.60199875e-02\n",
      " -1.06837997e-01 -9.87000763e-04  1.72742993e-01 -2.99829011e-01\n",
      "  2.28087999e-01  3.52940038e-02  2.89734993e-01  2.79758990e-01\n",
      " -2.87392993e-01  8.17699730e-03  2.14280997e-01  2.25391012e-01\n",
      " -7.59299994e-02 -1.23466007e-01 -2.72139981e-02 -2.64430046e-02\n",
      "  5.86279005e-01 -2.40319993e-02 -2.68981993e-01  2.25396007e-01\n",
      " -3.03109884e-02 -2.71128006e-01 -1.62265003e-01  6.46600127e-03\n",
      "  3.39117015e-01  5.28680012e-02  1.92705989e-01 -5.51650003e-02\n",
      "  1.44278001e-01  2.49232002e-01 -5.09869996e-02 -3.06719005e-01\n",
      " -2.48060040e-02  2.31652994e-01  2.77169995e-01  1.89650998e-01\n",
      " -6.40159994e-02  5.75810010e-02 -9.78650004e-02  4.85200435e-03\n",
      "  4.45419997e-02 -1.88349998e-01 -6.07778013e-01 -1.39748003e-01\n",
      "  3.68884996e-01 -3.19058999e-01 -7.32080005e-02 -4.49153997e-01\n",
      " -2.37713000e-01 -1.51614994e-01 -3.09304014e-01 -1.56432007e-01\n",
      "  4.18815009e-01 -3.89327988e-01  3.78332011e-01 -4.00199965e-02\n",
      " -6.51219994e-01 -5.50040156e-02 -1.93998218e-04 -9.10810027e-02\n",
      " -2.88987003e-01  1.36337005e-01  1.07480004e-01  5.68140998e-01\n",
      " -3.27486984e-01 -4.62799985e-01  2.03891002e-01  1.49019003e-01\n",
      " -2.44706005e-01 -1.99469005e-01  8.01479965e-02  2.98199998e-02\n",
      " -1.31894002e-01  1.15945004e-01  8.99800286e-03 -3.35849009e-01\n",
      "  3.68386969e-01  3.43659982e-01  4.19899821e-03  8.20260011e-02\n",
      "  4.53375012e-01  6.57530016e-02  7.55139990e-02  3.60649996e-02\n",
      "  5.19831993e-01 -1.47042006e-01 -2.90375011e-01 -1.32993003e-01\n",
      " -2.00269002e-01  1.88818000e-01 -2.63435002e-01 -1.86488993e-01\n",
      "  1.89731000e-01  1.17092013e-01 -6.79409951e-02 -7.07589984e-02\n",
      " -2.77480036e-02 -1.21008001e-01 -2.21680000e-01 -2.02926997e-01\n",
      "  1.03461001e-01 -4.55000028e-02 -1.61133002e-01 -2.65853986e-01\n",
      " -3.72106001e-01  1.30873001e-01 -1.40520036e-02 -3.46357003e-01\n",
      " -2.55110003e-02  3.54763001e-01  1.88224000e-01 -6.63699955e-03\n",
      "  6.33194998e-01  2.15856001e-01  1.53947005e-01  4.10899967e-02\n",
      "  3.06820998e-01  1.06974006e-01 -7.21679926e-02  1.75355002e-01\n",
      " -5.81880002e-02 -2.46847994e-01  2.00998999e-01  3.76706995e-01\n",
      "  3.04477009e-01 -5.40189967e-02  3.21371995e-01 -2.00102992e-01\n",
      "  1.52778007e-01  1.51184998e-01  1.51455004e-01  1.15802005e-01\n",
      "  2.59180069e-02 -1.06971003e-01  3.22931997e-01 -3.25010000e-02\n",
      "  3.03647995e-01 -2.75807986e-01 -2.92581989e-01  4.18120027e-02\n",
      "  2.87143990e-01  4.63455006e-01 -2.67790999e-01  6.72599673e-03\n",
      "  2.14253999e-01  2.98653997e-01  2.97100022e-02 -4.63071994e-01\n",
      " -2.20077008e-01 -2.79074993e-01 -1.11349970e-02  1.69707993e-01\n",
      "  2.01697998e-01 -2.11112998e-01 -5.53999841e-03 -3.71473014e-01\n",
      " -6.25945002e-01 -4.84354988e-01  5.33823982e-01 -8.99890019e-02\n",
      " -1.57629006e-01  1.03843000e-01 -1.16449997e-01  4.12781991e-01\n",
      "  4.35150117e-02 -5.21820009e-01  6.19100034e-02  8.41154024e-01]\n"
     ]
    }
   ],
   "source": [
    "palavras_numeros = tokenizador(\"texto caelumx\")\n",
    "vetor_texto = combinacao_vetores(palavras_numeros)\n",
    "print(len(vetor_texto))\n",
    "print(vetor_texto)"
   ],
   "metadata": {
    "collapsed": false,
    "pycharm": {
     "name": "#%%\n"
    }
   }
  },
  {
   "cell_type": "code",
   "execution_count": 32,
   "outputs": [
    {
     "name": "stdout",
     "output_type": "stream",
     "text": [
      "(90000, 300)\n",
      "(20513, 300)\n"
     ]
    }
   ],
   "source": [
    "def matriz_vetores(textos):\n",
    "    x = len(textos)\n",
    "    y = 300 # número de dimensões do dicionário/vocabulário cbow300\n",
    "    matriz = np.zeros((x, y))\n",
    "\n",
    "    for i in range(x):\n",
    "        palavras_numeros = tokenizador(textos.iloc[i])\n",
    "        matriz[i] = combinacao_vetores(palavras_numeros)\n",
    "\n",
    "    return matriz\n",
    "\n",
    "matriz_vetores_treino = matriz_vetores(artigo_treino.title)\n",
    "matriz_vetores_teste = matriz_vetores(artigo_teste.title)\n",
    "print(matriz_vetores_treino.shape)\n",
    "print(matriz_vetores_teste.shape)"
   ],
   "metadata": {
    "collapsed": false,
    "pycharm": {
     "name": "#%%\n"
    }
   }
  },
  {
   "cell_type": "code",
   "execution_count": 36,
   "outputs": [
    {
     "data": {
      "text/plain": "LogisticRegression(max_iter=200)"
     },
     "execution_count": 36,
     "metadata": {},
     "output_type": "execute_result"
    }
   ],
   "source": [
    "from sklearn.linear_model import LogisticRegression\n",
    "\n",
    "lr = LogisticRegression(max_iter=200)\n",
    "lr.fit(matriz_vetores_treino, artigo_treino.category)"
   ],
   "metadata": {
    "collapsed": false,
    "pycharm": {
     "name": "#%%\n"
    }
   }
  },
  {
   "cell_type": "code",
   "execution_count": 38,
   "outputs": [
    {
     "data": {
      "text/plain": "0.7957880368546775"
     },
     "execution_count": 38,
     "metadata": {},
     "output_type": "execute_result"
    }
   ],
   "source": [
    "lr.score(matriz_vetores_teste, artigo_teste.category)"
   ],
   "metadata": {
    "collapsed": false,
    "pycharm": {
     "name": "#%%\n"
    }
   }
  },
  {
   "cell_type": "code",
   "execution_count": 39,
   "outputs": [
    {
     "data": {
      "text/plain": "array(['colunas', 'esporte', 'mercado', 'cotidiano', 'mundo', 'ilustrada'],\n      dtype=object)"
     },
     "execution_count": 39,
     "metadata": {},
     "output_type": "execute_result"
    }
   ],
   "source": [
    "artigo_teste.category.unique()"
   ],
   "metadata": {
    "collapsed": false,
    "pycharm": {
     "name": "#%%\n"
    }
   }
  },
  {
   "cell_type": "code",
   "execution_count": 41,
   "outputs": [
    {
     "name": "stdout",
     "output_type": "stream",
     "text": [
      "              precision    recall  f1-score   support\n",
      "\n",
      "     colunas       0.86      0.71      0.78      6103\n",
      "   cotidiano       0.61      0.79      0.69      1698\n",
      "     esporte       0.92      0.88      0.90      4663\n",
      "   ilustrada       0.13      0.88      0.23       131\n",
      "     mercado       0.84      0.79      0.81      5867\n",
      "       mundo       0.74      0.86      0.79      2051\n",
      "\n",
      "    accuracy                           0.80     20513\n",
      "   macro avg       0.68      0.82      0.70     20513\n",
      "weighted avg       0.83      0.80      0.81     20513\n",
      "\n"
     ]
    }
   ],
   "source": [
    "from sklearn.metrics import classification_report\n",
    "\n",
    "label_prevista = lr.predict(matriz_vetores_teste)\n",
    "cr = classification_report(artigo_teste.category, label_prevista)\n",
    "print(cr)"
   ],
   "metadata": {
    "collapsed": false,
    "pycharm": {
     "name": "#%%\n"
    }
   }
  },
  {
   "cell_type": "code",
   "execution_count": 44,
   "outputs": [
    {
     "name": "stderr",
     "output_type": "stream",
     "text": [
      "C:\\Users\\pauloceliojr\\Anaconda3\\lib\\site-packages\\sklearn\\metrics\\_classification.py:1318: UndefinedMetricWarning: Precision and F-score are ill-defined and being set to 0.0 in labels with no predicted samples. Use `zero_division` parameter to control this behavior.\n",
      "  _warn_prf(average, modifier, msg_start, len(result))\n"
     ]
    },
    {
     "name": "stdout",
     "output_type": "stream",
     "text": [
      "              precision    recall  f1-score   support\n",
      "\n",
      "     colunas       0.30      1.00      0.46      6103\n",
      "   cotidiano       0.00      0.00      0.00      1698\n",
      "     esporte       0.00      0.00      0.00      4663\n",
      "   ilustrada       0.00      0.00      0.00       131\n",
      "     mercado       0.00      0.00      0.00      5867\n",
      "       mundo       0.00      0.00      0.00      2051\n",
      "\n",
      "    accuracy                           0.30     20513\n",
      "   macro avg       0.05      0.17      0.08     20513\n",
      "weighted avg       0.09      0.30      0.14     20513\n",
      "\n"
     ]
    },
    {
     "name": "stderr",
     "output_type": "stream",
     "text": [
      "C:\\Users\\pauloceliojr\\Anaconda3\\lib\\site-packages\\sklearn\\metrics\\_classification.py:1318: UndefinedMetricWarning: Precision and F-score are ill-defined and being set to 0.0 in labels with no predicted samples. Use `zero_division` parameter to control this behavior.\n",
      "  _warn_prf(average, modifier, msg_start, len(result))\n",
      "C:\\Users\\pauloceliojr\\Anaconda3\\lib\\site-packages\\sklearn\\metrics\\_classification.py:1318: UndefinedMetricWarning: Precision and F-score are ill-defined and being set to 0.0 in labels with no predicted samples. Use `zero_division` parameter to control this behavior.\n",
      "  _warn_prf(average, modifier, msg_start, len(result))\n"
     ]
    }
   ],
   "source": [
    "from sklearn.dummy import DummyClassifier\n",
    "dc = DummyClassifier()\n",
    "dc.fit(matriz_vetores_treino, artigo_treino.category)\n",
    "label_prevista_dc = dc.predict(matriz_vetores_teste)\n",
    "cr_dummy = classification_report(artigo_teste.category, label_prevista_dc)\n",
    "print(cr_dummy)"
   ],
   "metadata": {
    "collapsed": false,
    "pycharm": {
     "name": "#%%\n"
    }
   }
  },
  {
   "cell_type": "code",
   "execution_count": null,
   "outputs": [],
   "source": [],
   "metadata": {
    "collapsed": false,
    "pycharm": {
     "name": "#%%\n"
    }
   }
  }
 ],
 "metadata": {
  "kernelspec": {
   "display_name": "Python 3",
   "language": "python",
   "name": "python3"
  },
  "language_info": {
   "codemirror_mode": {
    "name": "ipython",
    "version": 2
   },
   "file_extension": ".py",
   "mimetype": "text/x-python",
   "name": "python",
   "nbconvert_exporter": "python",
   "pygments_lexer": "ipython2",
   "version": "2.7.6"
  }
 },
 "nbformat": 4,
 "nbformat_minor": 0
}