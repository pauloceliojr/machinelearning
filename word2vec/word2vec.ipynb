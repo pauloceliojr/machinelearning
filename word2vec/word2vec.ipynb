{
 "cells": [
  {
   "cell_type": "code",
   "execution_count": 1,
   "outputs": [
    {
     "data": {
      "text/plain": "                                                   title  \\\n72446  Em meio a perigos, equipes de resgate salvam r...   \n\n                                                    text        date category  \\\n72446  Como sempre, tudo começa com uma chamada de te...  2017-04-18    mundo   \n\n      subcategory                                               link  \n72446         NaN  http://www1.folha.uol.com.br/mundo/2017/04/187...  ",
      "text/html": "<div>\n<style scoped>\n    .dataframe tbody tr th:only-of-type {\n        vertical-align: middle;\n    }\n\n    .dataframe tbody tr th {\n        vertical-align: top;\n    }\n\n    .dataframe thead th {\n        text-align: right;\n    }\n</style>\n<table border=\"1\" class=\"dataframe\">\n  <thead>\n    <tr style=\"text-align: right;\">\n      <th></th>\n      <th>title</th>\n      <th>text</th>\n      <th>date</th>\n      <th>category</th>\n      <th>subcategory</th>\n      <th>link</th>\n    </tr>\n  </thead>\n  <tbody>\n    <tr>\n      <th>72446</th>\n      <td>Em meio a perigos, equipes de resgate salvam r...</td>\n      <td>Como sempre, tudo começa com uma chamada de te...</td>\n      <td>2017-04-18</td>\n      <td>mundo</td>\n      <td>NaN</td>\n      <td>http://www1.folha.uol.com.br/mundo/2017/04/187...</td>\n    </tr>\n  </tbody>\n</table>\n</div>"
     },
     "execution_count": 1,
     "metadata": {},
     "output_type": "execute_result"
    }
   ],
   "source": [
    "import pandas as pd\n",
    "\n",
    "artigo_treino = pd.read_csv(\"treino.csv\")\n",
    "artigo_teste = pd.read_csv(\"teste.csv\")\n",
    "artigo_treino.sample()"
   ],
   "metadata": {
    "collapsed": false,
    "pycharm": {
     "name": "#%%\n"
    }
   }
  },
  {
   "cell_type": "markdown",
   "source": [
    "## Count Vectorizer"
   ],
   "metadata": {
    "collapsed": false,
    "pycharm": {
     "name": "#%% md\n"
    }
   }
  },
  {
   "cell_type": "code",
   "execution_count": 2,
   "outputs": [],
   "source": [
    "from sklearn.feature_extraction.text import CountVectorizer"
   ],
   "metadata": {
    "collapsed": false,
    "pycharm": {
     "name": "#%%\n"
    }
   }
  },
  {
   "cell_type": "code",
   "execution_count": 3,
   "outputs": [
    {
     "data": {
      "text/plain": "CountVectorizer()",
      "text/html": "<style>#sk-container-id-1 {color: black;background-color: white;}#sk-container-id-1 pre{padding: 0;}#sk-container-id-1 div.sk-toggleable {background-color: white;}#sk-container-id-1 label.sk-toggleable__label {cursor: pointer;display: block;width: 100%;margin-bottom: 0;padding: 0.3em;box-sizing: border-box;text-align: center;}#sk-container-id-1 label.sk-toggleable__label-arrow:before {content: \"▸\";float: left;margin-right: 0.25em;color: #696969;}#sk-container-id-1 label.sk-toggleable__label-arrow:hover:before {color: black;}#sk-container-id-1 div.sk-estimator:hover label.sk-toggleable__label-arrow:before {color: black;}#sk-container-id-1 div.sk-toggleable__content {max-height: 0;max-width: 0;overflow: hidden;text-align: left;background-color: #f0f8ff;}#sk-container-id-1 div.sk-toggleable__content pre {margin: 0.2em;color: black;border-radius: 0.25em;background-color: #f0f8ff;}#sk-container-id-1 input.sk-toggleable__control:checked~div.sk-toggleable__content {max-height: 200px;max-width: 100%;overflow: auto;}#sk-container-id-1 input.sk-toggleable__control:checked~label.sk-toggleable__label-arrow:before {content: \"▾\";}#sk-container-id-1 div.sk-estimator input.sk-toggleable__control:checked~label.sk-toggleable__label {background-color: #d4ebff;}#sk-container-id-1 div.sk-label input.sk-toggleable__control:checked~label.sk-toggleable__label {background-color: #d4ebff;}#sk-container-id-1 input.sk-hidden--visually {border: 0;clip: rect(1px 1px 1px 1px);clip: rect(1px, 1px, 1px, 1px);height: 1px;margin: -1px;overflow: hidden;padding: 0;position: absolute;width: 1px;}#sk-container-id-1 div.sk-estimator {font-family: monospace;background-color: #f0f8ff;border: 1px dotted black;border-radius: 0.25em;box-sizing: border-box;margin-bottom: 0.5em;}#sk-container-id-1 div.sk-estimator:hover {background-color: #d4ebff;}#sk-container-id-1 div.sk-parallel-item::after {content: \"\";width: 100%;border-bottom: 1px solid gray;flex-grow: 1;}#sk-container-id-1 div.sk-label:hover label.sk-toggleable__label {background-color: #d4ebff;}#sk-container-id-1 div.sk-serial::before {content: \"\";position: absolute;border-left: 1px solid gray;box-sizing: border-box;top: 0;bottom: 0;left: 50%;z-index: 0;}#sk-container-id-1 div.sk-serial {display: flex;flex-direction: column;align-items: center;background-color: white;padding-right: 0.2em;padding-left: 0.2em;position: relative;}#sk-container-id-1 div.sk-item {position: relative;z-index: 1;}#sk-container-id-1 div.sk-parallel {display: flex;align-items: stretch;justify-content: center;background-color: white;position: relative;}#sk-container-id-1 div.sk-item::before, #sk-container-id-1 div.sk-parallel-item::before {content: \"\";position: absolute;border-left: 1px solid gray;box-sizing: border-box;top: 0;bottom: 0;left: 50%;z-index: -1;}#sk-container-id-1 div.sk-parallel-item {display: flex;flex-direction: column;z-index: 1;position: relative;background-color: white;}#sk-container-id-1 div.sk-parallel-item:first-child::after {align-self: flex-end;width: 50%;}#sk-container-id-1 div.sk-parallel-item:last-child::after {align-self: flex-start;width: 50%;}#sk-container-id-1 div.sk-parallel-item:only-child::after {width: 0;}#sk-container-id-1 div.sk-dashed-wrapped {border: 1px dashed gray;margin: 0 0.4em 0.5em 0.4em;box-sizing: border-box;padding-bottom: 0.4em;background-color: white;}#sk-container-id-1 div.sk-label label {font-family: monospace;font-weight: bold;display: inline-block;line-height: 1.2em;}#sk-container-id-1 div.sk-label-container {text-align: center;}#sk-container-id-1 div.sk-container {/* jupyter's `normalize.less` sets `[hidden] { display: none; }` but bootstrap.min.css set `[hidden] { display: none !important; }` so we also need the `!important` here to be able to override the default hidden behavior on the sphinx rendered scikit-learn.org. See: https://github.com/scikit-learn/scikit-learn/issues/21755 */display: inline-block !important;position: relative;}#sk-container-id-1 div.sk-text-repr-fallback {display: none;}</style><div id=\"sk-container-id-1\" class=\"sk-top-container\"><div class=\"sk-text-repr-fallback\"><pre>CountVectorizer()</pre><b>In a Jupyter environment, please rerun this cell to show the HTML representation or trust the notebook. <br />On GitHub, the HTML representation is unable to render, please try loading this page with nbviewer.org.</b></div><div class=\"sk-container\" hidden><div class=\"sk-item\"><div class=\"sk-estimator sk-toggleable\"><input class=\"sk-toggleable__control sk-hidden--visually\" id=\"sk-estimator-id-1\" type=\"checkbox\" checked><label for=\"sk-estimator-id-1\" class=\"sk-toggleable__label sk-toggleable__label-arrow\">CountVectorizer</label><div class=\"sk-toggleable__content\"><pre>CountVectorizer()</pre></div></div></div></div></div>"
     },
     "execution_count": 3,
     "metadata": {},
     "output_type": "execute_result"
    }
   ],
   "source": [
    "texto = [\"tenha um bom dia\",\n",
    "         \"tenha um péssimo dia\",\n",
    "         \"tenha um ótimo dia\",\n",
    "         \"tenha um dia ruim\"]\n",
    "\n",
    "vetorizador = CountVectorizer()\n",
    "vetorizador.fit(texto)"
   ],
   "metadata": {
    "collapsed": false,
    "pycharm": {
     "name": "#%%\n"
    }
   }
  },
  {
   "cell_type": "code",
   "execution_count": 4,
   "outputs": [
    {
     "name": "stdout",
     "output_type": "stream",
     "text": [
      "{'tenha': 4, 'um': 5, 'bom': 0, 'dia': 1, 'péssimo': 2, 'ótimo': 6, 'ruim': 3}\n"
     ]
    }
   ],
   "source": [
    "print(vetorizador.vocabulary_)"
   ],
   "metadata": {
    "collapsed": false,
    "pycharm": {
     "name": "#%%\n"
    }
   }
  },
  {
   "cell_type": "code",
   "execution_count": 5,
   "outputs": [
    {
     "name": "stdout",
     "output_type": "stream",
     "text": [
      "[[1 0 0 0 0 0 0]]\n"
     ]
    }
   ],
   "source": [
    "vetor_bom = vetorizador.transform([\"bom\"])\n",
    "print(vetor_bom.toarray())"
   ],
   "metadata": {
    "collapsed": false,
    "pycharm": {
     "name": "#%%\n"
    }
   }
  },
  {
   "cell_type": "code",
   "execution_count": 6,
   "outputs": [
    {
     "name": "stdout",
     "output_type": "stream",
     "text": [
      "[[0 0 0 0 0 0 1]]\n"
     ]
    }
   ],
   "source": [
    "vetor_otimo = vetorizador.transform([\"ótimo\"])\n",
    "print(vetor_otimo.toarray())"
   ],
   "metadata": {
    "collapsed": false,
    "pycharm": {
     "name": "#%%\n"
    }
   }
  },
  {
   "cell_type": "markdown",
   "source": [
    "## Word2Vec"
   ],
   "metadata": {
    "collapsed": false,
    "pycharm": {
     "name": "#%% md\n"
    }
   }
  },
  {
   "cell_type": "code",
   "execution_count": 7,
   "outputs": [],
   "source": [
    "from gensim.models import KeyedVectors\n",
    "\n",
    "modelo = KeyedVectors.load_word2vec_format(\"cbow_s300.txt\")"
   ],
   "metadata": {
    "collapsed": false,
    "pycharm": {
     "name": "#%%\n"
    }
   }
  },
  {
   "cell_type": "code",
   "execution_count": 8,
   "outputs": [
    {
     "data": {
      "text/plain": "[('rússia', 0.7320704460144043),\n ('índia', 0.7241616249084473),\n ('tailândia', 0.701935887336731),\n ('indonésia', 0.6860769987106323),\n ('turquia', 0.6741335988044739),\n ('malásia', 0.6665689945220947),\n ('mongólia', 0.6593616008758545),\n ('manchúria', 0.6581847071647644),\n ('urss', 0.6581669449806213),\n ('grã-bretanha', 0.6568096876144409)]"
     },
     "execution_count": 8,
     "metadata": {},
     "output_type": "execute_result"
    }
   ],
   "source": [
    "modelo.most_similar(\"china\")"
   ],
   "metadata": {
    "collapsed": false,
    "pycharm": {
     "name": "#%%\n"
    }
   }
  },
  {
   "cell_type": "code",
   "execution_count": 9,
   "outputs": [
    {
     "data": {
      "text/plain": "[('frança', 0.7983610033988953),\n ('grécia', 0.7547340989112854),\n ('espanha', 0.7417077422142029),\n ('holanda', 0.7343162298202515),\n ('grã-bretanha', 0.728174090385437),\n ('inglaterra', 0.7172061204910278),\n ('bélgica', 0.7155542373657227),\n ('alemanha', 0.7135661840438843),\n ('suécia', 0.6831520199775696),\n ('áustria', 0.6822685599327087)]"
     },
     "execution_count": 9,
     "metadata": {},
     "output_type": "execute_result"
    }
   ],
   "source": [
    "modelo.most_similar(\"itália\")"
   ],
   "metadata": {
    "collapsed": false,
    "pycharm": {
     "name": "#%%\n"
    }
   }
  },
  {
   "cell_type": "code",
   "execution_count": 10,
   "outputs": [
    {
     "data": {
      "text/plain": "[('chile', 0.6781662702560425),\n ('peru', 0.634803295135498),\n ('venezuela', 0.6273865103721619),\n ('equador', 0.6037014126777649),\n ('bolívia', 0.6017141342163086),\n ('haiti', 0.5993806719779968),\n ('méxico', 0.596230685710907),\n ('paraguai', 0.5957703590393066),\n ('uruguai', 0.5903672575950623),\n ('japão', 0.5893509984016418)]"
     },
     "execution_count": 10,
     "metadata": {},
     "output_type": "execute_result"
    }
   ],
   "source": [
    "modelo.most_similar(positive=[\"brasil\", \"argentina\"])"
   ],
   "metadata": {
    "collapsed": false,
    "pycharm": {
     "name": "#%%\n"
    }
   }
  },
  {
   "cell_type": "code",
   "execution_count": 11,
   "outputs": [
    {
     "data": {
      "text/plain": "[('estrelas', 0.5497430562973022),\n ('plêiades', 0.3791979253292084),\n ('colinas', 0.3746805489063263),\n ('trovoadas', 0.373703271150589),\n ('sombras', 0.3734194040298462),\n ('pombas', 0.3726758360862732),\n ('corredoras', 0.3640727698802948),\n ('cigarras', 0.36065393686294556),\n ('galáxias', 0.35754913091659546),\n ('luas', 0.3575345277786255)]"
     },
     "execution_count": 11,
     "metadata": {},
     "output_type": "execute_result"
    }
   ],
   "source": [
    "# nuvem -> nuvens : estrelas -> estrela\n",
    "# nuvens + estrela - nuvem = estrelas\n",
    "\n",
    "modelo.most_similar(positive=[\"nuvens\", \"estrela\"], negative=\"nuvem\")"
   ],
   "metadata": {
    "collapsed": false,
    "pycharm": {
     "name": "#%%\n"
    }
   }
  },
  {
   "cell_type": "code",
   "execution_count": 12,
   "outputs": [
    {
     "data": {
      "text/plain": "[('enfermeira', 0.6180862188339233),\n ('psicóloga', 0.47447526454925537),\n ('dama-de-companhia', 0.47382354736328125),\n ('esposa', 0.46559134125709534),\n ('parteira', 0.46362870931625366),\n ('mãe', 0.45817679166793823),\n ('governanta', 0.45722925662994385),\n ('madrasta', 0.4569782614707947),\n ('menina', 0.44435909390449524),\n ('filha', 0.44341111183166504)]"
     },
     "execution_count": 12,
     "metadata": {},
     "output_type": "execute_result"
    }
   ],
   "source": [
    "modelo.most_similar(positive=[\"médico\", \"mulher\"], negative=\"homem\")"
   ],
   "metadata": {
    "collapsed": false,
    "pycharm": {
     "name": "#%%\n"
    }
   }
  },
  {
   "cell_type": "code",
   "execution_count": 13,
   "outputs": [
    {
     "data": {
      "text/plain": "[('professora', 0.6192208528518677),\n ('aluna', 0.5449554324150085),\n ('esposa', 0.4978230595588684),\n ('ex-aluna', 0.4884248375892639),\n ('namorada', 0.4737858772277832),\n ('enfermeira', 0.4728144407272339),\n ('filha', 0.467373788356781),\n ('irmã', 0.4584590792655945),\n ('ex-namorada', 0.45824769139289856),\n ('ex-professora', 0.45104706287384033)]"
     },
     "execution_count": 13,
     "metadata": {},
     "output_type": "execute_result"
    }
   ],
   "source": [
    "modelo.most_similar(positive=[\"professor\", \"mulher\"], negative=\"homem\")"
   ],
   "metadata": {
    "collapsed": false,
    "pycharm": {
     "name": "#%%\n"
    }
   }
  },
  {
   "cell_type": "markdown",
   "source": [
    "## Vetorização de texto"
   ],
   "metadata": {
    "collapsed": false,
    "pycharm": {
     "name": "#%% md\n"
    }
   }
  },
  {
   "cell_type": "code",
   "execution_count": 14,
   "outputs": [
    {
     "data": {
      "text/plain": "\"Daniel Craig será stormtrooper em novo 'Star Wars', diz ator\""
     },
     "execution_count": 14,
     "metadata": {},
     "output_type": "execute_result"
    }
   ],
   "source": [
    "artigo_treino.title.loc[12]"
   ],
   "metadata": {
    "collapsed": false,
    "pycharm": {
     "name": "#%%\n"
    }
   }
  },
  {
   "cell_type": "code",
   "execution_count": 15,
   "outputs": [
    {
     "name": "stderr",
     "output_type": "stream",
     "text": [
      "[nltk_data] Downloading package punkt to\n",
      "[nltk_data]     C:\\Users\\paulo\\AppData\\Roaming\\nltk_data...\n",
      "[nltk_data]   Package punkt is already up-to-date!\n"
     ]
    },
    {
     "data": {
      "text/plain": "['texto', 'exemplo', '1234']"
     },
     "execution_count": 15,
     "metadata": {},
     "output_type": "execute_result"
    }
   ],
   "source": [
    "import nltk\n",
    "import string\n",
    "nltk.download(\"punkt\")\n",
    "\n",
    "def tokenizador(texto):\n",
    "    texto = texto.lower()\n",
    "    lista_alfanumerica = []\n",
    "\n",
    "    for token_valido in nltk.word_tokenize(texto):\n",
    "        if token_valido in string.punctuation: continue\n",
    "        lista_alfanumerica.append(token_valido)\n",
    "\n",
    "    return lista_alfanumerica\n",
    "\n",
    "tokenizador(\"Texto Exemplo, 1234.\")"
   ],
   "metadata": {
    "collapsed": false,
    "pycharm": {
     "name": "#%%\n"
    }
   }
  },
  {
   "cell_type": "code",
   "execution_count": 16,
   "outputs": [],
   "source": [
    "import numpy as np\n",
    "\n",
    "# Combinação de vetores por soma\n",
    "def combinacao_vetores(palavras_numeros, modelo):\n",
    "    vetor_resultante = np.zeros(300)\n",
    "\n",
    "    for pn in palavras_numeros:\n",
    "        try:\n",
    "            vetor_resultante += modelo.get_vector(pn)\n",
    "        except KeyError:\n",
    "            if pn.isnumeric():\n",
    "                pn = \"0\" * len(pn) # \"0, 00, 000, 0000, etc. dependendo do tamanho de caracteres do número\n",
    "                vetor_resultante += modelo.get_vector(pn)\n",
    "            else:\n",
    "                vetor_resultante += modelo.get_vector(\"unknown\")\n",
    "\n",
    "    return vetor_resultante"
   ],
   "metadata": {
    "collapsed": false,
    "pycharm": {
     "name": "#%%\n"
    }
   }
  },
  {
   "cell_type": "code",
   "execution_count": 17,
   "outputs": [
    {
     "ename": "TypeError",
     "evalue": "combinacao_vetores() missing 1 required positional argument: 'modelo'",
     "output_type": "error",
     "traceback": [
      "\u001B[1;31m---------------------------------------------------------------------------\u001B[0m",
      "\u001B[1;31mTypeError\u001B[0m                                 Traceback (most recent call last)",
      "Input \u001B[1;32mIn [17]\u001B[0m, in \u001B[0;36m<cell line: 2>\u001B[1;34m()\u001B[0m\n\u001B[0;32m      1\u001B[0m palavras_numeros \u001B[38;5;241m=\u001B[39m tokenizador(\u001B[38;5;124m\"\u001B[39m\u001B[38;5;124mtexto caelumx\u001B[39m\u001B[38;5;124m\"\u001B[39m)\n\u001B[1;32m----> 2\u001B[0m vetor_texto \u001B[38;5;241m=\u001B[39m \u001B[43mcombinacao_vetores\u001B[49m\u001B[43m(\u001B[49m\u001B[43mpalavras_numeros\u001B[49m\u001B[43m)\u001B[49m\n\u001B[0;32m      3\u001B[0m \u001B[38;5;28mprint\u001B[39m(\u001B[38;5;28mlen\u001B[39m(vetor_texto))\n\u001B[0;32m      4\u001B[0m \u001B[38;5;28mprint\u001B[39m(vetor_texto)\n",
      "\u001B[1;31mTypeError\u001B[0m: combinacao_vetores() missing 1 required positional argument: 'modelo'"
     ]
    }
   ],
   "source": [
    "palavras_numeros = tokenizador(\"texto caelumx\")\n",
    "vetor_texto = combinacao_vetores(palavras_numeros, modelo)\n",
    "print(len(vetor_texto))\n",
    "print(vetor_texto)"
   ],
   "metadata": {
    "collapsed": false,
    "pycharm": {
     "name": "#%%\n"
    }
   }
  },
  {
   "cell_type": "code",
   "execution_count": null,
   "outputs": [],
   "source": [
    "def matriz_vetores(textos, modelo):\n",
    "    x = len(textos)\n",
    "    y = 300 # número de dimensões do dicionário/vocabulário cbow300\n",
    "    matriz = np.zeros((x, y))\n",
    "\n",
    "    for i in range(x):\n",
    "        palavras_numeros = tokenizador(textos.iloc[i])\n",
    "        matriz[i] = combinacao_vetores(palavras_numeros, modelo)\n",
    "\n",
    "    return matriz\n",
    "\n",
    "matriz_vetores_treino = matriz_vetores(artigo_treino.title, modelo)\n",
    "matriz_vetores_teste = matriz_vetores(artigo_teste.title, modelo)\n",
    "print(matriz_vetores_treino.shape)\n",
    "print(matriz_vetores_teste.shape)"
   ],
   "metadata": {
    "collapsed": false,
    "pycharm": {
     "name": "#%%\n"
    }
   }
  },
  {
   "cell_type": "code",
   "execution_count": null,
   "outputs": [],
   "source": [
    "from sklearn.linear_model import LogisticRegression\n",
    "\n",
    "lr = LogisticRegression(max_iter=200)\n",
    "lr.fit(matriz_vetores_treino, artigo_treino.category)"
   ],
   "metadata": {
    "collapsed": false,
    "pycharm": {
     "name": "#%%\n"
    }
   }
  },
  {
   "cell_type": "code",
   "execution_count": null,
   "outputs": [],
   "source": [
    "lr.score(matriz_vetores_teste, artigo_teste.category)"
   ],
   "metadata": {
    "collapsed": false,
    "pycharm": {
     "name": "#%%\n"
    }
   }
  },
  {
   "cell_type": "code",
   "execution_count": null,
   "outputs": [],
   "source": [
    "artigo_teste.category.unique()"
   ],
   "metadata": {
    "collapsed": false,
    "pycharm": {
     "name": "#%%\n"
    }
   }
  },
  {
   "cell_type": "code",
   "execution_count": null,
   "outputs": [],
   "source": [
    "from sklearn.metrics import classification_report\n",
    "\n",
    "label_prevista = lr.predict(matriz_vetores_teste)\n",
    "cr = classification_report(artigo_teste.category, label_prevista)\n",
    "print(cr)"
   ],
   "metadata": {
    "collapsed": false,
    "pycharm": {
     "name": "#%%\n"
    }
   }
  },
  {
   "cell_type": "code",
   "execution_count": null,
   "outputs": [],
   "source": [
    "from sklearn.dummy import DummyClassifier\n",
    "dc = DummyClassifier()\n",
    "dc.fit(matriz_vetores_treino, artigo_treino.category)\n",
    "label_prevista_dc = dc.predict(matriz_vetores_teste)\n",
    "cr_dummy = classification_report(artigo_teste.category, label_prevista_dc)\n",
    "print(cr_dummy)"
   ],
   "metadata": {
    "collapsed": false,
    "pycharm": {
     "name": "#%%\n"
    }
   }
  },
  {
   "cell_type": "markdown",
   "source": [
    "Skip-gram"
   ],
   "metadata": {
    "collapsed": false,
    "pycharm": {
     "name": "#%% md\n"
    }
   }
  },
  {
   "cell_type": "code",
   "execution_count": null,
   "outputs": [],
   "source": [
    "modelo_skipgram = KeyedVectors.load_word2vec_format(\"skip_s300.txt\")"
   ],
   "metadata": {
    "collapsed": false,
    "pycharm": {
     "name": "#%%\n"
    }
   }
  },
  {
   "cell_type": "code",
   "execution_count": null,
   "outputs": [],
   "source": [
    "matriz_vetores_treino_skipgram = matriz_vetores(artigo_treino.title, modelo_skipgram)\n",
    "matriz_vetores_teste_skipgram = matriz_vetores(artigo_teste.title, modelo_skipgram)"
   ],
   "metadata": {
    "collapsed": false,
    "pycharm": {
     "name": "#%%\n"
    }
   }
  },
  {
   "cell_type": "code",
   "execution_count": null,
   "outputs": [],
   "source": [
    "lr_skipgram = LogisticRegression(max_iter=300)\n",
    "lr_skipgram.fit(matriz_vetores_treino_skipgram, artigo_treino.category)"
   ],
   "metadata": {
    "collapsed": false,
    "pycharm": {
     "name": "#%%\n"
    }
   }
  },
  {
   "cell_type": "code",
   "execution_count": null,
   "outputs": [],
   "source": [
    "label_prevista_skigram = lr_skipgram.predict(matriz_vetores_teste_skipgram)\n",
    "cr_skipgram = classification_report(artigo_teste.category, label_prevista_skigram)\n",
    "print(cr)"
   ],
   "metadata": {
    "collapsed": false,
    "pycharm": {
     "name": "#%%\n"
    }
   }
  },
  {
   "cell_type": "code",
   "execution_count": null,
   "outputs": [],
   "source": [],
   "metadata": {
    "collapsed": false,
    "pycharm": {
     "name": "#%%\n"
    }
   }
  }
 ],
 "metadata": {
  "kernelspec": {
   "display_name": "Python 3",
   "language": "python",
   "name": "python3"
  },
  "language_info": {
   "codemirror_mode": {
    "name": "ipython",
    "version": 2
   },
   "file_extension": ".py",
   "mimetype": "text/x-python",
   "name": "python",
   "nbconvert_exporter": "python",
   "pygments_lexer": "ipython2",
   "version": "2.7.6"
  }
 },
 "nbformat": 4,
 "nbformat_minor": 0
}